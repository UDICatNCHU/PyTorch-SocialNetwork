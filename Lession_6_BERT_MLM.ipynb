{
  "nbformat": 4,
  "nbformat_minor": 0,
  "metadata": {
    "colab": {
      "name": "Lession 6: BERT MLM.ipynb",
      "provenance": [],
      "authorship_tag": "ABX9TyO+aQtC9N2Lr4BUc+CxqJXr",
      "include_colab_link": true
    },
    "kernelspec": {
      "name": "python3",
      "display_name": "Python 3"
    },
    "widgets": {
      "application/vnd.jupyter.widget-state+json": {
        "0f091cba085742179d26cc3f824161a2": {
          "model_module": "@jupyter-widgets/controls",
          "model_name": "HBoxModel",
          "state": {
            "_view_name": "HBoxView",
            "_dom_classes": [],
            "_model_name": "HBoxModel",
            "_view_module": "@jupyter-widgets/controls",
            "_model_module_version": "1.5.0",
            "_view_count": null,
            "_view_module_version": "1.5.0",
            "box_style": "",
            "layout": "IPY_MODEL_6f0eafb5ac494fc8951195b61992472f",
            "_model_module": "@jupyter-widgets/controls",
            "children": [
              "IPY_MODEL_85568a802b7043b692234ebf0ac1d178",
              "IPY_MODEL_eb5f3efdf2564619853207766e5d8899"
            ]
          }
        },
        "6f0eafb5ac494fc8951195b61992472f": {
          "model_module": "@jupyter-widgets/base",
          "model_name": "LayoutModel",
          "state": {
            "_view_name": "LayoutView",
            "grid_template_rows": null,
            "right": null,
            "justify_content": null,
            "_view_module": "@jupyter-widgets/base",
            "overflow": null,
            "_model_module_version": "1.2.0",
            "_view_count": null,
            "flex_flow": null,
            "width": null,
            "min_width": null,
            "border": null,
            "align_items": null,
            "bottom": null,
            "_model_module": "@jupyter-widgets/base",
            "top": null,
            "grid_column": null,
            "overflow_y": null,
            "overflow_x": null,
            "grid_auto_flow": null,
            "grid_area": null,
            "grid_template_columns": null,
            "flex": null,
            "_model_name": "LayoutModel",
            "justify_items": null,
            "grid_row": null,
            "max_height": null,
            "align_content": null,
            "visibility": null,
            "align_self": null,
            "height": null,
            "min_height": null,
            "padding": null,
            "grid_auto_rows": null,
            "grid_gap": null,
            "max_width": null,
            "order": null,
            "_view_module_version": "1.2.0",
            "grid_template_areas": null,
            "object_position": null,
            "object_fit": null,
            "grid_auto_columns": null,
            "margin": null,
            "display": null,
            "left": null
          }
        },
        "85568a802b7043b692234ebf0ac1d178": {
          "model_module": "@jupyter-widgets/controls",
          "model_name": "FloatProgressModel",
          "state": {
            "_view_name": "ProgressView",
            "style": "IPY_MODEL_25c447a20ccc4189af876b9ab7b229fd",
            "_dom_classes": [],
            "description": "Downloading: 100%",
            "_model_name": "FloatProgressModel",
            "bar_style": "success",
            "max": 433,
            "_view_module": "@jupyter-widgets/controls",
            "_model_module_version": "1.5.0",
            "value": 433,
            "_view_count": null,
            "_view_module_version": "1.5.0",
            "orientation": "horizontal",
            "min": 0,
            "description_tooltip": null,
            "_model_module": "@jupyter-widgets/controls",
            "layout": "IPY_MODEL_0a225008c3ae4bd881ba1b681c1ac1bf"
          }
        },
        "eb5f3efdf2564619853207766e5d8899": {
          "model_module": "@jupyter-widgets/controls",
          "model_name": "HTMLModel",
          "state": {
            "_view_name": "HTMLView",
            "style": "IPY_MODEL_df80a00c6afc4d77a5004b7a8de7558e",
            "_dom_classes": [],
            "description": "",
            "_model_name": "HTMLModel",
            "placeholder": "​",
            "_view_module": "@jupyter-widgets/controls",
            "_model_module_version": "1.5.0",
            "value": " 433/433 [00:15&lt;00:00, 28.1B/s]",
            "_view_count": null,
            "_view_module_version": "1.5.0",
            "description_tooltip": null,
            "_model_module": "@jupyter-widgets/controls",
            "layout": "IPY_MODEL_ea8c989cd58647e0bb634f4012949755"
          }
        },
        "25c447a20ccc4189af876b9ab7b229fd": {
          "model_module": "@jupyter-widgets/controls",
          "model_name": "ProgressStyleModel",
          "state": {
            "_view_name": "StyleView",
            "_model_name": "ProgressStyleModel",
            "description_width": "initial",
            "_view_module": "@jupyter-widgets/base",
            "_model_module_version": "1.5.0",
            "_view_count": null,
            "_view_module_version": "1.2.0",
            "bar_color": null,
            "_model_module": "@jupyter-widgets/controls"
          }
        },
        "0a225008c3ae4bd881ba1b681c1ac1bf": {
          "model_module": "@jupyter-widgets/base",
          "model_name": "LayoutModel",
          "state": {
            "_view_name": "LayoutView",
            "grid_template_rows": null,
            "right": null,
            "justify_content": null,
            "_view_module": "@jupyter-widgets/base",
            "overflow": null,
            "_model_module_version": "1.2.0",
            "_view_count": null,
            "flex_flow": null,
            "width": null,
            "min_width": null,
            "border": null,
            "align_items": null,
            "bottom": null,
            "_model_module": "@jupyter-widgets/base",
            "top": null,
            "grid_column": null,
            "overflow_y": null,
            "overflow_x": null,
            "grid_auto_flow": null,
            "grid_area": null,
            "grid_template_columns": null,
            "flex": null,
            "_model_name": "LayoutModel",
            "justify_items": null,
            "grid_row": null,
            "max_height": null,
            "align_content": null,
            "visibility": null,
            "align_self": null,
            "height": null,
            "min_height": null,
            "padding": null,
            "grid_auto_rows": null,
            "grid_gap": null,
            "max_width": null,
            "order": null,
            "_view_module_version": "1.2.0",
            "grid_template_areas": null,
            "object_position": null,
            "object_fit": null,
            "grid_auto_columns": null,
            "margin": null,
            "display": null,
            "left": null
          }
        },
        "df80a00c6afc4d77a5004b7a8de7558e": {
          "model_module": "@jupyter-widgets/controls",
          "model_name": "DescriptionStyleModel",
          "state": {
            "_view_name": "StyleView",
            "_model_name": "DescriptionStyleModel",
            "description_width": "",
            "_view_module": "@jupyter-widgets/base",
            "_model_module_version": "1.5.0",
            "_view_count": null,
            "_view_module_version": "1.2.0",
            "_model_module": "@jupyter-widgets/controls"
          }
        },
        "ea8c989cd58647e0bb634f4012949755": {
          "model_module": "@jupyter-widgets/base",
          "model_name": "LayoutModel",
          "state": {
            "_view_name": "LayoutView",
            "grid_template_rows": null,
            "right": null,
            "justify_content": null,
            "_view_module": "@jupyter-widgets/base",
            "overflow": null,
            "_model_module_version": "1.2.0",
            "_view_count": null,
            "flex_flow": null,
            "width": null,
            "min_width": null,
            "border": null,
            "align_items": null,
            "bottom": null,
            "_model_module": "@jupyter-widgets/base",
            "top": null,
            "grid_column": null,
            "overflow_y": null,
            "overflow_x": null,
            "grid_auto_flow": null,
            "grid_area": null,
            "grid_template_columns": null,
            "flex": null,
            "_model_name": "LayoutModel",
            "justify_items": null,
            "grid_row": null,
            "max_height": null,
            "align_content": null,
            "visibility": null,
            "align_self": null,
            "height": null,
            "min_height": null,
            "padding": null,
            "grid_auto_rows": null,
            "grid_gap": null,
            "max_width": null,
            "order": null,
            "_view_module_version": "1.2.0",
            "grid_template_areas": null,
            "object_position": null,
            "object_fit": null,
            "grid_auto_columns": null,
            "margin": null,
            "display": null,
            "left": null
          }
        },
        "eba4f09c56fb447784bc4a234005b99c": {
          "model_module": "@jupyter-widgets/controls",
          "model_name": "HBoxModel",
          "state": {
            "_view_name": "HBoxView",
            "_dom_classes": [],
            "_model_name": "HBoxModel",
            "_view_module": "@jupyter-widgets/controls",
            "_model_module_version": "1.5.0",
            "_view_count": null,
            "_view_module_version": "1.5.0",
            "box_style": "",
            "layout": "IPY_MODEL_a816bbd47e3e4bc4a07a53fa172e4a32",
            "_model_module": "@jupyter-widgets/controls",
            "children": [
              "IPY_MODEL_a7c2817f86ad444193ec9097974de6af",
              "IPY_MODEL_78052fbf92c34dabab057237df4828df"
            ]
          }
        },
        "a816bbd47e3e4bc4a07a53fa172e4a32": {
          "model_module": "@jupyter-widgets/base",
          "model_name": "LayoutModel",
          "state": {
            "_view_name": "LayoutView",
            "grid_template_rows": null,
            "right": null,
            "justify_content": null,
            "_view_module": "@jupyter-widgets/base",
            "overflow": null,
            "_model_module_version": "1.2.0",
            "_view_count": null,
            "flex_flow": null,
            "width": null,
            "min_width": null,
            "border": null,
            "align_items": null,
            "bottom": null,
            "_model_module": "@jupyter-widgets/base",
            "top": null,
            "grid_column": null,
            "overflow_y": null,
            "overflow_x": null,
            "grid_auto_flow": null,
            "grid_area": null,
            "grid_template_columns": null,
            "flex": null,
            "_model_name": "LayoutModel",
            "justify_items": null,
            "grid_row": null,
            "max_height": null,
            "align_content": null,
            "visibility": null,
            "align_self": null,
            "height": null,
            "min_height": null,
            "padding": null,
            "grid_auto_rows": null,
            "grid_gap": null,
            "max_width": null,
            "order": null,
            "_view_module_version": "1.2.0",
            "grid_template_areas": null,
            "object_position": null,
            "object_fit": null,
            "grid_auto_columns": null,
            "margin": null,
            "display": null,
            "left": null
          }
        },
        "a7c2817f86ad444193ec9097974de6af": {
          "model_module": "@jupyter-widgets/controls",
          "model_name": "FloatProgressModel",
          "state": {
            "_view_name": "ProgressView",
            "style": "IPY_MODEL_cac46bcbc491435185a9358444bf9ed5",
            "_dom_classes": [],
            "description": "Downloading: 100%",
            "_model_name": "FloatProgressModel",
            "bar_style": "success",
            "max": 440473133,
            "_view_module": "@jupyter-widgets/controls",
            "_model_module_version": "1.5.0",
            "value": 440473133,
            "_view_count": null,
            "_view_module_version": "1.5.0",
            "orientation": "horizontal",
            "min": 0,
            "description_tooltip": null,
            "_model_module": "@jupyter-widgets/controls",
            "layout": "IPY_MODEL_035a55fba1f14faead6cc1a45dd8898a"
          }
        },
        "78052fbf92c34dabab057237df4828df": {
          "model_module": "@jupyter-widgets/controls",
          "model_name": "HTMLModel",
          "state": {
            "_view_name": "HTMLView",
            "style": "IPY_MODEL_563ab35d983e4030b2a460e265adddce",
            "_dom_classes": [],
            "description": "",
            "_model_name": "HTMLModel",
            "placeholder": "​",
            "_view_module": "@jupyter-widgets/controls",
            "_model_module_version": "1.5.0",
            "value": " 440M/440M [00:11&lt;00:00, 38.1MB/s]",
            "_view_count": null,
            "_view_module_version": "1.5.0",
            "description_tooltip": null,
            "_model_module": "@jupyter-widgets/controls",
            "layout": "IPY_MODEL_263f15650e95426dbb26891385bec4ef"
          }
        },
        "cac46bcbc491435185a9358444bf9ed5": {
          "model_module": "@jupyter-widgets/controls",
          "model_name": "ProgressStyleModel",
          "state": {
            "_view_name": "StyleView",
            "_model_name": "ProgressStyleModel",
            "description_width": "initial",
            "_view_module": "@jupyter-widgets/base",
            "_model_module_version": "1.5.0",
            "_view_count": null,
            "_view_module_version": "1.2.0",
            "bar_color": null,
            "_model_module": "@jupyter-widgets/controls"
          }
        },
        "035a55fba1f14faead6cc1a45dd8898a": {
          "model_module": "@jupyter-widgets/base",
          "model_name": "LayoutModel",
          "state": {
            "_view_name": "LayoutView",
            "grid_template_rows": null,
            "right": null,
            "justify_content": null,
            "_view_module": "@jupyter-widgets/base",
            "overflow": null,
            "_model_module_version": "1.2.0",
            "_view_count": null,
            "flex_flow": null,
            "width": null,
            "min_width": null,
            "border": null,
            "align_items": null,
            "bottom": null,
            "_model_module": "@jupyter-widgets/base",
            "top": null,
            "grid_column": null,
            "overflow_y": null,
            "overflow_x": null,
            "grid_auto_flow": null,
            "grid_area": null,
            "grid_template_columns": null,
            "flex": null,
            "_model_name": "LayoutModel",
            "justify_items": null,
            "grid_row": null,
            "max_height": null,
            "align_content": null,
            "visibility": null,
            "align_self": null,
            "height": null,
            "min_height": null,
            "padding": null,
            "grid_auto_rows": null,
            "grid_gap": null,
            "max_width": null,
            "order": null,
            "_view_module_version": "1.2.0",
            "grid_template_areas": null,
            "object_position": null,
            "object_fit": null,
            "grid_auto_columns": null,
            "margin": null,
            "display": null,
            "left": null
          }
        },
        "563ab35d983e4030b2a460e265adddce": {
          "model_module": "@jupyter-widgets/controls",
          "model_name": "DescriptionStyleModel",
          "state": {
            "_view_name": "StyleView",
            "_model_name": "DescriptionStyleModel",
            "description_width": "",
            "_view_module": "@jupyter-widgets/base",
            "_model_module_version": "1.5.0",
            "_view_count": null,
            "_view_module_version": "1.2.0",
            "_model_module": "@jupyter-widgets/controls"
          }
        },
        "263f15650e95426dbb26891385bec4ef": {
          "model_module": "@jupyter-widgets/base",
          "model_name": "LayoutModel",
          "state": {
            "_view_name": "LayoutView",
            "grid_template_rows": null,
            "right": null,
            "justify_content": null,
            "_view_module": "@jupyter-widgets/base",
            "overflow": null,
            "_model_module_version": "1.2.0",
            "_view_count": null,
            "flex_flow": null,
            "width": null,
            "min_width": null,
            "border": null,
            "align_items": null,
            "bottom": null,
            "_model_module": "@jupyter-widgets/base",
            "top": null,
            "grid_column": null,
            "overflow_y": null,
            "overflow_x": null,
            "grid_auto_flow": null,
            "grid_area": null,
            "grid_template_columns": null,
            "flex": null,
            "_model_name": "LayoutModel",
            "justify_items": null,
            "grid_row": null,
            "max_height": null,
            "align_content": null,
            "visibility": null,
            "align_self": null,
            "height": null,
            "min_height": null,
            "padding": null,
            "grid_auto_rows": null,
            "grid_gap": null,
            "max_width": null,
            "order": null,
            "_view_module_version": "1.2.0",
            "grid_template_areas": null,
            "object_position": null,
            "object_fit": null,
            "grid_auto_columns": null,
            "margin": null,
            "display": null,
            "left": null
          }
        },
        "b51965d750b8438e9786539d98620a10": {
          "model_module": "@jupyter-widgets/controls",
          "model_name": "HBoxModel",
          "state": {
            "_view_name": "HBoxView",
            "_dom_classes": [],
            "_model_name": "HBoxModel",
            "_view_module": "@jupyter-widgets/controls",
            "_model_module_version": "1.5.0",
            "_view_count": null,
            "_view_module_version": "1.5.0",
            "box_style": "",
            "layout": "IPY_MODEL_b5ced661c8e04ea6a9d3075d09ae55b3",
            "_model_module": "@jupyter-widgets/controls",
            "children": [
              "IPY_MODEL_dfc31cd51ef8446db7986a06028d85fc",
              "IPY_MODEL_b0ff40f7ca9f49a4b1529f92134b4f9f"
            ]
          }
        },
        "b5ced661c8e04ea6a9d3075d09ae55b3": {
          "model_module": "@jupyter-widgets/base",
          "model_name": "LayoutModel",
          "state": {
            "_view_name": "LayoutView",
            "grid_template_rows": null,
            "right": null,
            "justify_content": null,
            "_view_module": "@jupyter-widgets/base",
            "overflow": null,
            "_model_module_version": "1.2.0",
            "_view_count": null,
            "flex_flow": null,
            "width": null,
            "min_width": null,
            "border": null,
            "align_items": null,
            "bottom": null,
            "_model_module": "@jupyter-widgets/base",
            "top": null,
            "grid_column": null,
            "overflow_y": null,
            "overflow_x": null,
            "grid_auto_flow": null,
            "grid_area": null,
            "grid_template_columns": null,
            "flex": null,
            "_model_name": "LayoutModel",
            "justify_items": null,
            "grid_row": null,
            "max_height": null,
            "align_content": null,
            "visibility": null,
            "align_self": null,
            "height": null,
            "min_height": null,
            "padding": null,
            "grid_auto_rows": null,
            "grid_gap": null,
            "max_width": null,
            "order": null,
            "_view_module_version": "1.2.0",
            "grid_template_areas": null,
            "object_position": null,
            "object_fit": null,
            "grid_auto_columns": null,
            "margin": null,
            "display": null,
            "left": null
          }
        },
        "dfc31cd51ef8446db7986a06028d85fc": {
          "model_module": "@jupyter-widgets/controls",
          "model_name": "FloatProgressModel",
          "state": {
            "_view_name": "ProgressView",
            "style": "IPY_MODEL_1582b58b5a554c29a44ac66ae20a64a9",
            "_dom_classes": [],
            "description": "Downloading: 100%",
            "_model_name": "FloatProgressModel",
            "bar_style": "success",
            "max": 231508,
            "_view_module": "@jupyter-widgets/controls",
            "_model_module_version": "1.5.0",
            "value": 231508,
            "_view_count": null,
            "_view_module_version": "1.5.0",
            "orientation": "horizontal",
            "min": 0,
            "description_tooltip": null,
            "_model_module": "@jupyter-widgets/controls",
            "layout": "IPY_MODEL_3bb0638139ef4fdba74656099d2ab9ef"
          }
        },
        "b0ff40f7ca9f49a4b1529f92134b4f9f": {
          "model_module": "@jupyter-widgets/controls",
          "model_name": "HTMLModel",
          "state": {
            "_view_name": "HTMLView",
            "style": "IPY_MODEL_1d286c5fbae84a03881ebc61b6abc5fc",
            "_dom_classes": [],
            "description": "",
            "_model_name": "HTMLModel",
            "placeholder": "​",
            "_view_module": "@jupyter-widgets/controls",
            "_model_module_version": "1.5.0",
            "value": " 232k/232k [00:00&lt;00:00, 766kB/s]",
            "_view_count": null,
            "_view_module_version": "1.5.0",
            "description_tooltip": null,
            "_model_module": "@jupyter-widgets/controls",
            "layout": "IPY_MODEL_42ccdd55200249aba15e1a7adb6f1fb2"
          }
        },
        "1582b58b5a554c29a44ac66ae20a64a9": {
          "model_module": "@jupyter-widgets/controls",
          "model_name": "ProgressStyleModel",
          "state": {
            "_view_name": "StyleView",
            "_model_name": "ProgressStyleModel",
            "description_width": "initial",
            "_view_module": "@jupyter-widgets/base",
            "_model_module_version": "1.5.0",
            "_view_count": null,
            "_view_module_version": "1.2.0",
            "bar_color": null,
            "_model_module": "@jupyter-widgets/controls"
          }
        },
        "3bb0638139ef4fdba74656099d2ab9ef": {
          "model_module": "@jupyter-widgets/base",
          "model_name": "LayoutModel",
          "state": {
            "_view_name": "LayoutView",
            "grid_template_rows": null,
            "right": null,
            "justify_content": null,
            "_view_module": "@jupyter-widgets/base",
            "overflow": null,
            "_model_module_version": "1.2.0",
            "_view_count": null,
            "flex_flow": null,
            "width": null,
            "min_width": null,
            "border": null,
            "align_items": null,
            "bottom": null,
            "_model_module": "@jupyter-widgets/base",
            "top": null,
            "grid_column": null,
            "overflow_y": null,
            "overflow_x": null,
            "grid_auto_flow": null,
            "grid_area": null,
            "grid_template_columns": null,
            "flex": null,
            "_model_name": "LayoutModel",
            "justify_items": null,
            "grid_row": null,
            "max_height": null,
            "align_content": null,
            "visibility": null,
            "align_self": null,
            "height": null,
            "min_height": null,
            "padding": null,
            "grid_auto_rows": null,
            "grid_gap": null,
            "max_width": null,
            "order": null,
            "_view_module_version": "1.2.0",
            "grid_template_areas": null,
            "object_position": null,
            "object_fit": null,
            "grid_auto_columns": null,
            "margin": null,
            "display": null,
            "left": null
          }
        },
        "1d286c5fbae84a03881ebc61b6abc5fc": {
          "model_module": "@jupyter-widgets/controls",
          "model_name": "DescriptionStyleModel",
          "state": {
            "_view_name": "StyleView",
            "_model_name": "DescriptionStyleModel",
            "description_width": "",
            "_view_module": "@jupyter-widgets/base",
            "_model_module_version": "1.5.0",
            "_view_count": null,
            "_view_module_version": "1.2.0",
            "_model_module": "@jupyter-widgets/controls"
          }
        },
        "42ccdd55200249aba15e1a7adb6f1fb2": {
          "model_module": "@jupyter-widgets/base",
          "model_name": "LayoutModel",
          "state": {
            "_view_name": "LayoutView",
            "grid_template_rows": null,
            "right": null,
            "justify_content": null,
            "_view_module": "@jupyter-widgets/base",
            "overflow": null,
            "_model_module_version": "1.2.0",
            "_view_count": null,
            "flex_flow": null,
            "width": null,
            "min_width": null,
            "border": null,
            "align_items": null,
            "bottom": null,
            "_model_module": "@jupyter-widgets/base",
            "top": null,
            "grid_column": null,
            "overflow_y": null,
            "overflow_x": null,
            "grid_auto_flow": null,
            "grid_area": null,
            "grid_template_columns": null,
            "flex": null,
            "_model_name": "LayoutModel",
            "justify_items": null,
            "grid_row": null,
            "max_height": null,
            "align_content": null,
            "visibility": null,
            "align_self": null,
            "height": null,
            "min_height": null,
            "padding": null,
            "grid_auto_rows": null,
            "grid_gap": null,
            "max_width": null,
            "order": null,
            "_view_module_version": "1.2.0",
            "grid_template_areas": null,
            "object_position": null,
            "object_fit": null,
            "grid_auto_columns": null,
            "margin": null,
            "display": null,
            "left": null
          }
        },
        "188536a6ebd34e6fa85b9aace59faf3f": {
          "model_module": "@jupyter-widgets/controls",
          "model_name": "HBoxModel",
          "state": {
            "_view_name": "HBoxView",
            "_dom_classes": [],
            "_model_name": "HBoxModel",
            "_view_module": "@jupyter-widgets/controls",
            "_model_module_version": "1.5.0",
            "_view_count": null,
            "_view_module_version": "1.5.0",
            "box_style": "",
            "layout": "IPY_MODEL_c3296e7f1aa8484ca4462ff84ec92d0f",
            "_model_module": "@jupyter-widgets/controls",
            "children": [
              "IPY_MODEL_5a40fb441453417a8fb1f69dbf138128",
              "IPY_MODEL_ce4c9f7f477a4711b0a085d637874331"
            ]
          }
        },
        "c3296e7f1aa8484ca4462ff84ec92d0f": {
          "model_module": "@jupyter-widgets/base",
          "model_name": "LayoutModel",
          "state": {
            "_view_name": "LayoutView",
            "grid_template_rows": null,
            "right": null,
            "justify_content": null,
            "_view_module": "@jupyter-widgets/base",
            "overflow": null,
            "_model_module_version": "1.2.0",
            "_view_count": null,
            "flex_flow": null,
            "width": null,
            "min_width": null,
            "border": null,
            "align_items": null,
            "bottom": null,
            "_model_module": "@jupyter-widgets/base",
            "top": null,
            "grid_column": null,
            "overflow_y": null,
            "overflow_x": null,
            "grid_auto_flow": null,
            "grid_area": null,
            "grid_template_columns": null,
            "flex": null,
            "_model_name": "LayoutModel",
            "justify_items": null,
            "grid_row": null,
            "max_height": null,
            "align_content": null,
            "visibility": null,
            "align_self": null,
            "height": null,
            "min_height": null,
            "padding": null,
            "grid_auto_rows": null,
            "grid_gap": null,
            "max_width": null,
            "order": null,
            "_view_module_version": "1.2.0",
            "grid_template_areas": null,
            "object_position": null,
            "object_fit": null,
            "grid_auto_columns": null,
            "margin": null,
            "display": null,
            "left": null
          }
        },
        "5a40fb441453417a8fb1f69dbf138128": {
          "model_module": "@jupyter-widgets/controls",
          "model_name": "FloatProgressModel",
          "state": {
            "_view_name": "ProgressView",
            "style": "IPY_MODEL_50f76abbd3a3404bbe2afa064749bfb4",
            "_dom_classes": [],
            "description": "Downloading: 100%",
            "_model_name": "FloatProgressModel",
            "bar_style": "success",
            "max": 998,
            "_view_module": "@jupyter-widgets/controls",
            "_model_module_version": "1.5.0",
            "value": 998,
            "_view_count": null,
            "_view_module_version": "1.5.0",
            "orientation": "horizontal",
            "min": 0,
            "description_tooltip": null,
            "_model_module": "@jupyter-widgets/controls",
            "layout": "IPY_MODEL_51338de72b794782b566167f2f35d07b"
          }
        },
        "ce4c9f7f477a4711b0a085d637874331": {
          "model_module": "@jupyter-widgets/controls",
          "model_name": "HTMLModel",
          "state": {
            "_view_name": "HTMLView",
            "style": "IPY_MODEL_7d7f63356f9d414589b76e8a801ee3d8",
            "_dom_classes": [],
            "description": "",
            "_model_name": "HTMLModel",
            "placeholder": "​",
            "_view_module": "@jupyter-widgets/controls",
            "_model_module_version": "1.5.0",
            "value": " 998/998 [00:00&lt;00:00, 2.22kB/s]",
            "_view_count": null,
            "_view_module_version": "1.5.0",
            "description_tooltip": null,
            "_model_module": "@jupyter-widgets/controls",
            "layout": "IPY_MODEL_e82bef205e0649d1a68da85ec293553b"
          }
        },
        "50f76abbd3a3404bbe2afa064749bfb4": {
          "model_module": "@jupyter-widgets/controls",
          "model_name": "ProgressStyleModel",
          "state": {
            "_view_name": "StyleView",
            "_model_name": "ProgressStyleModel",
            "description_width": "initial",
            "_view_module": "@jupyter-widgets/base",
            "_model_module_version": "1.5.0",
            "_view_count": null,
            "_view_module_version": "1.2.0",
            "bar_color": null,
            "_model_module": "@jupyter-widgets/controls"
          }
        },
        "51338de72b794782b566167f2f35d07b": {
          "model_module": "@jupyter-widgets/base",
          "model_name": "LayoutModel",
          "state": {
            "_view_name": "LayoutView",
            "grid_template_rows": null,
            "right": null,
            "justify_content": null,
            "_view_module": "@jupyter-widgets/base",
            "overflow": null,
            "_model_module_version": "1.2.0",
            "_view_count": null,
            "flex_flow": null,
            "width": null,
            "min_width": null,
            "border": null,
            "align_items": null,
            "bottom": null,
            "_model_module": "@jupyter-widgets/base",
            "top": null,
            "grid_column": null,
            "overflow_y": null,
            "overflow_x": null,
            "grid_auto_flow": null,
            "grid_area": null,
            "grid_template_columns": null,
            "flex": null,
            "_model_name": "LayoutModel",
            "justify_items": null,
            "grid_row": null,
            "max_height": null,
            "align_content": null,
            "visibility": null,
            "align_self": null,
            "height": null,
            "min_height": null,
            "padding": null,
            "grid_auto_rows": null,
            "grid_gap": null,
            "max_width": null,
            "order": null,
            "_view_module_version": "1.2.0",
            "grid_template_areas": null,
            "object_position": null,
            "object_fit": null,
            "grid_auto_columns": null,
            "margin": null,
            "display": null,
            "left": null
          }
        },
        "7d7f63356f9d414589b76e8a801ee3d8": {
          "model_module": "@jupyter-widgets/controls",
          "model_name": "DescriptionStyleModel",
          "state": {
            "_view_name": "StyleView",
            "_model_name": "DescriptionStyleModel",
            "description_width": "",
            "_view_module": "@jupyter-widgets/base",
            "_model_module_version": "1.5.0",
            "_view_count": null,
            "_view_module_version": "1.2.0",
            "_model_module": "@jupyter-widgets/controls"
          }
        },
        "e82bef205e0649d1a68da85ec293553b": {
          "model_module": "@jupyter-widgets/base",
          "model_name": "LayoutModel",
          "state": {
            "_view_name": "LayoutView",
            "grid_template_rows": null,
            "right": null,
            "justify_content": null,
            "_view_module": "@jupyter-widgets/base",
            "overflow": null,
            "_model_module_version": "1.2.0",
            "_view_count": null,
            "flex_flow": null,
            "width": null,
            "min_width": null,
            "border": null,
            "align_items": null,
            "bottom": null,
            "_model_module": "@jupyter-widgets/base",
            "top": null,
            "grid_column": null,
            "overflow_y": null,
            "overflow_x": null,
            "grid_auto_flow": null,
            "grid_area": null,
            "grid_template_columns": null,
            "flex": null,
            "_model_name": "LayoutModel",
            "justify_items": null,
            "grid_row": null,
            "max_height": null,
            "align_content": null,
            "visibility": null,
            "align_self": null,
            "height": null,
            "min_height": null,
            "padding": null,
            "grid_auto_rows": null,
            "grid_gap": null,
            "max_width": null,
            "order": null,
            "_view_module_version": "1.2.0",
            "grid_template_areas": null,
            "object_position": null,
            "object_fit": null,
            "grid_auto_columns": null,
            "margin": null,
            "display": null,
            "left": null
          }
        },
        "76974f322bb249bb85fbe6fb29a2d8aa": {
          "model_module": "@jupyter-widgets/controls",
          "model_name": "HBoxModel",
          "state": {
            "_view_name": "HBoxView",
            "_dom_classes": [],
            "_model_name": "HBoxModel",
            "_view_module": "@jupyter-widgets/controls",
            "_model_module_version": "1.5.0",
            "_view_count": null,
            "_view_module_version": "1.5.0",
            "box_style": "",
            "layout": "IPY_MODEL_a6d413f7e58947538d7d29fa0f84bb56",
            "_model_module": "@jupyter-widgets/controls",
            "children": [
              "IPY_MODEL_07eb05923b5941e6bc5c5716c45c07a3",
              "IPY_MODEL_0b30d8dda16c46f4a1d36d081bb08366"
            ]
          }
        },
        "a6d413f7e58947538d7d29fa0f84bb56": {
          "model_module": "@jupyter-widgets/base",
          "model_name": "LayoutModel",
          "state": {
            "_view_name": "LayoutView",
            "grid_template_rows": null,
            "right": null,
            "justify_content": null,
            "_view_module": "@jupyter-widgets/base",
            "overflow": null,
            "_model_module_version": "1.2.0",
            "_view_count": null,
            "flex_flow": null,
            "width": null,
            "min_width": null,
            "border": null,
            "align_items": null,
            "bottom": null,
            "_model_module": "@jupyter-widgets/base",
            "top": null,
            "grid_column": null,
            "overflow_y": null,
            "overflow_x": null,
            "grid_auto_flow": null,
            "grid_area": null,
            "grid_template_columns": null,
            "flex": null,
            "_model_name": "LayoutModel",
            "justify_items": null,
            "grid_row": null,
            "max_height": null,
            "align_content": null,
            "visibility": null,
            "align_self": null,
            "height": null,
            "min_height": null,
            "padding": null,
            "grid_auto_rows": null,
            "grid_gap": null,
            "max_width": null,
            "order": null,
            "_view_module_version": "1.2.0",
            "grid_template_areas": null,
            "object_position": null,
            "object_fit": null,
            "grid_auto_columns": null,
            "margin": null,
            "display": null,
            "left": null
          }
        },
        "07eb05923b5941e6bc5c5716c45c07a3": {
          "model_module": "@jupyter-widgets/controls",
          "model_name": "FloatProgressModel",
          "state": {
            "_view_name": "ProgressView",
            "style": "IPY_MODEL_da52c065eb32419798540310a41dcca8",
            "_dom_classes": [],
            "description": "Downloading: 100%",
            "_model_name": "FloatProgressModel",
            "bar_style": "success",
            "max": 1334448817,
            "_view_module": "@jupyter-widgets/controls",
            "_model_module_version": "1.5.0",
            "value": 1334448817,
            "_view_count": null,
            "_view_module_version": "1.5.0",
            "orientation": "horizontal",
            "min": 0,
            "description_tooltip": null,
            "_model_module": "@jupyter-widgets/controls",
            "layout": "IPY_MODEL_ba1db6034f0c4dc780d96dde7f49c860"
          }
        },
        "0b30d8dda16c46f4a1d36d081bb08366": {
          "model_module": "@jupyter-widgets/controls",
          "model_name": "HTMLModel",
          "state": {
            "_view_name": "HTMLView",
            "style": "IPY_MODEL_30bde978a001453699a3802aab4303be",
            "_dom_classes": [],
            "description": "",
            "_model_name": "HTMLModel",
            "placeholder": "​",
            "_view_module": "@jupyter-widgets/controls",
            "_model_module_version": "1.5.0",
            "value": " 1.33G/1.33G [00:18&lt;00:00, 74.0MB/s]",
            "_view_count": null,
            "_view_module_version": "1.5.0",
            "description_tooltip": null,
            "_model_module": "@jupyter-widgets/controls",
            "layout": "IPY_MODEL_674a842f2385406abb2c039a2aa84ab3"
          }
        },
        "da52c065eb32419798540310a41dcca8": {
          "model_module": "@jupyter-widgets/controls",
          "model_name": "ProgressStyleModel",
          "state": {
            "_view_name": "StyleView",
            "_model_name": "ProgressStyleModel",
            "description_width": "initial",
            "_view_module": "@jupyter-widgets/base",
            "_model_module_version": "1.5.0",
            "_view_count": null,
            "_view_module_version": "1.2.0",
            "bar_color": null,
            "_model_module": "@jupyter-widgets/controls"
          }
        },
        "ba1db6034f0c4dc780d96dde7f49c860": {
          "model_module": "@jupyter-widgets/base",
          "model_name": "LayoutModel",
          "state": {
            "_view_name": "LayoutView",
            "grid_template_rows": null,
            "right": null,
            "justify_content": null,
            "_view_module": "@jupyter-widgets/base",
            "overflow": null,
            "_model_module_version": "1.2.0",
            "_view_count": null,
            "flex_flow": null,
            "width": null,
            "min_width": null,
            "border": null,
            "align_items": null,
            "bottom": null,
            "_model_module": "@jupyter-widgets/base",
            "top": null,
            "grid_column": null,
            "overflow_y": null,
            "overflow_x": null,
            "grid_auto_flow": null,
            "grid_area": null,
            "grid_template_columns": null,
            "flex": null,
            "_model_name": "LayoutModel",
            "justify_items": null,
            "grid_row": null,
            "max_height": null,
            "align_content": null,
            "visibility": null,
            "align_self": null,
            "height": null,
            "min_height": null,
            "padding": null,
            "grid_auto_rows": null,
            "grid_gap": null,
            "max_width": null,
            "order": null,
            "_view_module_version": "1.2.0",
            "grid_template_areas": null,
            "object_position": null,
            "object_fit": null,
            "grid_auto_columns": null,
            "margin": null,
            "display": null,
            "left": null
          }
        },
        "30bde978a001453699a3802aab4303be": {
          "model_module": "@jupyter-widgets/controls",
          "model_name": "DescriptionStyleModel",
          "state": {
            "_view_name": "StyleView",
            "_model_name": "DescriptionStyleModel",
            "description_width": "",
            "_view_module": "@jupyter-widgets/base",
            "_model_module_version": "1.5.0",
            "_view_count": null,
            "_view_module_version": "1.2.0",
            "_model_module": "@jupyter-widgets/controls"
          }
        },
        "674a842f2385406abb2c039a2aa84ab3": {
          "model_module": "@jupyter-widgets/base",
          "model_name": "LayoutModel",
          "state": {
            "_view_name": "LayoutView",
            "grid_template_rows": null,
            "right": null,
            "justify_content": null,
            "_view_module": "@jupyter-widgets/base",
            "overflow": null,
            "_model_module_version": "1.2.0",
            "_view_count": null,
            "flex_flow": null,
            "width": null,
            "min_width": null,
            "border": null,
            "align_items": null,
            "bottom": null,
            "_model_module": "@jupyter-widgets/base",
            "top": null,
            "grid_column": null,
            "overflow_y": null,
            "overflow_x": null,
            "grid_auto_flow": null,
            "grid_area": null,
            "grid_template_columns": null,
            "flex": null,
            "_model_name": "LayoutModel",
            "justify_items": null,
            "grid_row": null,
            "max_height": null,
            "align_content": null,
            "visibility": null,
            "align_self": null,
            "height": null,
            "min_height": null,
            "padding": null,
            "grid_auto_rows": null,
            "grid_gap": null,
            "max_width": null,
            "order": null,
            "_view_module_version": "1.2.0",
            "grid_template_areas": null,
            "object_position": null,
            "object_fit": null,
            "grid_auto_columns": null,
            "margin": null,
            "display": null,
            "left": null
          }
        },
        "41961fd2b4eb4503b60df027702d62c5": {
          "model_module": "@jupyter-widgets/controls",
          "model_name": "HBoxModel",
          "state": {
            "_view_name": "HBoxView",
            "_dom_classes": [],
            "_model_name": "HBoxModel",
            "_view_module": "@jupyter-widgets/controls",
            "_model_module_version": "1.5.0",
            "_view_count": null,
            "_view_module_version": "1.5.0",
            "box_style": "",
            "layout": "IPY_MODEL_876dacef47fa477d84cbd9d2e84d3887",
            "_model_module": "@jupyter-widgets/controls",
            "children": [
              "IPY_MODEL_9a871bbda5fb42edb03e52191f4a7388",
              "IPY_MODEL_0a1dc8d3b5e24e11bdf0d5780bf25abe"
            ]
          }
        },
        "876dacef47fa477d84cbd9d2e84d3887": {
          "model_module": "@jupyter-widgets/base",
          "model_name": "LayoutModel",
          "state": {
            "_view_name": "LayoutView",
            "grid_template_rows": null,
            "right": null,
            "justify_content": null,
            "_view_module": "@jupyter-widgets/base",
            "overflow": null,
            "_model_module_version": "1.2.0",
            "_view_count": null,
            "flex_flow": null,
            "width": null,
            "min_width": null,
            "border": null,
            "align_items": null,
            "bottom": null,
            "_model_module": "@jupyter-widgets/base",
            "top": null,
            "grid_column": null,
            "overflow_y": null,
            "overflow_x": null,
            "grid_auto_flow": null,
            "grid_area": null,
            "grid_template_columns": null,
            "flex": null,
            "_model_name": "LayoutModel",
            "justify_items": null,
            "grid_row": null,
            "max_height": null,
            "align_content": null,
            "visibility": null,
            "align_self": null,
            "height": null,
            "min_height": null,
            "padding": null,
            "grid_auto_rows": null,
            "grid_gap": null,
            "max_width": null,
            "order": null,
            "_view_module_version": "1.2.0",
            "grid_template_areas": null,
            "object_position": null,
            "object_fit": null,
            "grid_auto_columns": null,
            "margin": null,
            "display": null,
            "left": null
          }
        },
        "9a871bbda5fb42edb03e52191f4a7388": {
          "model_module": "@jupyter-widgets/controls",
          "model_name": "FloatProgressModel",
          "state": {
            "_view_name": "ProgressView",
            "style": "IPY_MODEL_dd99c79961384868a9e8b9c15f140b7a",
            "_dom_classes": [],
            "description": "Downloading: 100%",
            "_model_name": "FloatProgressModel",
            "bar_style": "success",
            "max": 213450,
            "_view_module": "@jupyter-widgets/controls",
            "_model_module_version": "1.5.0",
            "value": 213450,
            "_view_count": null,
            "_view_module_version": "1.5.0",
            "orientation": "horizontal",
            "min": 0,
            "description_tooltip": null,
            "_model_module": "@jupyter-widgets/controls",
            "layout": "IPY_MODEL_dbfec4f6e14e4b07b32e17e4a3e8e224"
          }
        },
        "0a1dc8d3b5e24e11bdf0d5780bf25abe": {
          "model_module": "@jupyter-widgets/controls",
          "model_name": "HTMLModel",
          "state": {
            "_view_name": "HTMLView",
            "style": "IPY_MODEL_28c35eb278534c42ad72dac79f9eebf3",
            "_dom_classes": [],
            "description": "",
            "_model_name": "HTMLModel",
            "placeholder": "​",
            "_view_module": "@jupyter-widgets/controls",
            "_model_module_version": "1.5.0",
            "value": " 213k/213k [00:04&lt;00:00, 48.6kB/s]",
            "_view_count": null,
            "_view_module_version": "1.5.0",
            "description_tooltip": null,
            "_model_module": "@jupyter-widgets/controls",
            "layout": "IPY_MODEL_78613f28a76b495d9f3e931aa565c358"
          }
        },
        "dd99c79961384868a9e8b9c15f140b7a": {
          "model_module": "@jupyter-widgets/controls",
          "model_name": "ProgressStyleModel",
          "state": {
            "_view_name": "StyleView",
            "_model_name": "ProgressStyleModel",
            "description_width": "initial",
            "_view_module": "@jupyter-widgets/base",
            "_model_module_version": "1.5.0",
            "_view_count": null,
            "_view_module_version": "1.2.0",
            "bar_color": null,
            "_model_module": "@jupyter-widgets/controls"
          }
        },
        "dbfec4f6e14e4b07b32e17e4a3e8e224": {
          "model_module": "@jupyter-widgets/base",
          "model_name": "LayoutModel",
          "state": {
            "_view_name": "LayoutView",
            "grid_template_rows": null,
            "right": null,
            "justify_content": null,
            "_view_module": "@jupyter-widgets/base",
            "overflow": null,
            "_model_module_version": "1.2.0",
            "_view_count": null,
            "flex_flow": null,
            "width": null,
            "min_width": null,
            "border": null,
            "align_items": null,
            "bottom": null,
            "_model_module": "@jupyter-widgets/base",
            "top": null,
            "grid_column": null,
            "overflow_y": null,
            "overflow_x": null,
            "grid_auto_flow": null,
            "grid_area": null,
            "grid_template_columns": null,
            "flex": null,
            "_model_name": "LayoutModel",
            "justify_items": null,
            "grid_row": null,
            "max_height": null,
            "align_content": null,
            "visibility": null,
            "align_self": null,
            "height": null,
            "min_height": null,
            "padding": null,
            "grid_auto_rows": null,
            "grid_gap": null,
            "max_width": null,
            "order": null,
            "_view_module_version": "1.2.0",
            "grid_template_areas": null,
            "object_position": null,
            "object_fit": null,
            "grid_auto_columns": null,
            "margin": null,
            "display": null,
            "left": null
          }
        },
        "28c35eb278534c42ad72dac79f9eebf3": {
          "model_module": "@jupyter-widgets/controls",
          "model_name": "DescriptionStyleModel",
          "state": {
            "_view_name": "StyleView",
            "_model_name": "DescriptionStyleModel",
            "description_width": "",
            "_view_module": "@jupyter-widgets/base",
            "_model_module_version": "1.5.0",
            "_view_count": null,
            "_view_module_version": "1.2.0",
            "_model_module": "@jupyter-widgets/controls"
          }
        },
        "78613f28a76b495d9f3e931aa565c358": {
          "model_module": "@jupyter-widgets/base",
          "model_name": "LayoutModel",
          "state": {
            "_view_name": "LayoutView",
            "grid_template_rows": null,
            "right": null,
            "justify_content": null,
            "_view_module": "@jupyter-widgets/base",
            "overflow": null,
            "_model_module_version": "1.2.0",
            "_view_count": null,
            "flex_flow": null,
            "width": null,
            "min_width": null,
            "border": null,
            "align_items": null,
            "bottom": null,
            "_model_module": "@jupyter-widgets/base",
            "top": null,
            "grid_column": null,
            "overflow_y": null,
            "overflow_x": null,
            "grid_auto_flow": null,
            "grid_area": null,
            "grid_template_columns": null,
            "flex": null,
            "_model_name": "LayoutModel",
            "justify_items": null,
            "grid_row": null,
            "max_height": null,
            "align_content": null,
            "visibility": null,
            "align_self": null,
            "height": null,
            "min_height": null,
            "padding": null,
            "grid_auto_rows": null,
            "grid_gap": null,
            "max_width": null,
            "order": null,
            "_view_module_version": "1.2.0",
            "grid_template_areas": null,
            "object_position": null,
            "object_fit": null,
            "grid_auto_columns": null,
            "margin": null,
            "display": null,
            "left": null
          }
        },
        "ec5ffdb848db4e7a9a5ca1f167c74a8b": {
          "model_module": "@jupyter-widgets/controls",
          "model_name": "HBoxModel",
          "state": {
            "_view_name": "HBoxView",
            "_dom_classes": [],
            "_model_name": "HBoxModel",
            "_view_module": "@jupyter-widgets/controls",
            "_model_module_version": "1.5.0",
            "_view_count": null,
            "_view_module_version": "1.5.0",
            "box_style": "",
            "layout": "IPY_MODEL_97002a4304294da8b44b1f66ed91e9f8",
            "_model_module": "@jupyter-widgets/controls",
            "children": [
              "IPY_MODEL_52d1cae6389648028b5af02475202cf3",
              "IPY_MODEL_77e5c29a8df54f16a45b1a8ff19b565f"
            ]
          }
        },
        "97002a4304294da8b44b1f66ed91e9f8": {
          "model_module": "@jupyter-widgets/base",
          "model_name": "LayoutModel",
          "state": {
            "_view_name": "LayoutView",
            "grid_template_rows": null,
            "right": null,
            "justify_content": null,
            "_view_module": "@jupyter-widgets/base",
            "overflow": null,
            "_model_module_version": "1.2.0",
            "_view_count": null,
            "flex_flow": null,
            "width": null,
            "min_width": null,
            "border": null,
            "align_items": null,
            "bottom": null,
            "_model_module": "@jupyter-widgets/base",
            "top": null,
            "grid_column": null,
            "overflow_y": null,
            "overflow_x": null,
            "grid_auto_flow": null,
            "grid_area": null,
            "grid_template_columns": null,
            "flex": null,
            "_model_name": "LayoutModel",
            "justify_items": null,
            "grid_row": null,
            "max_height": null,
            "align_content": null,
            "visibility": null,
            "align_self": null,
            "height": null,
            "min_height": null,
            "padding": null,
            "grid_auto_rows": null,
            "grid_gap": null,
            "max_width": null,
            "order": null,
            "_view_module_version": "1.2.0",
            "grid_template_areas": null,
            "object_position": null,
            "object_fit": null,
            "grid_auto_columns": null,
            "margin": null,
            "display": null,
            "left": null
          }
        },
        "52d1cae6389648028b5af02475202cf3": {
          "model_module": "@jupyter-widgets/controls",
          "model_name": "FloatProgressModel",
          "state": {
            "_view_name": "ProgressView",
            "style": "IPY_MODEL_5038f6caef1c41db819445b54e885b37",
            "_dom_classes": [],
            "description": "Downloading: 100%",
            "_model_name": "FloatProgressModel",
            "bar_style": "success",
            "max": 60,
            "_view_module": "@jupyter-widgets/controls",
            "_model_module_version": "1.5.0",
            "value": 60,
            "_view_count": null,
            "_view_module_version": "1.5.0",
            "orientation": "horizontal",
            "min": 0,
            "description_tooltip": null,
            "_model_module": "@jupyter-widgets/controls",
            "layout": "IPY_MODEL_48f9819e0dee45f5a29beffbac2fc0a1"
          }
        },
        "77e5c29a8df54f16a45b1a8ff19b565f": {
          "model_module": "@jupyter-widgets/controls",
          "model_name": "HTMLModel",
          "state": {
            "_view_name": "HTMLView",
            "style": "IPY_MODEL_3a25aec6a7d1469387a29695d78fb477",
            "_dom_classes": [],
            "description": "",
            "_model_name": "HTMLModel",
            "placeholder": "​",
            "_view_module": "@jupyter-widgets/controls",
            "_model_module_version": "1.5.0",
            "value": " 60.0/60.0 [00:00&lt;00:00, 74.1B/s]",
            "_view_count": null,
            "_view_module_version": "1.5.0",
            "description_tooltip": null,
            "_model_module": "@jupyter-widgets/controls",
            "layout": "IPY_MODEL_09e79c30fcbe46318c08f0ca6e05ced2"
          }
        },
        "5038f6caef1c41db819445b54e885b37": {
          "model_module": "@jupyter-widgets/controls",
          "model_name": "ProgressStyleModel",
          "state": {
            "_view_name": "StyleView",
            "_model_name": "ProgressStyleModel",
            "description_width": "initial",
            "_view_module": "@jupyter-widgets/base",
            "_model_module_version": "1.5.0",
            "_view_count": null,
            "_view_module_version": "1.2.0",
            "bar_color": null,
            "_model_module": "@jupyter-widgets/controls"
          }
        },
        "48f9819e0dee45f5a29beffbac2fc0a1": {
          "model_module": "@jupyter-widgets/base",
          "model_name": "LayoutModel",
          "state": {
            "_view_name": "LayoutView",
            "grid_template_rows": null,
            "right": null,
            "justify_content": null,
            "_view_module": "@jupyter-widgets/base",
            "overflow": null,
            "_model_module_version": "1.2.0",
            "_view_count": null,
            "flex_flow": null,
            "width": null,
            "min_width": null,
            "border": null,
            "align_items": null,
            "bottom": null,
            "_model_module": "@jupyter-widgets/base",
            "top": null,
            "grid_column": null,
            "overflow_y": null,
            "overflow_x": null,
            "grid_auto_flow": null,
            "grid_area": null,
            "grid_template_columns": null,
            "flex": null,
            "_model_name": "LayoutModel",
            "justify_items": null,
            "grid_row": null,
            "max_height": null,
            "align_content": null,
            "visibility": null,
            "align_self": null,
            "height": null,
            "min_height": null,
            "padding": null,
            "grid_auto_rows": null,
            "grid_gap": null,
            "max_width": null,
            "order": null,
            "_view_module_version": "1.2.0",
            "grid_template_areas": null,
            "object_position": null,
            "object_fit": null,
            "grid_auto_columns": null,
            "margin": null,
            "display": null,
            "left": null
          }
        },
        "3a25aec6a7d1469387a29695d78fb477": {
          "model_module": "@jupyter-widgets/controls",
          "model_name": "DescriptionStyleModel",
          "state": {
            "_view_name": "StyleView",
            "_model_name": "DescriptionStyleModel",
            "description_width": "",
            "_view_module": "@jupyter-widgets/base",
            "_model_module_version": "1.5.0",
            "_view_count": null,
            "_view_module_version": "1.2.0",
            "_model_module": "@jupyter-widgets/controls"
          }
        },
        "09e79c30fcbe46318c08f0ca6e05ced2": {
          "model_module": "@jupyter-widgets/base",
          "model_name": "LayoutModel",
          "state": {
            "_view_name": "LayoutView",
            "grid_template_rows": null,
            "right": null,
            "justify_content": null,
            "_view_module": "@jupyter-widgets/base",
            "overflow": null,
            "_model_module_version": "1.2.0",
            "_view_count": null,
            "flex_flow": null,
            "width": null,
            "min_width": null,
            "border": null,
            "align_items": null,
            "bottom": null,
            "_model_module": "@jupyter-widgets/base",
            "top": null,
            "grid_column": null,
            "overflow_y": null,
            "overflow_x": null,
            "grid_auto_flow": null,
            "grid_area": null,
            "grid_template_columns": null,
            "flex": null,
            "_model_name": "LayoutModel",
            "justify_items": null,
            "grid_row": null,
            "max_height": null,
            "align_content": null,
            "visibility": null,
            "align_self": null,
            "height": null,
            "min_height": null,
            "padding": null,
            "grid_auto_rows": null,
            "grid_gap": null,
            "max_width": null,
            "order": null,
            "_view_module_version": "1.2.0",
            "grid_template_areas": null,
            "object_position": null,
            "object_fit": null,
            "grid_auto_columns": null,
            "margin": null,
            "display": null,
            "left": null
          }
        },
        "770f2371603d4c89a764f4d9053e29ae": {
          "model_module": "@jupyter-widgets/controls",
          "model_name": "HBoxModel",
          "state": {
            "_view_name": "HBoxView",
            "_dom_classes": [],
            "_model_name": "HBoxModel",
            "_view_module": "@jupyter-widgets/controls",
            "_model_module_version": "1.5.0",
            "_view_count": null,
            "_view_module_version": "1.5.0",
            "box_style": "",
            "layout": "IPY_MODEL_71255f5757ec47b0b2799cd6f2d1815d",
            "_model_module": "@jupyter-widgets/controls",
            "children": [
              "IPY_MODEL_5a4a782b65d84bf7b1d5ba9c5c5d3ad2",
              "IPY_MODEL_78dbcaee5dd542d89eed352b7fbad860"
            ]
          }
        },
        "71255f5757ec47b0b2799cd6f2d1815d": {
          "model_module": "@jupyter-widgets/base",
          "model_name": "LayoutModel",
          "state": {
            "_view_name": "LayoutView",
            "grid_template_rows": null,
            "right": null,
            "justify_content": null,
            "_view_module": "@jupyter-widgets/base",
            "overflow": null,
            "_model_module_version": "1.2.0",
            "_view_count": null,
            "flex_flow": null,
            "width": null,
            "min_width": null,
            "border": null,
            "align_items": null,
            "bottom": null,
            "_model_module": "@jupyter-widgets/base",
            "top": null,
            "grid_column": null,
            "overflow_y": null,
            "overflow_x": null,
            "grid_auto_flow": null,
            "grid_area": null,
            "grid_template_columns": null,
            "flex": null,
            "_model_name": "LayoutModel",
            "justify_items": null,
            "grid_row": null,
            "max_height": null,
            "align_content": null,
            "visibility": null,
            "align_self": null,
            "height": null,
            "min_height": null,
            "padding": null,
            "grid_auto_rows": null,
            "grid_gap": null,
            "max_width": null,
            "order": null,
            "_view_module_version": "1.2.0",
            "grid_template_areas": null,
            "object_position": null,
            "object_fit": null,
            "grid_auto_columns": null,
            "margin": null,
            "display": null,
            "left": null
          }
        },
        "5a4a782b65d84bf7b1d5ba9c5c5d3ad2": {
          "model_module": "@jupyter-widgets/controls",
          "model_name": "FloatProgressModel",
          "state": {
            "_view_name": "ProgressView",
            "style": "IPY_MODEL_b597b54e117740128f3c24f1d4ea63ad",
            "_dom_classes": [],
            "description": "Downloading: 100%",
            "_model_name": "FloatProgressModel",
            "bar_style": "success",
            "max": 230,
            "_view_module": "@jupyter-widgets/controls",
            "_model_module_version": "1.5.0",
            "value": 230,
            "_view_count": null,
            "_view_module_version": "1.5.0",
            "orientation": "horizontal",
            "min": 0,
            "description_tooltip": null,
            "_model_module": "@jupyter-widgets/controls",
            "layout": "IPY_MODEL_5e1826d9b0cf49debaf8fe3473221056"
          }
        },
        "78dbcaee5dd542d89eed352b7fbad860": {
          "model_module": "@jupyter-widgets/controls",
          "model_name": "HTMLModel",
          "state": {
            "_view_name": "HTMLView",
            "style": "IPY_MODEL_fbc68459605241b6ac22dea93f30deea",
            "_dom_classes": [],
            "description": "",
            "_model_name": "HTMLModel",
            "placeholder": "​",
            "_view_module": "@jupyter-widgets/controls",
            "_model_module_version": "1.5.0",
            "value": " 230/230 [00:01&lt;00:00, 147B/s]",
            "_view_count": null,
            "_view_module_version": "1.5.0",
            "description_tooltip": null,
            "_model_module": "@jupyter-widgets/controls",
            "layout": "IPY_MODEL_88cd6b8dd7eb4bceb67b69f39c27677a"
          }
        },
        "b597b54e117740128f3c24f1d4ea63ad": {
          "model_module": "@jupyter-widgets/controls",
          "model_name": "ProgressStyleModel",
          "state": {
            "_view_name": "StyleView",
            "_model_name": "ProgressStyleModel",
            "description_width": "initial",
            "_view_module": "@jupyter-widgets/base",
            "_model_module_version": "1.5.0",
            "_view_count": null,
            "_view_module_version": "1.2.0",
            "bar_color": null,
            "_model_module": "@jupyter-widgets/controls"
          }
        },
        "5e1826d9b0cf49debaf8fe3473221056": {
          "model_module": "@jupyter-widgets/base",
          "model_name": "LayoutModel",
          "state": {
            "_view_name": "LayoutView",
            "grid_template_rows": null,
            "right": null,
            "justify_content": null,
            "_view_module": "@jupyter-widgets/base",
            "overflow": null,
            "_model_module_version": "1.2.0",
            "_view_count": null,
            "flex_flow": null,
            "width": null,
            "min_width": null,
            "border": null,
            "align_items": null,
            "bottom": null,
            "_model_module": "@jupyter-widgets/base",
            "top": null,
            "grid_column": null,
            "overflow_y": null,
            "overflow_x": null,
            "grid_auto_flow": null,
            "grid_area": null,
            "grid_template_columns": null,
            "flex": null,
            "_model_name": "LayoutModel",
            "justify_items": null,
            "grid_row": null,
            "max_height": null,
            "align_content": null,
            "visibility": null,
            "align_self": null,
            "height": null,
            "min_height": null,
            "padding": null,
            "grid_auto_rows": null,
            "grid_gap": null,
            "max_width": null,
            "order": null,
            "_view_module_version": "1.2.0",
            "grid_template_areas": null,
            "object_position": null,
            "object_fit": null,
            "grid_auto_columns": null,
            "margin": null,
            "display": null,
            "left": null
          }
        },
        "fbc68459605241b6ac22dea93f30deea": {
          "model_module": "@jupyter-widgets/controls",
          "model_name": "DescriptionStyleModel",
          "state": {
            "_view_name": "StyleView",
            "_model_name": "DescriptionStyleModel",
            "description_width": "",
            "_view_module": "@jupyter-widgets/base",
            "_model_module_version": "1.5.0",
            "_view_count": null,
            "_view_module_version": "1.2.0",
            "_model_module": "@jupyter-widgets/controls"
          }
        },
        "88cd6b8dd7eb4bceb67b69f39c27677a": {
          "model_module": "@jupyter-widgets/base",
          "model_name": "LayoutModel",
          "state": {
            "_view_name": "LayoutView",
            "grid_template_rows": null,
            "right": null,
            "justify_content": null,
            "_view_module": "@jupyter-widgets/base",
            "overflow": null,
            "_model_module_version": "1.2.0",
            "_view_count": null,
            "flex_flow": null,
            "width": null,
            "min_width": null,
            "border": null,
            "align_items": null,
            "bottom": null,
            "_model_module": "@jupyter-widgets/base",
            "top": null,
            "grid_column": null,
            "overflow_y": null,
            "overflow_x": null,
            "grid_auto_flow": null,
            "grid_area": null,
            "grid_template_columns": null,
            "flex": null,
            "_model_name": "LayoutModel",
            "justify_items": null,
            "grid_row": null,
            "max_height": null,
            "align_content": null,
            "visibility": null,
            "align_self": null,
            "height": null,
            "min_height": null,
            "padding": null,
            "grid_auto_rows": null,
            "grid_gap": null,
            "max_width": null,
            "order": null,
            "_view_module_version": "1.2.0",
            "grid_template_areas": null,
            "object_position": null,
            "object_fit": null,
            "grid_auto_columns": null,
            "margin": null,
            "display": null,
            "left": null
          }
        }
      }
    },
    "accelerator": "GPU"
  },
  "cells": [
    {
      "cell_type": "markdown",
      "metadata": {
        "id": "view-in-github",
        "colab_type": "text"
      },
      "source": [
        "<a href=\"https://colab.research.google.com/github/UDICatNCHU/PyTorch-Tutorial/blob/master/Lession_6_BERT_MLM.ipynb\" target=\"_parent\"><img src=\"https://colab.research.google.com/assets/colab-badge.svg\" alt=\"Open In Colab\"/></a>"
      ]
    },
    {
      "cell_type": "markdown",
      "metadata": {
        "id": "1V92Fwj1Hb5h"
      },
      "source": [
        "# BERT Input Encoding/Representation\n",
        "\n",
        "\n"
      ]
    },
    {
      "cell_type": "code",
      "metadata": {
        "id": "xeU50x6NLTU3",
        "outputId": "912c36c1-4b54-4032-abb7-36f22cceb600",
        "colab": {
          "base_uri": "https://localhost:8080/",
          "height": 798,
          "referenced_widgets": [
            "0f091cba085742179d26cc3f824161a2",
            "6f0eafb5ac494fc8951195b61992472f",
            "85568a802b7043b692234ebf0ac1d178",
            "eb5f3efdf2564619853207766e5d8899",
            "25c447a20ccc4189af876b9ab7b229fd",
            "0a225008c3ae4bd881ba1b681c1ac1bf",
            "df80a00c6afc4d77a5004b7a8de7558e",
            "ea8c989cd58647e0bb634f4012949755",
            "eba4f09c56fb447784bc4a234005b99c",
            "a816bbd47e3e4bc4a07a53fa172e4a32",
            "a7c2817f86ad444193ec9097974de6af",
            "78052fbf92c34dabab057237df4828df",
            "cac46bcbc491435185a9358444bf9ed5",
            "035a55fba1f14faead6cc1a45dd8898a",
            "563ab35d983e4030b2a460e265adddce",
            "263f15650e95426dbb26891385bec4ef"
          ]
        }
      },
      "source": [
        "!pip install transformers\n",
        "from transformers import BertTokenizer, BertForMaskedLM\n",
        "model = BertForMaskedLM.from_pretrained(\"bert-base-uncased\")"
      ],
      "execution_count": 1,
      "outputs": [
        {
          "output_type": "stream",
          "text": [
            "Collecting transformers\n",
            "\u001b[?25l  Downloading https://files.pythonhosted.org/packages/9c/34/fb092588df61bf33f113ade030d1cbe74fb73a0353648f8dd938a223dce7/transformers-3.5.0-py3-none-any.whl (1.3MB)\n",
            "\u001b[K     |████████████████████████████████| 1.3MB 7.2MB/s \n",
            "\u001b[?25hRequirement already satisfied: regex!=2019.12.17 in /usr/local/lib/python3.6/dist-packages (from transformers) (2019.12.20)\n",
            "Requirement already satisfied: tqdm>=4.27 in /usr/local/lib/python3.6/dist-packages (from transformers) (4.41.1)\n",
            "Requirement already satisfied: requests in /usr/local/lib/python3.6/dist-packages (from transformers) (2.23.0)\n",
            "Requirement already satisfied: filelock in /usr/local/lib/python3.6/dist-packages (from transformers) (3.0.12)\n",
            "Collecting sentencepiece==0.1.91\n",
            "\u001b[?25l  Downloading https://files.pythonhosted.org/packages/d4/a4/d0a884c4300004a78cca907a6ff9a5e9fe4f090f5d95ab341c53d28cbc58/sentencepiece-0.1.91-cp36-cp36m-manylinux1_x86_64.whl (1.1MB)\n",
            "\u001b[K     |████████████████████████████████| 1.1MB 20.7MB/s \n",
            "\u001b[?25hRequirement already satisfied: protobuf in /usr/local/lib/python3.6/dist-packages (from transformers) (3.12.4)\n",
            "Requirement already satisfied: dataclasses; python_version < \"3.7\" in /usr/local/lib/python3.6/dist-packages (from transformers) (0.7)\n",
            "Collecting tokenizers==0.9.3\n",
            "\u001b[?25l  Downloading https://files.pythonhosted.org/packages/4c/34/b39eb9994bc3c999270b69c9eea40ecc6f0e97991dba28282b9fd32d44ee/tokenizers-0.9.3-cp36-cp36m-manylinux1_x86_64.whl (2.9MB)\n",
            "\u001b[K     |████████████████████████████████| 2.9MB 38.6MB/s \n",
            "\u001b[?25hRequirement already satisfied: numpy in /usr/local/lib/python3.6/dist-packages (from transformers) (1.18.5)\n",
            "Requirement already satisfied: packaging in /usr/local/lib/python3.6/dist-packages (from transformers) (20.4)\n",
            "Collecting sacremoses\n",
            "\u001b[?25l  Downloading https://files.pythonhosted.org/packages/7d/34/09d19aff26edcc8eb2a01bed8e98f13a1537005d31e95233fd48216eed10/sacremoses-0.0.43.tar.gz (883kB)\n",
            "\u001b[K     |████████████████████████████████| 890kB 43.6MB/s \n",
            "\u001b[?25hRequirement already satisfied: certifi>=2017.4.17 in /usr/local/lib/python3.6/dist-packages (from requests->transformers) (2020.6.20)\n",
            "Requirement already satisfied: idna<3,>=2.5 in /usr/local/lib/python3.6/dist-packages (from requests->transformers) (2.10)\n",
            "Requirement already satisfied: chardet<4,>=3.0.2 in /usr/local/lib/python3.6/dist-packages (from requests->transformers) (3.0.4)\n",
            "Requirement already satisfied: urllib3!=1.25.0,!=1.25.1,<1.26,>=1.21.1 in /usr/local/lib/python3.6/dist-packages (from requests->transformers) (1.24.3)\n",
            "Requirement already satisfied: setuptools in /usr/local/lib/python3.6/dist-packages (from protobuf->transformers) (50.3.2)\n",
            "Requirement already satisfied: six>=1.9 in /usr/local/lib/python3.6/dist-packages (from protobuf->transformers) (1.15.0)\n",
            "Requirement already satisfied: pyparsing>=2.0.2 in /usr/local/lib/python3.6/dist-packages (from packaging->transformers) (2.4.7)\n",
            "Requirement already satisfied: click in /usr/local/lib/python3.6/dist-packages (from sacremoses->transformers) (7.1.2)\n",
            "Requirement already satisfied: joblib in /usr/local/lib/python3.6/dist-packages (from sacremoses->transformers) (0.17.0)\n",
            "Building wheels for collected packages: sacremoses\n",
            "  Building wheel for sacremoses (setup.py) ... \u001b[?25l\u001b[?25hdone\n",
            "  Created wheel for sacremoses: filename=sacremoses-0.0.43-cp36-none-any.whl size=893257 sha256=c600055f92c75f05371db838536474ecd7b3ae9ded257047ab23a279f00b5113\n",
            "  Stored in directory: /root/.cache/pip/wheels/29/3c/fd/7ce5c3f0666dab31a50123635e6fb5e19ceb42ce38d4e58f45\n",
            "Successfully built sacremoses\n",
            "Installing collected packages: sentencepiece, tokenizers, sacremoses, transformers\n",
            "Successfully installed sacremoses-0.0.43 sentencepiece-0.1.91 tokenizers-0.9.3 transformers-3.5.0\n"
          ],
          "name": "stdout"
        },
        {
          "output_type": "display_data",
          "data": {
            "application/vnd.jupyter.widget-view+json": {
              "model_id": "0f091cba085742179d26cc3f824161a2",
              "version_minor": 0,
              "version_major": 2
            },
            "text/plain": [
              "HBox(children=(FloatProgress(value=0.0, description='Downloading', max=433.0, style=ProgressStyle(description_…"
            ]
          },
          "metadata": {
            "tags": []
          }
        },
        {
          "output_type": "stream",
          "text": [
            "\n"
          ],
          "name": "stdout"
        },
        {
          "output_type": "display_data",
          "data": {
            "application/vnd.jupyter.widget-view+json": {
              "model_id": "eba4f09c56fb447784bc4a234005b99c",
              "version_minor": 0,
              "version_major": 2
            },
            "text/plain": [
              "HBox(children=(FloatProgress(value=0.0, description='Downloading', max=440473133.0, style=ProgressStyle(descri…"
            ]
          },
          "metadata": {
            "tags": []
          }
        },
        {
          "output_type": "stream",
          "text": [
            "\n"
          ],
          "name": "stdout"
        },
        {
          "output_type": "stream",
          "text": [
            "Some weights of the model checkpoint at bert-base-uncased were not used when initializing BertForMaskedLM: ['cls.seq_relationship.weight', 'cls.seq_relationship.bias']\n",
            "- This IS expected if you are initializing BertForMaskedLM from the checkpoint of a model trained on another task or with another architecture (e.g. initializing a BertForSequenceClassification model from a BertForPreTraining model).\n",
            "- This IS NOT expected if you are initializing BertForMaskedLM from the checkpoint of a model that you expect to be exactly identical (initializing a BertForSequenceClassification model from a BertForSequenceClassification model).\n"
          ],
          "name": "stderr"
        }
      ]
    },
    {
      "cell_type": "markdown",
      "metadata": {
        "id": "QHY7uf_VN8I0"
      },
      "source": [
        "###### Single Sentence Embedding"
      ]
    },
    {
      "cell_type": "code",
      "metadata": {
        "id": "RvdaN8wjqL7T"
      },
      "source": [
        "encoding = tokenizer([\"I love you\"])"
      ],
      "execution_count": null,
      "outputs": []
    },
    {
      "cell_type": "code",
      "metadata": {
        "id": "UiMsuap6H-o6",
        "outputId": "c032c517-2946-4209-fec0-5af1fb29c54b",
        "colab": {
          "base_uri": "https://localhost:8080/"
        }
      },
      "source": [
        "print(encoding)"
      ],
      "execution_count": null,
      "outputs": [
        {
          "output_type": "stream",
          "text": [
            "{'input_ids': [[101, 1045, 2293, 2017, 102], [101, 20315, 102]], 'token_type_ids': [[0, 0, 0, 0, 0], [0, 0, 0]], 'attention_mask': [[1, 1, 1, 1, 1], [1, 1, 1]]}\n"
          ],
          "name": "stdout"
        }
      ]
    },
    {
      "cell_type": "code",
      "metadata": {
        "id": "HYXIZcGVIZL0",
        "outputId": "e3d11121-b5d3-4d12-efaa-742bcaccd32d",
        "colab": {
          "base_uri": "https://localhost:8080/"
        }
      },
      "source": [
        "encoding['input_ids']"
      ],
      "execution_count": null,
      "outputs": [
        {
          "output_type": "execute_result",
          "data": {
            "text/plain": [
              "[[101, 1045, 2293, 2017, 102]]"
            ]
          },
          "metadata": {
            "tags": []
          },
          "execution_count": 46
        }
      ]
    },
    {
      "cell_type": "code",
      "metadata": {
        "id": "qgov-w7lHxjV",
        "outputId": "2c0e71c7-d1c9-4efb-f500-a672e178bd21",
        "colab": {
          "base_uri": "https://localhost:8080/",
          "height": 35
        }
      },
      "source": [
        "tokenizer.decode(encoding['input_ids'][0])"
      ],
      "execution_count": null,
      "outputs": [
        {
          "output_type": "execute_result",
          "data": {
            "application/vnd.google.colaboratory.intrinsic+json": {
              "type": "string"
            },
            "text/plain": [
              "'[CLS] i love you [SEP]'"
            ]
          },
          "metadata": {
            "tags": []
          },
          "execution_count": 47
        }
      ]
    },
    {
      "cell_type": "markdown",
      "metadata": {
        "id": "pXeGkC7oOAmU"
      },
      "source": [
        "###### Sentence Pair Embedding"
      ]
    },
    {
      "cell_type": "code",
      "metadata": {
        "id": "NT0SPs1xMAKH"
      },
      "source": [
        "two_sentences_encoding = tokenizer([\"my dog is cute\"], [\"he likes playing\"])"
      ],
      "execution_count": null,
      "outputs": []
    },
    {
      "cell_type": "code",
      "metadata": {
        "id": "GwDPMt1ENUnH",
        "outputId": "49831cda-9f11-4f02-eb80-a4d4e2a0a654",
        "colab": {
          "base_uri": "https://localhost:8080/",
          "height": 35
        }
      },
      "source": [
        "tokenizer.decode(two_sentences_encoding['input_ids'][0])"
      ],
      "execution_count": null,
      "outputs": [
        {
          "output_type": "execute_result",
          "data": {
            "application/vnd.google.colaboratory.intrinsic+json": {
              "type": "string"
            },
            "text/plain": [
              "'[CLS] my dog is cute [SEP] he likes playing [SEP]'"
            ]
          },
          "metadata": {
            "tags": []
          },
          "execution_count": 43
        }
      ]
    },
    {
      "cell_type": "markdown",
      "metadata": {
        "id": "KiyMRuY4LDrs"
      },
      "source": [
        "![image.png](data:image/png;base64,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)"
      ]
    },
    {
      "cell_type": "markdown",
      "metadata": {
        "id": "CrdQK9pRHjrg"
      },
      "source": [
        "# Mimimum Runable Code Piece (MRCP) 最核心BERT程式 Masked-LM執行片段"
      ]
    },
    {
      "cell_type": "code",
      "metadata": {
        "id": "lqVKedwZeonx",
        "outputId": "0ba59b7e-f0f5-4a45-ccc3-6e58f814fa7c",
        "colab": {
          "base_uri": "https://localhost:8080/",
          "height": 137,
          "referenced_widgets": [
            "b51965d750b8438e9786539d98620a10",
            "b5ced661c8e04ea6a9d3075d09ae55b3",
            "dfc31cd51ef8446db7986a06028d85fc",
            "b0ff40f7ca9f49a4b1529f92134b4f9f",
            "1582b58b5a554c29a44ac66ae20a64a9",
            "3bb0638139ef4fdba74656099d2ab9ef",
            "1d286c5fbae84a03881ebc61b6abc5fc",
            "42ccdd55200249aba15e1a7adb6f1fb2"
          ]
        }
      },
      "source": [
        "from transformers import BertTokenizer, BertForMaskedLM, AdamW\n",
        "import torch\n",
        "tokenizer = BertTokenizer.from_pretrained('bert-base-uncased')\n",
        "model = BertForMaskedLM.from_pretrained('bert-base-uncased', return_dict=True)"
      ],
      "execution_count": 3,
      "outputs": [
        {
          "output_type": "display_data",
          "data": {
            "application/vnd.jupyter.widget-view+json": {
              "model_id": "b51965d750b8438e9786539d98620a10",
              "version_minor": 0,
              "version_major": 2
            },
            "text/plain": [
              "HBox(children=(FloatProgress(value=0.0, description='Downloading', max=231508.0, style=ProgressStyle(descripti…"
            ]
          },
          "metadata": {
            "tags": []
          }
        },
        {
          "output_type": "stream",
          "text": [
            "\n"
          ],
          "name": "stdout"
        },
        {
          "output_type": "stream",
          "text": [
            "Some weights of the model checkpoint at bert-base-uncased were not used when initializing BertForMaskedLM: ['cls.seq_relationship.weight', 'cls.seq_relationship.bias']\n",
            "- This IS expected if you are initializing BertForMaskedLM from the checkpoint of a model trained on another task or with another architecture (e.g. initializing a BertForSequenceClassification model from a BertForPreTraining model).\n",
            "- This IS NOT expected if you are initializing BertForMaskedLM from the checkpoint of a model that you expect to be exactly identical (initializing a BertForSequenceClassification model from a BertForSequenceClassification model).\n"
          ],
          "name": "stderr"
        }
      ]
    },
    {
      "cell_type": "markdown",
      "metadata": {
        "id": "RRUrUG5Dsk-M"
      },
      "source": [
        "![image.png](data:image/png;base64,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)"
      ]
    },
    {
      "cell_type": "code",
      "metadata": {
        "id": "iNn5bRzeIrJH",
        "outputId": "058936b8-4750-4df3-930d-ffbf89f8a276",
        "colab": {
          "base_uri": "https://localhost:8080/"
        }
      },
      "source": [
        "inputs = tokenizer(\"The capital of France is [MASK].\", return_tensors=\"pt\")\n",
        "labels = tokenizer(\"The capital of France is Pair.\", return_tensors=\"pt\")[\"input_ids\"]\n",
        "outputs = model(**inputs, labels=labels)\n",
        "loss = outputs.loss\n",
        "logits = outputs.logits\n",
        "print(tokenizer.decode(torch.argmax(logits[0], dim=1)))"
      ],
      "execution_count": 4,
      "outputs": [
        {
          "output_type": "stream",
          "text": [
            ". the capital of france is paris..\n"
          ],
          "name": "stdout"
        }
      ]
    },
    {
      "cell_type": "code",
      "metadata": {
        "id": "eZR6Kc-8qqfY"
      },
      "source": [
        ""
      ],
      "execution_count": 7,
      "outputs": []
    },
    {
      "cell_type": "markdown",
      "metadata": {
        "id": "riJvsRS_J4Mj"
      },
      "source": [
        "### 請想想看logits的shape是怎樣？為何會是30522"
      ]
    },
    {
      "cell_type": "code",
      "metadata": {
        "id": "PyiBxC3eKIAf",
        "outputId": "408dd841-b3a5-4b59-ad1b-9be0f1dfd2f0",
        "colab": {
          "base_uri": "https://localhost:8080/"
        }
      },
      "source": [
        "logits.shape"
      ],
      "execution_count": null,
      "outputs": [
        {
          "output_type": "execute_result",
          "data": {
            "text/plain": [
              "torch.Size([1, 9, 30522])"
            ]
          },
          "metadata": {
            "tags": []
          },
          "execution_count": 48
        }
      ]
    },
    {
      "cell_type": "markdown",
      "metadata": {
        "id": "dF_a2LD1IXy2"
      },
      "source": [
        "### A glance for how BERT training is proceeded 一窺最基本的BERT訓練流程"
      ]
    },
    {
      "cell_type": "code",
      "metadata": {
        "id": "OwdmsVqdIFYA",
        "outputId": "3d9436fe-fd8f-48c4-9295-617b398b01f2",
        "colab": {
          "base_uri": "https://localhost:8080/"
        }
      },
      "source": [
        "from transformers import BertTokenizer, BertForMaskedLM, AdamW\n",
        "import torch\n",
        "tokenizer = BertTokenizer.from_pretrained('bert-base-uncased')\n",
        "model = BertForMaskedLM.from_pretrained('bert-base-uncased', return_dict=True)\n",
        "optimizer = torch.optim.Adam(model.parameters(), lr=0.0001)  \n",
        "\n",
        "for epoch in [0,1,2,3,4,5,6]:\n",
        "  inputs = tokenizer(\"The capital of France is [MASK].\", return_tensors=\"pt\")\n",
        "  labels = tokenizer(\"The capital of France is Pair.\", return_tensors=\"pt\")[\"input_ids\"]\n",
        "  outputs = model(**inputs, labels=labels)\n",
        "  loss = outputs.loss\n",
        "  logits = outputs.logits\n",
        "  print(loss.item())\n",
        "  optimizer.zero_grad()\n",
        "  loss.backward()\n",
        "  optimizer.step()\n",
        "  print(tokenizer.decode(torch.argmax(logits[0], dim=1)))"
      ],
      "execution_count": null,
      "outputs": [
        {
          "output_type": "stream",
          "text": [
            "Some weights of the model checkpoint at bert-base-uncased were not used when initializing BertForMaskedLM: ['cls.seq_relationship.weight', 'cls.seq_relationship.bias']\n",
            "- This IS expected if you are initializing BertForMaskedLM from the checkpoint of a model trained on another task or with another architecture (e.g. initializing a BertForSequenceClassification model from a BertForPretraining model).\n",
            "- This IS NOT expected if you are initializing BertForMaskedLM from the checkpoint of a model that you expect to be exactly identical (initializing a BertForSequenceClassification model from a BertForSequenceClassification model).\n"
          ],
          "name": "stderr"
        },
        {
          "output_type": "stream",
          "text": [
            "5.715743541717529\n",
            ". the capital of france is paris..\n",
            "3.8147599697113037\n",
            ". the capital of france is ain, -\n",
            "2.377685546875\n",
            ". the capital of france is pair. set\n",
            "1.7714744806289673\n",
            "- the capital of france is pair. the\n",
            "1.0785967111587524\n",
            "- the capital of france is pair. [SEP]\n",
            "0.5160211324691772\n",
            "david the capital of france is pair. [SEP]\n",
            "0.24305373430252075\n",
            "[CLS] the capital of france is pair. [SEP]\n"
          ],
          "name": "stdout"
        }
      ]
    },
    {
      "cell_type": "markdown",
      "metadata": {
        "id": "7zkF1wt8O8aF"
      },
      "source": [
        "### Batch Processing Batch處理的概念/Tensor Shape"
      ]
    },
    {
      "cell_type": "code",
      "metadata": {
        "id": "8ly6e1QIPE3H",
        "outputId": "e48f6c6c-09f8-458a-e4b5-b22a52fc7496",
        "colab": {
          "base_uri": "https://localhost:8080/"
        }
      },
      "source": [
        "inputs = tokenizer([\"The capital of France is [MASK].\", \"Trump [MASK] the campaign\"], padding=True, truncation=True, return_tensors=\"pt\")\n",
        "labels = tokenizer([\"The capital of France is Pair.\", \"Trump lost the campaign\" ], padding=True, truncation=True, return_tensors=\"pt\")[\"input_ids\"]\n",
        "outputs = model(**inputs, labels=labels)\n",
        "loss = outputs.loss\n",
        "logits = outputs.logits\n",
        "print(tokenizer.decode(torch.argmax(logits[0], dim=1)))\n",
        "print(tokenizer.decode(torch.argmax(logits[1], dim=1)))"
      ],
      "execution_count": null,
      "outputs": [
        {
          "output_type": "stream",
          "text": [
            ". the capital of france is paris..\n",
            ".. ended the campaign....\n"
          ],
          "name": "stdout"
        }
      ]
    },
    {
      "cell_type": "markdown",
      "metadata": {
        "id": "dTZDwcZqRigo"
      },
      "source": [
        "#### 想想看為什麼我們需要padding於此\n",
        "#### **[\"The capital of France is [MASK].\", \"Trump [MASK] the campaign\"], padding=True, truncation=True]**"
      ]
    },
    {
      "cell_type": "markdown",
      "metadata": {
        "id": "EbqzlQCpSGNu"
      },
      "source": [
        "## Training with Batch Tensor Here, Batch = 2"
      ]
    },
    {
      "cell_type": "code",
      "metadata": {
        "id": "1WLuXyiCSImY"
      },
      "source": [
        "from transformers import BertTokenizer, BertForMaskedLM, AdamW\n",
        "import torch\n",
        "tokenizer = BertTokenizer.from_pretrained('bert-base-uncased')\n",
        "model = BertForMaskedLM.from_pretrained('bert-base-uncased', return_dict=True)\n",
        "optimizer = torch.optim.Adam(model.parameters(), lr=0.0001)  \n",
        "\n",
        "for epoch in range(20):\n",
        "  inputs = tokenizer([\"The capital of France is [MASK].\", \"Trump [MASK] the campaign\"], padding=True, truncation=True, return_tensors=\"pt\")\n",
        "  labels = tokenizer([\"The capital of France is Pair.\", \"Trump lost the campaign\" ], padding=True, truncation=True, return_tensors=\"pt\")[\"input_ids\"]\n",
        "  outputs = model(**inputs, labels=labels)\n",
        "  loss = outputs.loss\n",
        "  logits = outputs.logits\n",
        "  print(loss.item())\n",
        "  optimizer.zero_grad()\n",
        "  loss.backward()\n",
        "  optimizer.step()\n",
        "  print(tokenizer.decode(torch.argmax(logits[0], dim=1)))\n",
        "  print(tokenizer.decode(torch.argmax(logits[1], dim=1)))"
      ],
      "execution_count": null,
      "outputs": []
    },
    {
      "cell_type": "markdown",
      "metadata": {
        "id": "OB8YV0XqFhpB"
      },
      "source": [
        "# Use NLTK abc corpus 文集當作範例，進行Masked Language Model實作\n",
        "### Australian Broadcasting Commission 2006 "
      ]
    },
    {
      "cell_type": "markdown",
      "metadata": {
        "id": "eHZ1xyhgU6WE"
      },
      "source": [
        "## DataSet Preparation"
      ]
    },
    {
      "cell_type": "code",
      "metadata": {
        "id": "Ir7oykjqJYvD",
        "outputId": "886f41d0-dfe7-428e-973c-c31dc393b533",
        "colab": {
          "base_uri": "https://localhost:8080/"
        }
      },
      "source": [
        "!pip install nltk\n",
        "import nltk\n",
        "nltk.download(\"abc\")\n",
        "from nltk.corpus import abc\n",
        "nltk.download('punkt')"
      ],
      "execution_count": null,
      "outputs": [
        {
          "output_type": "stream",
          "text": [
            "Requirement already satisfied: nltk in /usr/local/lib/python3.6/dist-packages (3.2.5)\n",
            "Requirement already satisfied: six in /usr/local/lib/python3.6/dist-packages (from nltk) (1.15.0)\n",
            "[nltk_data] Downloading package abc to /root/nltk_data...\n",
            "[nltk_data]   Package abc is already up-to-date!\n",
            "[nltk_data] Downloading package punkt to /root/nltk_data...\n",
            "[nltk_data]   Package punkt is already up-to-date!\n"
          ],
          "name": "stdout"
        },
        {
          "output_type": "execute_result",
          "data": {
            "text/plain": [
              "True"
            ]
          },
          "metadata": {
            "tags": []
          },
          "execution_count": 3
        }
      ]
    },
    {
      "cell_type": "code",
      "metadata": {
        "id": "9H_p6FxeJeXw"
      },
      "source": [
        "import random\n",
        "def random_mask(input_list):\n",
        "  masked_list = list.copy(input_list)\n",
        "  masked_list[random.randint(0, len(input_list)-1)]=\"[MASK]\"\n",
        "  return masked_list\n",
        "\n",
        "sentens_list = abc.sents()\n",
        "input_sentences = [ \" \".join(sen) for sen in sentens_list]\n",
        "masked_sentences = [ \" \".join(random_mask(sen)) for sen in sentens_list]"
      ],
      "execution_count": null,
      "outputs": []
    },
    {
      "cell_type": "markdown",
      "metadata": {
        "id": "NTBd9id-Gy1F"
      },
      "source": [
        "# Prepare Pytorch Dataset Format"
      ]
    },
    {
      "cell_type": "code",
      "metadata": {
        "id": "lAeGvQ0iVU9w",
        "outputId": "88360d3f-492d-4435-f47c-76cf6db54409",
        "colab": {
          "base_uri": "https://localhost:8080/"
        }
      },
      "source": [
        "pip install datasets"
      ],
      "execution_count": null,
      "outputs": [
        {
          "output_type": "stream",
          "text": [
            "Requirement already satisfied: datasets in /usr/local/lib/python3.6/dist-packages (1.1.2)\n",
            "Requirement already satisfied: numpy>=1.17 in /usr/local/lib/python3.6/dist-packages (from datasets) (1.18.5)\n",
            "Requirement already satisfied: dataclasses; python_version < \"3.7\" in /usr/local/lib/python3.6/dist-packages (from datasets) (0.7)\n",
            "Requirement already satisfied: pandas in /usr/local/lib/python3.6/dist-packages (from datasets) (1.1.4)\n",
            "Requirement already satisfied: dill in /usr/local/lib/python3.6/dist-packages (from datasets) (0.3.3)\n",
            "Requirement already satisfied: filelock in /usr/local/lib/python3.6/dist-packages (from datasets) (3.0.12)\n",
            "Requirement already satisfied: requests>=2.19.0 in /usr/local/lib/python3.6/dist-packages (from datasets) (2.23.0)\n",
            "Requirement already satisfied: tqdm<4.50.0,>=4.27 in /usr/local/lib/python3.6/dist-packages (from datasets) (4.41.1)\n",
            "Requirement already satisfied: pyarrow>=0.17.1 in /usr/local/lib/python3.6/dist-packages (from datasets) (2.0.0)\n",
            "Requirement already satisfied: multiprocess in /usr/local/lib/python3.6/dist-packages (from datasets) (0.70.10)\n",
            "Requirement already satisfied: xxhash in /usr/local/lib/python3.6/dist-packages (from datasets) (2.0.0)\n",
            "Requirement already satisfied: python-dateutil>=2.7.3 in /usr/local/lib/python3.6/dist-packages (from pandas->datasets) (2.8.1)\n",
            "Requirement already satisfied: pytz>=2017.2 in /usr/local/lib/python3.6/dist-packages (from pandas->datasets) (2018.9)\n",
            "Requirement already satisfied: certifi>=2017.4.17 in /usr/local/lib/python3.6/dist-packages (from requests>=2.19.0->datasets) (2020.6.20)\n",
            "Requirement already satisfied: idna<3,>=2.5 in /usr/local/lib/python3.6/dist-packages (from requests>=2.19.0->datasets) (2.10)\n",
            "Requirement already satisfied: urllib3!=1.25.0,!=1.25.1,<1.26,>=1.21.1 in /usr/local/lib/python3.6/dist-packages (from requests>=2.19.0->datasets) (1.24.3)\n",
            "Requirement already satisfied: chardet<4,>=3.0.2 in /usr/local/lib/python3.6/dist-packages (from requests>=2.19.0->datasets) (3.0.4)\n",
            "Requirement already satisfied: six>=1.5 in /usr/local/lib/python3.6/dist-packages (from python-dateutil>=2.7.3->pandas->datasets) (1.15.0)\n"
          ],
          "name": "stdout"
        }
      ]
    },
    {
      "cell_type": "code",
      "metadata": {
        "id": "HKsKk_JsYU1z"
      },
      "source": [
        "data_dic = {\"input\":input_sentences, \"label\":masked_sentences}"
      ],
      "execution_count": null,
      "outputs": []
    },
    {
      "cell_type": "code",
      "metadata": {
        "id": "Qe1FL2TDVoT1"
      },
      "source": [
        "from datasets import Dataset\n",
        "abc_dataset = Dataset.from_dict(data_dic)"
      ],
      "execution_count": null,
      "outputs": []
    },
    {
      "cell_type": "code",
      "metadata": {
        "id": "OUGF_VHfYkOT"
      },
      "source": [
        "dataset = abc_dataset.train_test_split(0.9,0.1)"
      ],
      "execution_count": null,
      "outputs": []
    },
    {
      "cell_type": "markdown",
      "metadata": {
        "id": "wxFpezcxHCZj"
      },
      "source": [
        "## Training with DataLoader https://huggingface.co/transformers/custom_datasets.html?highlight=dataloader "
      ]
    },
    {
      "cell_type": "code",
      "metadata": {
        "id": "qHQeTqRrZe88"
      },
      "source": [
        "from torch.utils.data import DataLoader\n",
        "train_loader = DataLoader(dataset[\"train\"], batch_size=5, shuffle=True)"
      ],
      "execution_count": null,
      "outputs": []
    },
    {
      "cell_type": "code",
      "metadata": {
        "id": "hxeqQeaxRMYw"
      },
      "source": [
        "from transformers import BertTokenizer, BertForMaskedLM\n",
        "import torch\n",
        "tokenizer = BertTokenizer.from_pretrained('bert-base-uncased')\n",
        "model = BertForMaskedLM.from_pretrained('bert-base-uncased', return_dict=True)\n",
        "optimizer = torch.optim.Adam(model.parameters(), lr=0.0001)  \n",
        "device = torch.device('cuda')\n",
        "model.to(device)"
      ],
      "execution_count": null,
      "outputs": []
    },
    {
      "cell_type": "code",
      "metadata": {
        "id": "BfZ8qVlNSuFN"
      },
      "source": [
        "for batch in train_loader:\n",
        "  inputs = tokenizer(batch[\"input\"], truncation=True, padding=True, return_tensors=\"pt\")\n",
        "  labels = tokenizer(batch[\"label\"], truncation=True, padding=True, return_tensors=\"pt\")[\"input_ids\"]  \n",
        "  if (inputs[\"input_ids\"].shape==labels.shape):\n",
        "    output = model(**inputs.to(device), labels=labels.to(device))\n",
        "    optimizer.zero_grad()\n",
        "    loss = output.loss\n",
        "    loss.backward()\n",
        "    optimizer.step()\n",
        "    print(loss.item())"
      ],
      "execution_count": null,
      "outputs": []
    },
    {
      "cell_type": "code",
      "metadata": {
        "id": "MtIOojeEYUqV"
      },
      "source": [
        ""
      ],
      "execution_count": null,
      "outputs": []
    },
    {
      "cell_type": "markdown",
      "metadata": {
        "id": "8X10Agz97RPL"
      },
      "source": [
        "# BERT Huggingface Pipline"
      ]
    },
    {
      "cell_type": "markdown",
      "metadata": {
        "id": "2lqb7FFzMVti"
      },
      "source": [
        "The pipelines are a great and easy way to use models for inference. These pipelines are objects that abstract most of the complex code from the library, offering a simple API dedicated to several tasks, including Named Entity Recognition, Masked Language Modeling, Sentiment Analysis, Feature Extraction and Question Answering. See the task summary for examples of use.\n",
        "\n",
        "https://huggingface.co/transformers/main_classes/pipelines.html#transformers.pipeline "
      ]
    },
    {
      "cell_type": "code",
      "metadata": {
        "id": "ys8lGxccNlS5",
        "outputId": "c35f5adb-fbff-4ca7-9c1b-5b309c8b9270",
        "colab": {
          "base_uri": "https://localhost:8080/",
          "height": 505,
          "referenced_widgets": [
            "188536a6ebd34e6fa85b9aace59faf3f",
            "c3296e7f1aa8484ca4462ff84ec92d0f",
            "5a40fb441453417a8fb1f69dbf138128",
            "ce4c9f7f477a4711b0a085d637874331",
            "50f76abbd3a3404bbe2afa064749bfb4",
            "51338de72b794782b566167f2f35d07b",
            "7d7f63356f9d414589b76e8a801ee3d8",
            "e82bef205e0649d1a68da85ec293553b",
            "76974f322bb249bb85fbe6fb29a2d8aa",
            "a6d413f7e58947538d7d29fa0f84bb56",
            "07eb05923b5941e6bc5c5716c45c07a3",
            "0b30d8dda16c46f4a1d36d081bb08366",
            "da52c065eb32419798540310a41dcca8",
            "ba1db6034f0c4dc780d96dde7f49c860",
            "30bde978a001453699a3802aab4303be",
            "674a842f2385406abb2c039a2aa84ab3",
            "41961fd2b4eb4503b60df027702d62c5",
            "876dacef47fa477d84cbd9d2e84d3887",
            "9a871bbda5fb42edb03e52191f4a7388",
            "0a1dc8d3b5e24e11bdf0d5780bf25abe",
            "dd99c79961384868a9e8b9c15f140b7a",
            "dbfec4f6e14e4b07b32e17e4a3e8e224",
            "28c35eb278534c42ad72dac79f9eebf3",
            "78613f28a76b495d9f3e931aa565c358",
            "ec5ffdb848db4e7a9a5ca1f167c74a8b",
            "97002a4304294da8b44b1f66ed91e9f8",
            "52d1cae6389648028b5af02475202cf3",
            "77e5c29a8df54f16a45b1a8ff19b565f",
            "5038f6caef1c41db819445b54e885b37",
            "48f9819e0dee45f5a29beffbac2fc0a1",
            "3a25aec6a7d1469387a29695d78fb477",
            "09e79c30fcbe46318c08f0ca6e05ced2",
            "770f2371603d4c89a764f4d9053e29ae",
            "71255f5757ec47b0b2799cd6f2d1815d",
            "5a4a782b65d84bf7b1d5ba9c5c5d3ad2",
            "78dbcaee5dd542d89eed352b7fbad860",
            "b597b54e117740128f3c24f1d4ea63ad",
            "5e1826d9b0cf49debaf8fe3473221056",
            "fbc68459605241b6ac22dea93f30deea",
            "88cd6b8dd7eb4bceb67b69f39c27677a"
          ]
        }
      },
      "source": [
        "from transformers import pipeline\n",
        "nlp = pipeline(\"ner\")\n",
        "sequence = \"Hugging Face Inc. is a company based in New York City. Its headquarters are in DUMBO, therefore very\"\n",
        "nlp(sequence)"
      ],
      "execution_count": null,
      "outputs": [
        {
          "output_type": "display_data",
          "data": {
            "application/vnd.jupyter.widget-view+json": {
              "model_id": "188536a6ebd34e6fa85b9aace59faf3f",
              "version_minor": 0,
              "version_major": 2
            },
            "text/plain": [
              "HBox(children=(FloatProgress(value=0.0, description='Downloading', max=998.0, style=ProgressStyle(description_…"
            ]
          },
          "metadata": {
            "tags": []
          }
        },
        {
          "output_type": "stream",
          "text": [
            "\n"
          ],
          "name": "stdout"
        },
        {
          "output_type": "display_data",
          "data": {
            "application/vnd.jupyter.widget-view+json": {
              "model_id": "76974f322bb249bb85fbe6fb29a2d8aa",
              "version_minor": 0,
              "version_major": 2
            },
            "text/plain": [
              "HBox(children=(FloatProgress(value=0.0, description='Downloading', max=1334448817.0, style=ProgressStyle(descr…"
            ]
          },
          "metadata": {
            "tags": []
          }
        },
        {
          "output_type": "stream",
          "text": [
            "\n"
          ],
          "name": "stdout"
        },
        {
          "output_type": "display_data",
          "data": {
            "application/vnd.jupyter.widget-view+json": {
              "model_id": "41961fd2b4eb4503b60df027702d62c5",
              "version_minor": 0,
              "version_major": 2
            },
            "text/plain": [
              "HBox(children=(FloatProgress(value=0.0, description='Downloading', max=213450.0, style=ProgressStyle(descripti…"
            ]
          },
          "metadata": {
            "tags": []
          }
        },
        {
          "output_type": "stream",
          "text": [
            "\n"
          ],
          "name": "stdout"
        },
        {
          "output_type": "display_data",
          "data": {
            "application/vnd.jupyter.widget-view+json": {
              "model_id": "ec5ffdb848db4e7a9a5ca1f167c74a8b",
              "version_minor": 0,
              "version_major": 2
            },
            "text/plain": [
              "HBox(children=(FloatProgress(value=0.0, description='Downloading', max=60.0, style=ProgressStyle(description_w…"
            ]
          },
          "metadata": {
            "tags": []
          }
        },
        {
          "output_type": "stream",
          "text": [
            "\n"
          ],
          "name": "stdout"
        },
        {
          "output_type": "display_data",
          "data": {
            "application/vnd.jupyter.widget-view+json": {
              "model_id": "770f2371603d4c89a764f4d9053e29ae",
              "version_minor": 0,
              "version_major": 2
            },
            "text/plain": [
              "HBox(children=(FloatProgress(value=0.0, description='Downloading', max=230.0, style=ProgressStyle(description_…"
            ]
          },
          "metadata": {
            "tags": []
          }
        },
        {
          "output_type": "stream",
          "text": [
            "\n"
          ],
          "name": "stdout"
        },
        {
          "output_type": "execute_result",
          "data": {
            "text/plain": [
              "[{'entity': 'I-ORG', 'index': 1, 'score': 0.9994447827339172, 'word': 'Hu'},\n",
              " {'entity': 'I-ORG',\n",
              "  'index': 2,\n",
              "  'score': 0.9861957430839539,\n",
              "  'word': '##gging'},\n",
              " {'entity': 'I-ORG', 'index': 3, 'score': 0.9972789287567139, 'word': 'Face'},\n",
              " {'entity': 'I-ORG', 'index': 4, 'score': 0.9994235634803772, 'word': 'Inc'},\n",
              " {'entity': 'I-LOC', 'index': 11, 'score': 0.9992941617965698, 'word': 'New'},\n",
              " {'entity': 'I-LOC', 'index': 12, 'score': 0.9990782737731934, 'word': 'York'},\n",
              " {'entity': 'I-LOC', 'index': 13, 'score': 0.9993024468421936, 'word': 'City'},\n",
              " {'entity': 'I-LOC', 'index': 19, 'score': 0.9808968305587769, 'word': 'D'},\n",
              " {'entity': 'I-LOC', 'index': 20, 'score': 0.9226384162902832, 'word': '##UM'},\n",
              " {'entity': 'I-LOC', 'index': 21, 'score': 0.8810067772865295, 'word': '##BO'}]"
            ]
          },
          "metadata": {
            "tags": []
          },
          "execution_count": 18
        }
      ]
    },
    {
      "cell_type": "code",
      "metadata": {
        "id": "xOxPw8LtLe1V",
        "outputId": "414a1c79-7ec3-45b2-f243-5bc2972bc3f7",
        "colab": {
          "base_uri": "https://localhost:8080/"
        }
      },
      "source": [
        "from transformers import pipeline\n",
        "unmasker = pipeline('fill-mask', model='bert-base-chinese')\n",
        "unmasker(\"你好 我是一個 [MASK] 模型.\")\n",
        "unmasker(\"川普[MASK]了今年的選舉\")"
      ],
      "execution_count": null,
      "outputs": [
        {
          "output_type": "stream",
          "text": [
            "Some weights of the model checkpoint at bert-base-chinese were not used when initializing BertForMaskedLM: ['cls.seq_relationship.weight', 'cls.seq_relationship.bias']\n",
            "- This IS expected if you are initializing BertForMaskedLM from the checkpoint of a model trained on another task or with another architecture (e.g. initializing a BertForSequenceClassification model from a BertForPretraining model).\n",
            "- This IS NOT expected if you are initializing BertForMaskedLM from the checkpoint of a model that you expect to be exactly identical (initializing a BertForSequenceClassification model from a BertForSequenceClassification model).\n"
          ],
          "name": "stderr"
        },
        {
          "output_type": "execute_result",
          "data": {
            "text/plain": [
              "[{'score': 0.580734372138977,\n",
              "  'sequence': '[CLS] 川 普 贏 了 今 年 的 選 舉 [SEP]',\n",
              "  'token': 6560,\n",
              "  'token_str': '贏'},\n",
              " {'score': 0.06503274291753769,\n",
              "  'sequence': '[CLS] 川 普 為 了 今 年 的 選 舉 [SEP]',\n",
              "  'token': 4158,\n",
              "  'token_str': '為'},\n",
              " {'score': 0.03068939596414566,\n",
              "  'sequence': '[CLS] 川 普 看 了 今 年 的 選 舉 [SEP]',\n",
              "  'token': 4692,\n",
              "  'token_str': '看'},\n",
              " {'score': 0.028518741950392723,\n",
              "  'sequence': '[CLS] 川 普 說 了 今 年 的 選 舉 [SEP]',\n",
              "  'token': 6303,\n",
              "  'token_str': '說'},\n",
              " {'score': 0.02707294374704361,\n",
              "  'sequence': '[CLS] 川 普 做 了 今 年 的 選 舉 [SEP]',\n",
              "  'token': 976,\n",
              "  'token_str': '做'}]"
            ]
          },
          "metadata": {
            "tags": []
          },
          "execution_count": 22
        }
      ]
    },
    {
      "cell_type": "code",
      "metadata": {
        "id": "cCGfzlMieSZW"
      },
      "source": [
        ""
      ],
      "execution_count": null,
      "outputs": []
    },
    {
      "cell_type": "code",
      "metadata": {
        "id": "rZ4T4QmHdVxH"
      },
      "source": [
        ""
      ],
      "execution_count": null,
      "outputs": []
    },
    {
      "cell_type": "code",
      "metadata": {
        "id": "-Xw3lFZtdV6j"
      },
      "source": [
        ""
      ],
      "execution_count": null,
      "outputs": []
    },
    {
      "cell_type": "code",
      "metadata": {
        "id": "4M2jbUGQdV-6"
      },
      "source": [
        ""
      ],
      "execution_count": null,
      "outputs": []
    },
    {
      "cell_type": "code",
      "metadata": {
        "id": "28aNkrrudWC2"
      },
      "source": [
        ""
      ],
      "execution_count": null,
      "outputs": []
    },
    {
      "cell_type": "code",
      "metadata": {
        "id": "UV-tSFg3dWFt"
      },
      "source": [
        ""
      ],
      "execution_count": null,
      "outputs": []
    },
    {
      "cell_type": "code",
      "metadata": {
        "id": "-EXRxYxgdWJO"
      },
      "source": [
        ""
      ],
      "execution_count": null,
      "outputs": []
    },
    {
      "cell_type": "code",
      "metadata": {
        "id": "za_y_IWvdWOv"
      },
      "source": [
        ""
      ],
      "execution_count": null,
      "outputs": []
    },
    {
      "cell_type": "code",
      "metadata": {
        "id": "YYd8WNMFdWVr"
      },
      "source": [
        ""
      ],
      "execution_count": null,
      "outputs": []
    },
    {
      "cell_type": "code",
      "metadata": {
        "id": "IdRzv3qJdWY_"
      },
      "source": [
        ""
      ],
      "execution_count": null,
      "outputs": []
    },
    {
      "cell_type": "code",
      "metadata": {
        "id": "MZMjiPzBdWc6"
      },
      "source": [
        ""
      ],
      "execution_count": null,
      "outputs": []
    },
    {
      "cell_type": "code",
      "metadata": {
        "id": "BzCc6Jl4dYZV"
      },
      "source": [
        ""
      ],
      "execution_count": null,
      "outputs": []
    },
    {
      "cell_type": "code",
      "metadata": {
        "id": "W-BHCQv9dYeE"
      },
      "source": [
        ""
      ],
      "execution_count": null,
      "outputs": []
    },
    {
      "cell_type": "code",
      "metadata": {
        "id": "aEEey3zrdYhs"
      },
      "source": [
        ""
      ],
      "execution_count": null,
      "outputs": []
    },
    {
      "cell_type": "markdown",
      "metadata": {
        "id": "4RfZehrdfRyQ"
      },
      "source": [
        ""
      ]
    },
    {
      "cell_type": "code",
      "metadata": {
        "id": "YcQtEEQEdYli"
      },
      "source": [
        ""
      ],
      "execution_count": null,
      "outputs": []
    },
    {
      "cell_type": "markdown",
      "metadata": {
        "id": "HM_aWZ6efTTL"
      },
      "source": [
        "# Appendix"
      ]
    },
    {
      "cell_type": "code",
      "metadata": {
        "id": "5O6_wZf2dYok"
      },
      "source": [
        ""
      ],
      "execution_count": null,
      "outputs": []
    },
    {
      "cell_type": "code",
      "metadata": {
        "id": "6kL6nVPvdWMP"
      },
      "source": [
        ""
      ],
      "execution_count": null,
      "outputs": []
    },
    {
      "cell_type": "markdown",
      "metadata": {
        "id": "kveRhaqScQSO"
      },
      "source": [
        ""
      ]
    },
    {
      "cell_type": "code",
      "metadata": {
        "id": "8YjlljEVw4L2",
        "outputId": "956211b9-fde0-4d40-f40e-b5ced9e35402",
        "colab": {
          "base_uri": "https://localhost:8080/"
        }
      },
      "source": [
        "from transformers import BertTokenizer, BertForMaskedLM\n",
        "import torch\n",
        "tokenizer = BertTokenizer.from_pretrained('bert-base-uncased')\n",
        "model = BertForMaskedLM.from_pretrained('bert-base-uncased', return_dict=True)"
      ],
      "execution_count": null,
      "outputs": [
        {
          "output_type": "stream",
          "text": [
            "Some weights of the model checkpoint at bert-base-uncased were not used when initializing BertForMaskedLM: ['cls.seq_relationship.weight', 'cls.seq_relationship.bias']\n",
            "- This IS expected if you are initializing BertForMaskedLM from the checkpoint of a model trained on another task or with another architecture (e.g. initializing a BertForSequenceClassification model from a BertForPretraining model).\n",
            "- This IS NOT expected if you are initializing BertForMaskedLM from the checkpoint of a model that you expect to be exactly identical (initializing a BertForSequenceClassification model from a BertForSequenceClassification model).\n"
          ],
          "name": "stderr"
        }
      ]
    },
    {
      "cell_type": "code",
      "metadata": {
        "id": "Lt4JPEyjw_t5"
      },
      "source": [
        "input = tokenizer(input_sentences[0], return_tensors=\"pt\")\n",
        "label = tokenizer(masked_sentences[0], return_tensors=\"pt\")[\"input_ids\"]"
      ],
      "execution_count": null,
      "outputs": []
    },
    {
      "cell_type": "code",
      "metadata": {
        "id": "8mntBHuC1gaF",
        "outputId": "5234e526-b564-42b9-c2a6-2c92692cf42c",
        "colab": {
          "base_uri": "https://localhost:8080/"
        }
      },
      "source": [
        "label[0]"
      ],
      "execution_count": null,
      "outputs": [
        {
          "output_type": "execute_result",
          "data": {
            "text/plain": [
              "tensor([  101,  7610, 23439,  3716,  1997, 22091,  2497,  5926, 12221,  1996,\n",
              "          103,  2704,  2038,  6380,  2002,  2354, 22091,  2497,  2001,  7079,\n",
              "         5926, 12221,  2000,  5712,  2750,  3015,  2000,  1996, 10500,  9167,\n",
              "         2121,  4851,  2000,  2022,  2921,  3929,  6727,  2006,  5712, 10500,\n",
              "         4341,  1012,   102])"
            ]
          },
          "metadata": {
            "tags": []
          },
          "execution_count": 204
        }
      ]
    },
    {
      "cell_type": "code",
      "metadata": {
        "id": "sdVtGHh90WrM"
      },
      "source": [
        ""
      ],
      "execution_count": null,
      "outputs": []
    },
    {
      "cell_type": "code",
      "metadata": {
        "id": "3mbMQ_7WxXHe",
        "outputId": "98905d95-edd2-4ac2-9a99-0245e084570f",
        "colab": {
          "base_uri": "https://localhost:8080/"
        }
      },
      "source": [
        "print(tokenizer.decode(input[\"input_ids\"][0]))\n",
        "print(tokenizer.decode(label[0]))"
      ],
      "execution_count": null,
      "outputs": [
        {
          "output_type": "stream",
          "text": [
            "[CLS] pm denies knowledge of awb kickbacks the prime minister has denied he knew awb was paying kickbacks to iraq despite writing to the wheat exporter asking to be kept fully informed on iraq wheat sales. [SEP]\n",
            "[CLS] pm denies knowledge of awb kickbacks the [MASK] minister has denied he knew awb was paying kickbacks to iraq despite writing to the wheat exporter asking to be kept fully informed on iraq wheat sales. [SEP]\n"
          ],
          "name": "stdout"
        }
      ]
    },
    {
      "cell_type": "code",
      "metadata": {
        "id": "GAbi-BUzAQqY"
      },
      "source": [
        ""
      ],
      "execution_count": null,
      "outputs": []
    },
    {
      "cell_type": "code",
      "metadata": {
        "id": "j7oZx1LjfHjB"
      },
      "source": [
        ""
      ],
      "execution_count": null,
      "outputs": []
    },
    {
      "cell_type": "markdown",
      "metadata": {
        "id": "yjAN3pe1ARew"
      },
      "source": [
        " Model Training"
      ]
    },
    {
      "cell_type": "code",
      "metadata": {
        "id": "2g76_3_aAUAv",
        "outputId": "fc20f239-3474-4ab0-cc2c-49cdbedb345d",
        "colab": {
          "base_uri": "https://localhost:8080/"
        }
      },
      "source": [
        "from transformers import BertTokenizer, BertForMaskedLM\n",
        "import torch\n",
        "tokenizer = BertTokenizer.from_pretrained('bert-base-uncased')\n",
        "model = BertForMaskedLM.from_pretrained('bert-base-uncased', return_dict=True)\n",
        "optimizer = torch.optim.Adam(model.parameters(), lr=0.0001)  \n",
        "device = torch.device('cuda')\n",
        "model.to(device)"
      ],
      "execution_count": null,
      "outputs": [
        {
          "output_type": "stream",
          "text": [
            "Some weights of the model checkpoint at bert-base-uncased were not used when initializing BertForMaskedLM: ['cls.seq_relationship.weight', 'cls.seq_relationship.bias']\n",
            "- This IS expected if you are initializing BertForMaskedLM from the checkpoint of a model trained on another task or with another architecture (e.g. initializing a BertForSequenceClassification model from a BertForPretraining model).\n",
            "- This IS NOT expected if you are initializing BertForMaskedLM from the checkpoint of a model that you expect to be exactly identical (initializing a BertForSequenceClassification model from a BertForSequenceClassification model).\n"
          ],
          "name": "stderr"
        },
        {
          "output_type": "execute_result",
          "data": {
            "text/plain": [
              "BertForMaskedLM(\n",
              "  (bert): BertModel(\n",
              "    (embeddings): BertEmbeddings(\n",
              "      (word_embeddings): Embedding(30522, 768, padding_idx=0)\n",
              "      (position_embeddings): Embedding(512, 768)\n",
              "      (token_type_embeddings): Embedding(2, 768)\n",
              "      (LayerNorm): LayerNorm((768,), eps=1e-12, elementwise_affine=True)\n",
              "      (dropout): Dropout(p=0.1, inplace=False)\n",
              "    )\n",
              "    (encoder): BertEncoder(\n",
              "      (layer): ModuleList(\n",
              "        (0): BertLayer(\n",
              "          (attention): BertAttention(\n",
              "            (self): BertSelfAttention(\n",
              "              (query): Linear(in_features=768, out_features=768, bias=True)\n",
              "              (key): Linear(in_features=768, out_features=768, bias=True)\n",
              "              (value): Linear(in_features=768, out_features=768, bias=True)\n",
              "              (dropout): Dropout(p=0.1, inplace=False)\n",
              "            )\n",
              "            (output): BertSelfOutput(\n",
              "              (dense): Linear(in_features=768, out_features=768, bias=True)\n",
              "              (LayerNorm): LayerNorm((768,), eps=1e-12, elementwise_affine=True)\n",
              "              (dropout): Dropout(p=0.1, inplace=False)\n",
              "            )\n",
              "          )\n",
              "          (intermediate): BertIntermediate(\n",
              "            (dense): Linear(in_features=768, out_features=3072, bias=True)\n",
              "          )\n",
              "          (output): BertOutput(\n",
              "            (dense): Linear(in_features=3072, out_features=768, bias=True)\n",
              "            (LayerNorm): LayerNorm((768,), eps=1e-12, elementwise_affine=True)\n",
              "            (dropout): Dropout(p=0.1, inplace=False)\n",
              "          )\n",
              "        )\n",
              "        (1): BertLayer(\n",
              "          (attention): BertAttention(\n",
              "            (self): BertSelfAttention(\n",
              "              (query): Linear(in_features=768, out_features=768, bias=True)\n",
              "              (key): Linear(in_features=768, out_features=768, bias=True)\n",
              "              (value): Linear(in_features=768, out_features=768, bias=True)\n",
              "              (dropout): Dropout(p=0.1, inplace=False)\n",
              "            )\n",
              "            (output): BertSelfOutput(\n",
              "              (dense): Linear(in_features=768, out_features=768, bias=True)\n",
              "              (LayerNorm): LayerNorm((768,), eps=1e-12, elementwise_affine=True)\n",
              "              (dropout): Dropout(p=0.1, inplace=False)\n",
              "            )\n",
              "          )\n",
              "          (intermediate): BertIntermediate(\n",
              "            (dense): Linear(in_features=768, out_features=3072, bias=True)\n",
              "          )\n",
              "          (output): BertOutput(\n",
              "            (dense): Linear(in_features=3072, out_features=768, bias=True)\n",
              "            (LayerNorm): LayerNorm((768,), eps=1e-12, elementwise_affine=True)\n",
              "            (dropout): Dropout(p=0.1, inplace=False)\n",
              "          )\n",
              "        )\n",
              "        (2): BertLayer(\n",
              "          (attention): BertAttention(\n",
              "            (self): BertSelfAttention(\n",
              "              (query): Linear(in_features=768, out_features=768, bias=True)\n",
              "              (key): Linear(in_features=768, out_features=768, bias=True)\n",
              "              (value): Linear(in_features=768, out_features=768, bias=True)\n",
              "              (dropout): Dropout(p=0.1, inplace=False)\n",
              "            )\n",
              "            (output): BertSelfOutput(\n",
              "              (dense): Linear(in_features=768, out_features=768, bias=True)\n",
              "              (LayerNorm): LayerNorm((768,), eps=1e-12, elementwise_affine=True)\n",
              "              (dropout): Dropout(p=0.1, inplace=False)\n",
              "            )\n",
              "          )\n",
              "          (intermediate): BertIntermediate(\n",
              "            (dense): Linear(in_features=768, out_features=3072, bias=True)\n",
              "          )\n",
              "          (output): BertOutput(\n",
              "            (dense): Linear(in_features=3072, out_features=768, bias=True)\n",
              "            (LayerNorm): LayerNorm((768,), eps=1e-12, elementwise_affine=True)\n",
              "            (dropout): Dropout(p=0.1, inplace=False)\n",
              "          )\n",
              "        )\n",
              "        (3): BertLayer(\n",
              "          (attention): BertAttention(\n",
              "            (self): BertSelfAttention(\n",
              "              (query): Linear(in_features=768, out_features=768, bias=True)\n",
              "              (key): Linear(in_features=768, out_features=768, bias=True)\n",
              "              (value): Linear(in_features=768, out_features=768, bias=True)\n",
              "              (dropout): Dropout(p=0.1, inplace=False)\n",
              "            )\n",
              "            (output): BertSelfOutput(\n",
              "              (dense): Linear(in_features=768, out_features=768, bias=True)\n",
              "              (LayerNorm): LayerNorm((768,), eps=1e-12, elementwise_affine=True)\n",
              "              (dropout): Dropout(p=0.1, inplace=False)\n",
              "            )\n",
              "          )\n",
              "          (intermediate): BertIntermediate(\n",
              "            (dense): Linear(in_features=768, out_features=3072, bias=True)\n",
              "          )\n",
              "          (output): BertOutput(\n",
              "            (dense): Linear(in_features=3072, out_features=768, bias=True)\n",
              "            (LayerNorm): LayerNorm((768,), eps=1e-12, elementwise_affine=True)\n",
              "            (dropout): Dropout(p=0.1, inplace=False)\n",
              "          )\n",
              "        )\n",
              "        (4): BertLayer(\n",
              "          (attention): BertAttention(\n",
              "            (self): BertSelfAttention(\n",
              "              (query): Linear(in_features=768, out_features=768, bias=True)\n",
              "              (key): Linear(in_features=768, out_features=768, bias=True)\n",
              "              (value): Linear(in_features=768, out_features=768, bias=True)\n",
              "              (dropout): Dropout(p=0.1, inplace=False)\n",
              "            )\n",
              "            (output): BertSelfOutput(\n",
              "              (dense): Linear(in_features=768, out_features=768, bias=True)\n",
              "              (LayerNorm): LayerNorm((768,), eps=1e-12, elementwise_affine=True)\n",
              "              (dropout): Dropout(p=0.1, inplace=False)\n",
              "            )\n",
              "          )\n",
              "          (intermediate): BertIntermediate(\n",
              "            (dense): Linear(in_features=768, out_features=3072, bias=True)\n",
              "          )\n",
              "          (output): BertOutput(\n",
              "            (dense): Linear(in_features=3072, out_features=768, bias=True)\n",
              "            (LayerNorm): LayerNorm((768,), eps=1e-12, elementwise_affine=True)\n",
              "            (dropout): Dropout(p=0.1, inplace=False)\n",
              "          )\n",
              "        )\n",
              "        (5): BertLayer(\n",
              "          (attention): BertAttention(\n",
              "            (self): BertSelfAttention(\n",
              "              (query): Linear(in_features=768, out_features=768, bias=True)\n",
              "              (key): Linear(in_features=768, out_features=768, bias=True)\n",
              "              (value): Linear(in_features=768, out_features=768, bias=True)\n",
              "              (dropout): Dropout(p=0.1, inplace=False)\n",
              "            )\n",
              "            (output): BertSelfOutput(\n",
              "              (dense): Linear(in_features=768, out_features=768, bias=True)\n",
              "              (LayerNorm): LayerNorm((768,), eps=1e-12, elementwise_affine=True)\n",
              "              (dropout): Dropout(p=0.1, inplace=False)\n",
              "            )\n",
              "          )\n",
              "          (intermediate): BertIntermediate(\n",
              "            (dense): Linear(in_features=768, out_features=3072, bias=True)\n",
              "          )\n",
              "          (output): BertOutput(\n",
              "            (dense): Linear(in_features=3072, out_features=768, bias=True)\n",
              "            (LayerNorm): LayerNorm((768,), eps=1e-12, elementwise_affine=True)\n",
              "            (dropout): Dropout(p=0.1, inplace=False)\n",
              "          )\n",
              "        )\n",
              "        (6): BertLayer(\n",
              "          (attention): BertAttention(\n",
              "            (self): BertSelfAttention(\n",
              "              (query): Linear(in_features=768, out_features=768, bias=True)\n",
              "              (key): Linear(in_features=768, out_features=768, bias=True)\n",
              "              (value): Linear(in_features=768, out_features=768, bias=True)\n",
              "              (dropout): Dropout(p=0.1, inplace=False)\n",
              "            )\n",
              "            (output): BertSelfOutput(\n",
              "              (dense): Linear(in_features=768, out_features=768, bias=True)\n",
              "              (LayerNorm): LayerNorm((768,), eps=1e-12, elementwise_affine=True)\n",
              "              (dropout): Dropout(p=0.1, inplace=False)\n",
              "            )\n",
              "          )\n",
              "          (intermediate): BertIntermediate(\n",
              "            (dense): Linear(in_features=768, out_features=3072, bias=True)\n",
              "          )\n",
              "          (output): BertOutput(\n",
              "            (dense): Linear(in_features=3072, out_features=768, bias=True)\n",
              "            (LayerNorm): LayerNorm((768,), eps=1e-12, elementwise_affine=True)\n",
              "            (dropout): Dropout(p=0.1, inplace=False)\n",
              "          )\n",
              "        )\n",
              "        (7): BertLayer(\n",
              "          (attention): BertAttention(\n",
              "            (self): BertSelfAttention(\n",
              "              (query): Linear(in_features=768, out_features=768, bias=True)\n",
              "              (key): Linear(in_features=768, out_features=768, bias=True)\n",
              "              (value): Linear(in_features=768, out_features=768, bias=True)\n",
              "              (dropout): Dropout(p=0.1, inplace=False)\n",
              "            )\n",
              "            (output): BertSelfOutput(\n",
              "              (dense): Linear(in_features=768, out_features=768, bias=True)\n",
              "              (LayerNorm): LayerNorm((768,), eps=1e-12, elementwise_affine=True)\n",
              "              (dropout): Dropout(p=0.1, inplace=False)\n",
              "            )\n",
              "          )\n",
              "          (intermediate): BertIntermediate(\n",
              "            (dense): Linear(in_features=768, out_features=3072, bias=True)\n",
              "          )\n",
              "          (output): BertOutput(\n",
              "            (dense): Linear(in_features=3072, out_features=768, bias=True)\n",
              "            (LayerNorm): LayerNorm((768,), eps=1e-12, elementwise_affine=True)\n",
              "            (dropout): Dropout(p=0.1, inplace=False)\n",
              "          )\n",
              "        )\n",
              "        (8): BertLayer(\n",
              "          (attention): BertAttention(\n",
              "            (self): BertSelfAttention(\n",
              "              (query): Linear(in_features=768, out_features=768, bias=True)\n",
              "              (key): Linear(in_features=768, out_features=768, bias=True)\n",
              "              (value): Linear(in_features=768, out_features=768, bias=True)\n",
              "              (dropout): Dropout(p=0.1, inplace=False)\n",
              "            )\n",
              "            (output): BertSelfOutput(\n",
              "              (dense): Linear(in_features=768, out_features=768, bias=True)\n",
              "              (LayerNorm): LayerNorm((768,), eps=1e-12, elementwise_affine=True)\n",
              "              (dropout): Dropout(p=0.1, inplace=False)\n",
              "            )\n",
              "          )\n",
              "          (intermediate): BertIntermediate(\n",
              "            (dense): Linear(in_features=768, out_features=3072, bias=True)\n",
              "          )\n",
              "          (output): BertOutput(\n",
              "            (dense): Linear(in_features=3072, out_features=768, bias=True)\n",
              "            (LayerNorm): LayerNorm((768,), eps=1e-12, elementwise_affine=True)\n",
              "            (dropout): Dropout(p=0.1, inplace=False)\n",
              "          )\n",
              "        )\n",
              "        (9): BertLayer(\n",
              "          (attention): BertAttention(\n",
              "            (self): BertSelfAttention(\n",
              "              (query): Linear(in_features=768, out_features=768, bias=True)\n",
              "              (key): Linear(in_features=768, out_features=768, bias=True)\n",
              "              (value): Linear(in_features=768, out_features=768, bias=True)\n",
              "              (dropout): Dropout(p=0.1, inplace=False)\n",
              "            )\n",
              "            (output): BertSelfOutput(\n",
              "              (dense): Linear(in_features=768, out_features=768, bias=True)\n",
              "              (LayerNorm): LayerNorm((768,), eps=1e-12, elementwise_affine=True)\n",
              "              (dropout): Dropout(p=0.1, inplace=False)\n",
              "            )\n",
              "          )\n",
              "          (intermediate): BertIntermediate(\n",
              "            (dense): Linear(in_features=768, out_features=3072, bias=True)\n",
              "          )\n",
              "          (output): BertOutput(\n",
              "            (dense): Linear(in_features=3072, out_features=768, bias=True)\n",
              "            (LayerNorm): LayerNorm((768,), eps=1e-12, elementwise_affine=True)\n",
              "            (dropout): Dropout(p=0.1, inplace=False)\n",
              "          )\n",
              "        )\n",
              "        (10): BertLayer(\n",
              "          (attention): BertAttention(\n",
              "            (self): BertSelfAttention(\n",
              "              (query): Linear(in_features=768, out_features=768, bias=True)\n",
              "              (key): Linear(in_features=768, out_features=768, bias=True)\n",
              "              (value): Linear(in_features=768, out_features=768, bias=True)\n",
              "              (dropout): Dropout(p=0.1, inplace=False)\n",
              "            )\n",
              "            (output): BertSelfOutput(\n",
              "              (dense): Linear(in_features=768, out_features=768, bias=True)\n",
              "              (LayerNorm): LayerNorm((768,), eps=1e-12, elementwise_affine=True)\n",
              "              (dropout): Dropout(p=0.1, inplace=False)\n",
              "            )\n",
              "          )\n",
              "          (intermediate): BertIntermediate(\n",
              "            (dense): Linear(in_features=768, out_features=3072, bias=True)\n",
              "          )\n",
              "          (output): BertOutput(\n",
              "            (dense): Linear(in_features=3072, out_features=768, bias=True)\n",
              "            (LayerNorm): LayerNorm((768,), eps=1e-12, elementwise_affine=True)\n",
              "            (dropout): Dropout(p=0.1, inplace=False)\n",
              "          )\n",
              "        )\n",
              "        (11): BertLayer(\n",
              "          (attention): BertAttention(\n",
              "            (self): BertSelfAttention(\n",
              "              (query): Linear(in_features=768, out_features=768, bias=True)\n",
              "              (key): Linear(in_features=768, out_features=768, bias=True)\n",
              "              (value): Linear(in_features=768, out_features=768, bias=True)\n",
              "              (dropout): Dropout(p=0.1, inplace=False)\n",
              "            )\n",
              "            (output): BertSelfOutput(\n",
              "              (dense): Linear(in_features=768, out_features=768, bias=True)\n",
              "              (LayerNorm): LayerNorm((768,), eps=1e-12, elementwise_affine=True)\n",
              "              (dropout): Dropout(p=0.1, inplace=False)\n",
              "            )\n",
              "          )\n",
              "          (intermediate): BertIntermediate(\n",
              "            (dense): Linear(in_features=768, out_features=3072, bias=True)\n",
              "          )\n",
              "          (output): BertOutput(\n",
              "            (dense): Linear(in_features=3072, out_features=768, bias=True)\n",
              "            (LayerNorm): LayerNorm((768,), eps=1e-12, elementwise_affine=True)\n",
              "            (dropout): Dropout(p=0.1, inplace=False)\n",
              "          )\n",
              "        )\n",
              "      )\n",
              "    )\n",
              "  )\n",
              "  (cls): BertOnlyMLMHead(\n",
              "    (predictions): BertLMPredictionHead(\n",
              "      (transform): BertPredictionHeadTransform(\n",
              "        (dense): Linear(in_features=768, out_features=768, bias=True)\n",
              "        (LayerNorm): LayerNorm((768,), eps=1e-12, elementwise_affine=True)\n",
              "      )\n",
              "      (decoder): Linear(in_features=768, out_features=30522, bias=True)\n",
              "    )\n",
              "  )\n",
              ")"
            ]
          },
          "metadata": {
            "tags": []
          },
          "execution_count": 15
        }
      ]
    },
    {
      "cell_type": "code",
      "metadata": {
        "id": "vuVd_xu6AaEX"
      },
      "source": [
        "pairs = zip(input_sentences, masked_sentences)"
      ],
      "execution_count": null,
      "outputs": []
    },
    {
      "cell_type": "code",
      "metadata": {
        "id": "d2cigUR2SZcK"
      },
      "source": [
        ""
      ],
      "execution_count": null,
      "outputs": []
    },
    {
      "cell_type": "code",
      "metadata": {
        "id": "6ANpMSiQUA_F"
      },
      "source": [
        ""
      ],
      "execution_count": null,
      "outputs": []
    },
    {
      "cell_type": "code",
      "metadata": {
        "id": "-8p-pYQ9BPp_"
      },
      "source": [
        "for input,label in pairs:\n",
        "  print(input)\n",
        "  print(label)\n",
        "  inputs = tokenizer(input, return_tensors=\"pt\")\n",
        "  print(len(inputs[\"input_ids\"][0].tolist()))\n",
        "  labels = tokenizer(label, return_tensors=\"pt\")[\"input_ids\"]\n",
        "  print(len(labels[0].tolist()))\n",
        "  \n",
        "  print((inputs[\"input_ids\"][0].tolist()))\n",
        "  print((labels[0].tolist()))  \n",
        "\n",
        "  if (len(inputs[\"input_ids\"][0].tolist()) == len(labels[0].tolist())):\n",
        "    output = model(**inputs.to(device), labels=labels.to(device))\n",
        "    optimizer.zero_grad()\n",
        "    loss = output.loss\n",
        "    loss.backward()\n",
        "    optimizer.step()\n",
        "    print(loss.item())"
      ],
      "execution_count": null,
      "outputs": []
    },
    {
      "cell_type": "code",
      "metadata": {
        "id": "gaNLh8eDym4R"
      },
      "source": [
        ""
      ],
      "execution_count": null,
      "outputs": []
    },
    {
      "cell_type": "code",
      "metadata": {
        "id": "gWL61q0ezIMd",
        "outputId": "1bfad5d2-c94a-43f1-84f2-786092b80a70",
        "colab": {
          "base_uri": "https://localhost:8080/"
        }
      },
      "source": [
        "output.loss"
      ],
      "execution_count": null,
      "outputs": [
        {
          "output_type": "execute_result",
          "data": {
            "text/plain": [
              "tensor(0.7035, grad_fn=<NllLossBackward>)"
            ]
          },
          "metadata": {
            "tags": []
          },
          "execution_count": 151
        }
      ]
    },
    {
      "cell_type": "code",
      "metadata": {
        "id": "_vISE-SO0fcF",
        "outputId": "d54da125-aea9-4072-e868-012477328bdf",
        "colab": {
          "base_uri": "https://localhost:8080/"
        }
      },
      "source": [
        "output.logits[0].shape"
      ],
      "execution_count": null,
      "outputs": [
        {
          "output_type": "execute_result",
          "data": {
            "text/plain": [
              "torch.Size([43, 30522])"
            ]
          },
          "metadata": {
            "tags": []
          },
          "execution_count": 148
        }
      ]
    },
    {
      "cell_type": "code",
      "metadata": {
        "id": "6LoUaDMF04W8",
        "outputId": "38bd55b7-654c-4187-fdc2-aa6c048626ab",
        "colab": {
          "base_uri": "https://localhost:8080/",
          "height": 54
        }
      },
      "source": [
        "tokenizer.decode(torch.argmax(output.logits[0], dim=1))"
      ],
      "execution_count": null,
      "outputs": [
        {
          "output_type": "execute_result",
          "data": {
            "application/vnd.google.colaboratory.intrinsic+json": {
              "type": "string"
            },
            "text/plain": [
              "'.. denies knowledge of awb kick. the prime minister has denied he knew awb was paying kickbacks to iraq despite writing to the wheat exporter asking to be kept fully informed on iraq wheat sales..'"
            ]
          },
          "metadata": {
            "tags": []
          },
          "execution_count": 120
        }
      ]
    }
  ]
}