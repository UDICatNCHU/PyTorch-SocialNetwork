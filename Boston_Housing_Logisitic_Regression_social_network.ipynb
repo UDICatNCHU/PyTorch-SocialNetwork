{
  "nbformat": 4,
  "nbformat_minor": 0,
  "metadata": {
    "colab": {
      "name": "Boston-Housing-Logisitic Regression@social network.ipynb",
      "version": "0.3.2",
      "provenance": [],
      "collapsed_sections": [],
      "include_colab_link": true
    },
    "kernelspec": {
      "name": "python3",
      "display_name": "Python 3"
    }
  },
  "cells": [
    {
      "cell_type": "markdown",
      "metadata": {
        "id": "view-in-github",
        "colab_type": "text"
      },
      "source": [
        "<a href=\"https://colab.research.google.com/github/UDICatNCHU/PyTorch-SocialNetwork/blob/master/Boston_Housing_Logisitic_Regression_social_network.ipynb\" target=\"_parent\"><img src=\"https://colab.research.google.com/assets/colab-badge.svg\" alt=\"Open In Colab\"/></a>"
      ]
    },
    {
      "cell_type": "markdown",
      "metadata": {
        "id": "uf72wjsR2Umq",
        "colab_type": "text"
      },
      "source": [
        "\n",
        "# Linear Regression with NN Framework\n",
        "\n"
      ]
    },
    {
      "cell_type": "code",
      "metadata": {
        "id": "strFRc1sNJeY",
        "colab_type": "code",
        "colab": {}
      },
      "source": [
        "from sklearn.datasets import load_boston\n",
        "boston = load_boston()"
      ],
      "execution_count": 0,
      "outputs": []
    },
    {
      "cell_type": "code",
      "metadata": {
        "id": "ksBToyVqNGsF",
        "colab_type": "code",
        "outputId": "1b3cca1a-09d8-470f-ce76-db199de92860",
        "colab": {
          "base_uri": "https://localhost:8080/",
          "height": 70
        }
      },
      "source": [
        "print(boston[\"data\"][0])\n",
        "print(boston[\"target\"][0])"
      ],
      "execution_count": 3,
      "outputs": [
        {
          "output_type": "stream",
          "text": [
            "[6.320e-03 1.800e+01 2.310e+00 0.000e+00 5.380e-01 6.575e+00 6.520e+01\n",
            " 4.090e+00 1.000e+00 2.960e+02 1.530e+01 3.969e+02 4.980e+00]\n",
            "24.0\n"
          ],
          "name": "stdout"
        }
      ]
    },
    {
      "cell_type": "code",
      "metadata": {
        "id": "WCOWtDLSOnNA",
        "colab_type": "code",
        "outputId": "088ca129-c61e-484a-8680-75a690bb8bd8",
        "colab": {
          "base_uri": "https://localhost:8080/",
          "height": 34
        }
      },
      "source": [
        "len(boston[\"data\"])"
      ],
      "execution_count": 4,
      "outputs": [
        {
          "output_type": "execute_result",
          "data": {
            "text/plain": [
              "506"
            ]
          },
          "metadata": {
            "tags": []
          },
          "execution_count": 4
        }
      ]
    },
    {
      "cell_type": "code",
      "metadata": {
        "id": "c8NLmT2TO2tx",
        "colab_type": "code",
        "outputId": "7840b8cf-1209-4563-fec3-16ec60ba7060",
        "colab": {
          "base_uri": "https://localhost:8080/",
          "height": 34
        }
      },
      "source": [
        "boston[\"data\"].shape"
      ],
      "execution_count": 5,
      "outputs": [
        {
          "output_type": "execute_result",
          "data": {
            "text/plain": [
              "(506, 13)"
            ]
          },
          "metadata": {
            "tags": []
          },
          "execution_count": 5
        }
      ]
    },
    {
      "cell_type": "code",
      "metadata": {
        "id": "iTuE1A12PRkk",
        "colab_type": "code",
        "outputId": "d2322a9d-b3ab-407d-8d4f-3a8c5efa52b4",
        "colab": {
          "base_uri": "https://localhost:8080/",
          "height": 34
        }
      },
      "source": [
        "boston[\"target\"].shape"
      ],
      "execution_count": 6,
      "outputs": [
        {
          "output_type": "execute_result",
          "data": {
            "text/plain": [
              "(506,)"
            ]
          },
          "metadata": {
            "tags": []
          },
          "execution_count": 6
        }
      ]
    },
    {
      "cell_type": "code",
      "metadata": {
        "id": "s1JesJcUcMXB",
        "colab_type": "code",
        "colab": {}
      },
      "source": [
        "import numpy as np\n",
        "import torch\n",
        "import torch.nn as nn\n",
        "import torch.nn.functional as F"
      ],
      "execution_count": 0,
      "outputs": []
    },
    {
      "cell_type": "code",
      "metadata": {
        "id": "PDLiDJu4cXe4",
        "colab_type": "code",
        "outputId": "c497cb8c-3644-4f8b-9779-dde20ddba5d6",
        "colab": {
          "base_uri": "https://localhost:8080/",
          "height": 34
        }
      },
      "source": [
        "from sklearn.datasets import load_boston\n",
        "boston = load_boston()\n",
        "print(boston.keys())"
      ],
      "execution_count": 8,
      "outputs": [
        {
          "output_type": "stream",
          "text": [
            "dict_keys(['data', 'target', 'feature_names', 'DESCR', 'filename'])\n"
          ],
          "name": "stdout"
        }
      ]
    },
    {
      "cell_type": "code",
      "metadata": {
        "id": "1yDRT4JIcfmN",
        "colab_type": "code",
        "outputId": "f5e452f7-2df9-4081-ec23-3f7702f647b2",
        "colab": {
          "base_uri": "https://localhost:8080/",
          "height": 52
        }
      },
      "source": [
        "print(boston[\"feature_names\"])"
      ],
      "execution_count": 9,
      "outputs": [
        {
          "output_type": "stream",
          "text": [
            "['CRIM' 'ZN' 'INDUS' 'CHAS' 'NOX' 'RM' 'AGE' 'DIS' 'RAD' 'TAX' 'PTRATIO'\n",
            " 'B' 'LSTAT']\n"
          ],
          "name": "stdout"
        }
      ]
    },
    {
      "cell_type": "code",
      "metadata": {
        "id": "pSiCqJlTc7e8",
        "colab_type": "code",
        "colab": {}
      },
      "source": [
        "x = boston[\"data\"]"
      ],
      "execution_count": 0,
      "outputs": []
    },
    {
      "cell_type": "code",
      "metadata": {
        "id": "5nBn2v0tevGW",
        "colab_type": "code",
        "colab": {}
      },
      "source": [
        "y = boston[\"target\"]"
      ],
      "execution_count": 0,
      "outputs": []
    },
    {
      "cell_type": "code",
      "metadata": {
        "id": "bGeEnch3fTVi",
        "colab_type": "code",
        "colab": {}
      },
      "source": [
        "training_data = torch.tensor(x, dtype = torch.float)\n",
        "label = torch.tensor(y, dtype = torch.float)"
      ],
      "execution_count": 0,
      "outputs": []
    },
    {
      "cell_type": "code",
      "metadata": {
        "id": "PH-aqto9hRWM",
        "colab_type": "code",
        "outputId": "149ac7a5-df57-4d9a-a832-1a32629982a2",
        "colab": {
          "base_uri": "https://localhost:8080/",
          "height": 34
        }
      },
      "source": [
        "training_data.shape"
      ],
      "execution_count": 13,
      "outputs": [
        {
          "output_type": "execute_result",
          "data": {
            "text/plain": [
              "torch.Size([506, 13])"
            ]
          },
          "metadata": {
            "tags": []
          },
          "execution_count": 13
        }
      ]
    },
    {
      "cell_type": "code",
      "metadata": {
        "id": "P-WlURKciLeZ",
        "colab_type": "code",
        "colab": {}
      },
      "source": [
        "feature_dim = 13\n",
        "output_dim = 1"
      ],
      "execution_count": 0,
      "outputs": []
    },
    {
      "cell_type": "code",
      "metadata": {
        "id": "3m6oHsZnhsBM",
        "colab_type": "code",
        "colab": {}
      },
      "source": [
        "class MyNet(torch.nn.Module):\n",
        "    def __init__(self, n_feature, output):\n",
        "        super(MyNet, self).__init__()\n",
        "        self.predict = torch.nn.Linear(n_feature, output)   # output layer\n",
        "\n",
        "    def forward(self, x):\n",
        "        x = self.predict(x)             # linear output\n",
        "        return x\n",
        "      \n",
        "net = MyNet(feature_dim, output_dim)"
      ],
      "execution_count": 0,
      "outputs": []
    },
    {
      "cell_type": "code",
      "metadata": {
        "id": "y2yslcAQels7",
        "colab_type": "code",
        "outputId": "5912700b-4818-4b9b-c4ca-7aaa0f0c4151",
        "colab": {
          "base_uri": "https://localhost:8080/",
          "height": 105
        }
      },
      "source": [
        "for i in net.parameters():\n",
        "  print(i)"
      ],
      "execution_count": 16,
      "outputs": [
        {
          "output_type": "stream",
          "text": [
            "Parameter containing:\n",
            "tensor([[ 0.1726,  0.0306,  0.0023,  0.1481, -0.0178, -0.1494, -0.2425, -0.0588,\n",
            "          0.1648, -0.0243, -0.0887,  0.0603, -0.0849]], requires_grad=True)\n",
            "Parameter containing:\n",
            "tensor([-0.1212], requires_grad=True)\n"
          ],
          "name": "stdout"
        }
      ]
    },
    {
      "cell_type": "code",
      "metadata": {
        "id": "21mVSbbzhr2I",
        "colab_type": "code",
        "colab": {}
      },
      "source": [
        "# optimizer = torch.optim.Adam(net.parameters(), lr=0.1)\n",
        "optimizer = torch.optim.SGD(net.parameters(), lr=0.000001)\n",
        "# criterion = torch.nn.MSELoss(reduction='mean')  # this is for regression mean squared loss"
      ],
      "execution_count": 0,
      "outputs": []
    },
    {
      "cell_type": "code",
      "metadata": {
        "id": "Mq-EcqtdhrzJ",
        "colab_type": "code",
        "outputId": "9211cf1d-f571-4576-da70-b3521f8ea598",
        "colab": {
          "base_uri": "https://localhost:8080/",
          "height": 193
        }
      },
      "source": [
        "num_epochs = 10\n",
        "\n",
        "for epoch in range(num_epochs):\n",
        "  optimizer.zero_grad()\n",
        "  outputs = net(training_data)\n",
        "  loss = nn.functional.mse_loss(label.view(-1,1), outputs)\n",
        "#   loss = criterion (label.view(-1,1), outputs)\n",
        "  loss.backward()\n",
        "  optimizer.step()\n",
        "  print('Epoch {}'.format(epoch+1), \"loss: \", loss.item())"
      ],
      "execution_count": 18,
      "outputs": [
        {
          "output_type": "stream",
          "text": [
            "Epoch 1 loss:  955.5916748046875\n",
            "Epoch 2 loss:  241.7339324951172\n",
            "Epoch 3 loss:  141.6963348388672\n",
            "Epoch 4 loss:  127.51142883300781\n",
            "Epoch 5 loss:  125.34294891357422\n",
            "Epoch 6 loss:  124.86406707763672\n",
            "Epoch 7 loss:  124.62979125976562\n",
            "Epoch 8 loss:  124.43730163574219\n",
            "Epoch 9 loss:  124.25758361816406\n",
            "Epoch 10 loss:  124.08589935302734\n"
          ],
          "name": "stdout"
        }
      ]
    },
    {
      "cell_type": "code",
      "metadata": {
        "id": "_MI7yFL-hrwO",
        "colab_type": "code",
        "colab": {}
      },
      "source": [
        ""
      ],
      "execution_count": 0,
      "outputs": []
    },
    {
      "cell_type": "code",
      "metadata": {
        "id": "lzeR-vAfhrtV",
        "colab_type": "code",
        "colab": {}
      },
      "source": [
        ""
      ],
      "execution_count": 0,
      "outputs": []
    },
    {
      "cell_type": "code",
      "metadata": {
        "id": "_srByh1qhrqO",
        "colab_type": "code",
        "colab": {}
      },
      "source": [
        ""
      ],
      "execution_count": 0,
      "outputs": []
    },
    {
      "cell_type": "code",
      "metadata": {
        "id": "mKdTTdgNhrms",
        "colab_type": "code",
        "colab": {}
      },
      "source": [
        ""
      ],
      "execution_count": 0,
      "outputs": []
    },
    {
      "cell_type": "code",
      "metadata": {
        "id": "5NIkOcjHhrfU",
        "colab_type": "code",
        "colab": {}
      },
      "source": [
        ""
      ],
      "execution_count": 0,
      "outputs": []
    },
    {
      "cell_type": "markdown",
      "metadata": {
        "id": "YwceTQzKxVMm",
        "colab_type": "text"
      },
      "source": [
        "# Hand-Crafted Linear Regression"
      ]
    },
    {
      "cell_type": "code",
      "metadata": {
        "id": "Sj-LwSOexcis",
        "colab_type": "code",
        "colab": {}
      },
      "source": [
        ""
      ],
      "execution_count": 0,
      "outputs": []
    },
    {
      "cell_type": "code",
      "metadata": {
        "id": "rbHP1j_3hqxo",
        "colab_type": "code",
        "colab": {}
      },
      "source": [
        "training_data = torch.tensor(x, dtype = torch.float)\n",
        "label = torch.tensor(y, dtype = torch.float)"
      ],
      "execution_count": 0,
      "outputs": []
    },
    {
      "cell_type": "code",
      "metadata": {
        "id": "UyxP2tKBQ0Cw",
        "colab_type": "code",
        "outputId": "a2fdba64-6a76-487f-aa65-2500473ede89",
        "colab": {
          "base_uri": "https://localhost:8080/",
          "height": 34
        }
      },
      "source": [
        "training_data.shape"
      ],
      "execution_count": 98,
      "outputs": [
        {
          "output_type": "execute_result",
          "data": {
            "text/plain": [
              "torch.Size([506, 13])"
            ]
          },
          "metadata": {
            "tags": []
          },
          "execution_count": 98
        }
      ]
    },
    {
      "cell_type": "code",
      "metadata": {
        "id": "pS_xf8ZcRCMV",
        "colab_type": "code",
        "outputId": "d111ba07-a9cf-4b3b-fa85-c3fd0662d68d",
        "colab": {
          "base_uri": "https://localhost:8080/",
          "height": 34
        }
      },
      "source": [
        "label.shape"
      ],
      "execution_count": 99,
      "outputs": [
        {
          "output_type": "execute_result",
          "data": {
            "text/plain": [
              "torch.Size([506])"
            ]
          },
          "metadata": {
            "tags": []
          },
          "execution_count": 99
        }
      ]
    },
    {
      "cell_type": "code",
      "metadata": {
        "id": "j5LSOqyLRRlJ",
        "colab_type": "code",
        "outputId": "a73ceeb5-3364-471e-9a1e-0f54ef2c1cd1",
        "colab": {
          "base_uri": "https://localhost:8080/",
          "height": 70
        }
      },
      "source": [
        "training_data[0]"
      ],
      "execution_count": 100,
      "outputs": [
        {
          "output_type": "execute_result",
          "data": {
            "text/plain": [
              "tensor([6.3200e-03, 1.8000e+01, 2.3100e+00, 0.0000e+00, 5.3800e-01, 6.5750e+00,\n",
              "        6.5200e+01, 4.0900e+00, 1.0000e+00, 2.9600e+02, 1.5300e+01, 3.9690e+02,\n",
              "        4.9800e+00])"
            ]
          },
          "metadata": {
            "tags": []
          },
          "execution_count": 100
        }
      ]
    },
    {
      "cell_type": "code",
      "metadata": {
        "id": "nx0XkYp4R1qK",
        "colab_type": "code",
        "outputId": "437704e1-4073-498a-b0c7-614fa7a9beea",
        "colab": {
          "base_uri": "https://localhost:8080/",
          "height": 34
        }
      },
      "source": [
        "training_data[0].shape"
      ],
      "execution_count": 101,
      "outputs": [
        {
          "output_type": "execute_result",
          "data": {
            "text/plain": [
              "torch.Size([13])"
            ]
          },
          "metadata": {
            "tags": []
          },
          "execution_count": 101
        }
      ]
    },
    {
      "cell_type": "code",
      "metadata": {
        "id": "ENocsUWpuPNJ",
        "colab_type": "code",
        "colab": {}
      },
      "source": [
        "parameters = torch.rand_like(training_data[0].view(-1,1), requires_grad=True)"
      ],
      "execution_count": 0,
      "outputs": []
    },
    {
      "cell_type": "code",
      "metadata": {
        "id": "RkLDg_CKRnTP",
        "colab_type": "code",
        "outputId": "df4c8980-3d7e-4b80-af5d-44d422adc61e",
        "colab": {
          "base_uri": "https://localhost:8080/",
          "height": 246
        }
      },
      "source": [
        "parameters"
      ],
      "execution_count": 103,
      "outputs": [
        {
          "output_type": "execute_result",
          "data": {
            "text/plain": [
              "tensor([[0.4236],\n",
              "        [0.4322],\n",
              "        [0.1960],\n",
              "        [0.8796],\n",
              "        [0.3518],\n",
              "        [0.6381],\n",
              "        [0.8844],\n",
              "        [0.1853],\n",
              "        [0.2790],\n",
              "        [0.3726],\n",
              "        [0.1732],\n",
              "        [0.4192],\n",
              "        [0.6765]], requires_grad=True)"
            ]
          },
          "metadata": {
            "tags": []
          },
          "execution_count": 103
        }
      ]
    },
    {
      "cell_type": "code",
      "metadata": {
        "id": "rHP-SBsOTVUJ",
        "colab_type": "code",
        "outputId": "db930531-6e65-47a1-a72d-667917c9b83b",
        "colab": {
          "base_uri": "https://localhost:8080/",
          "height": 70
        }
      },
      "source": [
        "training_data[0]"
      ],
      "execution_count": 104,
      "outputs": [
        {
          "output_type": "execute_result",
          "data": {
            "text/plain": [
              "tensor([6.3200e-03, 1.8000e+01, 2.3100e+00, 0.0000e+00, 5.3800e-01, 6.5750e+00,\n",
              "        6.5200e+01, 4.0900e+00, 1.0000e+00, 2.9600e+02, 1.5300e+01, 3.9690e+02,\n",
              "        4.9800e+00])"
            ]
          },
          "metadata": {
            "tags": []
          },
          "execution_count": 104
        }
      ]
    },
    {
      "cell_type": "code",
      "metadata": {
        "id": "HlPxq4y7Tlft",
        "colab_type": "code",
        "outputId": "28c78886-029a-4e54-acb7-d3b65f749ea7",
        "colab": {
          "base_uri": "https://localhost:8080/",
          "height": 34
        }
      },
      "source": [
        "training_data[0].view(1,-1).shape"
      ],
      "execution_count": 105,
      "outputs": [
        {
          "output_type": "execute_result",
          "data": {
            "text/plain": [
              "torch.Size([1, 13])"
            ]
          },
          "metadata": {
            "tags": []
          },
          "execution_count": 105
        }
      ]
    },
    {
      "cell_type": "code",
      "metadata": {
        "id": "HlDzBEz2TCnq",
        "colab_type": "code",
        "outputId": "6e77c036-541b-49b4-cc48-09d542e5fc61",
        "colab": {
          "base_uri": "https://localhost:8080/",
          "height": 34
        }
      },
      "source": [
        "torch.mm(training_data[0].view(1,-1),parameters)"
      ],
      "execution_count": 106,
      "outputs": [
        {
          "output_type": "execute_result",
          "data": {
            "text/plain": [
              "tensor([[354.0222]], grad_fn=<MmBackward>)"
            ]
          },
          "metadata": {
            "tags": []
          },
          "execution_count": 106
        }
      ]
    },
    {
      "cell_type": "code",
      "metadata": {
        "id": "NnoFYKxEWmzG",
        "colab_type": "code",
        "colab": {}
      },
      "source": [
        "# label.view(-1,1)"
      ],
      "execution_count": 0,
      "outputs": []
    },
    {
      "cell_type": "code",
      "metadata": {
        "id": "Tw9SsJVBftqu",
        "colab_type": "code",
        "outputId": "98c65797-6ccb-4294-f49b-64739a9bc0ea",
        "colab": {
          "base_uri": "https://localhost:8080/",
          "height": 193
        }
      },
      "source": [
        "for i in range(10):\n",
        "  loss = nn.functional.mse_loss(label.view(-1,1), torch.mm(training_data, parameters))\n",
        "  print(\"loss\",loss)\n",
        "  loss.backward()\n",
        "  parameters.data = parameters.data - parameters.grad*0.000001\n",
        "  parameters.grad.data.zero_()\n",
        "  \n",
        "#   parameters = parameters.clone().detach().requires_grad_(True)\n",
        "#   parameters = torch.tensor(parameters)"
      ],
      "execution_count": 108,
      "outputs": [
        {
          "output_type": "stream",
          "text": [
            "loss tensor(141305.6719, grad_fn=<MeanBackward0>)\n",
            "loss tensor(20209.3066, grad_fn=<MeanBackward0>)\n",
            "loss tensor(3272.7361, grad_fn=<MeanBackward0>)\n",
            "loss tensor(902.9620, grad_fn=<MeanBackward0>)\n",
            "loss tensor(570.3896, grad_fn=<MeanBackward0>)\n",
            "loss tensor(522.7528, grad_fn=<MeanBackward0>)\n",
            "loss tensor(514.9949, grad_fn=<MeanBackward0>)\n",
            "loss tensor(512.8420, grad_fn=<MeanBackward0>)\n",
            "loss tensor(511.4987, grad_fn=<MeanBackward0>)\n",
            "loss tensor(510.2919, grad_fn=<MeanBackward0>)\n"
          ],
          "name": "stdout"
        }
      ]
    },
    {
      "cell_type": "code",
      "metadata": {
        "id": "LmdHab73tOkU",
        "colab_type": "code",
        "outputId": "99041d6c-ffb6-4c14-d44b-3508518df597",
        "colab": {
          "base_uri": "https://localhost:8080/",
          "height": 246
        }
      },
      "source": [
        "parameters"
      ],
      "execution_count": 28,
      "outputs": [
        {
          "output_type": "execute_result",
          "data": {
            "text/plain": [
              "tensor([[ 0.0755],\n",
              "        [ 0.7870],\n",
              "        [ 0.4462],\n",
              "        [ 0.2657],\n",
              "        [ 0.7335],\n",
              "        [ 0.4920],\n",
              "        [ 0.4947],\n",
              "        [ 0.9326],\n",
              "        [ 0.1946],\n",
              "        [-0.0639],\n",
              "        [ 0.5517],\n",
              "        [ 0.0758],\n",
              "        [ 0.1102]], requires_grad=True)"
            ]
          },
          "metadata": {
            "tags": []
          },
          "execution_count": 28
        }
      ]
    },
    {
      "cell_type": "code",
      "metadata": {
        "id": "0SHCW1D1gRX-",
        "colab_type": "code",
        "colab": {}
      },
      "source": [
        ""
      ],
      "execution_count": 0,
      "outputs": []
    },
    {
      "cell_type": "code",
      "metadata": {
        "id": "Q9Em0EoIgtZt",
        "colab_type": "code",
        "colab": {}
      },
      "source": [
        ""
      ],
      "execution_count": 0,
      "outputs": []
    },
    {
      "cell_type": "code",
      "metadata": {
        "id": "SH1t7c26hM76",
        "colab_type": "code",
        "colab": {}
      },
      "source": [
        ""
      ],
      "execution_count": 0,
      "outputs": []
    },
    {
      "cell_type": "code",
      "metadata": {
        "id": "DNNbg4LOuKxR",
        "colab_type": "code",
        "colab": {}
      },
      "source": [
        ""
      ],
      "execution_count": 0,
      "outputs": []
    },
    {
      "cell_type": "code",
      "metadata": {
        "id": "0-PQ2GtcuYbZ",
        "colab_type": "code",
        "colab": {}
      },
      "source": [
        ""
      ],
      "execution_count": 0,
      "outputs": []
    },
    {
      "cell_type": "code",
      "metadata": {
        "id": "AXs2GwaZusT0",
        "colab_type": "code",
        "colab": {}
      },
      "source": [
        ""
      ],
      "execution_count": 0,
      "outputs": []
    },
    {
      "cell_type": "code",
      "metadata": {
        "id": "_gVG4cZJubw4",
        "colab_type": "code",
        "colab": {}
      },
      "source": [
        ""
      ],
      "execution_count": 0,
      "outputs": []
    },
    {
      "cell_type": "code",
      "metadata": {
        "id": "SeXGkHt5ufs0",
        "colab_type": "code",
        "colab": {}
      },
      "source": [
        ""
      ],
      "execution_count": 0,
      "outputs": []
    },
    {
      "cell_type": "code",
      "metadata": {
        "id": "81nXGKdhu4tR",
        "colab_type": "code",
        "colab": {}
      },
      "source": [
        ""
      ],
      "execution_count": 0,
      "outputs": []
    },
    {
      "cell_type": "code",
      "metadata": {
        "id": "rAZ4Ftbbu-wp",
        "colab_type": "code",
        "colab": {}
      },
      "source": [
        ""
      ],
      "execution_count": 0,
      "outputs": []
    },
    {
      "cell_type": "code",
      "metadata": {
        "id": "APuAF5WUu_f1",
        "colab_type": "code",
        "colab": {}
      },
      "source": [
        ""
      ],
      "execution_count": 0,
      "outputs": []
    }
  ]
}