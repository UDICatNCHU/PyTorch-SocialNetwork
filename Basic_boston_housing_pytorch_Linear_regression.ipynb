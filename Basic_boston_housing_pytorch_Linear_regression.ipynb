{
  "nbformat": 4,
  "nbformat_minor": 0,
  "metadata": {
    "colab": {
      "name": "Basic-boston-housing-pytorch_Linear_regression.ipynb",
      "version": "0.3.2",
      "provenance": [],
      "collapsed_sections": [],
      "include_colab_link": true
    },
    "kernelspec": {
      "name": "python3",
      "display_name": "Python 3"
    }
  },
  "cells": [
    {
      "cell_type": "markdown",
      "metadata": {
        "id": "view-in-github",
        "colab_type": "text"
      },
      "source": [
        "<a href=\"https://colab.research.google.com/github/UDICatNCHU/PyTorch-SocialNetwork/blob/master/Basic_boston_housing_pytorch_Linear_regression.ipynb\" target=\"_parent\"><img src=\"https://colab.research.google.com/assets/colab-badge.svg\" alt=\"Open In Colab\"/></a>"
      ]
    },
    {
      "cell_type": "markdown",
      "metadata": {
        "id": "uf72wjsR2Umq",
        "colab_type": "text"
      },
      "source": [
        "\n",
        "# Linear Regression with NN Framework\n",
        "\n"
      ]
    },
    {
      "cell_type": "code",
      "metadata": {
        "id": "s1JesJcUcMXB",
        "colab_type": "code",
        "colab": {}
      },
      "source": [
        "import numpy as np\n",
        "import torch\n",
        "import torch.nn as nn\n",
        "import torch.nn.functional as F"
      ],
      "execution_count": 0,
      "outputs": []
    },
    {
      "cell_type": "code",
      "metadata": {
        "id": "PDLiDJu4cXe4",
        "colab_type": "code",
        "outputId": "bf5ac9d0-77b3-49b8-f3f2-34e4e0be8a56",
        "colab": {
          "base_uri": "https://localhost:8080/",
          "height": 34
        }
      },
      "source": [
        "from sklearn.datasets import load_boston\n",
        "boston = load_boston()\n",
        "print(boston.keys())"
      ],
      "execution_count": 356,
      "outputs": [
        {
          "output_type": "stream",
          "text": [
            "dict_keys(['data', 'target', 'feature_names', 'DESCR', 'filename'])\n"
          ],
          "name": "stdout"
        }
      ]
    },
    {
      "cell_type": "code",
      "metadata": {
        "id": "1yDRT4JIcfmN",
        "colab_type": "code",
        "outputId": "99e500d0-c34f-4084-b394-8a395bb3a251",
        "colab": {
          "base_uri": "https://localhost:8080/",
          "height": 52
        }
      },
      "source": [
        "print(boston[\"feature_names\"])"
      ],
      "execution_count": 357,
      "outputs": [
        {
          "output_type": "stream",
          "text": [
            "['CRIM' 'ZN' 'INDUS' 'CHAS' 'NOX' 'RM' 'AGE' 'DIS' 'RAD' 'TAX' 'PTRATIO'\n",
            " 'B' 'LSTAT']\n"
          ],
          "name": "stdout"
        }
      ]
    },
    {
      "cell_type": "code",
      "metadata": {
        "id": "pSiCqJlTc7e8",
        "colab_type": "code",
        "colab": {}
      },
      "source": [
        "x = boston[\"data\"]"
      ],
      "execution_count": 0,
      "outputs": []
    },
    {
      "cell_type": "code",
      "metadata": {
        "id": "J2TxSKUDctfS",
        "colab_type": "code",
        "outputId": "ca452e0f-6e9e-445b-b2ce-f24723bd9414",
        "colab": {
          "base_uri": "https://localhost:8080/",
          "height": 34
        }
      },
      "source": [
        "x.shape"
      ],
      "execution_count": 359,
      "outputs": [
        {
          "output_type": "execute_result",
          "data": {
            "text/plain": [
              "(506, 13)"
            ]
          },
          "metadata": {
            "tags": []
          },
          "execution_count": 359
        }
      ]
    },
    {
      "cell_type": "code",
      "metadata": {
        "id": "5nBn2v0tevGW",
        "colab_type": "code",
        "colab": {}
      },
      "source": [
        "y = boston[\"target\"]"
      ],
      "execution_count": 0,
      "outputs": []
    },
    {
      "cell_type": "code",
      "metadata": {
        "id": "M4_naEqXe1l_",
        "colab_type": "code",
        "outputId": "2857a3ff-f570-4747-fef4-58eb5ec76ab9",
        "colab": {
          "base_uri": "https://localhost:8080/",
          "height": 34
        }
      },
      "source": [
        "y.shape"
      ],
      "execution_count": 361,
      "outputs": [
        {
          "output_type": "execute_result",
          "data": {
            "text/plain": [
              "(506,)"
            ]
          },
          "metadata": {
            "tags": []
          },
          "execution_count": 361
        }
      ]
    },
    {
      "cell_type": "code",
      "metadata": {
        "id": "B3NgX8N6qyPd",
        "colab_type": "code",
        "colab": {}
      },
      "source": [
        "x = x[:500]\n",
        "y = y[:500]"
      ],
      "execution_count": 0,
      "outputs": []
    },
    {
      "cell_type": "code",
      "metadata": {
        "id": "bGeEnch3fTVi",
        "colab_type": "code",
        "colab": {}
      },
      "source": [
        "training_data = torch.tensor(x, dtype = torch.float)\n",
        "label = torch.tensor(y, dtype = torch.float)"
      ],
      "execution_count": 0,
      "outputs": []
    },
    {
      "cell_type": "code",
      "metadata": {
        "id": "PH-aqto9hRWM",
        "colab_type": "code",
        "outputId": "0d41c53d-b042-4af6-82bc-6060d8a21cb7",
        "colab": {
          "base_uri": "https://localhost:8080/",
          "height": 34
        }
      },
      "source": [
        "training_data.shape"
      ],
      "execution_count": 416,
      "outputs": [
        {
          "output_type": "execute_result",
          "data": {
            "text/plain": [
              "torch.Size([500, 13])"
            ]
          },
          "metadata": {
            "tags": []
          },
          "execution_count": 416
        }
      ]
    },
    {
      "cell_type": "code",
      "metadata": {
        "id": "P-WlURKciLeZ",
        "colab_type": "code",
        "colab": {}
      },
      "source": [
        "feature_dim = 13\n",
        "output_dim = 1"
      ],
      "execution_count": 0,
      "outputs": []
    },
    {
      "cell_type": "code",
      "metadata": {
        "id": "3m6oHsZnhsBM",
        "colab_type": "code",
        "colab": {}
      },
      "source": [
        "class MyNet(torch.nn.Module):\n",
        "    def __init__(self, n_feature, output):\n",
        "        super(MyNet, self).__init__()\n",
        "        self.predict = torch.nn.Linear(n_feature, output)   # output layer\n",
        "\n",
        "    def forward(self, x):\n",
        "        x = self.predict(x)             # linear output\n",
        "        return x\n",
        "      \n",
        "net = MyNet(feature_dim, output_dim)"
      ],
      "execution_count": 0,
      "outputs": []
    },
    {
      "cell_type": "code",
      "metadata": {
        "id": "21mVSbbzhr2I",
        "colab_type": "code",
        "colab": {}
      },
      "source": [
        "# optimizer = torch.optim.Adam(net.parameters(), lr=0.1)\n",
        "optimizer = torch.optim.SGD(net.parameters(), lr=0.000001)\n",
        "# criterion = torch.nn.MSELoss(reduction='mean')  # this is for regression mean squared loss"
      ],
      "execution_count": 0,
      "outputs": []
    },
    {
      "cell_type": "code",
      "metadata": {
        "id": "Mq-EcqtdhrzJ",
        "colab_type": "code",
        "outputId": "ca3e1355-679d-4512-d0a6-365e5f53ca9a",
        "colab": {
          "base_uri": "https://localhost:8080/",
          "height": 1777
        }
      },
      "source": [
        "num_epochs = 100\n",
        "\n",
        "for epoch in range(num_epochs):\n",
        "  optimizer.zero_grad()\n",
        "  outputs = net(training_data)\n",
        "  loss = nn.functional.mse_loss(label.view(-1,1), outputs)\n",
        "#   loss = criterion (label.view(-1,1), outputs)\n",
        "  loss.backward()\n",
        "  optimizer.step()\n",
        "  print('Epoch {}'.format(epoch+1), \"loss: \", loss.item())"
      ],
      "execution_count": 426,
      "outputs": [
        {
          "output_type": "stream",
          "text": [
            "Epoch 1 loss:  22569.326171875\n",
            "Epoch 2 loss:  3231.6591796875\n",
            "Epoch 3 loss:  550.6258544921875\n",
            "Epoch 4 loss:  175.92489624023438\n",
            "Epoch 5 loss:  120.83977508544922\n",
            "Epoch 6 loss:  110.2960433959961\n",
            "Epoch 7 loss:  106.18487548828125\n",
            "Epoch 8 loss:  103.20598602294922\n",
            "Epoch 9 loss:  100.60326385498047\n",
            "Epoch 10 loss:  98.25193786621094\n",
            "Epoch 11 loss:  96.11631774902344\n",
            "Epoch 12 loss:  94.1749038696289\n",
            "Epoch 13 loss:  92.4095458984375\n",
            "Epoch 14 loss:  90.8040542602539\n",
            "Epoch 15 loss:  89.34365844726562\n",
            "Epoch 16 loss:  88.01509857177734\n",
            "Epoch 17 loss:  86.80618286132812\n",
            "Epoch 18 loss:  85.7059326171875\n",
            "Epoch 19 loss:  84.70433044433594\n",
            "Epoch 20 loss:  83.7923812866211\n",
            "Epoch 21 loss:  82.96178436279297\n",
            "Epoch 22 loss:  82.2050552368164\n",
            "Epoch 23 loss:  81.51541137695312\n",
            "Epoch 24 loss:  80.8866958618164\n",
            "Epoch 25 loss:  80.31332397460938\n",
            "Epoch 26 loss:  79.7901840209961\n",
            "Epoch 27 loss:  79.31269073486328\n",
            "Epoch 28 loss:  78.87657928466797\n",
            "Epoch 29 loss:  78.47813415527344\n",
            "Epoch 30 loss:  78.11384582519531\n",
            "Epoch 31 loss:  77.78059387207031\n",
            "Epoch 32 loss:  77.47554016113281\n",
            "Epoch 33 loss:  77.1960678100586\n",
            "Epoch 34 loss:  76.93986511230469\n",
            "Epoch 35 loss:  76.70475769042969\n",
            "Epoch 36 loss:  76.48883819580078\n",
            "Epoch 37 loss:  76.29035186767578\n",
            "Epoch 38 loss:  76.10768127441406\n",
            "Epoch 39 loss:  75.93938446044922\n",
            "Epoch 40 loss:  75.78414154052734\n",
            "Epoch 41 loss:  75.64075469970703\n",
            "Epoch 42 loss:  75.5082015991211\n",
            "Epoch 43 loss:  75.38538360595703\n",
            "Epoch 44 loss:  75.271484375\n",
            "Epoch 45 loss:  75.16570281982422\n",
            "Epoch 46 loss:  75.06719970703125\n",
            "Epoch 47 loss:  74.97543334960938\n",
            "Epoch 48 loss:  74.88970947265625\n",
            "Epoch 49 loss:  74.80950927734375\n",
            "Epoch 50 loss:  74.73430633544922\n",
            "Epoch 51 loss:  74.66370391845703\n",
            "Epoch 52 loss:  74.59722137451172\n",
            "Epoch 53 loss:  74.53453063964844\n",
            "Epoch 54 loss:  74.4752426147461\n",
            "Epoch 55 loss:  74.4190902709961\n",
            "Epoch 56 loss:  74.36579132080078\n",
            "Epoch 57 loss:  74.3150634765625\n",
            "Epoch 58 loss:  74.26671600341797\n",
            "Epoch 59 loss:  74.220458984375\n",
            "Epoch 60 loss:  74.17619323730469\n",
            "Epoch 61 loss:  74.13368225097656\n",
            "Epoch 62 loss:  74.09281921386719\n",
            "Epoch 63 loss:  74.05340576171875\n",
            "Epoch 64 loss:  74.01536560058594\n",
            "Epoch 65 loss:  73.97853088378906\n",
            "Epoch 66 loss:  73.94282531738281\n",
            "Epoch 67 loss:  73.90816497802734\n",
            "Epoch 68 loss:  73.87440490722656\n",
            "Epoch 69 loss:  73.8415298461914\n",
            "Epoch 70 loss:  73.80944061279297\n",
            "Epoch 71 loss:  73.77803802490234\n",
            "Epoch 72 loss:  73.74732208251953\n",
            "Epoch 73 loss:  73.7171859741211\n",
            "Epoch 74 loss:  73.68760681152344\n",
            "Epoch 75 loss:  73.65856170654297\n",
            "Epoch 76 loss:  73.62994384765625\n",
            "Epoch 77 loss:  73.6017837524414\n",
            "Epoch 78 loss:  73.57400512695312\n",
            "Epoch 79 loss:  73.54661560058594\n",
            "Epoch 80 loss:  73.51951599121094\n",
            "Epoch 81 loss:  73.4927749633789\n",
            "Epoch 82 loss:  73.46629333496094\n",
            "Epoch 83 loss:  73.44010925292969\n",
            "Epoch 84 loss:  73.41414642333984\n",
            "Epoch 85 loss:  73.38842010498047\n",
            "Epoch 86 loss:  73.36290740966797\n",
            "Epoch 87 loss:  73.33760070800781\n",
            "Epoch 88 loss:  73.31246948242188\n",
            "Epoch 89 loss:  73.28754425048828\n",
            "Epoch 90 loss:  73.26277160644531\n",
            "Epoch 91 loss:  73.23814392089844\n",
            "Epoch 92 loss:  73.21366882324219\n",
            "Epoch 93 loss:  73.18934631347656\n",
            "Epoch 94 loss:  73.16513061523438\n",
            "Epoch 95 loss:  73.14105224609375\n",
            "Epoch 96 loss:  73.11711883544922\n",
            "Epoch 97 loss:  73.09324645996094\n",
            "Epoch 98 loss:  73.06951141357422\n",
            "Epoch 99 loss:  73.04590606689453\n",
            "Epoch 100 loss:  73.0223617553711\n"
          ],
          "name": "stdout"
        }
      ]
    },
    {
      "cell_type": "code",
      "metadata": {
        "id": "_MI7yFL-hrwO",
        "colab_type": "code",
        "colab": {}
      },
      "source": [
        ""
      ],
      "execution_count": 0,
      "outputs": []
    },
    {
      "cell_type": "code",
      "metadata": {
        "id": "lzeR-vAfhrtV",
        "colab_type": "code",
        "colab": {}
      },
      "source": [
        ""
      ],
      "execution_count": 0,
      "outputs": []
    },
    {
      "cell_type": "code",
      "metadata": {
        "id": "_srByh1qhrqO",
        "colab_type": "code",
        "colab": {}
      },
      "source": [
        ""
      ],
      "execution_count": 0,
      "outputs": []
    },
    {
      "cell_type": "code",
      "metadata": {
        "id": "mKdTTdgNhrms",
        "colab_type": "code",
        "colab": {}
      },
      "source": [
        ""
      ],
      "execution_count": 0,
      "outputs": []
    },
    {
      "cell_type": "code",
      "metadata": {
        "id": "5NIkOcjHhrfU",
        "colab_type": "code",
        "colab": {}
      },
      "source": [
        ""
      ],
      "execution_count": 0,
      "outputs": []
    },
    {
      "cell_type": "markdown",
      "metadata": {
        "id": "YwceTQzKxVMm",
        "colab_type": "text"
      },
      "source": [
        "# Hand-Crafted Linear Regression"
      ]
    },
    {
      "cell_type": "code",
      "metadata": {
        "id": "Sj-LwSOexcis",
        "colab_type": "code",
        "colab": {}
      },
      "source": [
        "x = x[:500]\n",
        "y = y[:500]"
      ],
      "execution_count": 0,
      "outputs": []
    },
    {
      "cell_type": "code",
      "metadata": {
        "id": "rbHP1j_3hqxo",
        "colab_type": "code",
        "colab": {}
      },
      "source": [
        "training_data = torch.tensor(x, dtype = torch.float)\n",
        "label = torch.tensor(y, dtype = torch.float)"
      ],
      "execution_count": 0,
      "outputs": []
    },
    {
      "cell_type": "code",
      "metadata": {
        "id": "ENocsUWpuPNJ",
        "colab_type": "code",
        "colab": {}
      },
      "source": [
        "parameters = torch.rand_like(training_data[0].view(-1,1), requires_grad=True)"
      ],
      "execution_count": 0,
      "outputs": []
    },
    {
      "cell_type": "code",
      "metadata": {
        "id": "Tw9SsJVBftqu",
        "colab_type": "code",
        "colab": {
          "base_uri": "https://localhost:8080/",
          "height": 1777
        },
        "outputId": "289607f3-e5bf-44df-fb7b-eb8b7135b1a2"
      },
      "source": [
        "for i in range(100):\n",
        "  loss = nn.functional.mse_loss(label.view(-1,1), torch.mm(training_data, parameters))\n",
        "  print(loss)\n",
        "  loss.backward()\n",
        "  parameters = parameters - parameters.grad*0.000001\n",
        "  parameters = parameters.clone().detach().requires_grad_(True)"
      ],
      "execution_count": 430,
      "outputs": [
        {
          "output_type": "stream",
          "text": [
            "tensor(441353.3438, grad_fn=<MeanBackward0>)\n",
            "tensor(61317.3867, grad_fn=<MeanBackward0>)\n",
            "tensor(8695.6807, grad_fn=<MeanBackward0>)\n",
            "tensor(1403.0518, grad_fn=<MeanBackward0>)\n",
            "tensor(386.6129, grad_fn=<MeanBackward0>)\n",
            "tensor(239.6936, grad_fn=<MeanBackward0>)\n",
            "tensor(213.7181, grad_fn=<MeanBackward0>)\n",
            "tensor(204.9993, grad_fn=<MeanBackward0>)\n",
            "tensor(199.1352, grad_fn=<MeanBackward0>)\n",
            "tensor(194.0891, grad_fn=<MeanBackward0>)\n",
            "tensor(189.5402, grad_fn=<MeanBackward0>)\n",
            "tensor(185.4087, grad_fn=<MeanBackward0>)\n",
            "tensor(181.6515, grad_fn=<MeanBackward0>)\n",
            "tensor(178.2335, grad_fn=<MeanBackward0>)\n",
            "tensor(175.1234, grad_fn=<MeanBackward0>)\n",
            "tensor(172.2929, grad_fn=<MeanBackward0>)\n",
            "tensor(169.7162, grad_fn=<MeanBackward0>)\n",
            "tensor(167.3701, grad_fn=<MeanBackward0>)\n",
            "tensor(165.2333, grad_fn=<MeanBackward0>)\n",
            "tensor(163.2866, grad_fn=<MeanBackward0>)\n",
            "tensor(161.5124, grad_fn=<MeanBackward0>)\n",
            "tensor(159.8950, grad_fn=<MeanBackward0>)\n",
            "tensor(158.4198, grad_fn=<MeanBackward0>)\n",
            "tensor(157.0739, grad_fn=<MeanBackward0>)\n",
            "tensor(155.8453, grad_fn=<MeanBackward0>)\n",
            "tensor(154.7232, grad_fn=<MeanBackward0>)\n",
            "tensor(153.6979, grad_fn=<MeanBackward0>)\n",
            "tensor(152.7604, grad_fn=<MeanBackward0>)\n",
            "tensor(151.9027, grad_fn=<MeanBackward0>)\n",
            "tensor(151.1175, grad_fn=<MeanBackward0>)\n",
            "tensor(150.3981, grad_fn=<MeanBackward0>)\n",
            "tensor(149.7383, grad_fn=<MeanBackward0>)\n",
            "tensor(149.1329, grad_fn=<MeanBackward0>)\n",
            "tensor(148.5767, grad_fn=<MeanBackward0>)\n",
            "tensor(148.0653, grad_fn=<MeanBackward0>)\n",
            "tensor(147.5945, grad_fn=<MeanBackward0>)\n",
            "tensor(147.1606, grad_fn=<MeanBackward0>)\n",
            "tensor(146.7602, grad_fn=<MeanBackward0>)\n",
            "tensor(146.3902, grad_fn=<MeanBackward0>)\n",
            "tensor(146.0479, grad_fn=<MeanBackward0>)\n",
            "tensor(145.7307, grad_fn=<MeanBackward0>)\n",
            "tensor(145.4364, grad_fn=<MeanBackward0>)\n",
            "tensor(145.1627, grad_fn=<MeanBackward0>)\n",
            "tensor(144.9079, grad_fn=<MeanBackward0>)\n",
            "tensor(144.6702, grad_fn=<MeanBackward0>)\n",
            "tensor(144.4479, grad_fn=<MeanBackward0>)\n",
            "tensor(144.2398, grad_fn=<MeanBackward0>)\n",
            "tensor(144.0445, grad_fn=<MeanBackward0>)\n",
            "tensor(143.8609, grad_fn=<MeanBackward0>)\n",
            "tensor(143.6879, grad_fn=<MeanBackward0>)\n",
            "tensor(143.5244, grad_fn=<MeanBackward0>)\n",
            "tensor(143.3698, grad_fn=<MeanBackward0>)\n",
            "tensor(143.2230, grad_fn=<MeanBackward0>)\n",
            "tensor(143.0835, grad_fn=<MeanBackward0>)\n",
            "tensor(142.9505, grad_fn=<MeanBackward0>)\n",
            "tensor(142.8236, grad_fn=<MeanBackward0>)\n",
            "tensor(142.7020, grad_fn=<MeanBackward0>)\n",
            "tensor(142.5854, grad_fn=<MeanBackward0>)\n",
            "tensor(142.4732, grad_fn=<MeanBackward0>)\n",
            "tensor(142.3652, grad_fn=<MeanBackward0>)\n",
            "tensor(142.2609, grad_fn=<MeanBackward0>)\n",
            "tensor(142.1599, grad_fn=<MeanBackward0>)\n",
            "tensor(142.0620, grad_fn=<MeanBackward0>)\n",
            "tensor(141.9669, grad_fn=<MeanBackward0>)\n",
            "tensor(141.8744, grad_fn=<MeanBackward0>)\n",
            "tensor(141.7842, grad_fn=<MeanBackward0>)\n",
            "tensor(141.6962, grad_fn=<MeanBackward0>)\n",
            "tensor(141.6100, grad_fn=<MeanBackward0>)\n",
            "tensor(141.5257, grad_fn=<MeanBackward0>)\n",
            "tensor(141.4429, grad_fn=<MeanBackward0>)\n",
            "tensor(141.3616, grad_fn=<MeanBackward0>)\n",
            "tensor(141.2817, grad_fn=<MeanBackward0>)\n",
            "tensor(141.2029, grad_fn=<MeanBackward0>)\n",
            "tensor(141.1253, grad_fn=<MeanBackward0>)\n",
            "tensor(141.0487, grad_fn=<MeanBackward0>)\n",
            "tensor(140.9731, grad_fn=<MeanBackward0>)\n",
            "tensor(140.8982, grad_fn=<MeanBackward0>)\n",
            "tensor(140.8242, grad_fn=<MeanBackward0>)\n",
            "tensor(140.7509, grad_fn=<MeanBackward0>)\n",
            "tensor(140.6783, grad_fn=<MeanBackward0>)\n",
            "tensor(140.6063, grad_fn=<MeanBackward0>)\n",
            "tensor(140.5348, grad_fn=<MeanBackward0>)\n",
            "tensor(140.4639, grad_fn=<MeanBackward0>)\n",
            "tensor(140.3934, grad_fn=<MeanBackward0>)\n",
            "tensor(140.3234, grad_fn=<MeanBackward0>)\n",
            "tensor(140.2538, grad_fn=<MeanBackward0>)\n",
            "tensor(140.1846, grad_fn=<MeanBackward0>)\n",
            "tensor(140.1157, grad_fn=<MeanBackward0>)\n",
            "tensor(140.0471, grad_fn=<MeanBackward0>)\n",
            "tensor(139.9789, grad_fn=<MeanBackward0>)\n",
            "tensor(139.9109, grad_fn=<MeanBackward0>)\n",
            "tensor(139.8433, grad_fn=<MeanBackward0>)\n",
            "tensor(139.7758, grad_fn=<MeanBackward0>)\n",
            "tensor(139.7085, grad_fn=<MeanBackward0>)\n",
            "tensor(139.6416, grad_fn=<MeanBackward0>)\n",
            "tensor(139.5748, grad_fn=<MeanBackward0>)\n",
            "tensor(139.5082, grad_fn=<MeanBackward0>)\n",
            "tensor(139.4417, grad_fn=<MeanBackward0>)\n",
            "tensor(139.3755, grad_fn=<MeanBackward0>)\n",
            "tensor(139.3094, grad_fn=<MeanBackward0>)\n"
          ],
          "name": "stdout"
        }
      ]
    },
    {
      "cell_type": "code",
      "metadata": {
        "id": "LmdHab73tOkU",
        "colab_type": "code",
        "colab": {}
      },
      "source": [
        ""
      ],
      "execution_count": 0,
      "outputs": []
    },
    {
      "cell_type": "code",
      "metadata": {
        "id": "0SHCW1D1gRX-",
        "colab_type": "code",
        "colab": {}
      },
      "source": [
        ""
      ],
      "execution_count": 0,
      "outputs": []
    },
    {
      "cell_type": "code",
      "metadata": {
        "id": "Q9Em0EoIgtZt",
        "colab_type": "code",
        "colab": {}
      },
      "source": [
        ""
      ],
      "execution_count": 0,
      "outputs": []
    },
    {
      "cell_type": "code",
      "metadata": {
        "id": "SH1t7c26hM76",
        "colab_type": "code",
        "colab": {}
      },
      "source": [
        ""
      ],
      "execution_count": 0,
      "outputs": []
    },
    {
      "cell_type": "code",
      "metadata": {
        "id": "DNNbg4LOuKxR",
        "colab_type": "code",
        "colab": {}
      },
      "source": [
        ""
      ],
      "execution_count": 0,
      "outputs": []
    },
    {
      "cell_type": "code",
      "metadata": {
        "id": "0-PQ2GtcuYbZ",
        "colab_type": "code",
        "colab": {}
      },
      "source": [
        ""
      ],
      "execution_count": 0,
      "outputs": []
    },
    {
      "cell_type": "code",
      "metadata": {
        "id": "AXs2GwaZusT0",
        "colab_type": "code",
        "colab": {}
      },
      "source": [
        ""
      ],
      "execution_count": 0,
      "outputs": []
    },
    {
      "cell_type": "code",
      "metadata": {
        "id": "_gVG4cZJubw4",
        "colab_type": "code",
        "colab": {}
      },
      "source": [
        ""
      ],
      "execution_count": 0,
      "outputs": []
    },
    {
      "cell_type": "code",
      "metadata": {
        "id": "SeXGkHt5ufs0",
        "colab_type": "code",
        "colab": {}
      },
      "source": [
        ""
      ],
      "execution_count": 0,
      "outputs": []
    },
    {
      "cell_type": "code",
      "metadata": {
        "id": "81nXGKdhu4tR",
        "colab_type": "code",
        "colab": {}
      },
      "source": [
        ""
      ],
      "execution_count": 0,
      "outputs": []
    },
    {
      "cell_type": "code",
      "metadata": {
        "id": "rAZ4Ftbbu-wp",
        "colab_type": "code",
        "colab": {}
      },
      "source": [
        ""
      ],
      "execution_count": 0,
      "outputs": []
    },
    {
      "cell_type": "code",
      "metadata": {
        "id": "APuAF5WUu_f1",
        "colab_type": "code",
        "colab": {}
      },
      "source": [
        ""
      ],
      "execution_count": 0,
      "outputs": []
    }
  ]
}