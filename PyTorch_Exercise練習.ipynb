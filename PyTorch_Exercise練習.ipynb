{
  "nbformat": 4,
  "nbformat_minor": 0,
  "metadata": {
    "colab": {
      "name": "PyTorch Exercise練習.ipynb",
      "version": "0.3.2",
      "provenance": [],
      "collapsed_sections": [],
      "include_colab_link": true
    },
    "kernelspec": {
      "display_name": "Python 3",
      "language": "python",
      "name": "python3"
    }
  },
  "cells": [
    {
      "cell_type": "markdown",
      "metadata": {
        "id": "view-in-github",
        "colab_type": "text"
      },
      "source": [
        "<a href=\"https://colab.research.google.com/github/UDICatNCHU/PyTorch-SocialNetwork/blob/master/PyTorch_Exercise%E7%B7%B4%E7%BF%92.ipynb\" target=\"_parent\"><img src=\"https://colab.research.google.com/assets/colab-badge.svg\" alt=\"Open In Colab\"/></a>"
      ]
    },
    {
      "cell_type": "markdown",
      "metadata": {
        "id": "D9YYWgcD5vlI",
        "colab_type": "text"
      },
      "source": [
        "### Given a Toy Dataset"
      ]
    },
    {
      "cell_type": "code",
      "metadata": {
        "id": "oWHLcHt5AzV7",
        "colab_type": "code",
        "colab": {}
      },
      "source": [
        "import numpy as np"
      ],
      "execution_count": 0,
      "outputs": []
    },
    {
      "cell_type": "code",
      "metadata": {
        "id": "xyJdRNzL5vlL",
        "colab_type": "code",
        "colab": {}
      },
      "source": [
        "x_values = [0, 1, 2, 3, 4, 5, 6, 7, 8, 9, 10]"
      ],
      "execution_count": 0,
      "outputs": []
    },
    {
      "cell_type": "code",
      "metadata": {
        "id": "ZB2wIS2K5vlN",
        "colab_type": "code",
        "outputId": "991659a4-6f90-4e03-813f-d590e3ba96f3",
        "colab": {
          "base_uri": "https://localhost:8080/",
          "height": 34
        }
      },
      "source": [
        "# Convert to numpy\n",
        "x_train = np.array(x_values, dtype=np.float32)\n",
        "x_train.shape"
      ],
      "execution_count": 250,
      "outputs": [
        {
          "output_type": "execute_result",
          "data": {
            "text/plain": [
              "(11,)"
            ]
          },
          "metadata": {
            "tags": []
          },
          "execution_count": 250
        }
      ]
    },
    {
      "cell_type": "code",
      "metadata": {
        "id": "CuVRWSxL5vlP",
        "colab_type": "code",
        "outputId": "5bbaa100-380e-4f4b-b71a-bc255d6c30c3",
        "colab": {
          "base_uri": "https://localhost:8080/",
          "height": 34
        }
      },
      "source": [
        "# IMPORTANT: 2D required\n",
        "x_train = x_train.reshape(-1, 1)\n",
        "x_train.shape"
      ],
      "execution_count": 251,
      "outputs": [
        {
          "output_type": "execute_result",
          "data": {
            "text/plain": [
              "(11, 1)"
            ]
          },
          "metadata": {
            "tags": []
          },
          "execution_count": 251
        }
      ]
    },
    {
      "cell_type": "code",
      "metadata": {
        "id": "oyJqru3j5vlX",
        "colab_type": "code",
        "colab": {}
      },
      "source": [
        "y_values = [1.2, 5.2, 9.2, 13.2, 17.2, 21.2, 25.2, 29.2, 33.2, 37.2, 41.2]"
      ],
      "execution_count": 0,
      "outputs": []
    },
    {
      "cell_type": "code",
      "metadata": {
        "id": "10gB7SI05vle",
        "colab_type": "code",
        "outputId": "52fba021-57cc-429c-ea62-0aaed8addedb",
        "colab": {
          "base_uri": "https://localhost:8080/",
          "height": 34
        }
      },
      "source": [
        "y_train = np.array(y_values, dtype=np.float32)\n",
        "y_train.shape"
      ],
      "execution_count": 256,
      "outputs": [
        {
          "output_type": "execute_result",
          "data": {
            "text/plain": [
              "(11,)"
            ]
          },
          "metadata": {
            "tags": []
          },
          "execution_count": 256
        }
      ]
    },
    {
      "cell_type": "code",
      "metadata": {
        "id": "rNVWK32C5vlh",
        "colab_type": "code",
        "outputId": "3b5ddbdd-4e2f-4d4c-ed4c-27f85aed4ee1",
        "colab": {
          "base_uri": "https://localhost:8080/",
          "height": 210
        }
      },
      "source": [
        "# IMPORTANT: 2D required\n",
        "y_train = y_train.reshape(-1, 1)\n",
        "y_train.shape\n",
        "y_train"
      ],
      "execution_count": 257,
      "outputs": [
        {
          "output_type": "execute_result",
          "data": {
            "text/plain": [
              "array([[ 1.2],\n",
              "       [ 5.2],\n",
              "       [ 9.2],\n",
              "       [13.2],\n",
              "       [17.2],\n",
              "       [21.2],\n",
              "       [25.2],\n",
              "       [29.2],\n",
              "       [33.2],\n",
              "       [37.2],\n",
              "       [41.2]], dtype=float32)"
            ]
          },
          "metadata": {
            "tags": []
          },
          "execution_count": 257
        }
      ]
    },
    {
      "cell_type": "markdown",
      "metadata": {
        "colab_type": "text",
        "id": "QNfuFgalN3jE"
      },
      "source": [
        "### Building Model"
      ]
    },
    {
      "cell_type": "markdown",
      "metadata": {
        "colab_type": "text",
        "id": "gP2_4QbaN3jE"
      },
      "source": [
        "**Critical Imports**"
      ]
    },
    {
      "cell_type": "code",
      "metadata": {
        "colab_type": "code",
        "id": "L1mAzGhZN3jD",
        "colab": {}
      },
      "source": [
        "import torch\n",
        "import torch.nn as nn"
      ],
      "execution_count": 0,
      "outputs": []
    },
    {
      "cell_type": "markdown",
      "metadata": {
        "colab_type": "text",
        "id": "QWyIePlvN3jB"
      },
      "source": [
        "**Create Model**\n",
        "1. Linear model\n",
        "    - True Equation: $y = wx + b$\n",
        "2. Forward\n",
        "    - Example\n",
        "        - Input $x = 1 $\n",
        "        - Output $\\hat y = ?$"
      ]
    },
    {
      "cell_type": "code",
      "metadata": {
        "colab_type": "code",
        "id": "yG4zy_7fN3jA",
        "colab": {}
      },
      "source": [
        "# Create class\n",
        "class LinearRegressionModel(nn.Module):\n",
        "    def __init__(self, input_dim, output_dim):\n",
        "        super(LinearRegressionModel, self).__init__()\n",
        "        self.linear = nn.Linear(input_dim, output_dim)  \n",
        "    \n",
        "    def forward(self, x):\n",
        "        out = self.linear(x)\n",
        "        return out"
      ],
      "execution_count": 0,
      "outputs": []
    },
    {
      "cell_type": "code",
      "metadata": {
        "colab_type": "code",
        "id": "IaEEZszkN3i_",
        "colab": {}
      },
      "source": [
        "input_dim = 1\n",
        "output_dim = 1\n",
        "model = LinearRegressionModel(input_dim, output_dim)"
      ],
      "execution_count": 0,
      "outputs": []
    },
    {
      "cell_type": "code",
      "metadata": {
        "colab_type": "code",
        "id": "JgSpFaGuN3i7",
        "colab": {}
      },
      "source": [
        "learning_rate = 0.001\n",
        "criterion = nn.MSELoss()\n",
        "optimizer = torch.optim.SGD(model.parameters(), lr=learning_rate)"
      ],
      "execution_count": 0,
      "outputs": []
    },
    {
      "cell_type": "code",
      "metadata": {
        "colab_type": "code",
        "outputId": "96695739-1b2e-4d7c-db46-13d98e298830",
        "id": "Dd3vc6v0N3it",
        "colab": {
          "base_uri": "https://localhost:8080/",
          "height": 87
        }
      },
      "source": [
        "for p in model.parameters():\n",
        "  print(p)"
      ],
      "execution_count": 0,
      "outputs": [
        {
          "output_type": "stream",
          "text": [
            "Parameter containing:\n",
            "tensor([[-0.1442]], requires_grad=True)\n",
            "Parameter containing:\n",
            "tensor([-0.4141], requires_grad=True)\n"
          ],
          "name": "stdout"
        }
      ]
    },
    {
      "cell_type": "code",
      "metadata": {
        "scrolled": true,
        "colab_type": "code",
        "id": "lrIWpPl8N3io",
        "colab": {}
      },
      "source": [
        "epochs = 100\n",
        "for epoch in range(epochs):\n",
        "    epoch += 1\n",
        "    # Convert numpy array to torch Variable\n",
        "    #inputs = torch.from_numpy(x_train)\n",
        "    inputs = torch.tensor(x_train)\n",
        "    labels = torch.tensor(y_train)\n",
        "\n",
        "    # Clear gradients w.r.t. parameters\n",
        "    optimizer.zero_grad() \n",
        "    \n",
        "    # Forward to get output\n",
        "    outputs = model(inputs)\n",
        "    \n",
        "    # Calculate Loss\n",
        "    loss = criterion(outputs, labels)\n",
        "    \n",
        "    # Getting gradients w.r.t. parameters\n",
        "    loss.backward()\n",
        "    \n",
        "    # Updating parameters\n",
        "    optimizer.step()\n",
        "    \n",
        "    print('epoch {}, loss {}'.format(epoch, loss.item()))"
      ],
      "execution_count": 0,
      "outputs": []
    },
    {
      "cell_type": "code",
      "metadata": {
        "colab_type": "code",
        "outputId": "e753e6f9-a536-4002-ecf3-878538b449ed",
        "id": "7i0cAZMWN3ik",
        "colab": {
          "base_uri": "https://localhost:8080/",
          "height": 87
        }
      },
      "source": [
        "for p in model.parameters():\n",
        "  print(p)"
      ],
      "execution_count": 0,
      "outputs": [
        {
          "output_type": "stream",
          "text": [
            "Parameter containing:\n",
            "tensor([[4.1331]], requires_grad=True)\n",
            "Parameter containing:\n",
            "tensor([0.2573], requires_grad=True)\n"
          ],
          "name": "stdout"
        }
      ]
    },
    {
      "cell_type": "markdown",
      "metadata": {
        "colab_type": "text",
        "id": "gZtKhqJSN3ik"
      },
      "source": [
        "**Compare Data**"
      ]
    },
    {
      "cell_type": "code",
      "metadata": {
        "colab_type": "code",
        "id": "0Qlm1PEeN3ih",
        "colab": {}
      },
      "source": [
        ""
      ],
      "execution_count": 0,
      "outputs": []
    },
    {
      "cell_type": "markdown",
      "metadata": {
        "colab_type": "text",
        "id": "cNOBzChmN3ih"
      },
      "source": [
        "PyTorch Framework Overview\n",
        "\n",
        "Step 1: Define Network/Model Structure\n",
        "\n",
        "Step 2: Instantiate Network \n",
        "\n",
        "Step 3: Define Loss Function\n",
        "\n",
        "Step 4: Choose Optimizer for Gradient Update\n",
        "\n",
        "Step 5: Train Model by finding Optimial Parameters"
      ]
    },
    {
      "cell_type": "markdown",
      "metadata": {
        "colab_type": "text",
        "id": "kz8z1BcRN3ig"
      },
      "source": [
        "**Summary**"
      ]
    },
    {
      "cell_type": "code",
      "metadata": {
        "colab_type": "code",
        "id": "TX7uO27lN3id",
        "colab": {}
      },
      "source": [
        "import torch\n",
        "import torch.nn as nn\n",
        "\n",
        "'''\n",
        "STEP 1: Network Structure\n",
        "'''\n",
        "class LinearRegressionModel(nn.Module):\n",
        "    def __init__(self, input_dim, output_dim):\n",
        "        super(LinearRegressionModel, self).__init__()\n",
        "        self.linear = nn.Linear(input_dim, output_dim)  \n",
        "    \n",
        "    def forward(self, x):\n",
        "        out = self.linear(x)\n",
        "        return out\n",
        "\n",
        "'''\n",
        "STEP 2: INSTANTIATE MODEL CLASS\n",
        "'''\n",
        "input_dim = ?\n",
        "output_dim = ?\n",
        "model = LinearRegressionModel(input_dim, output_dim)\n",
        "\n",
        "'''\n",
        "STEP 3: INSTANTIATE LOSS CLASS\n",
        "'''\n",
        "\n",
        "criterion = nn.MSELoss()\n",
        "\n",
        "'''\n",
        "STEP 4: INSTANTIATE OPTIMIZER CLASS\n",
        "'''\n",
        "\n",
        "learning_rate = 0.01\n",
        "\n",
        "optimizer = torch.optim.SGD(model.parameters(), lr=learning_rate)\n",
        "\n",
        "'''\n",
        "STEP 5: TRAIN THE MODEL\n",
        "'''\n",
        "epochs = 100\n",
        "for epoch in range(epochs):\n",
        "    epoch += 1\n",
        "    # Convert numpy array to torch tensor\n",
        "    inputs = #?\n",
        "    labels = #?\n",
        "\n",
        "    # Clear gradients w.r.t. parameters\n",
        "    optimizer.zero_grad() \n",
        "    \n",
        "    # Forward to get output\n",
        "    outputs = model(inputs)\n",
        "    \n",
        "    # Calculate Loss\n",
        "    loss = criterion(outputs, labels)\n",
        "    \n",
        "    # Getting gradients w.r.t. parameters\n",
        "    loss.backward()\n",
        "    \n",
        "    # Updating parameters\n",
        "    optimizer.step()"
      ],
      "execution_count": 0,
      "outputs": []
    }
  ]
}