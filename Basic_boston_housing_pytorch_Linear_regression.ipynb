{
  "nbformat": 4,
  "nbformat_minor": 0,
  "metadata": {
    "colab": {
      "name": "Basic-boston-housing-pytorch_Linear_regression.ipynb",
      "version": "0.3.2",
      "provenance": [],
      "collapsed_sections": [],
      "include_colab_link": true
    },
    "kernelspec": {
      "name": "python3",
      "display_name": "Python 3"
    }
  },
  "cells": [
    {
      "cell_type": "markdown",
      "metadata": {
        "id": "view-in-github",
        "colab_type": "text"
      },
      "source": [
        "<a href=\"https://colab.research.google.com/github/UDICatNCHU/PyTorch-SocialNetwork/blob/master/Basic_boston_housing_pytorch_Linear_regression.ipynb\" target=\"_parent\"><img src=\"https://colab.research.google.com/assets/colab-badge.svg\" alt=\"Open In Colab\"/></a>"
      ]
    },
    {
      "cell_type": "code",
      "metadata": {
        "id": "s1JesJcUcMXB",
        "colab_type": "code",
        "colab": {}
      },
      "source": [
        "import numpy as np\n",
        "import torch\n",
        "import torch.nn as nn\n",
        "import torch.nn.functional as F"
      ],
      "execution_count": 0,
      "outputs": []
    },
    {
      "cell_type": "code",
      "metadata": {
        "id": "PDLiDJu4cXe4",
        "colab_type": "code",
        "outputId": "7f3207a2-cca4-48eb-8eb1-e3a4e455db4a",
        "colab": {
          "base_uri": "https://localhost:8080/",
          "height": 34
        }
      },
      "source": [
        "from sklearn.datasets import load_boston\n",
        "boston = load_boston()\n",
        "print(boston.keys())"
      ],
      "execution_count": 151,
      "outputs": [
        {
          "output_type": "stream",
          "text": [
            "dict_keys(['data', 'target', 'feature_names', 'DESCR', 'filename'])\n"
          ],
          "name": "stdout"
        }
      ]
    },
    {
      "cell_type": "code",
      "metadata": {
        "id": "1yDRT4JIcfmN",
        "colab_type": "code",
        "outputId": "470bad6d-dc33-41cb-bdea-4d209b087f36",
        "colab": {
          "base_uri": "https://localhost:8080/",
          "height": 52
        }
      },
      "source": [
        "print(boston[\"feature_names\"])"
      ],
      "execution_count": 0,
      "outputs": [
        {
          "output_type": "stream",
          "text": [
            "['CRIM' 'ZN' 'INDUS' 'CHAS' 'NOX' 'RM' 'AGE' 'DIS' 'RAD' 'TAX' 'PTRATIO'\n",
            " 'B' 'LSTAT']\n"
          ],
          "name": "stdout"
        }
      ]
    },
    {
      "cell_type": "code",
      "metadata": {
        "id": "pSiCqJlTc7e8",
        "colab_type": "code",
        "colab": {}
      },
      "source": [
        "x = boston[\"data\"]"
      ],
      "execution_count": 0,
      "outputs": []
    },
    {
      "cell_type": "code",
      "metadata": {
        "id": "J2TxSKUDctfS",
        "colab_type": "code",
        "outputId": "5768abd2-c16d-48cf-ac15-3fe5d30db56b",
        "colab": {
          "base_uri": "https://localhost:8080/",
          "height": 35
        }
      },
      "source": [
        "x.shape"
      ],
      "execution_count": 0,
      "outputs": [
        {
          "output_type": "execute_result",
          "data": {
            "text/plain": [
              "(506, 13)"
            ]
          },
          "metadata": {
            "tags": []
          },
          "execution_count": 130
        }
      ]
    },
    {
      "cell_type": "code",
      "metadata": {
        "id": "5nBn2v0tevGW",
        "colab_type": "code",
        "colab": {}
      },
      "source": [
        "y = boston[\"target\"]"
      ],
      "execution_count": 0,
      "outputs": []
    },
    {
      "cell_type": "code",
      "metadata": {
        "id": "M4_naEqXe1l_",
        "colab_type": "code",
        "outputId": "cc905ae4-7820-4183-b8c5-59f7529d653d",
        "colab": {
          "base_uri": "https://localhost:8080/",
          "height": 35
        }
      },
      "source": [
        "y.shape"
      ],
      "execution_count": 0,
      "outputs": [
        {
          "output_type": "execute_result",
          "data": {
            "text/plain": [
              "(506,)"
            ]
          },
          "metadata": {
            "tags": []
          },
          "execution_count": 132
        }
      ]
    },
    {
      "cell_type": "code",
      "metadata": {
        "id": "B3NgX8N6qyPd",
        "colab_type": "code",
        "colab": {}
      },
      "source": [
        "x = x[:500]\n",
        "y = y[:500]"
      ],
      "execution_count": 0,
      "outputs": []
    },
    {
      "cell_type": "code",
      "metadata": {
        "id": "bGeEnch3fTVi",
        "colab_type": "code",
        "colab": {}
      },
      "source": [
        "training_data = torch.tensor(x, dtype = torch.float)\n",
        "label = torch.tensor(y, dtype = torch.float)"
      ],
      "execution_count": 0,
      "outputs": []
    },
    {
      "cell_type": "code",
      "metadata": {
        "id": "PH-aqto9hRWM",
        "colab_type": "code",
        "outputId": "47fa1aaf-3beb-44e7-e52d-74f68c4b2213",
        "colab": {
          "base_uri": "https://localhost:8080/",
          "height": 35
        }
      },
      "source": [
        "training_data.shape"
      ],
      "execution_count": 0,
      "outputs": [
        {
          "output_type": "execute_result",
          "data": {
            "text/plain": [
              "torch.Size([500, 13])"
            ]
          },
          "metadata": {
            "tags": []
          },
          "execution_count": 135
        }
      ]
    },
    {
      "cell_type": "code",
      "metadata": {
        "id": "P-WlURKciLeZ",
        "colab_type": "code",
        "colab": {}
      },
      "source": [
        "feature_dim = 13\n",
        "output_dim = 1"
      ],
      "execution_count": 0,
      "outputs": []
    },
    {
      "cell_type": "code",
      "metadata": {
        "id": "3m6oHsZnhsBM",
        "colab_type": "code",
        "colab": {}
      },
      "source": [
        "class MyNet(torch.nn.Module):\n",
        "    def __init__(self, n_feature, output):\n",
        "        super(MyNet, self).__init__()\n",
        "        self.predict = torch.nn.Linear(n_feature, output)   # output layer\n",
        "\n",
        "    def forward(self, x):\n",
        "        x = self.predict(x)             # linear output\n",
        "        return x\n",
        "      \n",
        "net = MyNet(feature_dim, output_dim)"
      ],
      "execution_count": 0,
      "outputs": []
    },
    {
      "cell_type": "code",
      "metadata": {
        "id": "21mVSbbzhr2I",
        "colab_type": "code",
        "colab": {}
      },
      "source": [
        "optimizer = torch.optim.Adam(net.parameters(), lr=0.02)\n",
        "criterion = torch.nn.MSELoss(reduction='sum' )  # this is for regression mean squared loss"
      ],
      "execution_count": 0,
      "outputs": []
    },
    {
      "cell_type": "code",
      "metadata": {
        "id": "Mq-EcqtdhrzJ",
        "colab_type": "code",
        "outputId": "011298b1-6577-4874-fe24-d01bb3ba785f",
        "colab": {
          "base_uri": "https://localhost:8080/",
          "height": 1751
        }
      },
      "source": [
        "num_epochs = 100\n",
        "\n",
        "for epoch in range(num_epochs):\n",
        "  optimizer.zero_grad()\n",
        "  outputs = net(training_data)\n",
        "  loss = criterion(outputs, label.view(-1,1))\n",
        "  loss.backward()\n",
        "  optimizer.step()\n",
        "  print('Epoch {}'.format(epoch+1), \"loss: \", loss.item())"
      ],
      "execution_count": 0,
      "outputs": [
        {
          "output_type": "stream",
          "text": [
            "Epoch 1 loss:  28209.10546875\n",
            "Epoch 2 loss:  28131.015625\n",
            "Epoch 3 loss:  28053.546875\n",
            "Epoch 4 loss:  27976.69140625\n",
            "Epoch 5 loss:  27900.44921875\n",
            "Epoch 6 loss:  27824.814453125\n",
            "Epoch 7 loss:  27749.783203125\n",
            "Epoch 8 loss:  27675.353515625\n",
            "Epoch 9 loss:  27601.51953125\n",
            "Epoch 10 loss:  27528.279296875\n",
            "Epoch 11 loss:  27455.62890625\n",
            "Epoch 12 loss:  27383.5625\n",
            "Epoch 13 loss:  27312.078125\n",
            "Epoch 14 loss:  27241.173828125\n",
            "Epoch 15 loss:  27170.841796875\n",
            "Epoch 16 loss:  27101.083984375\n",
            "Epoch 17 loss:  27031.890625\n",
            "Epoch 18 loss:  26963.259765625\n",
            "Epoch 19 loss:  26895.19140625\n",
            "Epoch 20 loss:  26827.677734375\n",
            "Epoch 21 loss:  26760.716796875\n",
            "Epoch 22 loss:  26694.3046875\n",
            "Epoch 23 loss:  26628.4375\n",
            "Epoch 24 loss:  26563.111328125\n",
            "Epoch 25 loss:  26498.322265625\n",
            "Epoch 26 loss:  26434.0703125\n",
            "Epoch 27 loss:  26370.34765625\n",
            "Epoch 28 loss:  26307.15234375\n",
            "Epoch 29 loss:  26244.478515625\n",
            "Epoch 30 loss:  26182.326171875\n",
            "Epoch 31 loss:  26120.689453125\n",
            "Epoch 32 loss:  26059.564453125\n",
            "Epoch 33 loss:  25998.94921875\n",
            "Epoch 34 loss:  25938.8359375\n",
            "Epoch 35 loss:  25879.228515625\n",
            "Epoch 36 loss:  25820.1171875\n",
            "Epoch 37 loss:  25761.5\n",
            "Epoch 38 loss:  25703.375\n",
            "Epoch 39 loss:  25645.736328125\n",
            "Epoch 40 loss:  25588.580078125\n",
            "Epoch 41 loss:  25531.90625\n",
            "Epoch 42 loss:  25475.70703125\n",
            "Epoch 43 loss:  25419.98046875\n",
            "Epoch 44 loss:  25364.724609375\n",
            "Epoch 45 loss:  25309.93359375\n",
            "Epoch 46 loss:  25255.603515625\n",
            "Epoch 47 loss:  25201.734375\n",
            "Epoch 48 loss:  25148.3203125\n",
            "Epoch 49 loss:  25095.35546875\n",
            "Epoch 50 loss:  25042.841796875\n",
            "Epoch 51 loss:  24990.76953125\n",
            "Epoch 52 loss:  24939.140625\n",
            "Epoch 53 loss:  24887.94921875\n",
            "Epoch 54 loss:  24837.19140625\n",
            "Epoch 55 loss:  24786.861328125\n",
            "Epoch 56 loss:  24736.962890625\n",
            "Epoch 57 loss:  24687.484375\n",
            "Epoch 58 loss:  24638.427734375\n",
            "Epoch 59 loss:  24589.787109375\n",
            "Epoch 60 loss:  24541.560546875\n",
            "Epoch 61 loss:  24493.744140625\n",
            "Epoch 62 loss:  24446.33203125\n",
            "Epoch 63 loss:  24399.32421875\n",
            "Epoch 64 loss:  24352.716796875\n",
            "Epoch 65 loss:  24306.50390625\n",
            "Epoch 66 loss:  24260.68359375\n",
            "Epoch 67 loss:  24215.25390625\n",
            "Epoch 68 loss:  24170.2109375\n",
            "Epoch 69 loss:  24125.548828125\n",
            "Epoch 70 loss:  24081.267578125\n",
            "Epoch 71 loss:  24037.361328125\n",
            "Epoch 72 loss:  23993.828125\n",
            "Epoch 73 loss:  23950.6640625\n",
            "Epoch 74 loss:  23907.8671875\n",
            "Epoch 75 loss:  23865.431640625\n",
            "Epoch 76 loss:  23823.357421875\n",
            "Epoch 77 loss:  23781.640625\n",
            "Epoch 78 loss:  23740.275390625\n",
            "Epoch 79 loss:  23699.259765625\n",
            "Epoch 80 loss:  23658.591796875\n",
            "Epoch 81 loss:  23618.267578125\n",
            "Epoch 82 loss:  23578.283203125\n",
            "Epoch 83 loss:  23538.634765625\n",
            "Epoch 84 loss:  23499.322265625\n",
            "Epoch 85 loss:  23460.341796875\n",
            "Epoch 86 loss:  23421.6875\n",
            "Epoch 87 loss:  23383.357421875\n",
            "Epoch 88 loss:  23345.349609375\n",
            "Epoch 89 loss:  23307.662109375\n",
            "Epoch 90 loss:  23270.2890625\n",
            "Epoch 91 loss:  23233.228515625\n",
            "Epoch 92 loss:  23196.48046875\n",
            "Epoch 93 loss:  23160.03515625\n",
            "Epoch 94 loss:  23123.89453125\n",
            "Epoch 95 loss:  23088.0546875\n",
            "Epoch 96 loss:  23052.513671875\n",
            "Epoch 97 loss:  23017.26953125\n",
            "Epoch 98 loss:  22982.314453125\n",
            "Epoch 99 loss:  22947.650390625\n",
            "Epoch 100 loss:  22913.271484375\n"
          ],
          "name": "stdout"
        }
      ]
    },
    {
      "cell_type": "code",
      "metadata": {
        "id": "_MI7yFL-hrwO",
        "colab_type": "code",
        "colab": {}
      },
      "source": [
        ""
      ],
      "execution_count": 0,
      "outputs": []
    },
    {
      "cell_type": "code",
      "metadata": {
        "id": "lzeR-vAfhrtV",
        "colab_type": "code",
        "colab": {}
      },
      "source": [
        ""
      ],
      "execution_count": 0,
      "outputs": []
    },
    {
      "cell_type": "code",
      "metadata": {
        "id": "_srByh1qhrqO",
        "colab_type": "code",
        "colab": {}
      },
      "source": [
        ""
      ],
      "execution_count": 0,
      "outputs": []
    },
    {
      "cell_type": "code",
      "metadata": {
        "id": "mKdTTdgNhrms",
        "colab_type": "code",
        "colab": {}
      },
      "source": [
        ""
      ],
      "execution_count": 0,
      "outputs": []
    },
    {
      "cell_type": "code",
      "metadata": {
        "id": "5NIkOcjHhrfU",
        "colab_type": "code",
        "colab": {}
      },
      "source": [
        ""
      ],
      "execution_count": 0,
      "outputs": []
    },
    {
      "cell_type": "code",
      "metadata": {
        "id": "rbHP1j_3hqxo",
        "colab_type": "code",
        "colab": {}
      },
      "source": [
        ""
      ],
      "execution_count": 0,
      "outputs": []
    },
    {
      "cell_type": "code",
      "metadata": {
        "id": "Tw9SsJVBftqu",
        "colab_type": "code",
        "colab": {}
      },
      "source": [
        "parameters = torch.rand_like(training_data[0].view(-1,1))"
      ],
      "execution_count": 0,
      "outputs": []
    },
    {
      "cell_type": "code",
      "metadata": {
        "id": "0SHCW1D1gRX-",
        "colab_type": "code",
        "outputId": "e13764bf-11ac-4ef8-9f59-09a1eaaeb41b",
        "colab": {
          "base_uri": "https://localhost:8080/",
          "height": 243
        }
      },
      "source": [
        "parameters"
      ],
      "execution_count": 0,
      "outputs": [
        {
          "output_type": "execute_result",
          "data": {
            "text/plain": [
              "tensor([[0.0555],\n",
              "        [0.3954],\n",
              "        [0.3139],\n",
              "        [0.7654],\n",
              "        [0.0891],\n",
              "        [0.8909],\n",
              "        [0.0164],\n",
              "        [0.5307],\n",
              "        [0.0081],\n",
              "        [0.8515],\n",
              "        [0.4054],\n",
              "        [0.4408],\n",
              "        [0.5841]], dtype=torch.float64)"
            ]
          },
          "metadata": {
            "tags": []
          },
          "execution_count": 31
        }
      ]
    },
    {
      "cell_type": "code",
      "metadata": {
        "id": "Q9Em0EoIgtZt",
        "colab_type": "code",
        "outputId": "cbbe1a1e-67e6-4d45-d7d9-40382664eda4",
        "colab": {
          "base_uri": "https://localhost:8080/",
          "height": 8788
        }
      },
      "source": [
        "torch.mm(training_data, parameters)"
      ],
      "execution_count": 0,
      "outputs": [
        {
          "output_type": "execute_result",
          "data": {
            "text/plain": [
              "tensor([[453.0889],\n",
              "        [405.4846],\n",
              "        [401.0955],\n",
              "        [383.2237],\n",
              "        [385.8924],\n",
              "        [384.0296],\n",
              "        [469.5073],\n",
              "        [474.8406],\n",
              "        [476.2655],\n",
              "        [469.1772],\n",
              "        [474.0372],\n",
              "        [471.1902],\n",
              "        [468.5561],\n",
              "        [461.1689],\n",
              "        [455.2693],\n",
              "        [460.4272],\n",
              "        [455.1263],\n",
              "        [460.5711],\n",
              "        [414.2834],\n",
              "        [459.7603],\n",
              "        [459.4689],\n",
              "        [462.6020],\n",
              "        [467.5852],\n",
              "        [467.1144],\n",
              "        [465.0815],\n",
              "        [424.7411],\n",
              "        [456.5043],\n",
              "        [426.9511],\n",
              "        [460.7649],\n",
              "        [456.8292],\n",
              "        [453.4492],\n",
              "        [455.5627],\n",
              "        [400.1034],\n",
              "        [450.1185],\n",
              "        [402.9875],\n",
              "        [436.0910],\n",
              "        [428.3949],\n",
              "        [435.3541],\n",
              "        [434.4965],\n",
              "        [438.6407],\n",
              "        [437.5540],\n",
              "        [389.7146],\n",
              "        [388.9079],\n",
              "        [394.7848],\n",
              "        [394.2021],\n",
              "        [397.1250],\n",
              "        [399.5116],\n",
              "        [401.7803],\n",
              "        [410.3239],\n",
              "        [401.5403],\n",
              "        [415.7569],\n",
              "        [413.1241],\n",
              "        [411.6595],\n",
              "        [413.0470],\n",
              "        [632.3696],\n",
              "        [424.4915],\n",
              "        [496.8811],\n",
              "        [450.7705],\n",
              "        [447.7255],\n",
              "        [451.4745],\n",
              "        [453.2843],\n",
              "        [446.9623],\n",
              "        [450.9846],\n",
              "        [452.2958],\n",
              "        [389.1050],\n",
              "        [513.3101],\n",
              "        [516.3333],\n",
              "        [496.7516],\n",
              "        [499.9735],\n",
              "        [497.6587],\n",
              "        [452.6501],\n",
              "        [451.2789],\n",
              "        [454.8201],\n",
              "        [450.0837],\n",
              "        [536.5600],\n",
              "        [533.4529],\n",
              "        [531.2423],\n",
              "        [535.5377],\n",
              "        [537.1995],\n",
              "        [538.6963],\n",
              "        [445.8938],\n",
              "        [446.9691],\n",
              "        [446.3289],\n",
              "        [444.1480],\n",
              "        [408.8702],\n",
              "        [405.2042],\n",
              "        [409.7940],\n",
              "        [406.7685],\n",
              "        [425.8781],\n",
              "        [425.3052],\n",
              "        [424.6995],\n",
              "        [425.0634],\n",
              "        [440.5856],\n",
              "        [439.4178],\n",
              "        [443.0268],\n",
              "        [413.6540],\n",
              "        [431.0944],\n",
              "        [430.9678],\n",
              "        [428.2448],\n",
              "        [431.3187],\n",
              "        [526.5049],\n",
              "        [525.7912],\n",
              "        [384.1942],\n",
              "        [528.2921],\n",
              "        [526.7686],\n",
              "        [529.4471],\n",
              "        [531.4058],\n",
              "        [525.3196],\n",
              "        [528.2529],\n",
              "        [528.1534],\n",
              "        [527.1426],\n",
              "        [567.3450],\n",
              "        [569.8962],\n",
              "        [571.5788],\n",
              "        [563.9059],\n",
              "        [547.5746],\n",
              "        [566.8342],\n",
              "        [566.3887],\n",
              "        [544.2872],\n",
              "        [566.4581],\n",
              "        [363.4347],\n",
              "        [358.6394],\n",
              "        [361.0104],\n",
              "        [361.8512],\n",
              "        [361.3065],\n",
              "        [362.1457],\n",
              "        [357.7489],\n",
              "        [578.1349],\n",
              "        [579.9146],\n",
              "        [580.9829],\n",
              "        [577.6542],\n",
              "        [578.2665],\n",
              "        [572.7312],\n",
              "        [575.8366],\n",
              "        [521.6236],\n",
              "        [579.9245],\n",
              "        [572.1357],\n",
              "        [578.2397],\n",
              "        [580.6343],\n",
              "        [581.3794],\n",
              "        [580.7269],\n",
              "        [589.6597],\n",
              "        [554.0846],\n",
              "        [553.2344],\n",
              "        [554.2632],\n",
              "        [455.8108],\n",
              "        [447.2861],\n",
              "        [552.1400],\n",
              "        [536.3648],\n",
              "        [530.4911],\n",
              "        [535.9285],\n",
              "        [521.0792],\n",
              "        [521.3513],\n",
              "        [487.7381],\n",
              "        [514.5079],\n",
              "        [411.6629],\n",
              "        [411.1621],\n",
              "        [527.0669],\n",
              "        [523.1408],\n",
              "        [528.7227],\n",
              "        [516.8256],\n",
              "        [530.6864],\n",
              "        [538.7112],\n",
              "        [539.5046],\n",
              "        [544.4320],\n",
              "        [475.2700],\n",
              "        [530.1264],\n",
              "        [470.6870],\n",
              "        [501.2294],\n",
              "        [516.0350],\n",
              "        [500.7508],\n",
              "        [524.0519],\n",
              "        [451.4492],\n",
              "        [448.2361],\n",
              "        [446.8669],\n",
              "        [443.6059],\n",
              "        [447.3849],\n",
              "        [446.7630],\n",
              "        [445.5116],\n",
              "        [358.9588],\n",
              "        [360.9005],\n",
              "        [360.7299],\n",
              "        [358.2476],\n",
              "        [359.5817],\n",
              "        [360.9534],\n",
              "        [359.0531],\n",
              "        [357.6081],\n",
              "        [550.2453],\n",
              "        [544.1632],\n",
              "        [551.5636],\n",
              "        [543.4451],\n",
              "        [548.4702],\n",
              "        [548.0694],\n",
              "        [442.5011],\n",
              "        [434.7444],\n",
              "        [440.8490],\n",
              "        [505.6636],\n",
              "        [489.4180],\n",
              "        [505.1325],\n",
              "        [575.4064],\n",
              "        [569.9073],\n",
              "        [522.9363],\n",
              "        [522.0407],\n",
              "        [420.7720],\n",
              "        [419.3851],\n",
              "        [435.8102],\n",
              "        [436.0781],\n",
              "        [437.6693],\n",
              "        [432.8342],\n",
              "        [444.4763],\n",
              "        [439.8743],\n",
              "        [444.0166],\n",
              "        [437.2522],\n",
              "        [430.6469],\n",
              "        [424.7642],\n",
              "        [434.1428],\n",
              "        [435.7179],\n",
              "        [434.0258],\n",
              "        [440.6609],\n",
              "        [435.5390],\n",
              "        [458.7853],\n",
              "        [466.6547],\n",
              "        [458.3281],\n",
              "        [458.8889],\n",
              "        [452.8549],\n",
              "        [452.2943],\n",
              "        [453.3990],\n",
              "        [447.6541],\n",
              "        [448.1373],\n",
              "        [448.3609],\n",
              "        [452.5101],\n",
              "        [449.2128],\n",
              "        [452.7556],\n",
              "        [450.3121],\n",
              "        [443.7954],\n",
              "        [451.3191],\n",
              "        [457.4637],\n",
              "        [455.1700],\n",
              "        [455.9868],\n",
              "        [459.0026],\n",
              "        [465.1732],\n",
              "        [466.7162],\n",
              "        [456.7930],\n",
              "        [453.4296],\n",
              "        [481.3202],\n",
              "        [492.0424],\n",
              "        [487.0056],\n",
              "        [482.2174],\n",
              "        [480.7878],\n",
              "        [487.1851],\n",
              "        [487.4088],\n",
              "        [477.4858],\n",
              "        [482.6485],\n",
              "        [488.6211],\n",
              "        [495.5563],\n",
              "        [497.7125],\n",
              "        [433.6964],\n",
              "        [424.2413],\n",
              "        [422.0209],\n",
              "        [424.9331],\n",
              "        [426.9589],\n",
              "        [424.0665],\n",
              "        [423.5072],\n",
              "        [428.5182],\n",
              "        [423.9914],\n",
              "        [425.4559],\n",
              "        [426.0502],\n",
              "        [422.9548],\n",
              "        [422.2583],\n",
              "        [397.1749],\n",
              "        [394.7527],\n",
              "        [394.5575],\n",
              "        [395.0534],\n",
              "        [394.4589],\n",
              "        [427.8085],\n",
              "        [427.0722],\n",
              "        [427.0046],\n",
              "        [427.0466],\n",
              "        [428.9563],\n",
              "        [385.5538],\n",
              "        [382.4223],\n",
              "        [384.1618],\n",
              "        [378.1140],\n",
              "        [397.6477],\n",
              "        [474.5360],\n",
              "        [473.0822],\n",
              "        [413.8213],\n",
              "        [467.7696],\n",
              "        [468.3671],\n",
              "        [458.2352],\n",
              "        [435.8240],\n",
              "        [436.2132],\n",
              "        [436.3448],\n",
              "        [445.6472],\n",
              "        [446.9961],\n",
              "        [445.2422],\n",
              "        [444.3177],\n",
              "        [450.6722],\n",
              "        [514.6411],\n",
              "        [516.4332],\n",
              "        [526.1679],\n",
              "        [491.5501],\n",
              "        [485.2729],\n",
              "        [486.4765],\n",
              "        [397.1476],\n",
              "        [397.5544],\n",
              "        [398.4775],\n",
              "        [398.6046],\n",
              "        [456.1452],\n",
              "        [458.2182],\n",
              "        [437.8858],\n",
              "        [455.7004],\n",
              "        [459.3890],\n",
              "        [456.1953],\n",
              "        [458.5426],\n",
              "        [459.4114],\n",
              "        [461.1876],\n",
              "        [462.2322],\n",
              "        [458.4329],\n",
              "        [460.1428],\n",
              "        [442.8729],\n",
              "        [442.6691],\n",
              "        [442.8887],\n",
              "        [442.8040],\n",
              "        [442.1382],\n",
              "        [440.0705],\n",
              "        [442.2473],\n",
              "        [446.1602],\n",
              "        [556.8979],\n",
              "        [552.4486],\n",
              "        [550.9696],\n",
              "        [471.5003],\n",
              "        [455.0156],\n",
              "        [385.4103],\n",
              "        [385.8990],\n",
              "        [389.3811],\n",
              "        [390.0695],\n",
              "        [390.0365],\n",
              "        [388.7807],\n",
              "        [389.9019],\n",
              "        [389.8387],\n",
              "        [450.6602],\n",
              "        [553.4908],\n",
              "        [534.2704],\n",
              "        [528.9182],\n",
              "        [495.3250],\n",
              "        [487.2660],\n",
              "        [528.5853],\n",
              "        [464.2802],\n",
              "        [496.1790],\n",
              "        [499.1028],\n",
              "        [560.4769],\n",
              "        [570.4146],\n",
              "        [387.5218],\n",
              "        [510.0677],\n",
              "        [505.8471],\n",
              "        [767.5213],\n",
              "        [770.9675],\n",
              "        [771.5522],\n",
              "        [769.2013],\n",
              "        [759.6042],\n",
              "        [752.5659],\n",
              "        [762.6952],\n",
              "        [754.0282],\n",
              "        [751.7389],\n",
              "        [747.4460],\n",
              "        [735.7523],\n",
              "        [653.5610],\n",
              "        [755.6839],\n",
              "        [758.1696],\n",
              "        [765.3640],\n",
              "        [756.4801],\n",
              "        [748.2678],\n",
              "        [783.7187],\n",
              "        [785.2942],\n",
              "        [773.9185],\n",
              "        [763.8174],\n",
              "        [777.5051],\n",
              "        [779.3075],\n",
              "        [776.4003],\n",
              "        [779.6210],\n",
              "        [777.6164],\n",
              "        [777.8676],\n",
              "        [778.3226],\n",
              "        [732.3634],\n",
              "        [782.1586],\n",
              "        [780.5981],\n",
              "        [782.8306],\n",
              "        [771.1044],\n",
              "        [776.1343],\n",
              "        [773.1570],\n",
              "        [767.1456],\n",
              "        [778.8214],\n",
              "        [773.4893],\n",
              "        [774.1973],\n",
              "        [772.7780],\n",
              "        [775.9722],\n",
              "        [774.1567],\n",
              "        [783.4475],\n",
              "        [755.6131],\n",
              "        [781.0057],\n",
              "        [776.9474],\n",
              "        [767.6090],\n",
              "        [776.3303],\n",
              "        [751.9168],\n",
              "        [775.5576],\n",
              "        [765.1338],\n",
              "        [742.6595],\n",
              "        [743.1082],\n",
              "        [681.1456],\n",
              "        [598.6223],\n",
              "        [618.2169],\n",
              "        [621.6090],\n",
              "        [694.5971],\n",
              "        [650.8132],\n",
              "        [619.5479],\n",
              "        [614.8890],\n",
              "        [661.4176],\n",
              "        [612.5019],\n",
              "        [624.8031],\n",
              "        [739.4447],\n",
              "        [739.7289],\n",
              "        [726.1289],\n",
              "        [604.2254],\n",
              "        [600.5427],\n",
              "        [607.5619],\n",
              "        [609.1612],\n",
              "        [607.8929],\n",
              "        [644.6597],\n",
              "        [630.8626],\n",
              "        [636.9252],\n",
              "        [637.8605],\n",
              "        [639.8881],\n",
              "        [643.5716],\n",
              "        [643.4785],\n",
              "        [652.4396],\n",
              "        [613.0344],\n",
              "        [609.7612],\n",
              "        [639.9414],\n",
              "        [777.5689],\n",
              "        [775.5918],\n",
              "        [771.6825],\n",
              "        [773.8817],\n",
              "        [771.7142],\n",
              "        [709.6505],\n",
              "        [623.1674],\n",
              "        [740.4636],\n",
              "        [770.9457],\n",
              "        [775.6003],\n",
              "        [735.4939],\n",
              "        [600.6876],\n",
              "        [757.2705],\n",
              "        [769.7005],\n",
              "        [766.6464],\n",
              "        [604.4853],\n",
              "        [623.0445],\n",
              "        [605.3398],\n",
              "        [601.1958],\n",
              "        [719.5781],\n",
              "        [773.3718],\n",
              "        [712.4025],\n",
              "        [771.0074],\n",
              "        [773.1453],\n",
              "        [769.9035],\n",
              "        [772.4935],\n",
              "        [744.5896],\n",
              "        [609.3613],\n",
              "        [748.1776],\n",
              "        [763.1826],\n",
              "        [773.0187],\n",
              "        [774.3901],\n",
              "        [771.8789],\n",
              "        [771.6842],\n",
              "        [762.1019],\n",
              "        [755.3490],\n",
              "        [737.3473],\n",
              "        [775.5671],\n",
              "        [758.0733],\n",
              "        [767.9209],\n",
              "        [766.6512],\n",
              "        [771.1846],\n",
              "        [768.3082],\n",
              "        [769.2105],\n",
              "        [768.6073],\n",
              "        [760.4369],\n",
              "        [767.4808],\n",
              "        [771.9958],\n",
              "        [767.0904],\n",
              "        [814.4006],\n",
              "        [795.3787],\n",
              "        [787.1673],\n",
              "        [812.8051],\n",
              "        [812.9194],\n",
              "        [533.0594],\n",
              "        [533.9967],\n",
              "        [534.5094],\n",
              "        [538.6465],\n",
              "        [534.9057],\n",
              "        [534.0719],\n",
              "        [534.5721],\n",
              "        [535.1847],\n",
              "        [431.5247],\n",
              "        [432.9449],\n",
              "        [431.8694],\n",
              "        [430.7697],\n",
              "        [432.3464]], dtype=torch.float64)"
            ]
          },
          "metadata": {
            "tags": []
          },
          "execution_count": 33
        }
      ]
    },
    {
      "cell_type": "code",
      "metadata": {
        "id": "SH1t7c26hM76",
        "colab_type": "code",
        "colab": {}
      },
      "source": [
        ""
      ],
      "execution_count": 0,
      "outputs": []
    }
  ]
}