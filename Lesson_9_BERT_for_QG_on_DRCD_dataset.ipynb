{
  "nbformat": 4,
  "nbformat_minor": 0,
  "metadata": {
    "colab": {
      "name": "Lesson 9: BERT for QG on DRCD dataset.ipynb",
      "provenance": [],
      "collapsed_sections": [],
      "toc_visible": true,
      "include_colab_link": true
    },
    "kernelspec": {
      "name": "python3",
      "display_name": "Python 3"
    },
    "accelerator": "GPU",
    "widgets": {
      "application/vnd.jupyter.widget-state+json": {
        "2ed10d8920ed419aa6f01b448d32ed3a": {
          "model_module": "@jupyter-widgets/controls",
          "model_name": "HBoxModel",
          "state": {
            "_view_name": "HBoxView",
            "_dom_classes": [],
            "_model_name": "HBoxModel",
            "_view_module": "@jupyter-widgets/controls",
            "_model_module_version": "1.5.0",
            "_view_count": null,
            "_view_module_version": "1.5.0",
            "box_style": "",
            "layout": "IPY_MODEL_2112cf846bfe45b5991f2ca19c06df12",
            "_model_module": "@jupyter-widgets/controls",
            "children": [
              "IPY_MODEL_4d8f65d502364d34b67ec78bf1a85535",
              "IPY_MODEL_9bb58275a42547969a453a88d8b6baa1"
            ]
          }
        },
        "2112cf846bfe45b5991f2ca19c06df12": {
          "model_module": "@jupyter-widgets/base",
          "model_name": "LayoutModel",
          "state": {
            "_view_name": "LayoutView",
            "grid_template_rows": null,
            "right": null,
            "justify_content": null,
            "_view_module": "@jupyter-widgets/base",
            "overflow": null,
            "_model_module_version": "1.2.0",
            "_view_count": null,
            "flex_flow": null,
            "width": null,
            "min_width": null,
            "border": null,
            "align_items": null,
            "bottom": null,
            "_model_module": "@jupyter-widgets/base",
            "top": null,
            "grid_column": null,
            "overflow_y": null,
            "overflow_x": null,
            "grid_auto_flow": null,
            "grid_area": null,
            "grid_template_columns": null,
            "flex": null,
            "_model_name": "LayoutModel",
            "justify_items": null,
            "grid_row": null,
            "max_height": null,
            "align_content": null,
            "visibility": null,
            "align_self": null,
            "height": null,
            "min_height": null,
            "padding": null,
            "grid_auto_rows": null,
            "grid_gap": null,
            "max_width": null,
            "order": null,
            "_view_module_version": "1.2.0",
            "grid_template_areas": null,
            "object_position": null,
            "object_fit": null,
            "grid_auto_columns": null,
            "margin": null,
            "display": null,
            "left": null
          }
        },
        "4d8f65d502364d34b67ec78bf1a85535": {
          "model_module": "@jupyter-widgets/controls",
          "model_name": "FloatProgressModel",
          "state": {
            "_view_name": "ProgressView",
            "style": "IPY_MODEL_7e3c30401c5042eb81518a0c6fea3611",
            "_dom_classes": [],
            "description": "Downloading: 100%",
            "_model_name": "FloatProgressModel",
            "bar_style": "success",
            "max": 109540,
            "_view_module": "@jupyter-widgets/controls",
            "_model_module_version": "1.5.0",
            "value": 109540,
            "_view_count": null,
            "_view_module_version": "1.5.0",
            "orientation": "horizontal",
            "min": 0,
            "description_tooltip": null,
            "_model_module": "@jupyter-widgets/controls",
            "layout": "IPY_MODEL_4ca9fa48d26b47d7a0b4e5df90f524d1"
          }
        },
        "9bb58275a42547969a453a88d8b6baa1": {
          "model_module": "@jupyter-widgets/controls",
          "model_name": "HTMLModel",
          "state": {
            "_view_name": "HTMLView",
            "style": "IPY_MODEL_c68859e20a8f41dbb465b8955e2b0275",
            "_dom_classes": [],
            "description": "",
            "_model_name": "HTMLModel",
            "placeholder": "​",
            "_view_module": "@jupyter-widgets/controls",
            "_model_module_version": "1.5.0",
            "value": " 110k/110k [00:00&lt;00:00, 488kB/s]",
            "_view_count": null,
            "_view_module_version": "1.5.0",
            "description_tooltip": null,
            "_model_module": "@jupyter-widgets/controls",
            "layout": "IPY_MODEL_eaea16d81ee244119258dce484c5e0f1"
          }
        },
        "7e3c30401c5042eb81518a0c6fea3611": {
          "model_module": "@jupyter-widgets/controls",
          "model_name": "ProgressStyleModel",
          "state": {
            "_view_name": "StyleView",
            "_model_name": "ProgressStyleModel",
            "description_width": "initial",
            "_view_module": "@jupyter-widgets/base",
            "_model_module_version": "1.5.0",
            "_view_count": null,
            "_view_module_version": "1.2.0",
            "bar_color": null,
            "_model_module": "@jupyter-widgets/controls"
          }
        },
        "4ca9fa48d26b47d7a0b4e5df90f524d1": {
          "model_module": "@jupyter-widgets/base",
          "model_name": "LayoutModel",
          "state": {
            "_view_name": "LayoutView",
            "grid_template_rows": null,
            "right": null,
            "justify_content": null,
            "_view_module": "@jupyter-widgets/base",
            "overflow": null,
            "_model_module_version": "1.2.0",
            "_view_count": null,
            "flex_flow": null,
            "width": null,
            "min_width": null,
            "border": null,
            "align_items": null,
            "bottom": null,
            "_model_module": "@jupyter-widgets/base",
            "top": null,
            "grid_column": null,
            "overflow_y": null,
            "overflow_x": null,
            "grid_auto_flow": null,
            "grid_area": null,
            "grid_template_columns": null,
            "flex": null,
            "_model_name": "LayoutModel",
            "justify_items": null,
            "grid_row": null,
            "max_height": null,
            "align_content": null,
            "visibility": null,
            "align_self": null,
            "height": null,
            "min_height": null,
            "padding": null,
            "grid_auto_rows": null,
            "grid_gap": null,
            "max_width": null,
            "order": null,
            "_view_module_version": "1.2.0",
            "grid_template_areas": null,
            "object_position": null,
            "object_fit": null,
            "grid_auto_columns": null,
            "margin": null,
            "display": null,
            "left": null
          }
        },
        "c68859e20a8f41dbb465b8955e2b0275": {
          "model_module": "@jupyter-widgets/controls",
          "model_name": "DescriptionStyleModel",
          "state": {
            "_view_name": "StyleView",
            "_model_name": "DescriptionStyleModel",
            "description_width": "",
            "_view_module": "@jupyter-widgets/base",
            "_model_module_version": "1.5.0",
            "_view_count": null,
            "_view_module_version": "1.2.0",
            "_model_module": "@jupyter-widgets/controls"
          }
        },
        "eaea16d81ee244119258dce484c5e0f1": {
          "model_module": "@jupyter-widgets/base",
          "model_name": "LayoutModel",
          "state": {
            "_view_name": "LayoutView",
            "grid_template_rows": null,
            "right": null,
            "justify_content": null,
            "_view_module": "@jupyter-widgets/base",
            "overflow": null,
            "_model_module_version": "1.2.0",
            "_view_count": null,
            "flex_flow": null,
            "width": null,
            "min_width": null,
            "border": null,
            "align_items": null,
            "bottom": null,
            "_model_module": "@jupyter-widgets/base",
            "top": null,
            "grid_column": null,
            "overflow_y": null,
            "overflow_x": null,
            "grid_auto_flow": null,
            "grid_area": null,
            "grid_template_columns": null,
            "flex": null,
            "_model_name": "LayoutModel",
            "justify_items": null,
            "grid_row": null,
            "max_height": null,
            "align_content": null,
            "visibility": null,
            "align_self": null,
            "height": null,
            "min_height": null,
            "padding": null,
            "grid_auto_rows": null,
            "grid_gap": null,
            "max_width": null,
            "order": null,
            "_view_module_version": "1.2.0",
            "grid_template_areas": null,
            "object_position": null,
            "object_fit": null,
            "grid_auto_columns": null,
            "margin": null,
            "display": null,
            "left": null
          }
        },
        "c0641bd0a64d418d91e62053f024e419": {
          "model_module": "@jupyter-widgets/controls",
          "model_name": "HBoxModel",
          "state": {
            "_view_name": "HBoxView",
            "_dom_classes": [],
            "_model_name": "HBoxModel",
            "_view_module": "@jupyter-widgets/controls",
            "_model_module_version": "1.5.0",
            "_view_count": null,
            "_view_module_version": "1.5.0",
            "box_style": "",
            "layout": "IPY_MODEL_9af0e5df9ec14f4dae882cb5257b12f3",
            "_model_module": "@jupyter-widgets/controls",
            "children": [
              "IPY_MODEL_34191bb316a84121b870e20856e18574",
              "IPY_MODEL_089dd5ec308b43a182bc2f8d161223f1"
            ]
          }
        },
        "9af0e5df9ec14f4dae882cb5257b12f3": {
          "model_module": "@jupyter-widgets/base",
          "model_name": "LayoutModel",
          "state": {
            "_view_name": "LayoutView",
            "grid_template_rows": null,
            "right": null,
            "justify_content": null,
            "_view_module": "@jupyter-widgets/base",
            "overflow": null,
            "_model_module_version": "1.2.0",
            "_view_count": null,
            "flex_flow": null,
            "width": null,
            "min_width": null,
            "border": null,
            "align_items": null,
            "bottom": null,
            "_model_module": "@jupyter-widgets/base",
            "top": null,
            "grid_column": null,
            "overflow_y": null,
            "overflow_x": null,
            "grid_auto_flow": null,
            "grid_area": null,
            "grid_template_columns": null,
            "flex": null,
            "_model_name": "LayoutModel",
            "justify_items": null,
            "grid_row": null,
            "max_height": null,
            "align_content": null,
            "visibility": null,
            "align_self": null,
            "height": null,
            "min_height": null,
            "padding": null,
            "grid_auto_rows": null,
            "grid_gap": null,
            "max_width": null,
            "order": null,
            "_view_module_version": "1.2.0",
            "grid_template_areas": null,
            "object_position": null,
            "object_fit": null,
            "grid_auto_columns": null,
            "margin": null,
            "display": null,
            "left": null
          }
        },
        "34191bb316a84121b870e20856e18574": {
          "model_module": "@jupyter-widgets/controls",
          "model_name": "FloatProgressModel",
          "state": {
            "_view_name": "ProgressView",
            "style": "IPY_MODEL_d86f6b1cf48c4be5a5daa60fc9241b9f",
            "_dom_classes": [],
            "description": "Downloading: 100%",
            "_model_name": "FloatProgressModel",
            "bar_style": "success",
            "max": 268943,
            "_view_module": "@jupyter-widgets/controls",
            "_model_module_version": "1.5.0",
            "value": 268943,
            "_view_count": null,
            "_view_module_version": "1.5.0",
            "orientation": "horizontal",
            "min": 0,
            "description_tooltip": null,
            "_model_module": "@jupyter-widgets/controls",
            "layout": "IPY_MODEL_7a5af8de14b94e698e180236d7c66a33"
          }
        },
        "089dd5ec308b43a182bc2f8d161223f1": {
          "model_module": "@jupyter-widgets/controls",
          "model_name": "HTMLModel",
          "state": {
            "_view_name": "HTMLView",
            "style": "IPY_MODEL_e8c7812663a440d4a6ddf77eca5e0cf6",
            "_dom_classes": [],
            "description": "",
            "_model_name": "HTMLModel",
            "placeholder": "​",
            "_view_module": "@jupyter-widgets/controls",
            "_model_module_version": "1.5.0",
            "value": " 269k/269k [00:01&lt;00:00, 262kB/s]",
            "_view_count": null,
            "_view_module_version": "1.5.0",
            "description_tooltip": null,
            "_model_module": "@jupyter-widgets/controls",
            "layout": "IPY_MODEL_da18163219fe4fe9af84801ed384f905"
          }
        },
        "d86f6b1cf48c4be5a5daa60fc9241b9f": {
          "model_module": "@jupyter-widgets/controls",
          "model_name": "ProgressStyleModel",
          "state": {
            "_view_name": "StyleView",
            "_model_name": "ProgressStyleModel",
            "description_width": "initial",
            "_view_module": "@jupyter-widgets/base",
            "_model_module_version": "1.5.0",
            "_view_count": null,
            "_view_module_version": "1.2.0",
            "bar_color": null,
            "_model_module": "@jupyter-widgets/controls"
          }
        },
        "7a5af8de14b94e698e180236d7c66a33": {
          "model_module": "@jupyter-widgets/base",
          "model_name": "LayoutModel",
          "state": {
            "_view_name": "LayoutView",
            "grid_template_rows": null,
            "right": null,
            "justify_content": null,
            "_view_module": "@jupyter-widgets/base",
            "overflow": null,
            "_model_module_version": "1.2.0",
            "_view_count": null,
            "flex_flow": null,
            "width": null,
            "min_width": null,
            "border": null,
            "align_items": null,
            "bottom": null,
            "_model_module": "@jupyter-widgets/base",
            "top": null,
            "grid_column": null,
            "overflow_y": null,
            "overflow_x": null,
            "grid_auto_flow": null,
            "grid_area": null,
            "grid_template_columns": null,
            "flex": null,
            "_model_name": "LayoutModel",
            "justify_items": null,
            "grid_row": null,
            "max_height": null,
            "align_content": null,
            "visibility": null,
            "align_self": null,
            "height": null,
            "min_height": null,
            "padding": null,
            "grid_auto_rows": null,
            "grid_gap": null,
            "max_width": null,
            "order": null,
            "_view_module_version": "1.2.0",
            "grid_template_areas": null,
            "object_position": null,
            "object_fit": null,
            "grid_auto_columns": null,
            "margin": null,
            "display": null,
            "left": null
          }
        },
        "e8c7812663a440d4a6ddf77eca5e0cf6": {
          "model_module": "@jupyter-widgets/controls",
          "model_name": "DescriptionStyleModel",
          "state": {
            "_view_name": "StyleView",
            "_model_name": "DescriptionStyleModel",
            "description_width": "",
            "_view_module": "@jupyter-widgets/base",
            "_model_module_version": "1.5.0",
            "_view_count": null,
            "_view_module_version": "1.2.0",
            "_model_module": "@jupyter-widgets/controls"
          }
        },
        "da18163219fe4fe9af84801ed384f905": {
          "model_module": "@jupyter-widgets/base",
          "model_name": "LayoutModel",
          "state": {
            "_view_name": "LayoutView",
            "grid_template_rows": null,
            "right": null,
            "justify_content": null,
            "_view_module": "@jupyter-widgets/base",
            "overflow": null,
            "_model_module_version": "1.2.0",
            "_view_count": null,
            "flex_flow": null,
            "width": null,
            "min_width": null,
            "border": null,
            "align_items": null,
            "bottom": null,
            "_model_module": "@jupyter-widgets/base",
            "top": null,
            "grid_column": null,
            "overflow_y": null,
            "overflow_x": null,
            "grid_auto_flow": null,
            "grid_area": null,
            "grid_template_columns": null,
            "flex": null,
            "_model_name": "LayoutModel",
            "justify_items": null,
            "grid_row": null,
            "max_height": null,
            "align_content": null,
            "visibility": null,
            "align_self": null,
            "height": null,
            "min_height": null,
            "padding": null,
            "grid_auto_rows": null,
            "grid_gap": null,
            "max_width": null,
            "order": null,
            "_view_module_version": "1.2.0",
            "grid_template_areas": null,
            "object_position": null,
            "object_fit": null,
            "grid_auto_columns": null,
            "margin": null,
            "display": null,
            "left": null
          }
        },
        "c28162d4df0a4089b6cb992ba5bcdd70": {
          "model_module": "@jupyter-widgets/controls",
          "model_name": "HBoxModel",
          "state": {
            "_view_name": "HBoxView",
            "_dom_classes": [],
            "_model_name": "HBoxModel",
            "_view_module": "@jupyter-widgets/controls",
            "_model_module_version": "1.5.0",
            "_view_count": null,
            "_view_module_version": "1.5.0",
            "box_style": "",
            "layout": "IPY_MODEL_822b4df769d046bdac25f3af38f14606",
            "_model_module": "@jupyter-widgets/controls",
            "children": [
              "IPY_MODEL_68e26b70fb9e47868ad28bc9f26b2269",
              "IPY_MODEL_7111eb363c754831957ee51be00c3647"
            ]
          }
        },
        "822b4df769d046bdac25f3af38f14606": {
          "model_module": "@jupyter-widgets/base",
          "model_name": "LayoutModel",
          "state": {
            "_view_name": "LayoutView",
            "grid_template_rows": null,
            "right": null,
            "justify_content": null,
            "_view_module": "@jupyter-widgets/base",
            "overflow": null,
            "_model_module_version": "1.2.0",
            "_view_count": null,
            "flex_flow": null,
            "width": null,
            "min_width": null,
            "border": null,
            "align_items": null,
            "bottom": null,
            "_model_module": "@jupyter-widgets/base",
            "top": null,
            "grid_column": null,
            "overflow_y": null,
            "overflow_x": null,
            "grid_auto_flow": null,
            "grid_area": null,
            "grid_template_columns": null,
            "flex": null,
            "_model_name": "LayoutModel",
            "justify_items": null,
            "grid_row": null,
            "max_height": null,
            "align_content": null,
            "visibility": null,
            "align_self": null,
            "height": null,
            "min_height": null,
            "padding": null,
            "grid_auto_rows": null,
            "grid_gap": null,
            "max_width": null,
            "order": null,
            "_view_module_version": "1.2.0",
            "grid_template_areas": null,
            "object_position": null,
            "object_fit": null,
            "grid_auto_columns": null,
            "margin": null,
            "display": null,
            "left": null
          }
        },
        "68e26b70fb9e47868ad28bc9f26b2269": {
          "model_module": "@jupyter-widgets/controls",
          "model_name": "FloatProgressModel",
          "state": {
            "_view_name": "ProgressView",
            "style": "IPY_MODEL_98eed6f96f7a4ef39d72039548fb766f",
            "_dom_classes": [],
            "description": "Downloading: 100%",
            "_model_name": "FloatProgressModel",
            "bar_style": "success",
            "max": 624,
            "_view_module": "@jupyter-widgets/controls",
            "_model_module_version": "1.5.0",
            "value": 624,
            "_view_count": null,
            "_view_module_version": "1.5.0",
            "orientation": "horizontal",
            "min": 0,
            "description_tooltip": null,
            "_model_module": "@jupyter-widgets/controls",
            "layout": "IPY_MODEL_6525e9f7b3514f96bbfb6500d66e3de9"
          }
        },
        "7111eb363c754831957ee51be00c3647": {
          "model_module": "@jupyter-widgets/controls",
          "model_name": "HTMLModel",
          "state": {
            "_view_name": "HTMLView",
            "style": "IPY_MODEL_e5251af6128742e68c730f35428b307a",
            "_dom_classes": [],
            "description": "",
            "_model_name": "HTMLModel",
            "placeholder": "​",
            "_view_module": "@jupyter-widgets/controls",
            "_model_module_version": "1.5.0",
            "value": " 624/624 [00:00&lt;00:00, 975B/s]",
            "_view_count": null,
            "_view_module_version": "1.5.0",
            "description_tooltip": null,
            "_model_module": "@jupyter-widgets/controls",
            "layout": "IPY_MODEL_45231b63fd7e43e69957380587baa15a"
          }
        },
        "98eed6f96f7a4ef39d72039548fb766f": {
          "model_module": "@jupyter-widgets/controls",
          "model_name": "ProgressStyleModel",
          "state": {
            "_view_name": "StyleView",
            "_model_name": "ProgressStyleModel",
            "description_width": "initial",
            "_view_module": "@jupyter-widgets/base",
            "_model_module_version": "1.5.0",
            "_view_count": null,
            "_view_module_version": "1.2.0",
            "bar_color": null,
            "_model_module": "@jupyter-widgets/controls"
          }
        },
        "6525e9f7b3514f96bbfb6500d66e3de9": {
          "model_module": "@jupyter-widgets/base",
          "model_name": "LayoutModel",
          "state": {
            "_view_name": "LayoutView",
            "grid_template_rows": null,
            "right": null,
            "justify_content": null,
            "_view_module": "@jupyter-widgets/base",
            "overflow": null,
            "_model_module_version": "1.2.0",
            "_view_count": null,
            "flex_flow": null,
            "width": null,
            "min_width": null,
            "border": null,
            "align_items": null,
            "bottom": null,
            "_model_module": "@jupyter-widgets/base",
            "top": null,
            "grid_column": null,
            "overflow_y": null,
            "overflow_x": null,
            "grid_auto_flow": null,
            "grid_area": null,
            "grid_template_columns": null,
            "flex": null,
            "_model_name": "LayoutModel",
            "justify_items": null,
            "grid_row": null,
            "max_height": null,
            "align_content": null,
            "visibility": null,
            "align_self": null,
            "height": null,
            "min_height": null,
            "padding": null,
            "grid_auto_rows": null,
            "grid_gap": null,
            "max_width": null,
            "order": null,
            "_view_module_version": "1.2.0",
            "grid_template_areas": null,
            "object_position": null,
            "object_fit": null,
            "grid_auto_columns": null,
            "margin": null,
            "display": null,
            "left": null
          }
        },
        "e5251af6128742e68c730f35428b307a": {
          "model_module": "@jupyter-widgets/controls",
          "model_name": "DescriptionStyleModel",
          "state": {
            "_view_name": "StyleView",
            "_model_name": "DescriptionStyleModel",
            "description_width": "",
            "_view_module": "@jupyter-widgets/base",
            "_model_module_version": "1.5.0",
            "_view_count": null,
            "_view_module_version": "1.2.0",
            "_model_module": "@jupyter-widgets/controls"
          }
        },
        "45231b63fd7e43e69957380587baa15a": {
          "model_module": "@jupyter-widgets/base",
          "model_name": "LayoutModel",
          "state": {
            "_view_name": "LayoutView",
            "grid_template_rows": null,
            "right": null,
            "justify_content": null,
            "_view_module": "@jupyter-widgets/base",
            "overflow": null,
            "_model_module_version": "1.2.0",
            "_view_count": null,
            "flex_flow": null,
            "width": null,
            "min_width": null,
            "border": null,
            "align_items": null,
            "bottom": null,
            "_model_module": "@jupyter-widgets/base",
            "top": null,
            "grid_column": null,
            "overflow_y": null,
            "overflow_x": null,
            "grid_auto_flow": null,
            "grid_area": null,
            "grid_template_columns": null,
            "flex": null,
            "_model_name": "LayoutModel",
            "justify_items": null,
            "grid_row": null,
            "max_height": null,
            "align_content": null,
            "visibility": null,
            "align_self": null,
            "height": null,
            "min_height": null,
            "padding": null,
            "grid_auto_rows": null,
            "grid_gap": null,
            "max_width": null,
            "order": null,
            "_view_module_version": "1.2.0",
            "grid_template_areas": null,
            "object_position": null,
            "object_fit": null,
            "grid_auto_columns": null,
            "margin": null,
            "display": null,
            "left": null
          }
        },
        "f5c4a9ba575142e4800455c3a151970a": {
          "model_module": "@jupyter-widgets/controls",
          "model_name": "HBoxModel",
          "state": {
            "_view_name": "HBoxView",
            "_dom_classes": [],
            "_model_name": "HBoxModel",
            "_view_module": "@jupyter-widgets/controls",
            "_model_module_version": "1.5.0",
            "_view_count": null,
            "_view_module_version": "1.5.0",
            "box_style": "",
            "layout": "IPY_MODEL_3d379b30b25846bdbaac90ded1c7c566",
            "_model_module": "@jupyter-widgets/controls",
            "children": [
              "IPY_MODEL_b1784478f05041efb6234b1f9cb28deb",
              "IPY_MODEL_39f20188e34647979fa4552e03ca5f33"
            ]
          }
        },
        "3d379b30b25846bdbaac90ded1c7c566": {
          "model_module": "@jupyter-widgets/base",
          "model_name": "LayoutModel",
          "state": {
            "_view_name": "LayoutView",
            "grid_template_rows": null,
            "right": null,
            "justify_content": null,
            "_view_module": "@jupyter-widgets/base",
            "overflow": null,
            "_model_module_version": "1.2.0",
            "_view_count": null,
            "flex_flow": null,
            "width": null,
            "min_width": null,
            "border": null,
            "align_items": null,
            "bottom": null,
            "_model_module": "@jupyter-widgets/base",
            "top": null,
            "grid_column": null,
            "overflow_y": null,
            "overflow_x": null,
            "grid_auto_flow": null,
            "grid_area": null,
            "grid_template_columns": null,
            "flex": null,
            "_model_name": "LayoutModel",
            "justify_items": null,
            "grid_row": null,
            "max_height": null,
            "align_content": null,
            "visibility": null,
            "align_self": null,
            "height": null,
            "min_height": null,
            "padding": null,
            "grid_auto_rows": null,
            "grid_gap": null,
            "max_width": null,
            "order": null,
            "_view_module_version": "1.2.0",
            "grid_template_areas": null,
            "object_position": null,
            "object_fit": null,
            "grid_auto_columns": null,
            "margin": null,
            "display": null,
            "left": null
          }
        },
        "b1784478f05041efb6234b1f9cb28deb": {
          "model_module": "@jupyter-widgets/controls",
          "model_name": "FloatProgressModel",
          "state": {
            "_view_name": "ProgressView",
            "style": "IPY_MODEL_a8747559cb084ea28510cbe77d704260",
            "_dom_classes": [],
            "description": "Downloading: 100%",
            "_model_name": "FloatProgressModel",
            "bar_style": "success",
            "max": 411577189,
            "_view_module": "@jupyter-widgets/controls",
            "_model_module_version": "1.5.0",
            "value": 411577189,
            "_view_count": null,
            "_view_module_version": "1.5.0",
            "orientation": "horizontal",
            "min": 0,
            "description_tooltip": null,
            "_model_module": "@jupyter-widgets/controls",
            "layout": "IPY_MODEL_a6f33f1d7ab943f186255799f1123eee"
          }
        },
        "39f20188e34647979fa4552e03ca5f33": {
          "model_module": "@jupyter-widgets/controls",
          "model_name": "HTMLModel",
          "state": {
            "_view_name": "HTMLView",
            "style": "IPY_MODEL_a760db912ca44077b0ba1eeb87cb82e1",
            "_dom_classes": [],
            "description": "",
            "_model_name": "HTMLModel",
            "placeholder": "​",
            "_view_module": "@jupyter-widgets/controls",
            "_model_module_version": "1.5.0",
            "value": " 412M/412M [04:04&lt;00:00, 1.68MB/s]",
            "_view_count": null,
            "_view_module_version": "1.5.0",
            "description_tooltip": null,
            "_model_module": "@jupyter-widgets/controls",
            "layout": "IPY_MODEL_752984cf81854dec8b2d469f22890695"
          }
        },
        "a8747559cb084ea28510cbe77d704260": {
          "model_module": "@jupyter-widgets/controls",
          "model_name": "ProgressStyleModel",
          "state": {
            "_view_name": "StyleView",
            "_model_name": "ProgressStyleModel",
            "description_width": "initial",
            "_view_module": "@jupyter-widgets/base",
            "_model_module_version": "1.5.0",
            "_view_count": null,
            "_view_module_version": "1.2.0",
            "bar_color": null,
            "_model_module": "@jupyter-widgets/controls"
          }
        },
        "a6f33f1d7ab943f186255799f1123eee": {
          "model_module": "@jupyter-widgets/base",
          "model_name": "LayoutModel",
          "state": {
            "_view_name": "LayoutView",
            "grid_template_rows": null,
            "right": null,
            "justify_content": null,
            "_view_module": "@jupyter-widgets/base",
            "overflow": null,
            "_model_module_version": "1.2.0",
            "_view_count": null,
            "flex_flow": null,
            "width": null,
            "min_width": null,
            "border": null,
            "align_items": null,
            "bottom": null,
            "_model_module": "@jupyter-widgets/base",
            "top": null,
            "grid_column": null,
            "overflow_y": null,
            "overflow_x": null,
            "grid_auto_flow": null,
            "grid_area": null,
            "grid_template_columns": null,
            "flex": null,
            "_model_name": "LayoutModel",
            "justify_items": null,
            "grid_row": null,
            "max_height": null,
            "align_content": null,
            "visibility": null,
            "align_self": null,
            "height": null,
            "min_height": null,
            "padding": null,
            "grid_auto_rows": null,
            "grid_gap": null,
            "max_width": null,
            "order": null,
            "_view_module_version": "1.2.0",
            "grid_template_areas": null,
            "object_position": null,
            "object_fit": null,
            "grid_auto_columns": null,
            "margin": null,
            "display": null,
            "left": null
          }
        },
        "a760db912ca44077b0ba1eeb87cb82e1": {
          "model_module": "@jupyter-widgets/controls",
          "model_name": "DescriptionStyleModel",
          "state": {
            "_view_name": "StyleView",
            "_model_name": "DescriptionStyleModel",
            "description_width": "",
            "_view_module": "@jupyter-widgets/base",
            "_model_module_version": "1.5.0",
            "_view_count": null,
            "_view_module_version": "1.2.0",
            "_model_module": "@jupyter-widgets/controls"
          }
        },
        "752984cf81854dec8b2d469f22890695": {
          "model_module": "@jupyter-widgets/base",
          "model_name": "LayoutModel",
          "state": {
            "_view_name": "LayoutView",
            "grid_template_rows": null,
            "right": null,
            "justify_content": null,
            "_view_module": "@jupyter-widgets/base",
            "overflow": null,
            "_model_module_version": "1.2.0",
            "_view_count": null,
            "flex_flow": null,
            "width": null,
            "min_width": null,
            "border": null,
            "align_items": null,
            "bottom": null,
            "_model_module": "@jupyter-widgets/base",
            "top": null,
            "grid_column": null,
            "overflow_y": null,
            "overflow_x": null,
            "grid_auto_flow": null,
            "grid_area": null,
            "grid_template_columns": null,
            "flex": null,
            "_model_name": "LayoutModel",
            "justify_items": null,
            "grid_row": null,
            "max_height": null,
            "align_content": null,
            "visibility": null,
            "align_self": null,
            "height": null,
            "min_height": null,
            "padding": null,
            "grid_auto_rows": null,
            "grid_gap": null,
            "max_width": null,
            "order": null,
            "_view_module_version": "1.2.0",
            "grid_template_areas": null,
            "object_position": null,
            "object_fit": null,
            "grid_auto_columns": null,
            "margin": null,
            "display": null,
            "left": null
          }
        }
      }
    }
  },
  "cells": [
    {
      "cell_type": "markdown",
      "metadata": {
        "id": "view-in-github",
        "colab_type": "text"
      },
      "source": [
        "<a href=\"https://colab.research.google.com/github/UDICatNCHU/PyTorch-Tutorial/blob/master/Lesson_9_BERT_for_QG_on_DRCD_dataset.ipynb\" target=\"_parent\"><img src=\"https://colab.research.google.com/assets/colab-badge.svg\" alt=\"Open In Colab\"/></a>"
      ]
    },
    {
      "cell_type": "markdown",
      "metadata": {
        "id": "MYd9orp08ZIm"
      },
      "source": [
        "### 確認 GPU"
      ]
    },
    {
      "cell_type": "code",
      "metadata": {
        "id": "yiM1leq_8Yz5",
        "outputId": "6d458f6a-4293-4ae9-f007-39329f33153d",
        "colab": {
          "base_uri": "https://localhost:8080/"
        }
      },
      "source": [
        "!nvidia-smi -L"
      ],
      "execution_count": null,
      "outputs": [
        {
          "output_type": "stream",
          "text": [
            "GPU 0: Tesla P100-PCIE-16GB (UUID: GPU-6e10400d-d443-2979-a124-ee93ddcbe38a)\n"
          ],
          "name": "stdout"
        }
      ]
    },
    {
      "cell_type": "markdown",
      "metadata": {
        "id": "N2rG8eFm8Zxk"
      },
      "source": [
        "### Mount 雲端硬碟"
      ]
    },
    {
      "cell_type": "code",
      "metadata": {
        "id": "NWEwUDmgIgk5",
        "outputId": "bc088db7-e46a-4cae-db63-b069a025336e",
        "colab": {
          "base_uri": "https://localhost:8080/"
        }
      },
      "source": [
        "from google.colab import drive\n",
        "drive.mount('/content/drive', force_remount=True)"
      ],
      "execution_count": null,
      "outputs": [
        {
          "output_type": "stream",
          "text": [
            "Mounted at /content/drive\n"
          ],
          "name": "stdout"
        }
      ]
    },
    {
      "cell_type": "markdown",
      "metadata": {
        "id": "T-ZxLiE2CexW"
      },
      "source": [
        "## Masked LM Task\n"
      ]
    },
    {
      "cell_type": "markdown",
      "metadata": {
        "id": "Gclzd957C5wK"
      },
      "source": [
        "### 載入相關套件"
      ]
    },
    {
      "cell_type": "code",
      "metadata": {
        "id": "TnM3qI8sEwCV",
        "outputId": "6d520807-6b9e-4cd0-cdc7-68ab62c37e7a",
        "colab": {
          "base_uri": "https://localhost:8080/"
        }
      },
      "source": [
        "!pip install transformers"
      ],
      "execution_count": null,
      "outputs": [
        {
          "output_type": "stream",
          "text": [
            "Collecting transformers\n",
            "\u001b[?25l  Downloading https://files.pythonhosted.org/packages/9c/34/fb092588df61bf33f113ade030d1cbe74fb73a0353648f8dd938a223dce7/transformers-3.5.0-py3-none-any.whl (1.3MB)\n",
            "\u001b[K     |████████████████████████████████| 1.3MB 2.9MB/s \n",
            "\u001b[?25hRequirement already satisfied: regex!=2019.12.17 in /usr/local/lib/python3.6/dist-packages (from transformers) (2019.12.20)\n",
            "Requirement already satisfied: filelock in /usr/local/lib/python3.6/dist-packages (from transformers) (3.0.12)\n",
            "Requirement already satisfied: dataclasses; python_version < \"3.7\" in /usr/local/lib/python3.6/dist-packages (from transformers) (0.7)\n",
            "Collecting tokenizers==0.9.3\n",
            "\u001b[?25l  Downloading https://files.pythonhosted.org/packages/4c/34/b39eb9994bc3c999270b69c9eea40ecc6f0e97991dba28282b9fd32d44ee/tokenizers-0.9.3-cp36-cp36m-manylinux1_x86_64.whl (2.9MB)\n",
            "\u001b[K     |████████████████████████████████| 2.9MB 16.9MB/s \n",
            "\u001b[?25hRequirement already satisfied: numpy in /usr/local/lib/python3.6/dist-packages (from transformers) (1.18.5)\n",
            "Requirement already satisfied: tqdm>=4.27 in /usr/local/lib/python3.6/dist-packages (from transformers) (4.41.1)\n",
            "Collecting sacremoses\n",
            "\u001b[?25l  Downloading https://files.pythonhosted.org/packages/7d/34/09d19aff26edcc8eb2a01bed8e98f13a1537005d31e95233fd48216eed10/sacremoses-0.0.43.tar.gz (883kB)\n",
            "\u001b[K     |████████████████████████████████| 890kB 42.6MB/s \n",
            "\u001b[?25hCollecting sentencepiece==0.1.91\n",
            "\u001b[?25l  Downloading https://files.pythonhosted.org/packages/d4/a4/d0a884c4300004a78cca907a6ff9a5e9fe4f090f5d95ab341c53d28cbc58/sentencepiece-0.1.91-cp36-cp36m-manylinux1_x86_64.whl (1.1MB)\n",
            "\u001b[K     |████████████████████████████████| 1.1MB 40.1MB/s \n",
            "\u001b[?25hRequirement already satisfied: requests in /usr/local/lib/python3.6/dist-packages (from transformers) (2.23.0)\n",
            "Requirement already satisfied: packaging in /usr/local/lib/python3.6/dist-packages (from transformers) (20.4)\n",
            "Requirement already satisfied: protobuf in /usr/local/lib/python3.6/dist-packages (from transformers) (3.12.4)\n",
            "Requirement already satisfied: six in /usr/local/lib/python3.6/dist-packages (from sacremoses->transformers) (1.15.0)\n",
            "Requirement already satisfied: click in /usr/local/lib/python3.6/dist-packages (from sacremoses->transformers) (7.1.2)\n",
            "Requirement already satisfied: joblib in /usr/local/lib/python3.6/dist-packages (from sacremoses->transformers) (0.17.0)\n",
            "Requirement already satisfied: urllib3!=1.25.0,!=1.25.1,<1.26,>=1.21.1 in /usr/local/lib/python3.6/dist-packages (from requests->transformers) (1.24.3)\n",
            "Requirement already satisfied: chardet<4,>=3.0.2 in /usr/local/lib/python3.6/dist-packages (from requests->transformers) (3.0.4)\n",
            "Requirement already satisfied: certifi>=2017.4.17 in /usr/local/lib/python3.6/dist-packages (from requests->transformers) (2020.6.20)\n",
            "Requirement already satisfied: idna<3,>=2.5 in /usr/local/lib/python3.6/dist-packages (from requests->transformers) (2.10)\n",
            "Requirement already satisfied: pyparsing>=2.0.2 in /usr/local/lib/python3.6/dist-packages (from packaging->transformers) (2.4.7)\n",
            "Requirement already satisfied: setuptools in /usr/local/lib/python3.6/dist-packages (from protobuf->transformers) (50.3.2)\n",
            "Building wheels for collected packages: sacremoses\n",
            "  Building wheel for sacremoses (setup.py) ... \u001b[?25l\u001b[?25hdone\n",
            "  Created wheel for sacremoses: filename=sacremoses-0.0.43-cp36-none-any.whl size=893257 sha256=7a0c8f275687b1c0bd906e8b2df89d1efb54ac1b5037da64462002d3b44e1736\n",
            "  Stored in directory: /root/.cache/pip/wheels/29/3c/fd/7ce5c3f0666dab31a50123635e6fb5e19ceb42ce38d4e58f45\n",
            "Successfully built sacremoses\n",
            "Installing collected packages: tokenizers, sacremoses, sentencepiece, transformers\n",
            "Successfully installed sacremoses-0.0.43 sentencepiece-0.1.91 tokenizers-0.9.3 transformers-3.5.0\n"
          ],
          "name": "stdout"
        }
      ]
    },
    {
      "cell_type": "code",
      "metadata": {
        "id": "385QBcqlDysV"
      },
      "source": [
        "from transformers import BertTokenizerFast, BertForMaskedLM\n",
        "import torch\n",
        "from pprint import pprint"
      ],
      "execution_count": null,
      "outputs": []
    },
    {
      "cell_type": "markdown",
      "metadata": {
        "id": "iMfGnFniDJiD"
      },
      "source": [
        "### 使用 bert-base-chinese 預訓練模型進行 Masked LM Task 預測"
      ]
    },
    {
      "cell_type": "code",
      "metadata": {
        "id": "32zSw6ezC-dn",
        "outputId": "6d2abd85-a912-4659-9742-f5ed2e8a02ff",
        "colab": {
          "base_uri": "https://localhost:8080/",
          "height": 292,
          "referenced_widgets": [
            "2ed10d8920ed419aa6f01b448d32ed3a",
            "2112cf846bfe45b5991f2ca19c06df12",
            "4d8f65d502364d34b67ec78bf1a85535",
            "9bb58275a42547969a453a88d8b6baa1",
            "7e3c30401c5042eb81518a0c6fea3611",
            "4ca9fa48d26b47d7a0b4e5df90f524d1",
            "c68859e20a8f41dbb465b8955e2b0275",
            "eaea16d81ee244119258dce484c5e0f1",
            "c0641bd0a64d418d91e62053f024e419",
            "9af0e5df9ec14f4dae882cb5257b12f3",
            "34191bb316a84121b870e20856e18574",
            "089dd5ec308b43a182bc2f8d161223f1",
            "d86f6b1cf48c4be5a5daa60fc9241b9f",
            "7a5af8de14b94e698e180236d7c66a33",
            "e8c7812663a440d4a6ddf77eca5e0cf6",
            "da18163219fe4fe9af84801ed384f905",
            "c28162d4df0a4089b6cb992ba5bcdd70",
            "822b4df769d046bdac25f3af38f14606",
            "68e26b70fb9e47868ad28bc9f26b2269",
            "7111eb363c754831957ee51be00c3647",
            "98eed6f96f7a4ef39d72039548fb766f",
            "6525e9f7b3514f96bbfb6500d66e3de9",
            "e5251af6128742e68c730f35428b307a",
            "45231b63fd7e43e69957380587baa15a",
            "f5c4a9ba575142e4800455c3a151970a",
            "3d379b30b25846bdbaac90ded1c7c566",
            "b1784478f05041efb6234b1f9cb28deb",
            "39f20188e34647979fa4552e03ca5f33",
            "a8747559cb084ea28510cbe77d704260",
            "a6f33f1d7ab943f186255799f1123eee",
            "a760db912ca44077b0ba1eeb87cb82e1",
            "752984cf81854dec8b2d469f22890695"
          ]
        }
      },
      "source": [
        "tokenizer = BertTokenizerFast.from_pretrained('bert-base-chinese')\n",
        "model = BertForMaskedLM.from_pretrained('bert-base-chinese', return_dict=True)"
      ],
      "execution_count": null,
      "outputs": [
        {
          "output_type": "display_data",
          "data": {
            "application/vnd.jupyter.widget-view+json": {
              "model_id": "2ed10d8920ed419aa6f01b448d32ed3a",
              "version_minor": 0,
              "version_major": 2
            },
            "text/plain": [
              "HBox(children=(FloatProgress(value=0.0, description='Downloading', max=109540.0, style=ProgressStyle(descripti…"
            ]
          },
          "metadata": {
            "tags": []
          }
        },
        {
          "output_type": "stream",
          "text": [
            "\n"
          ],
          "name": "stdout"
        },
        {
          "output_type": "display_data",
          "data": {
            "application/vnd.jupyter.widget-view+json": {
              "model_id": "c0641bd0a64d418d91e62053f024e419",
              "version_minor": 0,
              "version_major": 2
            },
            "text/plain": [
              "HBox(children=(FloatProgress(value=0.0, description='Downloading', max=268943.0, style=ProgressStyle(descripti…"
            ]
          },
          "metadata": {
            "tags": []
          }
        },
        {
          "output_type": "stream",
          "text": [
            "\n"
          ],
          "name": "stdout"
        },
        {
          "output_type": "display_data",
          "data": {
            "application/vnd.jupyter.widget-view+json": {
              "model_id": "c28162d4df0a4089b6cb992ba5bcdd70",
              "version_minor": 0,
              "version_major": 2
            },
            "text/plain": [
              "HBox(children=(FloatProgress(value=0.0, description='Downloading', max=624.0, style=ProgressStyle(description_…"
            ]
          },
          "metadata": {
            "tags": []
          }
        },
        {
          "output_type": "stream",
          "text": [
            "\n"
          ],
          "name": "stdout"
        },
        {
          "output_type": "display_data",
          "data": {
            "application/vnd.jupyter.widget-view+json": {
              "model_id": "f5c4a9ba575142e4800455c3a151970a",
              "version_minor": 0,
              "version_major": 2
            },
            "text/plain": [
              "HBox(children=(FloatProgress(value=0.0, description='Downloading', max=411577189.0, style=ProgressStyle(descri…"
            ]
          },
          "metadata": {
            "tags": []
          }
        },
        {
          "output_type": "stream",
          "text": [
            "\n"
          ],
          "name": "stdout"
        },
        {
          "output_type": "stream",
          "text": [
            "Some weights of the model checkpoint at bert-base-chinese were not used when initializing BertForMaskedLM: ['cls.seq_relationship.weight', 'cls.seq_relationship.bias']\n",
            "- This IS expected if you are initializing BertForMaskedLM from the checkpoint of a model trained on another task or with another architecture (e.g. initializing a BertForSequenceClassification model from a BertForPreTraining model).\n",
            "- This IS NOT expected if you are initializing BertForMaskedLM from the checkpoint of a model that you expect to be exactly identical (initializing a BertForSequenceClassification model from a BertForSequenceClassification model).\n"
          ],
          "name": "stderr"
        }
      ]
    },
    {
      "cell_type": "code",
      "metadata": {
        "id": "YnGf89iOFVit",
        "outputId": "ddbe7903-35b5-40a4-e198-9e0ccbae3b65",
        "colab": {
          "base_uri": "https://localhost:8080/"
        }
      },
      "source": [
        "sentence = \"今[MASK]天[MASK]是大[MASK]陽\"\n",
        "\n",
        "inputs_encodings = tokenizer(sentence, return_tensors=\"pt\")\n",
        "pprint(inputs_encodings)"
      ],
      "execution_count": null,
      "outputs": [
        {
          "output_type": "stream",
          "text": [
            "{'attention_mask': tensor([[1, 1, 1, 1, 1, 1, 1, 1, 1, 1]]),\n",
            " 'input_ids': tensor([[ 101,  791,  103, 1921,  103, 3221, 1920,  103, 7382,  102]]),\n",
            " 'token_type_ids': tensor([[0, 0, 0, 0, 0, 0, 0, 0, 0, 0]])}\n"
          ],
          "name": "stdout"
        }
      ]
    },
    {
      "cell_type": "code",
      "metadata": {
        "id": "0xApzp4FFba8",
        "outputId": "f154f721-51d2-4a76-ad51-1c9b3c522561",
        "colab": {
          "base_uri": "https://localhost:8080/"
        }
      },
      "source": [
        "outputs = model(**inputs_encodings)\n",
        "print(outputs['logits'])"
      ],
      "execution_count": null,
      "outputs": [
        {
          "output_type": "stream",
          "text": [
            "tensor([[[ -7.7514,  -7.6983,  -7.7034,  ...,  -6.5356,  -6.5790,  -6.5821],\n",
            "         [ -7.9448,  -7.8761,  -7.7864,  ...,  -6.6594,  -6.8355,  -6.5145],\n",
            "         [ -8.5947,  -8.9173,  -8.7153,  ...,  -6.4466,  -9.1011,  -8.6727],\n",
            "         ...,\n",
            "         [ -7.5196,  -7.5137,  -8.0660,  ...,  -7.6359, -11.0394,  -7.4551],\n",
            "         [-10.0508,  -9.9053,  -9.6828,  ...,  -7.5788,  -7.8342,  -7.8304],\n",
            "         [ -8.3801,  -8.2615,  -8.2933,  ...,  -5.6104,  -5.5805,  -5.4206]]],\n",
            "       grad_fn=<AddBackward0>)\n"
          ],
          "name": "stdout"
        }
      ]
    },
    {
      "cell_type": "code",
      "metadata": {
        "id": "E4_imkDLLMU3",
        "outputId": "464155e2-d6e3-4daa-a928-6c6f2d148dde",
        "colab": {
          "base_uri": "https://localhost:8080/"
        }
      },
      "source": [
        "print(outputs['logits'].shape)"
      ],
      "execution_count": null,
      "outputs": [
        {
          "output_type": "stream",
          "text": [
            "torch.Size([1, 10, 21128])\n"
          ],
          "name": "stdout"
        }
      ]
    },
    {
      "cell_type": "code",
      "metadata": {
        "id": "zmXw1iBWFlLV",
        "outputId": "082729bb-8aab-4abe-d37a-e95c90b5d6a6",
        "colab": {
          "base_uri": "https://localhost:8080/"
        }
      },
      "source": [
        "for i, token in enumerate(inputs_encodings[0].ids):\n",
        "  if token == 103 : # [MASK] token id = 103\n",
        "    predict = torch.argmax(outputs['logits'][0][i])\n",
        "    predict_token = tokenizer.convert_ids_to_tokens(predict.item())\n",
        "    print(predict_token + '\\n')\n",
        "    sentence = sentence.replace('[MASK]', predict_token)\n",
        "\n",
        "print(sentence)"
      ],
      "execution_count": null,
      "outputs": [
        {
          "output_type": "stream",
          "text": [
            "天\n",
            "\n",
            "氣\n",
            "\n",
            "太\n",
            "\n",
            "今天天氣是大太陽\n"
          ],
          "name": "stdout"
        }
      ]
    },
    {
      "cell_type": "markdown",
      "metadata": {
        "id": "9okvgWEiFwUs"
      },
      "source": [
        "## A Recurrent BERT-based Model for Question Generation"
      ]
    },
    {
      "cell_type": "code",
      "metadata": {
        "id": "7s5A6iaN7UnA",
        "outputId": "23be23fc-17aa-4729-b15f-a7c234d617ca",
        "colab": {
          "base_uri": "https://localhost:8080/"
        }
      },
      "source": [
        "%cd /content/drive/My\\ Drive/Colab\\ Notebooks/"
      ],
      "execution_count": null,
      "outputs": [
        {
          "output_type": "stream",
          "text": [
            "/content/drive/My Drive/Colab Notebooks\n"
          ],
          "name": "stdout"
        }
      ]
    },
    {
      "cell_type": "markdown",
      "metadata": {
        "id": "tMNKsADVi5G8"
      },
      "source": [
        "### 下載 DRCD 資料集"
      ]
    },
    {
      "cell_type": "code",
      "metadata": {
        "id": "LZWa_bZqZSXZ",
        "outputId": "a77460f3-50a0-4f04-89ec-242317f5ca16",
        "colab": {
          "base_uri": "https://localhost:8080/"
        }
      },
      "source": [
        "!mkdir /content/drive/My\\ Drive/Colab\\ Notebooks/QG\\ on\\ drcd\n",
        "%cd /content/drive/My\\ Drive/Colab\\ Notebooks/QG\\ on\\ drcd"
      ],
      "execution_count": null,
      "outputs": [
        {
          "output_type": "stream",
          "text": [
            "/content/drive/My Drive/Colab Notebooks/QG on drcd\n"
          ],
          "name": "stdout"
        }
      ]
    },
    {
      "cell_type": "code",
      "metadata": {
        "id": "bh-PM_ZraBcE",
        "outputId": "68dc8aac-0b1d-425d-9599-f72ace5587e6",
        "colab": {
          "base_uri": "https://localhost:8080/"
        }
      },
      "source": [
        "!wget https://github.com/DRCKnowledgeTeam/DRCD/blob/master/DRCD_training.json?raw=True -O train.json\n",
        "!wget https://github.com/DRCKnowledgeTeam/DRCD/blob/master/DRCD_dev.json?raw=True -O dev.json"
      ],
      "execution_count": null,
      "outputs": [
        {
          "output_type": "stream",
          "text": [
            "--2020-11-12 05:52:29--  https://github.com/DRCKnowledgeTeam/DRCD/blob/master/DRCD_training.json?raw=True\n",
            "Resolving github.com (github.com)... 140.82.113.3\n",
            "Connecting to github.com (github.com)|140.82.113.3|:443... connected.\n",
            "HTTP request sent, awaiting response... 302 Found\n",
            "Location: https://github.com/DRCKnowledgeTeam/DRCD/raw/master/DRCD_training.json [following]\n",
            "--2020-11-12 05:52:29--  https://github.com/DRCKnowledgeTeam/DRCD/raw/master/DRCD_training.json\n",
            "Reusing existing connection to github.com:443.\n",
            "HTTP request sent, awaiting response... 302 Found\n",
            "Location: https://raw.githubusercontent.com/DRCKnowledgeTeam/DRCD/master/DRCD_training.json [following]\n",
            "--2020-11-12 05:52:29--  https://raw.githubusercontent.com/DRCKnowledgeTeam/DRCD/master/DRCD_training.json\n",
            "Resolving raw.githubusercontent.com (raw.githubusercontent.com)... 151.101.0.133, 151.101.64.133, 151.101.128.133, ...\n",
            "Connecting to raw.githubusercontent.com (raw.githubusercontent.com)|151.101.0.133|:443... connected.\n",
            "HTTP request sent, awaiting response... 200 OK\n",
            "Length: 15094666 (14M) [text/plain]\n",
            "Saving to: ‘train.json’\n",
            "\n",
            "train.json          100%[===================>]  14.39M  31.9MB/s    in 0.5s    \n",
            "\n",
            "2020-11-12 05:52:30 (31.9 MB/s) - ‘train.json’ saved [15094666/15094666]\n",
            "\n",
            "--2020-11-12 05:52:30--  https://github.com/DRCKnowledgeTeam/DRCD/blob/master/DRCD_dev.json?raw=True\n",
            "Resolving github.com (github.com)... 140.82.112.3\n",
            "Connecting to github.com (github.com)|140.82.112.3|:443... connected.\n",
            "HTTP request sent, awaiting response... 302 Found\n",
            "Location: https://github.com/DRCKnowledgeTeam/DRCD/raw/master/DRCD_dev.json [following]\n",
            "--2020-11-12 05:52:30--  https://github.com/DRCKnowledgeTeam/DRCD/raw/master/DRCD_dev.json\n",
            "Reusing existing connection to github.com:443.\n",
            "HTTP request sent, awaiting response... 302 Found\n",
            "Location: https://raw.githubusercontent.com/DRCKnowledgeTeam/DRCD/master/DRCD_dev.json [following]\n",
            "--2020-11-12 05:52:30--  https://raw.githubusercontent.com/DRCKnowledgeTeam/DRCD/master/DRCD_dev.json\n",
            "Resolving raw.githubusercontent.com (raw.githubusercontent.com)... 151.101.0.133, 151.101.64.133, 151.101.128.133, ...\n",
            "Connecting to raw.githubusercontent.com (raw.githubusercontent.com)|151.101.0.133|:443... connected.\n",
            "HTTP request sent, awaiting response... 200 OK\n",
            "Length: 2184379 (2.1M) [text/plain]\n",
            "Saving to: ‘dev.json’\n",
            "\n",
            "dev.json            100%[===================>]   2.08M  9.85MB/s    in 0.2s    \n",
            "\n",
            "2020-11-12 05:52:31 (9.85 MB/s) - ‘dev.json’ saved [2184379/2184379]\n",
            "\n"
          ],
          "name": "stdout"
        }
      ]
    },
    {
      "cell_type": "markdown",
      "metadata": {
        "id": "QVCtZwoaE7zY"
      },
      "source": [
        "#### DRCD 資料格式\n",
        "台達閱讀理解資料集 Delta Reading Comprehension Dataset (DRCD) 屬於通用領域繁體中文機器閱讀理解資料集。\n",
        "本資料集期望成為適用於遷移學習之標準中文閱讀理解資料集。\n",
        "本資料集從2,108篇維基條目中整理出10,014篇段落，並從段落中標註出30,000多個問題\n",
        "\n",
        "\n",
        "For more information please refer to Paper: https://arxiv.org/abs/1806.00920\n",
        "\n",
        "### Data format 資料格式\n",
        "\n",
        "- version : <String> 資料集版本\n",
        "- data : <Array>\n",
        "  - title : <String> : 文章標題\n",
        "  - id : <String> : 文章編號\n",
        "  - paragraphs : <Array>\n",
        "    - id : <String> : 文章編號_段落編號\n",
        "    - context : <String> : 段落內容\n",
        "    - qas : <Array>\n",
        "      - question : <String> : 問題內容\n",
        "      - id :<String> : 文章編號_段落編號_問題編號\n",
        "      - answers : <Arrays>\n",
        "        - answer_start : <int> text在文中位置\n",
        "        - id : <String> : \"1\"表示為人工標註的答案，\"2\"以上為人工答題的答案\n",
        "        - text : <string> : 答案內容\n",
        "\n",
        "**References:**\n",
        "\n",
        "- [DRCD](https://github.com/DRCKnowledgeTeam/DRCD)\n"
      ]
    },
    {
      "cell_type": "code",
      "metadata": {
        "id": "0XmbigYCfQcR",
        "outputId": "57b791fb-0589-4b06-b3b9-f0afb70bd3bf",
        "colab": {
          "base_uri": "https://localhost:8080/"
        }
      },
      "source": [
        "import json\n",
        "from pprint import pprint\n",
        "with open('train.json') as file:\n",
        "  train_data = json.load(file)\n",
        "for ele in train_data['data']:\n",
        "  pprint(ele)\n",
        "  break"
      ],
      "execution_count": null,
      "outputs": [
        {
          "output_type": "stream",
          "text": [
            "{'id': '1001',\n",
            " 'paragraphs': [{'context': '2010年引進的廣州快速公交運輸系統，屬世界第二大快速公交系統，日常載客量可達100萬人次，高峰時期每小時單向客流高達26900人次，僅次於波哥大的快速交通系統，平均每10秒鐘就有一輛巴士，每輛巴士單向行駛350小時。包括橋樑在內的站台是世界最長的州快速公交運輸系統站台，長達260米。目前廣州市區的計程車和公共汽車主要使用液化石油氣作燃料，部分公共汽車更使用油電、氣電混合動力技術。2012年底開始投放液化天然氣燃料的公共汽車，2014年6月開始投放液化天然氣插電式混合動力公共汽車，以取代液化石油氣公共汽車。2007年1月16日，廣州市政府全面禁止在市區內駕駛摩托車。違反禁令的機動車將會予以沒收。廣州市交通局聲稱禁令的施行，使得交通擁擠問題和車禍大幅減少。廣州白雲國際機場位於白雲區與花都區交界，2004年8月5日正式投入運營，屬中國交通情況第二繁忙的機場。該機場取代了原先位於市中心的無法滿足日益增長航空需求的舊機場。目前機場有三條飛機跑道，成為國內第三個擁有三跑道的民航機場。比鄰近的香港國際機場第三跑道預計的2023年落成早8年。',\n",
            "                 'id': '1001-10',\n",
            "                 'qas': [{'answers': [{'answer_start': 84,\n",
            "                                       'id': '1',\n",
            "                                       'text': '10秒鐘'}],\n",
            "                          'id': '1001-10-1',\n",
            "                          'question': '廣州的快速公交運輸系統每多久就會有一輛巴士？'},\n",
            "                         {'answers': [{'answer_start': 256,\n",
            "                                       'id': '1',\n",
            "                                       'text': '2007年1月16日'}],\n",
            "                          'id': '1001-10-2',\n",
            "                          'question': '從哪一天開始在廣州市內騎摩托車會被沒收？'},\n",
            "                         {'answers': [{'answer_start': 447,\n",
            "                                       'id': '1',\n",
            "                                       'text': '香港國際機場'}],\n",
            "                          'id': '1001-10-3',\n",
            "                          'question': '廣州白雲國際機場在完成第三條跑道的後八年哪一座機場也會有第三跑道？'}]},\n",
            "                {'context': '廣州是京廣鐵路、廣深鐵路、廣茂鐵路、廣梅汕鐵路的終點站。2009年末，武廣客運專線投入運營，多單元列車覆蓋980公里的路程，最高時速可達350公里/小時。2011年1月7日，廣珠城際鐵路投入運營，平均時速可達200公里/小時。廣州鐵路、長途汽車和渡輪直達香港，廣九直通車從廣州東站開出，直達香港九龍紅磡站，總長度約182公里，車程在兩小時內。繁忙的長途汽車每年會從城市中的不同載客點把旅客接載至香港。在珠江靠市中心的北航道有渡輪線路，用於近江居民直接渡江而無需乘坐公交或步行過橋。南沙碼頭和蓮花山碼頭間每天都有高速雙體船往返，渡輪也開往香港中國客運碼頭和港澳碼頭。',\n",
            "                 'id': '1001-11',\n",
            "                 'qas': [{'answers': [{'answer_start': 104,\n",
            "                                       'id': '1',\n",
            "                                       'text': '200公里'}],\n",
            "                          'id': '1001-11-1',\n",
            "                          'question': '廣珠城際鐵路平均每小時可以走多遠？'},\n",
            "                         {'answers': [{'answer_start': 166,\n",
            "                                       'id': '1',\n",
            "                                       'text': '兩小時'}],\n",
            "                          'id': '1001-11-2',\n",
            "                          'question': '廣九直通車從頭坐到尾約需要多久？'},\n",
            "                         {'answers': [{'answer_start': 212,\n",
            "                                       'id': '1',\n",
            "                                       'text': '渡輪線路'}],\n",
            "                          'id': '1001-11-3',\n",
            "                          'question': '讓近江居民可以直接渡江而不需要步行過橋是因為甚麼？'}]},\n",
            "                {'context': '廣州自古已是華南地區著名的商埠，擁有2000多年的開放貿易歷史。1970年代末中國大陸改革開放後，廣州經濟發展迅速。2010年全市地區生產總值為10604.48億元人民幣，同比增長13%，成為繼上海、北京之後第三個進入國內生產總值「萬億元俱樂部」的城市，也是首個經濟總量過萬億的省會城市。根據國務院2005年發表的一份報告稱，廣州成為中國第一個進入「發達」狀態的城市。2012年9月，廣州南沙新區獲批，成為第六個國家級開放開發新區。2015廣州市國內生產總值達到18100.41億元，人均國內生產總值達138377.05元。國內生產總值總量為中國第三，人均國內生產總值水平與西班牙相當，購買力平價水準已和已開發國家的中心城市相當。',\n",
            "                 'id': '1001-12',\n",
            "                 'qas': [{'answers': [{'answer_start': 49,\n",
            "                                       'id': '1',\n",
            "                                       'text': '廣州'}],\n",
            "                          'id': '1001-12-1',\n",
            "                          'question': '進入國內生產總值「萬億元俱樂部」的城市第三個為？'},\n",
            "                         {'answers': [{'answer_start': 163,\n",
            "                                       'id': '1',\n",
            "                                       'text': '廣州'}],\n",
            "                          'id': '1001-12-2',\n",
            "                          'question': '中國第一個進入「發達」狀態的城市為？'},\n",
            "                         {'answers': [{'answer_start': 220,\n",
            "                                       'id': '1',\n",
            "                                       'text': '廣州市'}],\n",
            "                          'id': '1001-12-3',\n",
            "                          'question': '和西班牙的人均國內生產總值水平相當的中國城市為？'}]},\n",
            "                {'context': '廣州市內雨水充潤、土地肥沃，市區曾經有非常廣大的農業用地。兩千年前就已經有水稻種植的記載。宋代的廣州是中國最大的米市之一，蔬菜、水果、糖蔗、花卉也享有盛名。由於曾長久作為全國性港口，廣州引進了多種優良作物品種。二十世紀上半葉，交通發展造成外地農產品入侵以及戰爭的影響下，廣州農業增長緩滯。二十世紀五十年代初中期農業產量大幅增長，但後期的「大躍進」以及其後的文革嚴重打擊了農業生產。改革開放後，隨著廣州發展為大城市，逐漸形成了為城市服務的城郊農業格局，政府的方針為服務城市，富農利民，鼓勵出口創匯。具體措施為降低產糧比例，增加蔬果蛋奶等農副產品比例，致力發展林牧漁業。廣州農業產值大幅增長，但隨著第二第三產業飛速增長，農業所占的經濟比重仍逐漸降。1978年廣州市農業生產總值占地區生總值的11.67％，1990年下降至8.05％，2015年，廣州市農業總產值413億元，占地區生產總值的2.28%。城市發展和工業化進程也使得農村勞動力大量流失，農耕用地迅速萎縮。清代光緒五年廣州府登記在冊的田地山塘總面積為1062.32萬畝。1990年的耕地面積為247萬畝，2006年減至158.3萬畝。目前，廣州種植農産品的地方主要在白雲、花都、番禺、南沙、從化和增城。1990年農業人口有252.87萬人，2008年為79.22萬人。廣州較為著名的農業特產有泮塘五秀，以及以荔枝、香蕉、木瓜、菠蘿為首的四大嶺南佳果等各類熱帶水果。',\n",
            "                 'id': '1001-13',\n",
            "                 'qas': [{'answers': [{'answer_start': 80,\n",
            "                                       'id': '1',\n",
            "                                       'text': '曾長久作為全國性港口'}],\n",
            "                          'id': '1001-13-1',\n",
            "                          'question': '廣州能夠引進了許多優良作物的品種的原因為？'},\n",
            "                         {'answers': [{'answer_start': 364,\n",
            "                                       'id': '1',\n",
            "                                       'text': '2015'}],\n",
            "                          'id': '1001-13-2',\n",
            "                          'question': '1978年的廣州市農業生產總值到了哪一年占地區生總值減少了約9.39%？'},\n",
            "                         {'answers': [{'answer_start': 547,\n",
            "                                       'id': '1',\n",
            "                                       'text': '2008'}],\n",
            "                          'id': '1001-13-3',\n",
            "                          'question': '廣州1990年的農業人口到了哪一年減少了約174萬人？'}]},\n",
            "                {'context': '古代廣州的手工業非常發達，船舶業、冶鑄和五金業、紡織業、食品加工、中成藥業、陶瓷業、美工等都享譽全國。廣州清初所產棉花，以輕暖出名，號「廣花」；「廣之線紗」，於廣州十三行之財富積累也有助推。由於本埠棉布價廉物美於英國布，出口甚多。在巨大利益驅使下，棉花來料加工迅速興起，西關農田被大量開發，修築廠房街道，錦華、經綸、麻紗等地方便於此時期出現。廣州紡織業帶之形成，帶動了印染、機具、漿緞、製衣、制帽、鞋襪、絨線等行業的興盛。下西關涌郊區也被發展為高尚住宅區，業主有不少是因紡織業大旺而獲益的洋行買辦。西關在當時有所謂「八橋之盛」。十九世紀七十年代起清廷展開洋務運動，廣州近代工業開始起步。官辦企業有廣州機器局製造洋槍彈藥和輪船，廣東錢局則是國內首家以機器鑄幣的企業。民辦企業包括繼昌隆繅絲廠、泰安大藥房、華興織造總公司等。清朝末期，廣州附近已經集中了大量各種輕工業工廠。民國開始，海外華僑「實業救國」的思潮帶動了廣州輕工業快速發展，對外貿易大幅增長，使廣州成為當時中國較為發達的城市，同時吸引不少外地人到此創業。1929年至1936年，陳濟棠主粵時利用南方相對穩定的政經環境與世界性經濟衰退的局勢，建立了較完善的工業體系，對廣東經濟起到極大的推動作用。抗戰期間，廣州被日軍占領，工業遭受徹底破壞。內戰期間，物價飛漲，大半工廠停工或半停工，失業者眾。',\n",
            "                 'id': '1001-14',\n",
            "                 'qas': [{'answers': [{'answer_start': 97,\n",
            "                                       'id': '1',\n",
            "                                       'text': '本埠棉布價廉物美於英國布'}],\n",
            "                          'id': '1001-14-1',\n",
            "                          'question': '廣州清初產棉花由於和原因而出口甚多？'},\n",
            "                         {'answers': [{'answer_start': 394,\n",
            "                                       'id': '1',\n",
            "                                       'text': '實業救國'}],\n",
            "                          'id': '1001-14-2',\n",
            "                          'question': '民國一開始廣州輕工業快速發展是由於甚麼思想？'},\n",
            "                         {'answers': [{'answer_start': 467,\n",
            "                                       'id': '1',\n",
            "                                       'text': '陳濟棠'}],\n",
            "                          'id': '1001-14-3',\n",
            "                          'question': '是誰在廣州建立了完善的工業體系對其經濟起到很大的推動作用？'}]},\n",
            "                {'context': '中華人民共和國成立後工業國有化。五六十年代時，工業有所恢復，但文化大革命再次嚴重衝擊廣州工業生產，工業發展減慢。但其間仍在政府扶持下建立了重工業體系。1975年後，政治局面好轉，政府大力扶持日用品為主的輕工業，廣州工業進入快速增長時期。八十年代後期，廣州市主要發展第三產業，工業產值比重下降。九十年代起乃至2000年以後，廣州市政府力圖改變產業構成，加大了對重工業扶植。汽車、石化和電子信息產品製造已成為廣州三大支柱產業。廣州工業總產值位居全省第三位。其中汽車產業方面，相繼成功吸引日本三間主要汽車製造企業投資設立工廠，令廣州在數年間成為中國重要的汽車生產基地之一，江南最大的廣州市陳田汽配市場位於市郊，廣州同時亦是國內出產日本汽車最多的城市。',\n",
            "                 'id': '1001-15',\n",
            "                 'qas': [{'answers': [{'answer_start': 31,\n",
            "                                       'id': '1',\n",
            "                                       'text': '文化大革命'}],\n",
            "                          'id': '1001-15-1',\n",
            "                          'question': '中華人民共和國成立後由於什麼事件廣州的工業發展又減慢？'},\n",
            "                         {'answers': [{'answer_start': 118,\n",
            "                                       'id': '1',\n",
            "                                       'text': '八十年代後期'}],\n",
            "                          'id': '1001-15-2',\n",
            "                          'question': '到了什麼時期廣州的工業產業比重開始下降？'},\n",
            "                         {'answers': [{'answer_start': 302,\n",
            "                                       'id': '1',\n",
            "                                       'text': '廣州'}],\n",
            "                          'id': '1001-15-3',\n",
            "                          'question': '中國國內出產日本汽車最多的城市為？'}]},\n",
            "                {'context': '六朝時期的廣州對外貿易已相當興旺，外國海商「久停廣州，往來求利」。隋唐時期廣州對外貿易發展到一個頂峰，作為唐朝唯一設置市舶使的城市，外國人數量一度達到全城人口的30%以上，成為當時中國對外貿易的核心。經過元朝的短暫沉寂後，明清兩朝廣州再次崛起，在清朝一口通商政策下成為當時中國唯一的對外口岸，成為具有壟斷地位的全國商業中心。上海開埠後，隨著全國逐漸開放，廣州逐漸失去對外貿易中心地位，但仍然是全國最重要的商業城市。改革開放後的廣州百貨業蓬勃發展，1980年代起友誼商店專門為港澳及外賓銷售電器等入口商品，西湖路燈光夜市則是平民的熱門去處。而地處沿江西路江邊的南方大廈就成為華南地區規模最大的綜合性百貨商店，更創立內地第一家24小時便利店，和華夏百貨形成人民南商圈，是上下九傳統西部商圈的延伸，後者在1995年成立步行街。位於北京路的新大新公司和廣州百貨大廈業務亦蒸蒸日上，馬路後來也闢為步行街。超級市場萬客隆1996年在廣州開設內地第一家分店，隨後香港百佳超級市場等廣州人熟悉的超市及便利店品牌陸續進入廣州。因受交通壓力及天河新區發展影響，90年代尾的人民南商圈開始衰落，成為電子服裝批發集散地，城市商圈向東部新區轉移。到21世紀，以天河城、天環廣場、正佳廣場、太古匯、萬菱匯為代表的天河路商圈成為廣州的中心商圈。自1957年起每年舉辦春、秋兩屆的中國出口商品交易會，現時每屆展會均吸引來自全球各地逾20萬客商，是中國規模最大、時間最長、最成功的國際展會。隨著琶洲展館三期的建設，展會能力躍居世界第一。',\n",
            "                 'id': '1001-16',\n",
            "                 'qas': [{'answers': [{'answer_start': 37,\n",
            "                                       'id': '1',\n",
            "                                       'text': '廣州'}],\n",
            "                          'id': '1001-16-1',\n",
            "                          'question': '唐朝的對外貿易核心在哪？'},\n",
            "                         {'answers': [{'answer_start': 223,\n",
            "                                       'id': '1',\n",
            "                                       'text': '1980年代'}],\n",
            "                          'id': '1001-16-2',\n",
            "                          'question': '廣州的第一家24小時便利商店是在什麼時期創立的？'},\n",
            "                         {'answers': [{'answer_start': 600,\n",
            "                                       'id': '1',\n",
            "                                       'text': '20萬'}],\n",
            "                          'id': '1001-16-3',\n",
            "                          'question': '中國出口商品交易會現在每次舉辦參加的客商都有約多少？'}]},\n",
            "                {'context': '從古至今，廣州基本上是嶺南地區的政治中心。秦末為南越國都城，漢朝征服南越國後立番禺為南海郡治。漢末郡治遷至龍灣與古壩之間。三國時，吳國步騭將郡治遷回番禺，後又設為交州治所。交廣分治後為廣州治所。晉、南北朝沿用南海郡，番禺為郡治。隋文帝廢南海郡，置廣州總管府，後改為都督府。唐代分全國為十道，其中嶺南道治所設在廣州。862年，嶺南分東、西二道，廣州為嶺南東道治。五代時期廣州為南漢國國都。宋初復設嶺南道，廣州為治所。明朝廣州為廣州府城，由番禺縣、南海縣兩縣分管，亦為廣東承宣布政使司駐地。清軍占領中原後，南明紹武帝朱聿讁在廣州建都，不久南明滅亡，清朝的廣州成為廣東省會、廣州府城及番禺與南海縣治。兩廣總督衙門、廣東巡撫衙門、廣東布政司、廣東按察司都在廣州南海縣界內。1858年，英法聯軍攻陷廣州，廣東巡撫投降，外人委員會成立，廣東政府成為傀儡政府。',\n",
            "                 'id': '1001-17',\n",
            "                 'qas': [{'answers': [{'answer_start': 114,\n",
            "                                       'id': '1',\n",
            "                                       'text': '隋文帝'}],\n",
            "                          'id': '1001-17-1',\n",
            "                          'question': '把南海郡廢除改置廣州總管府的皇帝是誰？'},\n",
            "                         {'answers': [{'answer_start': 260,\n",
            "                                       'id': '1',\n",
            "                                       'text': '廣州'}],\n",
            "                          'id': '1001-17-2',\n",
            "                          'question': '南明的首都在哪？'},\n",
            "                         {'answers': [{'answer_start': 332,\n",
            "                                       'id': '1',\n",
            "                                       'text': '1858年'}],\n",
            "                          'id': '1001-17-3',\n",
            "                          'question': '廣東政府在甚麼時候成為傀儡政府？'}]},\n",
            "                {'context': '清朝末期，廣州爆發了數次武裝起義，均以失敗告終。1911年10月10日武昌起義後，廣東省獨立，11月10日成立軍政府，推選胡漢民為都督。12月初，廣東臨時省議會成立，公布21歲以上廣東籍人皆有選舉權和被選舉權，議會由120名議員組成，其中同盟會代表20名，軍團協會代表21名，華僑代表12名，師生代表9名，「自治團」代表1名，各地區代表57名。其中女性議員須占10名，開中國婦女參政先河。1913年4月27日，廣東省議會成立，羅曉峰任議長。1918年10月，廣州市市政公所成立。1921年2月廣州正式設市，成立廣州市政廳，孫科任市長。1917年至1922年間，孫中山以及西南各省的國會代表兩次在廣州成立護法軍政府。1925年孫中山逝世，同年7月廣州國民政府成立，7月4日成立廣州市市政府，實行市政委員會制，伍朝樞任市政委員會委員長。1929年，廣州市實行市長制。1949年10月14日中國人民解放軍占領廣州，28日成立廣州市軍事管理委員會，葉劍英任主席。目前廣州市在中華人民共和國政制架構下實行人民代表大會制度，市政府在中共廣州市委的領導下運作，政府駐地越秀區。作為廣東省的省會，廣州市是廣東省人民政府駐地。',\n",
            "                 'id': '1001-18',\n",
            "                 'qas': [{'answers': [{'answer_start': 35,\n",
            "                                       'id': '1',\n",
            "                                       'text': '武昌起義'}],\n",
            "                          'id': '1001-18-1',\n",
            "                          'question': '廣東省因為哪一場戰爭而獨立？'},\n",
            "                         {'answers': [{'answer_start': 392,\n",
            "                                       'id': '1',\n",
            "                                       'text': '中國人民解放軍'}],\n",
            "                          'id': '1001-18-2',\n",
            "                          'question': '孫中山死掉約24年後廣州被甚麼佔領了？'},\n",
            "                         {'answers': [{'answer_start': 420,\n",
            "                                       'id': '1',\n",
            "                                       'text': '葉劍英'}],\n",
            "                          'id': '1001-18-3',\n",
            "                          'question': '廣州市軍事管理委員會的第一任主席為？'}]},\n",
            "                {'context': '作為近代革命發源地之一，廣州自中華民國代時就是中國社會運動的中心之一。每次全國性的社會運動都有廣州民眾的響應和參與。以廣州為中心的較具規模的社會運動，最早有1925年至1926年在廣州和香港同時舉辦的省港大罷工。廣州市民在1989年更發起活動聲援天安門民主運動，百萬人聚集海珠廣場圍繞廣州解放紀念碑集會。初期廣州媒體以「愛國運動」名義支持。流血事件發生後，民眾暴動，省市政府機關均被衝擊，所有廣州媒體隨即被禁言，亦干擾和封鎖香港電視台。省政府出動軍警鎮壓遊行群眾，大批參與者偷渡至香港、台灣及海外。各企事業單位亦派員審查各部門職工是否有組織或參與集會。1999年的全國性反美活動，有數十萬群眾、學生在市內遊行示威，抗議北約轟炸中國駐南斯拉夫大使館，同時駐廣州美國領事館也受到部分激進示威人士破壞。廣州媒體對此進行全程跟進，但對廣州美國領館破壞情況則完全沒有提及。2005年的全國性反日示威，也有數十萬人在主幹道遊行，不過廣州封鎖消息，大學和中學也禁止學生遊行，否則開除學籍。',\n",
            "                 'id': '1001-19',\n",
            "                 'qas': [{'answers': [{'answer_start': 93,\n",
            "                                       'id': '1',\n",
            "                                       'text': '香港'}],\n",
            "                          'id': '1001-19-1',\n",
            "                          'question': '省港大罷工是除了廣州以外還有哪個地區參與？'},\n",
            "                         {'answers': [{'answer_start': 160,\n",
            "                                       'id': '1',\n",
            "                                       'text': '愛國運動'}],\n",
            "                          'id': '1001-19-2',\n",
            "                          'question': '廣州媒體聲援天安門民主運動一開始以甚麼名義？'},\n",
            "                         {'answers': [{'answer_start': 309,\n",
            "                                       'id': '1',\n",
            "                                       'text': '北約轟炸中國駐南斯拉夫大使館'}],\n",
            "                          'id': '1001-19-3',\n",
            "                          'question': '在全國性反日示威的6年前的抗議活動是在抗議甚麼？'}]},\n",
            "                {'context': '公元前214年，秦始皇派軍征服嶺南，南海郡尉任囂在番山、禺山上修築番禺城，是廣州最早建城時的名稱，並一直沿用至民國。公元226年和246年吳國兩次把交州分為「交州」和「廣州」兩部分，合浦以南仍稱「交州」，合浦以北取交州刺史部原治所廣信之「廣」而稱「廣州」，包括南海、蒼梧、鬱林、合浦四郡，治所在番禺。這是兩廣分治之始，亦是「廣州」得名之始，但當時的廣州僅指稱一個管轄區，約等同於現之廣東省。自唐朝始，設廣州府，成為廣府由來，1921年正式設市，番禺城才第一次正名為廣州市。廣州也被稱為「五羊城」、「羊城」、「穗城」，簡稱為「穗」。這些別名來自於五羊傳說：曾經有五位仙人穿著五色衣裳騎著五色羊，手執「一莖六出」的谷穗來到廣州城，將谷穗交給城中人後，飛升而去，而五羊則化為石。故廣州也被稱為「五羊城」和「穗城」。由於地處亞熱帶，氣候溫暖，適宜花卉種植，加之廣州人熱愛種花、買花、贈花，年年花市興旺，廣州也享有花城的美譽。唐代起廣州是廣州府的府城，清代後是廣東省的省城，因此省城亦成為廣東人對廣州城的通稱。古時廣州亦有南武城、楚庭、番禺、南海的稱謂。',\n",
            "                 'id': '1001-2',\n",
            "                 'qas': [{'answers': [{'answer_start': 212,\n",
            "                                       'id': '1',\n",
            "                                       'text': '1921'}],\n",
            "                          'id': '1001-2-1',\n",
            "                          'question': '番禺城這一個名子一直用到哪一年才改名為廣州市？'},\n",
            "                         {'answers': [{'answer_start': 286,\n",
            "                                       'id': '1',\n",
            "                                       'text': '五色衣裳'}],\n",
            "                          'id': '1001-2-2',\n",
            "                          'question': '五羊城這個名子的由來的故事當中五色羊是穿什麼樣的衣服的人騎的？'},\n",
            "                         {'answers': [{'answer_start': 358,\n",
            "                                       'id': '1',\n",
            "                                       'text': '亞熱帶'}],\n",
            "                          'id': '1001-2-3',\n",
            "                          'question': '廣州又稱花市跟位於哪一帶有關？'}]},\n",
            "                {'context': '2010年7月逾千市民在地鐵江南西站出口聚集舉行2010年廣州撐粵語行動請願活動，在一度收到活動被迫取消的消息後，依然在原定時間到達，為廣府文化發出自己的呼聲。事後內地媒體封鎖消息，廣州亦屏蔽香港電視相關的新聞片段。而到8月1日於廣州中央公園的撐粵語集會被當局強力阻撓，民眾被逼轉移路線，當至北京路南段時被大量警察包圍，集會人士被押送上大巴帶離，在東山體育場等地接受問話與定罪後才獲釋放。而內地信訪制度是允許民眾到上級政府部門表達訴求，廣東省政府在東風路的正門就經常有本省不同地方的請願人士到來希望得到省政府幫助。集會時當局會調來大批警力少有積極處理，雙方對峙期間，通常途經交通都會出現緩慢，不過本地官媒從無發放相關報導。2014年初較為重大的請願群體，有禽流感期間因強行關停街市而蒙受損失的省內家禽業者，還有反對石化項目在茂名黑箱落地的在穗茂名青年。',\n",
            "                 'id': '1001-20',\n",
            "                 'qas': [{'answers': [{'answer_start': 5,\n",
            "                                       'id': '1',\n",
            "                                       'text': '7月'}],\n",
            "                          'id': '1001-20-1',\n",
            "                          'question': '2010年廣州撐粵語行動請願活動是在當年的什麼時候舉行的？'},\n",
            "                         {'answers': [{'answer_start': 174,\n",
            "                                       'id': '1',\n",
            "                                       'text': '東山體育場'}],\n",
            "                          'id': '1001-20-2',\n",
            "                          'question': '2010年8月1日撐粵語集會的集會人是最後在哪裡釋放？'},\n",
            "                         {'answers': [{'answer_start': 263,\n",
            "                                       'id': '1',\n",
            "                                       'text': '調來大批警力'}],\n",
            "                          'id': '1001-20-3',\n",
            "                          'question': '集會時政府不會積極處理而是？'}]},\n",
            "                {'context': '歷年來，廣州當局積極進行各類政府工程。廣州市自1990年開始參與「創建全國衛生城市」，於2008年成功取得該「稱號」。1998年開始「創建全國文明城市」，2011年成功。「創衛」期間，廣州市區的衛生情況有顯著改善，如清理城區衛生死角、城中村、污水處理和食品安全管理等方面。有官員稱「創衛」工作只有起點，沒有終點，「創文」是「民心工程」。對這些工程中巨額公帑的花費、形式主義和擾民等行為，也有媒體提出疑問及表示批評。兩項工程歷年來共花費的公帑數以十億計，難以細算。在廣州亞運來臨之際，廣州市政府於2010年之前進行了大量城建工程，當中包括：為多條馬路、人行道翻新，重鋪其地磚、花基；為多條新舊立交橋髹上灰白色油漆；為大部分臨街騎樓及歷史建築翻新；為臨街大廈的天台統一裝上紅色塑膠頂棚，外牆翻新並裝上空調壓縮機遮蓋版及燈飾等。但亦有人質疑亞運工程期間多條完好的馬路被強行翻新造成浪費，及翻新臨街騎樓與歷史建築時破壞了原本歷史與藝術感；而臨街幾千座大廈公寓進行統一裝修工程時，不少竊賊透過腳手架進入上百戶居民家盜竊；工程完畢後不久又爆出工程使用了劣質材料等事件，亦為不少市民所詬病。作為中國中心城市之一，廣州市的醫療保險便民服務已覆蓋全市。大部分市政公園和所有公共廁所亦已免費開放。',\n",
            "                 'id': '1001-21',\n",
            "                 'qas': [{'answers': [{'answer_start': 44,\n",
            "                                       'id': '1',\n",
            "                                       'text': '2008年'}],\n",
            "                          'id': '1001-21-1',\n",
            "                          'question': '廣州市於什麼時候獲得從1990年開始參與的「創衛」？'},\n",
            "                         {'answers': [{'answer_start': 300,\n",
            "                                       'id': '1',\n",
            "                                       'text': '灰白'}],\n",
            "                          'id': '1001-21-2',\n",
            "                          'question': '廣州市政府因亞運而在2010年之前進行的工程之一在新舊立交橋髹上塗油漆是用甚麼顏色？'},\n",
            "                         {'answers': [{'answer_start': 470,\n",
            "                                       'id': '1',\n",
            "                                       'text': '劣質材料'}],\n",
            "                          'id': '1001-21-3',\n",
            "                          'question': '是甚麼在亞運工程中使用而讓不少市民有所詬病？'}]},\n",
            "                {'context': '2012年廣州全市常住人口1283.89萬人，戶籍人口822.30萬人，市區常住人口778.17萬人，外來人口占總數36%。廣州是全國人口密度較高的城市之一，人口多數集中在舊城區，中心四區平均常住人口密度達到每平方公里18113人。人口密度最高的越秀區則達到每平方公里34009人，為人口密度最低的從化市的100倍以上。廣州市的年出生率自2001年來一直在千分之九點六以下，自然增長率在千分之四點三以下。市民預期壽命高出全國平均水平，男性預期壽命達到75.25歲，女性預期壽命達到80.94歲。同時人口老齡化問題亦日益突出。截止2008年底，60歲以上的老年人口達到103.15萬，占全市總人口的13.4%。其中舊城區的老年人口比例最高，已超過18%，而預測2030年老年人口將超過200萬。2010年全國第六次人口普查顯示，廣州市民男性較女性為多，2007年末男女性別比例為109.46，即每100名女性對應109.46名男性。男性比女性多出573694人。其中，0至14歲年齡段性別比例失調現象嚴重，達到115.62，預示未來廣州性別比例差距有擴大的趨勢。廣州市人口以漢族為主，占常住人口的98.3%左右，常住少數國內民族人口21.29萬人。分屬55個少數民族，其中人口較多的有壯、土家、苗、瑤、回、滿、侗、蒙古、布依、朝鮮族等10個民族。廣州市高速發展的經濟與高就業機會吸引大量農民工前來，在2008年農民工就達到全市人口40%，如何妥善做好城市管理工作是市政府的艱巨任務。',\n",
            "                 'id': '1001-22',\n",
            "                 'qas': [{'answers': [{'answer_start': 149,\n",
            "                                       'id': '1',\n",
            "                                       'text': '從化市'}],\n",
            "                          'id': '1001-22-1',\n",
            "                          'question': '哪邊的人口密度為廣州市的一百倍分之一以下？'},\n",
            "                         {'answers': [{'answer_start': 306,\n",
            "                                       'id': '1',\n",
            "                                       'text': '舊城區'}],\n",
            "                          'id': '1001-22-2',\n",
            "                          'question': '比廣州市平均的老人人口佔全市比例多出4.6%的是廣州市的哪一區？'},\n",
            "                         {'answers': [{'answer_start': 515,\n",
            "                                       'id': '1',\n",
            "                                       'text': '21.29萬人'}],\n",
            "                          'id': '1001-22-3',\n",
            "                          'question': '廣州市中有多少少數民族居住？'}]},\n",
            "                {'context': '廣州市作為中國最大城市之一，有大量外地人湧入廣州工作，但「本地人」與「外地人」關繫難以協調，同時亦造成一系列的社會問題。廣州因城市容量、就業承受力有限，無法容納全國各地蜂湧而至的外來民工，其治安環境受到嚴峻的考驗，「兩搶一盜」事件經常發生，尤其是城中村更為頻繁。廣州社科院調查顯示80%被捉的犯人是「外地人」，再加上以粵語為載體的廣府文化本身對外地人和外地方言的排斥，從而加重了廣州市民的排外情緒。近年來由於政府的大力取締，廣州的治安管理有了明顯的成效。而在2014年，廣東省政府出台文件，明確要求控制廣州、深圳特大城市的人口規模。2008年農民工占廣州人口比例達到40％，大部分是女農民工，許多是未婚。截至2013年年底，廣州登記在冊流動人口686.7萬人，按照一定的漏登率計算，廣州實際居住的流動人口為837萬人左右。這個數據，已經反超常住人口。最新統計數據表明，廣州常住人口為832萬人。其中白雲區、番禺區、天河區的流動人口超過百萬。番禺區登記在冊流動人士就有111.7萬人，流動人士戶籍地涉及30個省、自治區、直轄市。就性別比例看，男性稍多，占總數53.5%；女性占總數46.5%。番禺流動人口中，小孩、老人占的比例極其微小，15歲以下占0.49%，60歲以上占1.68%；大專以上學歷占10%左右。',\n",
            "                 'id': '1001-23',\n",
            "                 'qas': [{'answers': [{'answer_start': 140,\n",
            "                                       'id': '1',\n",
            "                                       'text': '80'}],\n",
            "                          'id': '1001-23-1',\n",
            "                          'question': '有百分之多少的犯人被抓的是外地人？'},\n",
            "                         {'answers': [{'answer_start': 271,\n",
            "                                       'id': '1',\n",
            "                                       'text': '農民工'}],\n",
            "                          'id': '1001-23-2',\n",
            "                          'question': '2008年廣州人口中百分之四十為甚麼？'},\n",
            "                         {'answers': [{'answer_start': 470,\n",
            "                                       'id': '1',\n",
            "                                       'text': '男性'}],\n",
            "                          'id': '1001-23-3',\n",
            "                          'question': '廣州的流動人士當中甚麼性別的比較多？'}]},\n",
            "                {'context': '廣州是中國最主要的對外開放城市之一，作為對外貿易的窗口，來自北美、日韓、歐洲、中東、非洲等地區的外籍人士眾多，尤其是非洲黑人，廣州甚至被稱為「第三世界首都」，其主要聚居於廣州市環市東路秀山樓、淘金路、花園酒店、建設六馬路、建設馬路一帶；天河北路、體育東路、天河路、龍口西路、林和中路等帶大廈外企公司辦事處；番禺區某些樓盤如祈福新村、麗江花園等亦有較多外國人。廣州市公安局出入境管理支隊2014年10月統計顯示，在廣州登記居住的外籍人士為11.8萬人，其中臨時居住的7.1萬人，常住半年以上的為4.7萬人，當中歐美日韓國家人員占大多數，又有4000多名登記的是來自非洲的外籍人士；約1萬人來自阿拉伯國家和地區，雖無大規模定居，但常出現於小北—登峰一帶的商業區進行商貿活動；棠景街也有較多韓國人。2013年，出入廣州口岸旅客有1005餘萬人次，其中有54萬人次來自非洲國家，大部分為同一人反覆出入境，多數是由於簽證允許逗留時間較短或商務需求，而非移民。廣州黑人近年來多涉及廣州的一些治安問題，引起廣州民間的一些不滿。而針對「三非」問題，公安機關內部建立了廣州市涉外綜合執法隊、翻譯志願者服務隊、查處「三非」外國人專業隊、外國人管理工作基層服務隊的四支隊伍；自2008年始，廣州於居住超過200名外國人的社區建立75個「外國人管理服務工作站」，大力打擊「三非」外國人問題，目前已見成效。',\n",
            "                 'id': '1001-24',\n",
            "                 'qas': [{'answers': [{'answer_start': 58,\n",
            "                                       'id': '1',\n",
            "                                       'text': '非洲黑人'}],\n",
            "                          'id': '1001-24-1',\n",
            "                          'question': '被稱為「第三世界首都」的城市哪種外籍人士最多？'},\n",
            "                         {'answers': [{'answer_start': 218,\n",
            "                                       'id': '1',\n",
            "                                       'text': '11.8萬人'}],\n",
            "                          'id': '1001-24-2',\n",
            "                          'question': '在2014年10月在廣州居住的外籍人士中有登記的有多少？'},\n",
            "                         {'answers': [{'answer_start': 557,\n",
            "                                       'id': '1',\n",
            "                                       'text': '外國人管理服務工作站'}],\n",
            "                          'id': '1001-24-3',\n",
            "                          'question': '廣州為了要打擊「三非」外國人問題而在有一定規模的外國人社區建了甚麼？'}]},\n",
            "                {'context': '長久以來，廣州絕大部分地方的語言主要為粵語，因此廣州也就形成了以粵語為載體的包括粵劇、粵曲、南音、鹹水歌等在內的「粵語文化」。隨著中國大陸改革開放，大量市外及廣東省外的人口急劇湧入。在這些外來人口中，因省/市籍族群不同，所操語言種類眾多，外來人與不同地區的人士之間多會以普通話進行交流；因此在許多較大的公眾場合，普通話為主導語言。有些場合會加上粵語或英語廣播，而族群內部仍多用自己的方言交流，部分外來人口為融合當地文化會以粵語與當地人交流。如今，隨著推廣普通話的深入，外來以及本地年輕人因長期受普通話作教學媒介及普通話大環境之影響，目前廣州在語言交流上整體上普通話為主，但本地人之間仍會使用粵語進行交流。雖然21世紀初以來普通話逐漸占據主導地位，但受到本土文化影響、同時由於鄰近港澳地區、以及廣州民間近年來發起一系列檢討推廣普通話的政策以著手保護粵語，使粵語在當地仍有一定的地位。',\n",
            "                 'id': '1001-25',\n",
            "                 'qas': [{'answers': [{'answer_start': 156,\n",
            "                                       'id': '1',\n",
            "                                       'text': '普通話'}],\n",
            "                          'id': '1001-25-1',\n",
            "                          'question': '在廣州許多比較大的公眾場合以甚麼為主要交流語言？'},\n",
            "                         {'answers': [{'answer_start': 203,\n",
            "                                       'id': '1',\n",
            "                                       'text': '融合當地文化'}],\n",
            "                          'id': '1001-25-2',\n",
            "                          'question': '為了什麼目的部分外國人會以粵語與當地人交流？'},\n",
            "                         {'answers': [{'answer_start': 279,\n",
            "                                       'id': '1',\n",
            "                                       'text': '普通話'}],\n",
            "                          'id': '1001-25-3',\n",
            "                          'question': '現在廣州的主要交流語言為？'}]},\n",
            "                {'context': '廣州教育歷史始於西漢末年。三國時期，騎都尉虞翻曾在番禺虞苑辦學。南宋時期，設有書院。清朝時，設立府學宮，為廣州最高學府，而番禺與南海設有縣學宮。除此之外，民間自行籌辦義學與社學。清末年間，力圖改革風氣日盛，洋務派於同治三年在廣州開設同文館，以培養翻譯人才，大量教會學校也在此時成立，並在後來成立港澳分校，分別是培正、培道、培英、協和、真光。康有為在光緒年間開辦萬木草堂，以教授新學。當時書院林立，著名的有粵秀書院、越華書院、聖心明德書院、羊城書院、學海堂書院、菊坡精舍、應元書院、廣雅書院、番山書院、蓮峰書院等。廣州是中國高等教育比較發達的城市之一，在六普調查中在各個直轄市省會裡面受高等教育人口比例為19.22%，位列第13位，也是嶺南地區高校最密集的城市。全市共有高等院校40餘所。全國著名學府有中山大學、華南理工大學、暨南大學、華南師範大學、華南農業大學、南方醫科大學、廣州大學、廣東工業大學、廣東外語外貿大學等。其中博濟醫學堂是中國的第一所西醫教育機構。當局以巨資興建的廣州大學城也在2004年投入使用。',\n",
            "                 'id': '1001-26',\n",
            "                 'qas': [{'answers': [{'answer_start': 48,\n",
            "                                       'id': '1',\n",
            "                                       'text': '府學宮'}],\n",
            "                          'id': '1001-26-1',\n",
            "                          'question': '清朝廣州最高學府為？'},\n",
            "                         {'answers': [{'answer_start': 112,\n",
            "                                       'id': '1',\n",
            "                                       'text': '廣州'}],\n",
            "                          'id': '1001-26-2',\n",
            "                          'question': '為了培養翻譯人才的學校設在哪邊？'},\n",
            "                         {'answers': [{'answer_start': 281,\n",
            "                                       'id': '1',\n",
            "                                       'text': '在各個直轄市省會裡面受高等教育人口'}],\n",
            "                          'id': '1001-26-3',\n",
            "                          'question': '六普調查中比例為19.22%是什麼？'}]},\n",
            "                {'context': '第十六屆亞洲運動會於2010年11日12日-11月27日在廣州舉行，緊隨而至的是於12月12日-12月19日進行的第一屆亞洲殘疾人運動會，是廣州迄今舉辦過最大型的體育賽事。廣州恆大足球俱樂部在2011年獲得中國足球超級聯賽冠軍，這是廣州隊首次奪得全國性足球比賽冠軍，2012年在衛冕中超聯賽冠軍的同時，還獲得中國足協杯冠軍，這既是廣州隊首次奪得足協杯冠軍，又是廣東省第一支足球隊，更是華南第一支足球隊奪得足協杯冠軍。2013年11月9日，廣州恆大在主場天河體育中心對陣首爾FC，以1-1的比分成為首支問鼎亞冠聯賽冠軍並參加12月舉行的2013年世界俱樂部杯的中國球隊。2013年12月15日，在2013年世界俱樂部杯處子秀上，廣州恆大以2-0的戰績擊退了非洲代表阿爾阿赫利晉級四強。四強戰中以0-3的比分不敵歐洲豪門拜仁慕尼黑。最終名列該界賽事第四名。2014年，廣州恆大在一次衛冕中超聯賽冠軍，不過在亞冠聯賽八強戰中在總比分相同的情況下，因為客場入球較少而慘遭澳大利亞球隊西雪梨流浪淘汰。2015年，廣州恆大第五度加冕中超聯賽冠軍，並時隔一年後再一次問鼎亞洲冠軍聯賽。在2015年12月舉行的2015世界俱樂部杯賽事中，廣州恆大代表亞洲出賽，首場以2-1的比分反勝中北美及加勒比海地區代表墨西哥美洲隊。四強戰上，廣州恆大0-3不敵歐洲豪門巴塞隆納，再一次止步四強。2016年，廣州恆大再一次衛冕中超聯賽成功，實現史無前例的六連霸。',\n",
            "                 'id': '1001-27',\n",
            "                 'qas': [{'answers': [{'answer_start': 57,\n",
            "                                       'id': '1',\n",
            "                                       'text': '第一屆亞洲殘疾人運動會'}],\n",
            "                          'id': '1001-27-1',\n",
            "                          'question': '在廣州舉辦過最大的運動賽事為？'},\n",
            "                         {'answers': [{'answer_start': 133,\n",
            "                                       'id': '1',\n",
            "                                       'text': '2012'}],\n",
            "                          'id': '1001-27-2',\n",
            "                          'question': '華南第一支足球隊奪得足協杯冠軍是在哪一年？'},\n",
            "                         {'answers': [{'answer_start': 451,\n",
            "                                       'id': '1',\n",
            "                                       'text': '廣州恆大'}],\n",
            "                          'id': '1001-27-3',\n",
            "                          'question': '在2015年獲得超聯賽冠軍是哪支球隊？'}]},\n",
            "                {'context': '廣州是中國大陸醫療衛生水平最為發達的城市之一，市內醫院、社區衛生服務中心、保健院、疾病預防控制中心為市民提供各種醫療服務，與廣州市內的多間醫科院校和藥廠共同構成完整的醫療體系，經常收治廣東省內其他醫院送至的危重病人。目前全市共有32家三級甲等醫院，專業分工較為全面。其中孫逸仙紀念醫院的前身眼科醫局建立於1835年，是中國最早的西醫醫院。製藥業在廣州同樣發達，陳李濟是中國現存歷史最久的製藥廠。而王老吉、敬修堂、潘高夀、何濟公是家喻戶曉的老字號品牌，現統一由廣藥集團管理。廣州的宗教歷史源遠流長，漢傳佛教、道教、伊斯蘭教、天主教、基督新教五大宗教一應俱全；截至2008年末，經由廣州市人民政府批准、依法登記及允許開放的宗教活動場所已達67處，其中外國人宗教活動臨時地點1處。由於廣州本具外貿港口之地位，除道教屬中國本土宗教之外，其餘均由外國傳入，包括隨商而來的祆教。最為特別的是在廣州舊中軸線上分布了五大宗教近10間重點寺觀教堂，勾勒出宗教文化與廣州歷史文化相互交融的獨特人文景觀，增添了廣州歷史文化名城的風采。2007年，廣州市有信教群眾30餘萬人。其中，佛教徒約10萬人，道教徒約9萬人，伊斯蘭教徒約5萬人，天主教徒約1.4萬人，基督教徒約5萬人。外國人信徒約2萬人。經宗教團體認定的專門從事宗教職業的人員，包括比丘、比丘尼、道士、阿訇、牧師、神父、修女等共395人。',\n",
            "                 'id': '1001-28',\n",
            "                 'qas': [{'answers': [{'answer_start': 145,\n",
            "                                       'id': '1',\n",
            "                                       'text': '眼科'}],\n",
            "                          'id': '1001-28-1',\n",
            "                          'question': '中國最早的西醫醫院原本是哪一專科的醫院／診所？'},\n",
            "                         {'answers': [{'answer_start': 317,\n",
            "                                       'id': '1',\n",
            "                                       'text': '67處'}],\n",
            "                          'id': '1001-28-2',\n",
            "                          'question': '在2008年末廣州市合法的宗教活動場所有多少？'},\n",
            "                         {'answers': [{'answer_start': 496,\n",
            "                                       'id': '1',\n",
            "                                       'text': '伊斯蘭教'}],\n",
            "                          'id': '1001-28-3',\n",
            "                          'question': '同是在廣州市中和基督教徒的人數差不多的宗教是？'}]},\n",
            "                {'context': '廣州的言論較於中國其他地區是比較開放的。目前理論上來說，廣州的傳媒與中國大陸其他媒體一樣，受到政府部門的監管與審查。但在實際操作上，廣州媒體比其他城市的媒體更為靈活，亦即「打擦邊球」。對於涉及執政權和軍隊方面的報導，儘管此類話題依舊比較敏感，但相應的「負面消息」仍不時占據大量版面，也常出現與政府意識不一致的論調，或是遭到某些地方部門的異地封殺。相對開放的言論，使得廣州媒體與其製造的話題時常成為全國關注的對象，也多次引發大規模的討論。廣州的廣播事業可追溯至1929年5月廣州特別市無線電播音台在中央公園啟播。而廣東電視台的前身廣州電視台就在1959年啟播。時至今日，廣州當局共持有廣東電視台、廣州電視台和南方電視台共3間電視台，南方台旗下的衛星頻道，是中國大陸唯一獲國家廣電總局批准上星的地方語言電視頻道。2014年4月23日，由原廣東人民廣播電台、廣東電視台、廣州電視台、南方電視台和廣東省廣播電視技術中心整合組建的廣東廣播電視台正式掛牌成立，將廣播、電視、報紙、雜誌、網絡、新媒體、廣播電視發射傳輸等多種業務整合。',\n",
            "                 'id': '1001-29',\n",
            "                 'qas': [{'answers': [{'answer_start': 0,\n",
            "                                       'id': '1',\n",
            "                                       'text': '廣州'}],\n",
            "                          'id': '1001-29-1',\n",
            "                          'question': '哪個地區的言論自由是較中國其他地區開放？'},\n",
            "                         {'answers': [{'answer_start': 229,\n",
            "                                       'id': '1',\n",
            "                                       'text': '1929'}],\n",
            "                          'id': '1001-29-2',\n",
            "                          'question': '廣播的歷史在廣州最早可以從哪一年開始說起？'},\n",
            "                         {'answers': [{'answer_start': 354,\n",
            "                                       'id': '1',\n",
            "                                       'text': '2014年4月23日'}],\n",
            "                          'id': '1001-29-3',\n",
            "                          'question': '廣東廣播電視台是在什麼時候成立的？'}]},\n",
            "                {'context': '廣州有字歷史自秦朝開始，以海上商貿為主要特色，有「三朝十帝」的建都史。廣州有文字記載的歷史可以追溯到公元前214年，而早在新石器時代這一帶就有「百越人」活動，人類活動歷史超過4000年。春秋戰國時期，嶺南泛指今兩廣和越南北部地區，當時居住在這裡的民族稱為南越。在周朝，這裡的「百越」人和長江中游的楚國人已有來往。公元前219年，秦王派屠睢為主將、趙佗為副將，率領50萬軍力攻取嶺南。屠睢被越人殺死，改派任囂為主將。公元前214年，秦統一嶺南，選址白雲山和珠江之間南越人聚居的高地修築番禺城，為廣州設立行政區和建城的開始。公元前204年，秦末南海郡尉趙佗建立南越國，定都番禺。是為今嶺南地區第一次建立都城。兩晉及南北朝時期中原北部戰亂頻仍，漢人大量移入相對安定的江南地區另有一定數量的漢人遷入了嶺南，促進了廣州一帶的經濟開發。海外貿易中心由交趾轉移到廣州，廣州港的海上貿易日趨繁榮，直至清朝時期廣州仍維持著海上貿易中心的地位。元朝置廣州路。明朝初年，改廣州路為廣州府。清朝乾隆二十二年，廣州一度成為唯一對西方國家開放的通商港口，史稱「一口通商」，由廣州十三行壟斷大部分中國的對外貿易，廣州成為當時世界第三大城市。1842年，鴉片戰爭中清政府戰敗，被迫簽訂《南京條約》開通廣州等五處為通商口岸。香港被割讓給英國後闢為自由港，逐漸代替廣州成為貨物的集散地。英法兩國在1861年起占領沙面島達80多年。',\n",
            "                 'id': '1001-3',\n",
            "                 'qas': [{'answers': [{'answer_start': 131,\n",
            "                                       'id': '1',\n",
            "                                       'text': '周朝'}],\n",
            "                          'id': '1001-3-1',\n",
            "                          'question': '百越人在什麼朝代就已經有跟楚國人來往？'},\n",
            "                         {'answers': [{'answer_start': 260,\n",
            "                                       'id': '1',\n",
            "                                       'text': '公元前204年'}],\n",
            "                          'id': '1001-3-2',\n",
            "                          'question': '南越國是在甚麼時候建國的？'},\n",
            "                         {'answers': [{'answer_start': 425,\n",
            "                                       'id': '1',\n",
            "                                       'text': '廣州路'}],\n",
            "                          'id': '1001-3-3',\n",
            "                          'question': '廣州府的前身為？'}]},\n",
            "                {'context': '廣州目前共有2間有線電視公司使用數位電視形式壟斷播放信號傳送節目，兩司在2007年起強迫所有市內用戶開始由類比電視的模擬信號逐步地轉向數位訊號，其月租收費也相應提高，收費形式則由原先的「一戶一費」轉變為「一機一費」，並且必須使用由當地兩司所提供的機頂盒。此舉引起市民強烈不滿，主要有控制多媒體資訊發放、壟斷服務收費高昂、使用不便、傳輸畫面質素不如意等方面。廣州市各電視台的綜合頻道在晚上七點到九點的黃金時段主要以社會新聞、民生類節目為主，與國內其他電視台在該時段密集播放綜藝、娛樂、連續劇等節目相比，予人「更具社會責任」的感覺。其中「肥仔達」、「彭彭」等主播因「敢言」風格而受到市民較高關注。不過由於媒體受到當局控制，整體都有存在官方輿論導向趨向，議題表述多時較難理想傳達市民訴求，甚至可能依照當局意欲對社會洗腦消解反對聲音，引起不少市民詬病，造成本地民眾尤其是年輕一輩更為信任香港媒體與網絡傳媒空間，冷落廣州官控媒體，接收資訊渠道趨向分散，近乎拒絕採信廣州官控媒體表述的輿論。',\n",
            "                 'id': '1001-30',\n",
            "                 'qas': [{'answers': [{'answer_start': 36,\n",
            "                                       'id': '1',\n",
            "                                       'text': '2007年'}],\n",
            "                          'id': '1001-30-1',\n",
            "                          'question': '廣州從什麼時候開始電視訊號的月租收費提高？'},\n",
            "                         {'answers': [{'answer_start': 253,\n",
            "                                       'id': '1',\n",
            "                                       'text': '更具社會責任'}],\n",
            "                          'id': '1001-30-2',\n",
            "                          'question': '與其他電視台相比廣州市各電視台在晚上7到9點的時段播出的內容更帶給人什麼樣的感覺？'},\n",
            "                         {'answers': [{'answer_start': 389,\n",
            "                                       'id': '1',\n",
            "                                       'text': '香港'}],\n",
            "                          'id': '1001-30-3',\n",
            "                          'question': '廣州年輕一輩對哪個地區的媒體比當地官方媒體的更加信任？'}]},\n",
            "                {'context': '廣州是中國大陸報刊發行最發達的城市之一，有廣州日報報業集團、羊城晚報報業集團、南方報業傳媒集團三大報業集團，三大集團之間多有商業競爭和觀點爭鳴。《廣州日報》、《羊城晚報》和《南方都市報》的日發行量都超過100萬份。此外還有《南方日報》、《新快報》、《信息時報》、《羊城地鐵報》等報紙每日發行，其中《羊城地鐵報》是中國大陸第一份免費地鐵日報。除了報紙外，廣州還發行多份周報，其中包括得到內地民眾認可具備全國影響力的《南方周末》，2009年美國總統歐巴馬訪華期間更邀請接受了《南周》的獨家專訪。2013年的《南周》新年特刊被刪改事件曾引發國際傳媒廣泛報導。現時本地中文報章每份售價為人民幣1元。廣州圖書館和港資快餐連鎖店大快活還有不少境外報章等可供市民閱讀。廣州的雜誌也有較高的知名度，《南風窗》、《新周刊》、《南方人物周刊》、《南都周刊》等時政社會類雜誌多被不少內地居民認可具有全國影響力。',\n",
            "                 'id': '1001-31',\n",
            "                 'qas': [{'answers': [{'answer_start': 80,\n",
            "                                       'id': '1',\n",
            "                                       'text': '羊城晚報'}],\n",
            "                          'id': '1001-31-1',\n",
            "                          'question': '在廣州除了廣州日報和南方都市報日發行量超過100萬份的報紙還有？'},\n",
            "                         {'answers': [{'answer_start': 149,\n",
            "                                       'id': '1',\n",
            "                                       'text': '羊城地鐵報'}],\n",
            "                          'id': '1001-31-2',\n",
            "                          'question': '中國第一份免費在地鐵發放的報紙為？'},\n",
            "                         {'answers': [{'answer_start': 289,\n",
            "                                       'id': '1',\n",
            "                                       'text': '人民幣1元'}],\n",
            "                          'id': '1001-31-3',\n",
            "                          'question': '廣州現在每份報紙的價格為？'}]},\n",
            "                {'context': '境外電視方面，廣州市是繼深圳市之後，普通市民可觀看境外電視頻道第二多的中國大陸城市。目前已進入兩間有線電視公司網絡的頻道包括香港傳統的四個免費電視頻道，即無線電視旗下的翡翠台、明珠台和亞洲電視本港台、國際台，衛星頻道有鳳凰衛視中文台、澳亞衛視中文台、星空衛視、華娛衛視和全球音樂電視台。由於香港電視使用廣州話，語言相通和富娛樂性，加上90年代本地電視頻道少、信號差、播放時間短，所以香港四個免費電視頻道在那時起就開始被市民以魚骨架形天線廣泛接收，並很快普及整個珠江三角洲。本地電視台在80年代末開始大量購入香港劇集，更促進了香港電視在廣州的普及程度。不過當時的中共中央領導就認為香港電視是「反動宣傳」，要求廣東當局嚴厲打擊和嚴懲私自收看人士，此情況直至時任中共廣東省委第一書記任仲夷視察後才有所好轉。不過六四事件發生後，當局又開始審查香港電視。四個頻道在90年代被納入有線電視網絡，當局務求以清晰的視像令市民放棄自行接收未經過濾的原始訊號。如當局認為節目不當，訊號會被多種方式中斷，包括播放預先錄製的香港政府宣傳片或改播相同電視台的其他較早前錄製的節目。另外，兩間有線電視公司也會在這些境外頻道插播廣告牟利，但由於頻率過密和時間不當引起市民廣泛不滿，廣州媒體也曾多次跟進報導，但情況並沒有太大改善。',\n",
            "                 'id': '1001-32',\n",
            "                 'qas': [{'answers': [{'answer_start': 12,\n",
            "                                       'id': '1',\n",
            "                                       'text': '深圳市'}],\n",
            "                          'id': '1001-32-1',\n",
            "                          'question': '可以觀看境外電視頻道第一多的中國城市為？'},\n",
            "                         {'answers': [{'answer_start': 193,\n",
            "                                       'id': '1',\n",
            "                                       'text': '四'}],\n",
            "                          'id': '1001-32-2',\n",
            "                          'question': '90年代時香港的免費電視頻道有多少個？'},\n",
            "                         {'answers': [{'answer_start': 377,\n",
            "                                       'id': '1',\n",
            "                                       'text': '90年代'}],\n",
            "                          'id': '1001-32-3',\n",
            "                          'question': '香港的四個免費頻道從無線納入有線是在甚麼時候？'}]},\n",
            "                {'context': '廣州在明清時期，曾有18座城門。1920年廣州大舉開路時全部清拆，現時只剩下西門口等遺址，而由城門衍生出來的地名如大東門、西門口、小北路等仍然使用至今。騎樓是嶺南一帶常見的建築形式，廣州騎樓的大規模建設始於20世紀20年代，在民國11年《廣州市內不准建築騎樓之馬路表》和民國19年《取締建築章程》的引導下形成了持續到現今的格局。20世紀90年代時期，廣州當局沉迷於大型建設，先後清拆了包括中山路、寶華路、解放路和六二三路的大量騎樓，造成不可挽回的歷史建築破壞，大量老字號亦被迫結業。到21世紀，當局對騎樓街區的拆遷開始進行限制，在《廣州市歷史文化名城保護規劃》里，對騎樓街區的保護便占據了相當大的篇幅。惟部分騎樓，如恩寧路、北京南路、一德路、萬福路等地的騎樓，在舊區重建和地鐵工程當中仍面臨被遷拆的危機，其去留亦引發社會上激烈的討論。',\n",
            "                 'id': '1001-33',\n",
            "                 'qas': [{'answers': [{'answer_start': 3,\n",
            "                                       'id': '1',\n",
            "                                       'text': '明清時期'}],\n",
            "                          'id': '1001-33-1',\n",
            "                          'question': '廣州有18座城門是在什麼時候？'},\n",
            "                         {'answers': [{'answer_start': 175,\n",
            "                                       'id': '1',\n",
            "                                       'text': '廣州當局沉迷於大型建設'}],\n",
            "                          'id': '1001-33-2',\n",
            "                          'question': '因為甚麼原因導致在1990年代時拆了大量的騎樓？'},\n",
            "                         {'answers': [{'answer_start': 266,\n",
            "                                       'id': '1',\n",
            "                                       'text': '廣州市歷史文化名城保護規劃'}],\n",
            "                          'id': '1001-33-3',\n",
            "                          'question': '廣州政府限制拆遷並保護騎樓是要到21世紀的什麼項目發表？'}]},\n",
            "                {'context': '北京街曾矗立自清末以來廣州最大古書院群。大小馬站古書院群，分布於北京路西邊的大小馬站、流水井街巷兩側約20000平方米的範圍內，現存書院12間。其中大馬站西側5間；小馬站兩側4間；流水井兩側3間。由於廣州書院多數已經日久失修，部分已經相當破落，廣州市政府在2003年曾計劃撥資對書院進行修繕，不過時至今日工程仍未開始。在廣州，較有代表性的書院祠堂建築是陳家祠。西關大屋位於舊城區西關一帶，主要由清代豪門富商興建的富有嶺南特色的傳統民居，俗稱「古老大屋」。西關大屋因各種原因，日久失修，多數已經相當破落。隨著舊城改造，越來越多的舊樓被發展商清拆，即使有數十年歷史的西關大屋也不能倖免。現時龍津西路、逢源路一帶比較集中的典型西關大屋民居已劃為「西關大屋建築保護區」。在環市東路華僑新村的別墅群和東山新河浦一帶的小洋樓是廣州近代建築史的代表。近年來雖然政府不斷對傳統建築加以修葺和保護，如修復五仙觀、廣州城隍廟等，但部分文物建築仍然受到野蠻拆遷和破壞。在2009年，東山新河浦保護區內的小洋樓被開發商強拆，在文化及建築專家聯名上書至市長後才被緊急叫停。鄰近寺貝通津的重點文物保護單位隅園在一年後同樣遭到破壞。',\n",
            "                 'id': '1001-34',\n",
            "                 'qas': [{'answers': [{'answer_start': 68,\n",
            "                                       'id': '1',\n",
            "                                       'text': '12間'}],\n",
            "                          'id': '1001-34-1',\n",
            "                          'question': '北京街中現在還有存留的書院有多少？'},\n",
            "                         {'answers': [{'answer_start': 186,\n",
            "                                       'id': '1',\n",
            "                                       'text': '舊城區'}],\n",
            "                          'id': '1001-34-2',\n",
            "                          'question': '俗稱「古老大屋」的建築位於廣州的哪一區？'},\n",
            "                         {'answers': [{'answer_start': 475,\n",
            "                                       'id': '1',\n",
            "                                       'text': '寺貝通津'}],\n",
            "                          'id': '1001-34-3',\n",
            "                          'question': '東山新河浦保護區內的小洋樓被開發商強拆這事件的一年後一樣遭到破壞的地點離哪個地方很近？'}]},\n",
            "                {'context': '作為中國經濟最發達的地區之一，廣州150米以上的高樓數目與密度均排在中國大陸甚至世界城市的前列。90米以上的高樓超過400棟，位於世界前列。高樓群主要集中在天河區和越秀區，並隨著廣州都市化進程的加快，越來越多的超高層建築正在被興建。僅中心商務區珠江新城，至今就規劃了18棟200米以上的高樓，150米以上的高樓50棟左右。其中，具有代表性的高樓有廣州國際金融中心、中信廣場、中華國際中心和廣東電信廣場等。已立項的超高層建築廣州東塔預計在2016年竣工，高530米，將取代廣州西塔成為廣州第一高樓。而廣州塔的塔身主體450米，天線桅杆150米，總高度600米，也成為僅次東京晴空塔的世界第二高的電視觀光塔。作為中國的歷史文化名城和悠久的通商口岸，廣州保留了許多珍貴的宗教建築，大部分密集分布在舊城區內，五大宗教各有至少一座建築被列入全國重點文物保護單位名錄，共9項，此外列入廣東省文物保護單位的有5處，市級重點文物保護單位21處，廣州市登記文物保護單位12處。其中最有代表性的為石室聖心大教堂，1863年興建，1888年落成，是全球四座全石構的哥德式教堂之一。',\n",
            "                 'id': '1001-35',\n",
            "                 'qas': [{'answers': [{'answer_start': 58,\n",
            "                                       'id': '1',\n",
            "                                       'text': '400'}],\n",
            "                          'id': '1001-35-1',\n",
            "                          'question': '在廣州超過9000公分高的建築物高達多少座以上？'},\n",
            "                         {'answers': [{'answer_start': 211,\n",
            "                                       'id': '1',\n",
            "                                       'text': '廣州東塔'}],\n",
            "                          'id': '1001-35-2',\n",
            "                          'question': '2016年哪一棟建築將取代廣州西塔成為當地第一高樓？'},\n",
            "                         {'answers': [{'answer_start': 438,\n",
            "                                       'id': '1',\n",
            "                                       'text': '石室聖心大教堂'}],\n",
            "                          'id': '1001-35-3',\n",
            "                          'question': '全球四座全石構的哥德式教堂當中於1888年完工的為？'}]},\n",
            "                {'context': '粵劇，源自南戲，廣泛流傳於兩廣、港澳和海外華人社區，在廣東文化中占有重要地位。清朝解禁粵劇後，粵劇藝人在廣州黃沙成立八和會館，此後廣州逐漸成為粵劇活動的中心之一，民國時期達到繁盛的頂峰，並且內戰時一批粵劇藝人遷往香港。建國後一度由於文革受到摧殘，但改革開放後再次得到重視，重新於1980年代至1990年代蓬勃發展。在廣州的粵劇著名劇目有：《帝女花》、《紫釵記》、《牡丹亭驚夢》、《雙仙拜月亭》《再世紅梅記》、《蝶影紅梨記》、《香羅塚》、《紅了櫻桃碎了心》、《血染海棠紅》等。廣州歷來的粵劇劇團有覺先聲劇團、廣東省粵劇團、廣州粵劇團、廣州紅豆粵劇團等等，而粵劇名伶有：薛覺先、馬師曾、靚次伯、梁醒波、新馬師曾、芳艷芬、紅線女、羅品超等。',\n",
            "                 'id': '1001-36',\n",
            "                 'qas': [{'answers': [{'answer_start': 58,\n",
            "                                       'id': '1',\n",
            "                                       'text': '八和會館'}],\n",
            "                          'id': '1001-36-1',\n",
            "                          'question': '廣州漸漸成為粵劇之活動的中心之一是在什麼組織成立之後？'},\n",
            "                         {'answers': [{'answer_start': 139,\n",
            "                                       'id': '1',\n",
            "                                       'text': '1980'}],\n",
            "                          'id': '1001-36-2',\n",
            "                          'question': '由於文革的摧殘粵劇最後於什麼年代開始重新發展？'},\n",
            "                         {'answers': [{'answer_start': 299,\n",
            "                                       'id': '1',\n",
            "                                       'text': '新馬師曾'}],\n",
            "                          'id': '1001-36-3',\n",
            "                          'question': '在文中提到的粵劇名伶中姓名有4字的為？'}]},\n",
            "                {'context': '廣州人對飲食極為重視，因飲食文化獨具特色而較為聞名，享有「食在廣州」的讚譽。廣州的飲食文化主要有三大特色：飲食業發達。目前全市飲食企業多達數萬家，其中絕大多數都經營「三茶兩飯一宵夜」，全天供應幾乎沒有中斷。食品用料多樣。廣州飲食選料龐雜，幾乎無所不有。廣東人有一俗語：「背脊朝天，人皆可食。」這反映廣州飲食文化的博大和開放，同時也威脅了許多珍稀物種的生存，並且帶來了一些健康問題。風格特色多樣。除粵菜外，隨著改革開放，世界各地的餐飲企業紛紛來到廣州設分店，包括日本菜、韓國菜、越南菜、泰國菜、印度菜、義大利菜等等。飲食在廣州人的生活中具有特殊的地位，這使得全市每年的餐飲零售總額高達數百億元，人均消費常年居中國大陸各主要城市之首。廣州每年還舉行「美食節」，促進飲食業的發展。傳統本地菜以廣府菜為主。由於廣州位於珠江口，因此海鮮也是常見的菜色，黃沙水產品批發市場就是吃海鮮熱點。廣州屬亞熱帶季風海洋性氣候，氣候濕熱易上火的環境使飲涼茶成為廣州人常年的一個生活習慣。',\n",
            "                 'id': '1001-37',\n",
            "                 'qas': [{'answers': [{'answer_start': 29,\n",
            "                                       'id': '1',\n",
            "                                       'text': '食在廣州'}],\n",
            "                          'id': '1001-37-1',\n",
            "                          'question': '廣州人因為對飲食重視而有什麼之稱？'},\n",
            "                         {'answers': [{'answer_start': 83,\n",
            "                                       'id': '1',\n",
            "                                       'text': '三茶兩飯一宵夜'}],\n",
            "                          'id': '1001-37-2',\n",
            "                          'question': '廣州的飲食業發達而大部分的餐館都有著什麼樣的經營模式？'},\n",
            "                         {'answers': [{'answer_start': 391,\n",
            "                                       'id': '1',\n",
            "                                       'text': '亞熱帶季風海洋性氣候'}],\n",
            "                          'id': '1001-37-3',\n",
            "                          'question': '喝涼茶成為廣州人的習慣是因為廣州屬於何種氣候？'}]},\n",
            "                {'context': '廣州獨有的傳統美術工藝有雕刻的廣州牙雕、廣州欖雕、廣州木雕、廣州磚雕、廣州玉雕、廣州骨雕、廣繡、廣彩以及家具工藝等等。隨著年輕一代傳人的缺乏，各種傳統工藝有消失趨勢。廣州每年一度於新年春節之前舉辦特別的迎春花市，供市民購買賀年年花及各式用品。在明萬曆年間，廣州已經出現花市。清中葉後，廣州花市的規模越來越大，上市品種也越來越多。一般春節前的三四天花市就會開始，到農曆除夕的午夜收市。廣州市內的國家級、省級、市級文物保護單位共有219處。其中國家重點保護單位19個，省級文物保護單位41個，市級文物保護單位159個。目前，南越國宮署遺址、南越王墓、南越國水閘遺址等三處南越國史跡現聯合申報聯合國世界遺產。「羊城八景」是指廣州市政府列出的8個旅遊景點。不同歷史時期的「羊城八景」並不一致。',\n",
            "                 'id': '1001-38',\n",
            "                 'qas': [{'answers': [{'answer_start': 61,\n",
            "                                       'id': '1',\n",
            "                                       'text': '年輕一代傳人'}],\n",
            "                          'id': '1001-38-1',\n",
            "                          'question': '廣州的傳統工藝因為缺乏什麼而有消失的趨勢？'},\n",
            "                         {'answers': [{'answer_start': 122,\n",
            "                                       'id': '1',\n",
            "                                       'text': '明萬曆年間'}],\n",
            "                          'id': '1001-38-2',\n",
            "                          'question': '廣州的花市最早可以追朔到什麼時期？'},\n",
            "                         {'answers': [{'answer_start': 244,\n",
            "                                       'id': '1',\n",
            "                                       'text': '市級'}],\n",
            "                          'id': '1001-38-3',\n",
            "                          'question': '廣州市內的文物保護單位中比國家級多出140個的是哪級？'}]},\n",
            "                {'context': '廣州市公園分布較廣，十一個區均有分布。除少數屬於景點的公園如白雲山風景名勝區、廣州動物園等以外，各主要公園均免費入園。其中，開闢於1917年的人民公園為廣州第一個綜合性公園，也是廣州市第一個免費公園。除了作為市民休憩用地之外，許多公園具特殊意義，如越秀山上越秀公園內的廣州地標五羊石像、黃花崗七十二烈士墓、廣州起義烈士陵園、廣州中山紀念堂等歷史事件的紀念園區。此外，許多公園也有各種文化功能，突出的有廣州文化公園、廣州兒童公園、雕塑公園等等。而各人工湖公園，則更兼具了城市濕地的調節功能；其中，建於1958年的東山湖公園、荔灣湖公園、流花湖公園、麓湖公園，並稱廣州四大人工湖公園。2011年開園的白雲湖公園和海珠湖公園成為廣州市新增的大型人工湖公園。市內公園也常開設花展、畫展、燈展等展覽以使公園活動更為豐富。不過，廣州公園的免費政策和部分免費公園的「園中園」現象也引起市民爭議。',\n",
            "                 'id': '1001-39',\n",
            "                 'qas': [{'answers': [{'answer_start': 65,\n",
            "                                       'id': '1',\n",
            "                                       'text': '1917'}],\n",
            "                          'id': '1001-39-1',\n",
            "                          'question': '位於廣州市的第一個免費公園於哪一年開放？'},\n",
            "                         {'answers': [{'answer_start': 249,\n",
            "                                       'id': '1',\n",
            "                                       'text': '1958'}],\n",
            "                          'id': '1001-39-2',\n",
            "                          'question': '廣州的四大人工湖公園於哪一年建成？'},\n",
            "                         {'answers': [{'answer_start': 298,\n",
            "                                       'id': '1',\n",
            "                                       'text': '白雲湖公園'}],\n",
            "                          'id': '1001-39-3',\n",
            "                          'question': '和海珠湖公園同樣為廣州市新增的大型人工湖公園的是？'}]},\n",
            "                {'context': '廣州作為中國近現代革命的策源地，19世紀末，辛亥革命元老中國現代教育奠基人何子淵、丘逢甲等於此地積極創辦和推廣新式學堂，不僅培育一大批思想進步銳意創新的社會精英，而且還催生「折衷中西，融匯古今」的嶺南畫派，為辛亥革命積蓄巨大能量。而1911年爆發的「三·二九」起義，打響辛亥革命的第一槍，拉開辛亥革命的序幕。1910年和1911年，倪映典率千餘名新軍於燕塘起義及黃興等人發起的黃花崗起義都以失敗告終。1912年中華民國成立後廢廣州府，成立廣東軍政府。1917年7月，孫中山抵達廣州準備另立軍政府。8月，約百名原在北京的國會議員在廣州召開「國會非常會議」，成立中華民國軍政府，選舉孫中山為大元帥，行使中華民國行政權，展開護法運動。後因「非常國會」倒向桂系，迫使孫離開廣州。同年設立廣州市政公所。1918年10月，市政公所發出第一號布告，宣布將拆除全部城牆，將舊城牆基開闢為馬路。1921年4月非常國會聲稱成立中華民國政府，選孫中山為大總統，在廣州就職。1921年《廣州市暫行條例》公布實施，廣州市政廳成立，廣州也因此成為中國第一個市。中國國民黨1924年在廣州舉行第一次全國代表大會。同年孫中山在長洲島創辦中華民國陸軍軍官學校。1925年爆發歷時16個月的省港大罷工，期間示威人士被鎮壓，史稱沙基慘案。中華民國國民政府同年在廣州正式成立。',\n",
            "                 'id': '1001-4',\n",
            "                 'qas': [{'answers': [{'answer_start': 166,\n",
            "                                       'id': '1',\n",
            "                                       'text': '倪映典'}],\n",
            "                          'id': '1001-4-1',\n",
            "                          'question': '燕塘起義是誰帶頭引起的？'},\n",
            "                         {'answers': [{'answer_start': 200,\n",
            "                                       'id': '1',\n",
            "                                       'text': '1912年'}],\n",
            "                          'id': '1001-4-2',\n",
            "                          'question': '廣東軍政府是在什麼時候成立的？'},\n",
            "                         {'answers': [{'answer_start': 522,\n",
            "                                       'id': '1',\n",
            "                                       'text': '16個月'}],\n",
            "                          'id': '1001-4-3',\n",
            "                          'question': '沙基慘案持續了多久？'}]},\n",
            "                {'context': '廣州的對外交流始於漢朝，歷經多個朝代後，航運商業仍舊相當發達，至今與多個國家建立交流平台。中國實施改革開放後，美國率先於1979年在廣州開設領事館，之後外國駐穗領館不斷增加，至2016年12月共有56個國家在廣州設立了總領事館，在中國大陸僅次於上海。許多國家在廣州設領後，它們與廣東的經貿往來都有較大幅度的增長。大多數領館的領區除了廣東之外還包括廣西、福建、海南，有些還包括湖南、江西，甚至雲南、貴州、四川等省。截至2013年11月，廣州共有友好城市32對。截至2013年3月，廣州共有外國友好合作交流城市16個。',\n",
            "                 'id': '1001-40',\n",
            "                 'qas': [{'answers': [{'answer_start': 9,\n",
            "                                       'id': '1',\n",
            "                                       'text': '漢朝'}],\n",
            "                          'id': '1001-40-1',\n",
            "                          'question': '廣州從哪一個朝代開始對外交流發展航運商業？'},\n",
            "                         {'answers': [{'answer_start': 55,\n",
            "                                       'id': '1',\n",
            "                                       'text': '美國'}],\n",
            "                          'id': '1001-40-2',\n",
            "                          'question': '改革開放後，第一個在廣州設置領事館的國家為？'},\n",
            "                         {'answers': [{'answer_start': 253,\n",
            "                                       'id': '1',\n",
            "                                       'text': '16'}],\n",
            "                          'id': '1001-40-3',\n",
            "                          'question': '有多少中國國外的城市是和廣州有友好合作交流的關係的？'}]},\n",
            "                {'context': '1926年蔣介石在廣州東校場帶領國民革命軍誓師北伐。同時，毛澤東、彭湃等人在這裡舉辦農民運動講習所，為中國共產黨培養骨幹力量。1927年「四·一二」事件之後，李濟深在廣州戒嚴，持續逮捕處決兩千多名共產黨員，共產黨組織受到嚴重破壞。12月，張太雷、葉挺、葉劍英等在廣州舉行廣州起義，建立了歷時三天的廣州蘇維埃政府。1929年至1936年為陳濟棠主政廣州時期，廣州的經濟、文化、交通和城市建設有顯著發展，留下了海珠橋、中山紀念堂、中山大學五山新校舍、愛群大廈等著名建築。1930年，廣州曾一度改設特別市，同年改省轄市。陳1936年發動兩廣事變，最後失敗逃往香港。粵漢鐵路也在同年修通。抗日戰爭爆發後，1938年12月廣州正式淪陷，期間人口也由超過120萬迅速減至30萬，絕大部分逃至香港。1942年香港淪陷後發生糧荒，又有逾46萬人回穗。1945年8月15日中華民國國軍進入，廣州光復。1947年復為行政院院轄市。1949年2月，中國人民解放軍逼近長江，中華民國政府南遷廣州。10月14日，解放軍陳賡部擊敗了守衛廣州的國軍。此後廣州為中華人民共和國中央直轄市、廣東省人民政府駐地。',\n",
            "                 'id': '1001-5',\n",
            "                 'qas': [{'answers': [{'answer_start': 63,\n",
            "                                       'id': '1',\n",
            "                                       'text': '1927'}],\n",
            "                          'id': '1001-5-1',\n",
            "                          'question': '共產黨組織受到嚴重破壞是在哪一年發生的某個事件之後？'},\n",
            "                         {'answers': [{'answer_start': 168,\n",
            "                                       'id': '1',\n",
            "                                       'text': '陳濟棠'}],\n",
            "                          'id': '1001-5-2',\n",
            "                          'question': '兩廣事變是誰發動的？'},\n",
            "                         {'answers': [{'answer_start': 298,\n",
            "                                       'id': '1',\n",
            "                                       'text': '1938年12月'}],\n",
            "                          'id': '1001-5-3',\n",
            "                          'question': '甚麼時間廣州的人口減少了約90萬？'}]},\n",
            "                {'context': '1949年後，所有的學校的校舍或組織均陸續被解放軍廣州市軍事管制委員會接管，所有私立或教會學校在解放後陸續合併撤銷，其中一些學校遷至澳門、香港等地。1954年廣州改省轄市。1956年，當局開始推行公私合營，措施使所有私人經營的商號都被充公，其中一些企業遷至澳門、香港等地。文化大革命於1966年發生後，市內陷入混亂狀態，經濟近乎癱瘓，名勝古蹟遭到毀壞。大量的地名和商號也被改名，如蓮香樓被改成「東升樓」，六榕路、朝天路、米市路三條路，變成南北「朝陽路」等，像北京路至今沒有恢復原名。1984年10月，劃為國家計劃單列城市。在2000年花都市和番禺市被撤銷，成為廣州市屬區。其後陸續添併從化、增城，從化和增城成為廣州的縣級城市。在1998年當局提出「一年一小變，三年一中變，十年一大變」的發展規劃。「廣佛同城化」在21世紀成為討論的熱點議題，電視台、電台、電信等相互落地，並草擬撤消兩地收費站，以後將使兩地人民交流更加密切。2001年11月11日，中華人民共和國第九屆全國運動會在廣州開幕。2010年11月，第十六屆亞洲運動會在廣州舉辦，為廣州又一次成功舉辦綜合性大型運動會。',\n",
            "                 'id': '1001-6',\n",
            "                 'qas': [{'answers': [{'answer_start': 136,\n",
            "                                       'id': '1',\n",
            "                                       'text': '文化大革命'}],\n",
            "                          'id': '1001-6-1',\n",
            "                          'question': '廣州的經濟癱瘓是在什麼事件發生之後？'},\n",
            "                         {'answers': [{'answer_start': 336,\n",
            "                                       'id': '1',\n",
            "                                       'text': '十'}],\n",
            "                          'id': '1001-6-2',\n",
            "                          'question': '1998年廣州市提出的發展規劃當中一次大變花幾年？'},\n",
            "                         {'answers': [{'answer_start': 444,\n",
            "                                       'id': '1',\n",
            "                                       'text': '2010年11月'}],\n",
            "                          'id': '1001-6-3',\n",
            "                          'question': '亞洲運動會在廣州舉辦是什麼時候？'}]},\n",
            "                {'context': '廣州11個市轄區總面積7434.4平方公里。地勢東北高、西南低，背山面海，北部是森林集中的丘陵山區，最高峰為北部從化區與惠州市龍門縣交界處的天堂頂，海拔為1210米；東北部為中低山地，市區有被稱為「市肺」的白雲山；中部是丘陵盆地，南部為沿海沖積平原，為珠江三角洲的組成部分。珠江及其眾多支流貫穿整個廣州。廣州地處亞熱帶沿海，北回歸線從其北部穿過，屬海洋性亞熱帶季風氣候，以溫暖多雨、光熱充足、夏季長、霜期短為特徵。全年平均氣溫為20-22攝氏度，平均相對濕度77%，市區年平均降雨量約為1720毫米，最多年降雨量為2637.8毫米，最少年降雨量為1239.5毫米。由於廣州地處北回歸線以南，因此在冬天，廣州的降雪機率極低。在明清兩代長達400年的小冰期內，廣州至少出現了11次的降雪；而近代曾出現的降雪紀錄分別在1928年1月31日、1967年12月29日和2016年1月24日。廣州有確切氣象紀錄的歷史極端最低氣溫為攝氏2度，也有攝氏負0.6度的非正式記錄，歷史極端最高氣溫為攝氏39.1度，也有攝氏39.2度的非正式記錄。最多高溫日數為38個，最少高溫日數為0個。全年中，3月氣溫回升，多出現回南天，4至6月為雨季，受冷暖空氣交匯及季風槽影響，多暴雨，7至9月，受副熱帶高壓控制，天氣高溫炎熱，多颱風，10月、11月為晴朗乾燥的秋季，氣溫適中，12至2月為陰涼的冬季。',\n",
            "                 'id': '1001-7',\n",
            "                 'qas': [{'answers': [{'answer_start': 99,\n",
            "                                       'id': '1',\n",
            "                                       'text': '市肺'}],\n",
            "                          'id': '1001-7-1',\n",
            "                          'question': '位於廣州的白雲山有甚麼之稱？'},\n",
            "                         {'answers': [{'answer_start': 286,\n",
            "                                       'id': '1',\n",
            "                                       'text': '地處北回歸線以南'}],\n",
            "                          'id': '1001-7-2',\n",
            "                          'question': '廣州的降雪機率非常低的原因是？'},\n",
            "                         {'answers': [{'answer_start': 416,\n",
            "                                       'id': '1',\n",
            "                                       'text': '攝氏負0.6度'}],\n",
            "                          'id': '1001-7-3',\n",
            "                          'question': '廣州的氣象紀錄歷史當中溫度最低的非正式紀錄為？'}]},\n",
            "                {'context': '目前廣州市轄11個市轄區：荔灣區、越秀區、海珠區、天河區、白雲區、黃埔區、番禺區、花都區、南沙區、增城區、從化區。現時的廣州市區主要位於越秀區，歷史上的廣州城區面積一直在擴張；由建城伊始的越秀、東山，直至清代的西關，民國時候的河南，以至20世紀末的白雲、芳村、天河與21世紀開始的番禺、蘿崗。未來廣州市區或將處於繞城公路包圍圈內，具體範圍目前仍在規劃建設當中。廣州市在2005年5月調整行政區劃，撤銷東山、芳村兩區，東山區併入越秀區；芳村區併入荔灣區。同時新設立南沙區、蘿崗兩區。南沙區由原番禺區分出；蘿崗區則是廣州經濟技術開發區加上原白雲區、天河區、黃埔區和增城市的部分組成。新區機構在同年9月末正式掛牌。至此，東山區和芳村區已不復存在，但部分地名、機構名稱則繼續保留。此次調整也引起廣泛爭議，不少人擔心東山少爺、西關小姐的稱呼逐漸被人淡忘。2005年區劃調整前的原市區設置如下：4個老城區，包括越秀區、海珠區、荔灣區、東山區，當地居民稱為市中心，越秀區和東山區則是傳統的省城；4個市中心擴展城區，包括芳村區、天河區、黃埔區、白雲區；2個衛星城區，包括番禺區、花都區；2個郊區縣級市，包括增城市、從化市。2014年2月，國務院同意廣東省調整廣州市部分行政區劃，撤銷蘿崗區，併入黃埔區；從化、增城撤市設區。這亦代表著廣州轄下已沒有縣和縣級市。',\n",
            "                 'id': '1001-8',\n",
            "                 'qas': [{'answers': [{'answer_start': 68,\n",
            "                                       'id': '1',\n",
            "                                       'text': '越秀區'}],\n",
            "                          'id': '1001-8-1',\n",
            "                          'question': '現在廣東市區主要位於廣東市的哪一區？'},\n",
            "                         {'answers': [{'answer_start': 184,\n",
            "                                       'id': '1',\n",
            "                                       'text': '2005年5月'}],\n",
            "                          'id': '1001-8-2',\n",
            "                          'question': '擔心東山少爺這個稱呼被遺忘是由於廣州市在甚麼時候進行的行政規劃的調整？'},\n",
            "                         {'answers': [{'answer_start': 503,\n",
            "                                       'id': '1',\n",
            "                                       'text': '2014年2月'}],\n",
            "                          'id': '1001-8-3',\n",
            "                          'question': '什麼時候開始廣州之下已經沒有縣跟縣級市？'}]},\n",
            "                {'context': '廣州道路交通建設，尤其是高架橋與內外環路、高速公路非常發達。但由於私家車太多、道路通行能力低等原因，交通擠塞成為廣州市內最常見的問題之一。公共運輸方面，廣州市內已有地鐵、快速公交、公共汽車、無軌電車等各種運輸方式。廣州也是中國一個最重要的鐵路與航空樞紐城市之一，旅客能乘坐火車或飛機到達中國國內各大主要城市。而來往廣州和國外的國際航線更遍布世界各地。根據《福布斯》2014年的客貨運能力最強的25個城市榜單，廣州客運、貨運指數均排名全國第一。作為南方城市，廣州史上曾水道縱橫，只是在清朝末期以後百年間城市發展，拆除城牆、開築馬路，水運逐漸衰落，城內河涌也就逐漸湮沒，在廣州亞運後如東濠涌等被當局重新開發轉作城市觀光景點等用。1997年，廣州開通地鐵1號線，是繼北京、天津和上海之後第四個擁有地下鐵道系統的中國大陸城市。目前已開通10條線路，總長度達308.7公里，位居中國第三。為了更好的解決交通堵塞的問題，廣州市目前正進行大規模的地鐵擴建，在建里程超過300公里。計劃到2020年，廣州地鐵將運行15條線路，總長度超過500公里。廣州市第一條有軌電車線路海珠有軌電車目前已在2014年12月31日開通試乘，而未來廣州市將會有多條有軌電車線路覆蓋各區。',\n",
            "                 'id': '1001-9',\n",
            "                 'qas': [{'answers': [{'answer_start': 33,\n",
            "                                       'id': '1',\n",
            "                                       'text': '私家車'}],\n",
            "                          'id': '1001-9-1',\n",
            "                          'question': '廣州市的交通問題其中一個原因是太多什麼？'},\n",
            "                         {'answers': [{'answer_start': 204,\n",
            "                                       'id': '1',\n",
            "                                       'text': '廣州'}],\n",
            "                          'id': '1001-9-2',\n",
            "                          'question': '貨運指數於2014年排名第一的是哪一座城市？'},\n",
            "                         {'answers': [{'answer_start': 436,\n",
            "                                       'id': '1',\n",
            "                                       'text': '2020年'}],\n",
            "                          'id': '1001-9-3',\n",
            "                          'question': '廣州預計什麼時候地鐵的總長度可以比目前多約200公里甚至更多？'}]}],\n",
            " 'title': '广州'}\n"
          ],
          "name": "stdout"
        }
      ]
    },
    {
      "cell_type": "markdown",
      "metadata": {
        "id": "1RndCqMzi8SY"
      },
      "source": [
        "### 載入相關套件"
      ]
    },
    {
      "cell_type": "code",
      "metadata": {
        "id": "tyir3IOVZ16E",
        "outputId": "0b8f709e-e02f-478f-bac0-a99c219db32d",
        "colab": {
          "base_uri": "https://localhost:8080/"
        }
      },
      "source": [
        "!pip install transformers"
      ],
      "execution_count": null,
      "outputs": [
        {
          "output_type": "stream",
          "text": [
            "Requirement already satisfied: transformers in /usr/local/lib/python3.6/dist-packages (3.5.0)\n",
            "Requirement already satisfied: dataclasses; python_version < \"3.7\" in /usr/local/lib/python3.6/dist-packages (from transformers) (0.7)\n",
            "Requirement already satisfied: sentencepiece==0.1.91 in /usr/local/lib/python3.6/dist-packages (from transformers) (0.1.91)\n",
            "Requirement already satisfied: sacremoses in /usr/local/lib/python3.6/dist-packages (from transformers) (0.0.43)\n",
            "Requirement already satisfied: packaging in /usr/local/lib/python3.6/dist-packages (from transformers) (20.4)\n",
            "Requirement already satisfied: requests in /usr/local/lib/python3.6/dist-packages (from transformers) (2.23.0)\n",
            "Requirement already satisfied: tqdm>=4.27 in /usr/local/lib/python3.6/dist-packages (from transformers) (4.41.1)\n",
            "Requirement already satisfied: protobuf in /usr/local/lib/python3.6/dist-packages (from transformers) (3.12.4)\n",
            "Requirement already satisfied: numpy in /usr/local/lib/python3.6/dist-packages (from transformers) (1.18.5)\n",
            "Requirement already satisfied: regex!=2019.12.17 in /usr/local/lib/python3.6/dist-packages (from transformers) (2019.12.20)\n",
            "Requirement already satisfied: filelock in /usr/local/lib/python3.6/dist-packages (from transformers) (3.0.12)\n",
            "Requirement already satisfied: tokenizers==0.9.3 in /usr/local/lib/python3.6/dist-packages (from transformers) (0.9.3)\n",
            "Requirement already satisfied: click in /usr/local/lib/python3.6/dist-packages (from sacremoses->transformers) (7.1.2)\n",
            "Requirement already satisfied: six in /usr/local/lib/python3.6/dist-packages (from sacremoses->transformers) (1.15.0)\n",
            "Requirement already satisfied: joblib in /usr/local/lib/python3.6/dist-packages (from sacremoses->transformers) (0.17.0)\n",
            "Requirement already satisfied: pyparsing>=2.0.2 in /usr/local/lib/python3.6/dist-packages (from packaging->transformers) (2.4.7)\n",
            "Requirement already satisfied: chardet<4,>=3.0.2 in /usr/local/lib/python3.6/dist-packages (from requests->transformers) (3.0.4)\n",
            "Requirement already satisfied: urllib3!=1.25.0,!=1.25.1,<1.26,>=1.21.1 in /usr/local/lib/python3.6/dist-packages (from requests->transformers) (1.24.3)\n",
            "Requirement already satisfied: certifi>=2017.4.17 in /usr/local/lib/python3.6/dist-packages (from requests->transformers) (2020.6.20)\n",
            "Requirement already satisfied: idna<3,>=2.5 in /usr/local/lib/python3.6/dist-packages (from requests->transformers) (2.10)\n",
            "Requirement already satisfied: setuptools in /usr/local/lib/python3.6/dist-packages (from protobuf->transformers) (50.3.2)\n"
          ],
          "name": "stdout"
        }
      ]
    },
    {
      "cell_type": "code",
      "metadata": {
        "id": "AyEo4SsmX_-g"
      },
      "source": [
        "import json\n",
        "from pathlib import Path\n",
        "\n",
        "import torch\n",
        "from torch.utils.data import DataLoader\n",
        "from transformers import (AdamW, BertForMaskedLM, BertTokenizer,\n",
        "                          Trainer, TrainingArguments)"
      ],
      "execution_count": null,
      "outputs": []
    },
    {
      "cell_type": "markdown",
      "metadata": {
        "id": "xTCuQxo6D_TL"
      },
      "source": [
        "### 使用 bert-base-chinese 預訓練模型進行訓練"
      ]
    },
    {
      "cell_type": "code",
      "metadata": {
        "id": "hn0HuS6pBMqd",
        "outputId": "9573f019-bb1d-499c-b453-4fb212977e42",
        "colab": {
          "base_uri": "https://localhost:8080/"
        }
      },
      "source": [
        "tokenizer = BertTokenizer.from_pretrained('bert-base-chinese')\n",
        "model = BertForMaskedLM.from_pretrained('bert-base-chinese', return_dict=True)"
      ],
      "execution_count": null,
      "outputs": [
        {
          "output_type": "stream",
          "text": [
            "Some weights of the model checkpoint at bert-base-chinese were not used when initializing BertForMaskedLM: ['cls.seq_relationship.weight', 'cls.seq_relationship.bias']\n",
            "- This IS expected if you are initializing BertForMaskedLM from the checkpoint of a model trained on another task or with another architecture (e.g. initializing a BertForSequenceClassification model from a BertForPreTraining model).\n",
            "- This IS NOT expected if you are initializing BertForMaskedLM from the checkpoint of a model that you expect to be exactly identical (initializing a BertForSequenceClassification model from a BertForSequenceClassification model).\n"
          ],
          "name": "stderr"
        }
      ]
    },
    {
      "cell_type": "markdown",
      "metadata": {
        "id": "mpZJGe3y67aO"
      },
      "source": [
        "### 讀取資料（整理出資料中的 context、question、answer）並製作 Sequential 訓練資料"
      ]
    },
    {
      "cell_type": "markdown",
      "metadata": {
        "id": "IWRpw5WrULE2"
      },
      "source": [
        "![螢幕擷取畫面 2020-11-10 163635.png](data:image/png;base64,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)"
      ]
    },
    {
      "cell_type": "code",
      "metadata": {
        "id": "yQefDk2sLq77",
        "outputId": "f7354735-981f-4ebb-e031-40f511a21e02",
        "colab": {
          "base_uri": "https://localhost:8080/"
        }
      },
      "source": [
        "def read_drcd(path, num_limit = -1):  # num_limit 限制資料筆數（-1則使用全部資料）\n",
        "  path = Path(path)\n",
        "  with open(path, 'rb') as f:\n",
        "      drcd_dict = json.load(f)\n",
        "\n",
        "  contexts = []\n",
        "  answers = []\n",
        "  input_QWords = []\n",
        "  label_QWords = []\n",
        "  for group in drcd_dict['data']:\n",
        "    for passage in group['paragraphs']:\n",
        "      context = passage['context']\n",
        "      for qa in passage['qas']:\n",
        "        question = qa['question']\n",
        "        for answer in qa['answers']:\n",
        "          input_QWord = '[MASK]'\n",
        "          for question_word in question:\n",
        "            contexts.append(context)\n",
        "            answers.append(answer['text'])\n",
        "            input_QWords.append(input_QWord)\n",
        "            label_QWords.append(question_word)           \n",
        "            input_QWord = input_QWord.replace('[MASK]','') + question_word + '[MASK]'\n",
        "\n",
        "          contexts.append(context)\n",
        "          answers.append(answer['text'])\n",
        "          input_QWords.append(input_QWord)\n",
        "          label_QWords.append('[SEP]')\n",
        "\n",
        "      if num_limit != -1 and len(contexts) > num_limit:\n",
        "        return contexts, answers, input_QWords, label_QWords\n",
        "\n",
        "  return contexts, answers, input_QWords, label_QWords\n",
        "\n",
        "train_contexts, train_answers, train_input_QWords, train_label_QWords = read_drcd('./train.json', num_limit = 50000)\n",
        "val_contexts, val_answers, val_input_QWords, val_label_QWords = read_drcd('./dev.json', num_limit = 5000)\n",
        "\n",
        "print('train_data　筆數：' ,len(train_contexts))\n",
        "print('val_data　筆數：', len(val_contexts))"
      ],
      "execution_count": null,
      "outputs": [
        {
          "output_type": "stream",
          "text": [
            "train_data　筆數： 50009\n",
            "val_data　筆數： 5008\n"
          ],
          "name": "stdout"
        }
      ]
    },
    {
      "cell_type": "code",
      "metadata": {
        "id": "rvJJoLwJP6fv",
        "outputId": "5de7016b-b310-47e7-e5e1-a02c13660140",
        "colab": {
          "base_uri": "https://localhost:8080/"
        }
      },
      "source": [
        "for i, (contexts, answers, input_QWords, label_QWords) in enumerate(zip(train_contexts, train_answers, train_input_QWords, train_label_QWords)):\n",
        "  print('iter', i)\n",
        "  print('context', contexts)\n",
        "  print('answer', answers)\n",
        "  print('input_QWords', input_QWords)     \n",
        "  print('label_QWord', label_QWords)     \n",
        "  print('-'*10)\n",
        "  if i == 22:\n",
        "    break"
      ],
      "execution_count": null,
      "outputs": [
        {
          "output_type": "stream",
          "text": [
            "iter 0\n",
            "context 2010年引進的廣州快速公交運輸系統，屬世界第二大快速公交系統，日常載客量可達100萬人次，高峰時期每小時單向客流高達26900人次，僅次於波哥大的快速交通系統，平均每10秒鐘就有一輛巴士，每輛巴士單向行駛350小時。包括橋樑在內的站台是世界最長的州快速公交運輸系統站台，長達260米。目前廣州市區的計程車和公共汽車主要使用液化石油氣作燃料，部分公共汽車更使用油電、氣電混合動力技術。2012年底開始投放液化天然氣燃料的公共汽車，2014年6月開始投放液化天然氣插電式混合動力公共汽車，以取代液化石油氣公共汽車。2007年1月16日，廣州市政府全面禁止在市區內駕駛摩托車。違反禁令的機動車將會予以沒收。廣州市交通局聲稱禁令的施行，使得交通擁擠問題和車禍大幅減少。廣州白雲國際機場位於白雲區與花都區交界，2004年8月5日正式投入運營，屬中國交通情況第二繁忙的機場。該機場取代了原先位於市中心的無法滿足日益增長航空需求的舊機場。目前機場有三條飛機跑道，成為國內第三個擁有三跑道的民航機場。比鄰近的香港國際機場第三跑道預計的2023年落成早8年。\n",
            "answer 10秒鐘\n",
            "input_QWords [MASK]\n",
            "label_QWord 廣\n",
            "----------\n",
            "iter 1\n",
            "context 2010年引進的廣州快速公交運輸系統，屬世界第二大快速公交系統，日常載客量可達100萬人次，高峰時期每小時單向客流高達26900人次，僅次於波哥大的快速交通系統，平均每10秒鐘就有一輛巴士，每輛巴士單向行駛350小時。包括橋樑在內的站台是世界最長的州快速公交運輸系統站台，長達260米。目前廣州市區的計程車和公共汽車主要使用液化石油氣作燃料，部分公共汽車更使用油電、氣電混合動力技術。2012年底開始投放液化天然氣燃料的公共汽車，2014年6月開始投放液化天然氣插電式混合動力公共汽車，以取代液化石油氣公共汽車。2007年1月16日，廣州市政府全面禁止在市區內駕駛摩托車。違反禁令的機動車將會予以沒收。廣州市交通局聲稱禁令的施行，使得交通擁擠問題和車禍大幅減少。廣州白雲國際機場位於白雲區與花都區交界，2004年8月5日正式投入運營，屬中國交通情況第二繁忙的機場。該機場取代了原先位於市中心的無法滿足日益增長航空需求的舊機場。目前機場有三條飛機跑道，成為國內第三個擁有三跑道的民航機場。比鄰近的香港國際機場第三跑道預計的2023年落成早8年。\n",
            "answer 10秒鐘\n",
            "input_QWords 廣[MASK]\n",
            "label_QWord 州\n",
            "----------\n",
            "iter 2\n",
            "context 2010年引進的廣州快速公交運輸系統，屬世界第二大快速公交系統，日常載客量可達100萬人次，高峰時期每小時單向客流高達26900人次，僅次於波哥大的快速交通系統，平均每10秒鐘就有一輛巴士，每輛巴士單向行駛350小時。包括橋樑在內的站台是世界最長的州快速公交運輸系統站台，長達260米。目前廣州市區的計程車和公共汽車主要使用液化石油氣作燃料，部分公共汽車更使用油電、氣電混合動力技術。2012年底開始投放液化天然氣燃料的公共汽車，2014年6月開始投放液化天然氣插電式混合動力公共汽車，以取代液化石油氣公共汽車。2007年1月16日，廣州市政府全面禁止在市區內駕駛摩托車。違反禁令的機動車將會予以沒收。廣州市交通局聲稱禁令的施行，使得交通擁擠問題和車禍大幅減少。廣州白雲國際機場位於白雲區與花都區交界，2004年8月5日正式投入運營，屬中國交通情況第二繁忙的機場。該機場取代了原先位於市中心的無法滿足日益增長航空需求的舊機場。目前機場有三條飛機跑道，成為國內第三個擁有三跑道的民航機場。比鄰近的香港國際機場第三跑道預計的2023年落成早8年。\n",
            "answer 10秒鐘\n",
            "input_QWords 廣州[MASK]\n",
            "label_QWord 的\n",
            "----------\n",
            "iter 3\n",
            "context 2010年引進的廣州快速公交運輸系統，屬世界第二大快速公交系統，日常載客量可達100萬人次，高峰時期每小時單向客流高達26900人次，僅次於波哥大的快速交通系統，平均每10秒鐘就有一輛巴士，每輛巴士單向行駛350小時。包括橋樑在內的站台是世界最長的州快速公交運輸系統站台，長達260米。目前廣州市區的計程車和公共汽車主要使用液化石油氣作燃料，部分公共汽車更使用油電、氣電混合動力技術。2012年底開始投放液化天然氣燃料的公共汽車，2014年6月開始投放液化天然氣插電式混合動力公共汽車，以取代液化石油氣公共汽車。2007年1月16日，廣州市政府全面禁止在市區內駕駛摩托車。違反禁令的機動車將會予以沒收。廣州市交通局聲稱禁令的施行，使得交通擁擠問題和車禍大幅減少。廣州白雲國際機場位於白雲區與花都區交界，2004年8月5日正式投入運營，屬中國交通情況第二繁忙的機場。該機場取代了原先位於市中心的無法滿足日益增長航空需求的舊機場。目前機場有三條飛機跑道，成為國內第三個擁有三跑道的民航機場。比鄰近的香港國際機場第三跑道預計的2023年落成早8年。\n",
            "answer 10秒鐘\n",
            "input_QWords 廣州的[MASK]\n",
            "label_QWord 快\n",
            "----------\n",
            "iter 4\n",
            "context 2010年引進的廣州快速公交運輸系統，屬世界第二大快速公交系統，日常載客量可達100萬人次，高峰時期每小時單向客流高達26900人次，僅次於波哥大的快速交通系統，平均每10秒鐘就有一輛巴士，每輛巴士單向行駛350小時。包括橋樑在內的站台是世界最長的州快速公交運輸系統站台，長達260米。目前廣州市區的計程車和公共汽車主要使用液化石油氣作燃料，部分公共汽車更使用油電、氣電混合動力技術。2012年底開始投放液化天然氣燃料的公共汽車，2014年6月開始投放液化天然氣插電式混合動力公共汽車，以取代液化石油氣公共汽車。2007年1月16日，廣州市政府全面禁止在市區內駕駛摩托車。違反禁令的機動車將會予以沒收。廣州市交通局聲稱禁令的施行，使得交通擁擠問題和車禍大幅減少。廣州白雲國際機場位於白雲區與花都區交界，2004年8月5日正式投入運營，屬中國交通情況第二繁忙的機場。該機場取代了原先位於市中心的無法滿足日益增長航空需求的舊機場。目前機場有三條飛機跑道，成為國內第三個擁有三跑道的民航機場。比鄰近的香港國際機場第三跑道預計的2023年落成早8年。\n",
            "answer 10秒鐘\n",
            "input_QWords 廣州的快[MASK]\n",
            "label_QWord 速\n",
            "----------\n",
            "iter 5\n",
            "context 2010年引進的廣州快速公交運輸系統，屬世界第二大快速公交系統，日常載客量可達100萬人次，高峰時期每小時單向客流高達26900人次，僅次於波哥大的快速交通系統，平均每10秒鐘就有一輛巴士，每輛巴士單向行駛350小時。包括橋樑在內的站台是世界最長的州快速公交運輸系統站台，長達260米。目前廣州市區的計程車和公共汽車主要使用液化石油氣作燃料，部分公共汽車更使用油電、氣電混合動力技術。2012年底開始投放液化天然氣燃料的公共汽車，2014年6月開始投放液化天然氣插電式混合動力公共汽車，以取代液化石油氣公共汽車。2007年1月16日，廣州市政府全面禁止在市區內駕駛摩托車。違反禁令的機動車將會予以沒收。廣州市交通局聲稱禁令的施行，使得交通擁擠問題和車禍大幅減少。廣州白雲國際機場位於白雲區與花都區交界，2004年8月5日正式投入運營，屬中國交通情況第二繁忙的機場。該機場取代了原先位於市中心的無法滿足日益增長航空需求的舊機場。目前機場有三條飛機跑道，成為國內第三個擁有三跑道的民航機場。比鄰近的香港國際機場第三跑道預計的2023年落成早8年。\n",
            "answer 10秒鐘\n",
            "input_QWords 廣州的快速[MASK]\n",
            "label_QWord 公\n",
            "----------\n",
            "iter 6\n",
            "context 2010年引進的廣州快速公交運輸系統，屬世界第二大快速公交系統，日常載客量可達100萬人次，高峰時期每小時單向客流高達26900人次，僅次於波哥大的快速交通系統，平均每10秒鐘就有一輛巴士，每輛巴士單向行駛350小時。包括橋樑在內的站台是世界最長的州快速公交運輸系統站台，長達260米。目前廣州市區的計程車和公共汽車主要使用液化石油氣作燃料，部分公共汽車更使用油電、氣電混合動力技術。2012年底開始投放液化天然氣燃料的公共汽車，2014年6月開始投放液化天然氣插電式混合動力公共汽車，以取代液化石油氣公共汽車。2007年1月16日，廣州市政府全面禁止在市區內駕駛摩托車。違反禁令的機動車將會予以沒收。廣州市交通局聲稱禁令的施行，使得交通擁擠問題和車禍大幅減少。廣州白雲國際機場位於白雲區與花都區交界，2004年8月5日正式投入運營，屬中國交通情況第二繁忙的機場。該機場取代了原先位於市中心的無法滿足日益增長航空需求的舊機場。目前機場有三條飛機跑道，成為國內第三個擁有三跑道的民航機場。比鄰近的香港國際機場第三跑道預計的2023年落成早8年。\n",
            "answer 10秒鐘\n",
            "input_QWords 廣州的快速公[MASK]\n",
            "label_QWord 交\n",
            "----------\n",
            "iter 7\n",
            "context 2010年引進的廣州快速公交運輸系統，屬世界第二大快速公交系統，日常載客量可達100萬人次，高峰時期每小時單向客流高達26900人次，僅次於波哥大的快速交通系統，平均每10秒鐘就有一輛巴士，每輛巴士單向行駛350小時。包括橋樑在內的站台是世界最長的州快速公交運輸系統站台，長達260米。目前廣州市區的計程車和公共汽車主要使用液化石油氣作燃料，部分公共汽車更使用油電、氣電混合動力技術。2012年底開始投放液化天然氣燃料的公共汽車，2014年6月開始投放液化天然氣插電式混合動力公共汽車，以取代液化石油氣公共汽車。2007年1月16日，廣州市政府全面禁止在市區內駕駛摩托車。違反禁令的機動車將會予以沒收。廣州市交通局聲稱禁令的施行，使得交通擁擠問題和車禍大幅減少。廣州白雲國際機場位於白雲區與花都區交界，2004年8月5日正式投入運營，屬中國交通情況第二繁忙的機場。該機場取代了原先位於市中心的無法滿足日益增長航空需求的舊機場。目前機場有三條飛機跑道，成為國內第三個擁有三跑道的民航機場。比鄰近的香港國際機場第三跑道預計的2023年落成早8年。\n",
            "answer 10秒鐘\n",
            "input_QWords 廣州的快速公交[MASK]\n",
            "label_QWord 運\n",
            "----------\n",
            "iter 8\n",
            "context 2010年引進的廣州快速公交運輸系統，屬世界第二大快速公交系統，日常載客量可達100萬人次，高峰時期每小時單向客流高達26900人次，僅次於波哥大的快速交通系統，平均每10秒鐘就有一輛巴士，每輛巴士單向行駛350小時。包括橋樑在內的站台是世界最長的州快速公交運輸系統站台，長達260米。目前廣州市區的計程車和公共汽車主要使用液化石油氣作燃料，部分公共汽車更使用油電、氣電混合動力技術。2012年底開始投放液化天然氣燃料的公共汽車，2014年6月開始投放液化天然氣插電式混合動力公共汽車，以取代液化石油氣公共汽車。2007年1月16日，廣州市政府全面禁止在市區內駕駛摩托車。違反禁令的機動車將會予以沒收。廣州市交通局聲稱禁令的施行，使得交通擁擠問題和車禍大幅減少。廣州白雲國際機場位於白雲區與花都區交界，2004年8月5日正式投入運營，屬中國交通情況第二繁忙的機場。該機場取代了原先位於市中心的無法滿足日益增長航空需求的舊機場。目前機場有三條飛機跑道，成為國內第三個擁有三跑道的民航機場。比鄰近的香港國際機場第三跑道預計的2023年落成早8年。\n",
            "answer 10秒鐘\n",
            "input_QWords 廣州的快速公交運[MASK]\n",
            "label_QWord 輸\n",
            "----------\n",
            "iter 9\n",
            "context 2010年引進的廣州快速公交運輸系統，屬世界第二大快速公交系統，日常載客量可達100萬人次，高峰時期每小時單向客流高達26900人次，僅次於波哥大的快速交通系統，平均每10秒鐘就有一輛巴士，每輛巴士單向行駛350小時。包括橋樑在內的站台是世界最長的州快速公交運輸系統站台，長達260米。目前廣州市區的計程車和公共汽車主要使用液化石油氣作燃料，部分公共汽車更使用油電、氣電混合動力技術。2012年底開始投放液化天然氣燃料的公共汽車，2014年6月開始投放液化天然氣插電式混合動力公共汽車，以取代液化石油氣公共汽車。2007年1月16日，廣州市政府全面禁止在市區內駕駛摩托車。違反禁令的機動車將會予以沒收。廣州市交通局聲稱禁令的施行，使得交通擁擠問題和車禍大幅減少。廣州白雲國際機場位於白雲區與花都區交界，2004年8月5日正式投入運營，屬中國交通情況第二繁忙的機場。該機場取代了原先位於市中心的無法滿足日益增長航空需求的舊機場。目前機場有三條飛機跑道，成為國內第三個擁有三跑道的民航機場。比鄰近的香港國際機場第三跑道預計的2023年落成早8年。\n",
            "answer 10秒鐘\n",
            "input_QWords 廣州的快速公交運輸[MASK]\n",
            "label_QWord 系\n",
            "----------\n",
            "iter 10\n",
            "context 2010年引進的廣州快速公交運輸系統，屬世界第二大快速公交系統，日常載客量可達100萬人次，高峰時期每小時單向客流高達26900人次，僅次於波哥大的快速交通系統，平均每10秒鐘就有一輛巴士，每輛巴士單向行駛350小時。包括橋樑在內的站台是世界最長的州快速公交運輸系統站台，長達260米。目前廣州市區的計程車和公共汽車主要使用液化石油氣作燃料，部分公共汽車更使用油電、氣電混合動力技術。2012年底開始投放液化天然氣燃料的公共汽車，2014年6月開始投放液化天然氣插電式混合動力公共汽車，以取代液化石油氣公共汽車。2007年1月16日，廣州市政府全面禁止在市區內駕駛摩托車。違反禁令的機動車將會予以沒收。廣州市交通局聲稱禁令的施行，使得交通擁擠問題和車禍大幅減少。廣州白雲國際機場位於白雲區與花都區交界，2004年8月5日正式投入運營，屬中國交通情況第二繁忙的機場。該機場取代了原先位於市中心的無法滿足日益增長航空需求的舊機場。目前機場有三條飛機跑道，成為國內第三個擁有三跑道的民航機場。比鄰近的香港國際機場第三跑道預計的2023年落成早8年。\n",
            "answer 10秒鐘\n",
            "input_QWords 廣州的快速公交運輸系[MASK]\n",
            "label_QWord 統\n",
            "----------\n",
            "iter 11\n",
            "context 2010年引進的廣州快速公交運輸系統，屬世界第二大快速公交系統，日常載客量可達100萬人次，高峰時期每小時單向客流高達26900人次，僅次於波哥大的快速交通系統，平均每10秒鐘就有一輛巴士，每輛巴士單向行駛350小時。包括橋樑在內的站台是世界最長的州快速公交運輸系統站台，長達260米。目前廣州市區的計程車和公共汽車主要使用液化石油氣作燃料，部分公共汽車更使用油電、氣電混合動力技術。2012年底開始投放液化天然氣燃料的公共汽車，2014年6月開始投放液化天然氣插電式混合動力公共汽車，以取代液化石油氣公共汽車。2007年1月16日，廣州市政府全面禁止在市區內駕駛摩托車。違反禁令的機動車將會予以沒收。廣州市交通局聲稱禁令的施行，使得交通擁擠問題和車禍大幅減少。廣州白雲國際機場位於白雲區與花都區交界，2004年8月5日正式投入運營，屬中國交通情況第二繁忙的機場。該機場取代了原先位於市中心的無法滿足日益增長航空需求的舊機場。目前機場有三條飛機跑道，成為國內第三個擁有三跑道的民航機場。比鄰近的香港國際機場第三跑道預計的2023年落成早8年。\n",
            "answer 10秒鐘\n",
            "input_QWords 廣州的快速公交運輸系統[MASK]\n",
            "label_QWord 每\n",
            "----------\n",
            "iter 12\n",
            "context 2010年引進的廣州快速公交運輸系統，屬世界第二大快速公交系統，日常載客量可達100萬人次，高峰時期每小時單向客流高達26900人次，僅次於波哥大的快速交通系統，平均每10秒鐘就有一輛巴士，每輛巴士單向行駛350小時。包括橋樑在內的站台是世界最長的州快速公交運輸系統站台，長達260米。目前廣州市區的計程車和公共汽車主要使用液化石油氣作燃料，部分公共汽車更使用油電、氣電混合動力技術。2012年底開始投放液化天然氣燃料的公共汽車，2014年6月開始投放液化天然氣插電式混合動力公共汽車，以取代液化石油氣公共汽車。2007年1月16日，廣州市政府全面禁止在市區內駕駛摩托車。違反禁令的機動車將會予以沒收。廣州市交通局聲稱禁令的施行，使得交通擁擠問題和車禍大幅減少。廣州白雲國際機場位於白雲區與花都區交界，2004年8月5日正式投入運營，屬中國交通情況第二繁忙的機場。該機場取代了原先位於市中心的無法滿足日益增長航空需求的舊機場。目前機場有三條飛機跑道，成為國內第三個擁有三跑道的民航機場。比鄰近的香港國際機場第三跑道預計的2023年落成早8年。\n",
            "answer 10秒鐘\n",
            "input_QWords 廣州的快速公交運輸系統每[MASK]\n",
            "label_QWord 多\n",
            "----------\n",
            "iter 13\n",
            "context 2010年引進的廣州快速公交運輸系統，屬世界第二大快速公交系統，日常載客量可達100萬人次，高峰時期每小時單向客流高達26900人次，僅次於波哥大的快速交通系統，平均每10秒鐘就有一輛巴士，每輛巴士單向行駛350小時。包括橋樑在內的站台是世界最長的州快速公交運輸系統站台，長達260米。目前廣州市區的計程車和公共汽車主要使用液化石油氣作燃料，部分公共汽車更使用油電、氣電混合動力技術。2012年底開始投放液化天然氣燃料的公共汽車，2014年6月開始投放液化天然氣插電式混合動力公共汽車，以取代液化石油氣公共汽車。2007年1月16日，廣州市政府全面禁止在市區內駕駛摩托車。違反禁令的機動車將會予以沒收。廣州市交通局聲稱禁令的施行，使得交通擁擠問題和車禍大幅減少。廣州白雲國際機場位於白雲區與花都區交界，2004年8月5日正式投入運營，屬中國交通情況第二繁忙的機場。該機場取代了原先位於市中心的無法滿足日益增長航空需求的舊機場。目前機場有三條飛機跑道，成為國內第三個擁有三跑道的民航機場。比鄰近的香港國際機場第三跑道預計的2023年落成早8年。\n",
            "answer 10秒鐘\n",
            "input_QWords 廣州的快速公交運輸系統每多[MASK]\n",
            "label_QWord 久\n",
            "----------\n",
            "iter 14\n",
            "context 2010年引進的廣州快速公交運輸系統，屬世界第二大快速公交系統，日常載客量可達100萬人次，高峰時期每小時單向客流高達26900人次，僅次於波哥大的快速交通系統，平均每10秒鐘就有一輛巴士，每輛巴士單向行駛350小時。包括橋樑在內的站台是世界最長的州快速公交運輸系統站台，長達260米。目前廣州市區的計程車和公共汽車主要使用液化石油氣作燃料，部分公共汽車更使用油電、氣電混合動力技術。2012年底開始投放液化天然氣燃料的公共汽車，2014年6月開始投放液化天然氣插電式混合動力公共汽車，以取代液化石油氣公共汽車。2007年1月16日，廣州市政府全面禁止在市區內駕駛摩托車。違反禁令的機動車將會予以沒收。廣州市交通局聲稱禁令的施行，使得交通擁擠問題和車禍大幅減少。廣州白雲國際機場位於白雲區與花都區交界，2004年8月5日正式投入運營，屬中國交通情況第二繁忙的機場。該機場取代了原先位於市中心的無法滿足日益增長航空需求的舊機場。目前機場有三條飛機跑道，成為國內第三個擁有三跑道的民航機場。比鄰近的香港國際機場第三跑道預計的2023年落成早8年。\n",
            "answer 10秒鐘\n",
            "input_QWords 廣州的快速公交運輸系統每多久[MASK]\n",
            "label_QWord 就\n",
            "----------\n",
            "iter 15\n",
            "context 2010年引進的廣州快速公交運輸系統，屬世界第二大快速公交系統，日常載客量可達100萬人次，高峰時期每小時單向客流高達26900人次，僅次於波哥大的快速交通系統，平均每10秒鐘就有一輛巴士，每輛巴士單向行駛350小時。包括橋樑在內的站台是世界最長的州快速公交運輸系統站台，長達260米。目前廣州市區的計程車和公共汽車主要使用液化石油氣作燃料，部分公共汽車更使用油電、氣電混合動力技術。2012年底開始投放液化天然氣燃料的公共汽車，2014年6月開始投放液化天然氣插電式混合動力公共汽車，以取代液化石油氣公共汽車。2007年1月16日，廣州市政府全面禁止在市區內駕駛摩托車。違反禁令的機動車將會予以沒收。廣州市交通局聲稱禁令的施行，使得交通擁擠問題和車禍大幅減少。廣州白雲國際機場位於白雲區與花都區交界，2004年8月5日正式投入運營，屬中國交通情況第二繁忙的機場。該機場取代了原先位於市中心的無法滿足日益增長航空需求的舊機場。目前機場有三條飛機跑道，成為國內第三個擁有三跑道的民航機場。比鄰近的香港國際機場第三跑道預計的2023年落成早8年。\n",
            "answer 10秒鐘\n",
            "input_QWords 廣州的快速公交運輸系統每多久就[MASK]\n",
            "label_QWord 會\n",
            "----------\n",
            "iter 16\n",
            "context 2010年引進的廣州快速公交運輸系統，屬世界第二大快速公交系統，日常載客量可達100萬人次，高峰時期每小時單向客流高達26900人次，僅次於波哥大的快速交通系統，平均每10秒鐘就有一輛巴士，每輛巴士單向行駛350小時。包括橋樑在內的站台是世界最長的州快速公交運輸系統站台，長達260米。目前廣州市區的計程車和公共汽車主要使用液化石油氣作燃料，部分公共汽車更使用油電、氣電混合動力技術。2012年底開始投放液化天然氣燃料的公共汽車，2014年6月開始投放液化天然氣插電式混合動力公共汽車，以取代液化石油氣公共汽車。2007年1月16日，廣州市政府全面禁止在市區內駕駛摩托車。違反禁令的機動車將會予以沒收。廣州市交通局聲稱禁令的施行，使得交通擁擠問題和車禍大幅減少。廣州白雲國際機場位於白雲區與花都區交界，2004年8月5日正式投入運營，屬中國交通情況第二繁忙的機場。該機場取代了原先位於市中心的無法滿足日益增長航空需求的舊機場。目前機場有三條飛機跑道，成為國內第三個擁有三跑道的民航機場。比鄰近的香港國際機場第三跑道預計的2023年落成早8年。\n",
            "answer 10秒鐘\n",
            "input_QWords 廣州的快速公交運輸系統每多久就會[MASK]\n",
            "label_QWord 有\n",
            "----------\n",
            "iter 17\n",
            "context 2010年引進的廣州快速公交運輸系統，屬世界第二大快速公交系統，日常載客量可達100萬人次，高峰時期每小時單向客流高達26900人次，僅次於波哥大的快速交通系統，平均每10秒鐘就有一輛巴士，每輛巴士單向行駛350小時。包括橋樑在內的站台是世界最長的州快速公交運輸系統站台，長達260米。目前廣州市區的計程車和公共汽車主要使用液化石油氣作燃料，部分公共汽車更使用油電、氣電混合動力技術。2012年底開始投放液化天然氣燃料的公共汽車，2014年6月開始投放液化天然氣插電式混合動力公共汽車，以取代液化石油氣公共汽車。2007年1月16日，廣州市政府全面禁止在市區內駕駛摩托車。違反禁令的機動車將會予以沒收。廣州市交通局聲稱禁令的施行，使得交通擁擠問題和車禍大幅減少。廣州白雲國際機場位於白雲區與花都區交界，2004年8月5日正式投入運營，屬中國交通情況第二繁忙的機場。該機場取代了原先位於市中心的無法滿足日益增長航空需求的舊機場。目前機場有三條飛機跑道，成為國內第三個擁有三跑道的民航機場。比鄰近的香港國際機場第三跑道預計的2023年落成早8年。\n",
            "answer 10秒鐘\n",
            "input_QWords 廣州的快速公交運輸系統每多久就會有[MASK]\n",
            "label_QWord 一\n",
            "----------\n",
            "iter 18\n",
            "context 2010年引進的廣州快速公交運輸系統，屬世界第二大快速公交系統，日常載客量可達100萬人次，高峰時期每小時單向客流高達26900人次，僅次於波哥大的快速交通系統，平均每10秒鐘就有一輛巴士，每輛巴士單向行駛350小時。包括橋樑在內的站台是世界最長的州快速公交運輸系統站台，長達260米。目前廣州市區的計程車和公共汽車主要使用液化石油氣作燃料，部分公共汽車更使用油電、氣電混合動力技術。2012年底開始投放液化天然氣燃料的公共汽車，2014年6月開始投放液化天然氣插電式混合動力公共汽車，以取代液化石油氣公共汽車。2007年1月16日，廣州市政府全面禁止在市區內駕駛摩托車。違反禁令的機動車將會予以沒收。廣州市交通局聲稱禁令的施行，使得交通擁擠問題和車禍大幅減少。廣州白雲國際機場位於白雲區與花都區交界，2004年8月5日正式投入運營，屬中國交通情況第二繁忙的機場。該機場取代了原先位於市中心的無法滿足日益增長航空需求的舊機場。目前機場有三條飛機跑道，成為國內第三個擁有三跑道的民航機場。比鄰近的香港國際機場第三跑道預計的2023年落成早8年。\n",
            "answer 10秒鐘\n",
            "input_QWords 廣州的快速公交運輸系統每多久就會有一[MASK]\n",
            "label_QWord 輛\n",
            "----------\n",
            "iter 19\n",
            "context 2010年引進的廣州快速公交運輸系統，屬世界第二大快速公交系統，日常載客量可達100萬人次，高峰時期每小時單向客流高達26900人次，僅次於波哥大的快速交通系統，平均每10秒鐘就有一輛巴士，每輛巴士單向行駛350小時。包括橋樑在內的站台是世界最長的州快速公交運輸系統站台，長達260米。目前廣州市區的計程車和公共汽車主要使用液化石油氣作燃料，部分公共汽車更使用油電、氣電混合動力技術。2012年底開始投放液化天然氣燃料的公共汽車，2014年6月開始投放液化天然氣插電式混合動力公共汽車，以取代液化石油氣公共汽車。2007年1月16日，廣州市政府全面禁止在市區內駕駛摩托車。違反禁令的機動車將會予以沒收。廣州市交通局聲稱禁令的施行，使得交通擁擠問題和車禍大幅減少。廣州白雲國際機場位於白雲區與花都區交界，2004年8月5日正式投入運營，屬中國交通情況第二繁忙的機場。該機場取代了原先位於市中心的無法滿足日益增長航空需求的舊機場。目前機場有三條飛機跑道，成為國內第三個擁有三跑道的民航機場。比鄰近的香港國際機場第三跑道預計的2023年落成早8年。\n",
            "answer 10秒鐘\n",
            "input_QWords 廣州的快速公交運輸系統每多久就會有一輛[MASK]\n",
            "label_QWord 巴\n",
            "----------\n",
            "iter 20\n",
            "context 2010年引進的廣州快速公交運輸系統，屬世界第二大快速公交系統，日常載客量可達100萬人次，高峰時期每小時單向客流高達26900人次，僅次於波哥大的快速交通系統，平均每10秒鐘就有一輛巴士，每輛巴士單向行駛350小時。包括橋樑在內的站台是世界最長的州快速公交運輸系統站台，長達260米。目前廣州市區的計程車和公共汽車主要使用液化石油氣作燃料，部分公共汽車更使用油電、氣電混合動力技術。2012年底開始投放液化天然氣燃料的公共汽車，2014年6月開始投放液化天然氣插電式混合動力公共汽車，以取代液化石油氣公共汽車。2007年1月16日，廣州市政府全面禁止在市區內駕駛摩托車。違反禁令的機動車將會予以沒收。廣州市交通局聲稱禁令的施行，使得交通擁擠問題和車禍大幅減少。廣州白雲國際機場位於白雲區與花都區交界，2004年8月5日正式投入運營，屬中國交通情況第二繁忙的機場。該機場取代了原先位於市中心的無法滿足日益增長航空需求的舊機場。目前機場有三條飛機跑道，成為國內第三個擁有三跑道的民航機場。比鄰近的香港國際機場第三跑道預計的2023年落成早8年。\n",
            "answer 10秒鐘\n",
            "input_QWords 廣州的快速公交運輸系統每多久就會有一輛巴[MASK]\n",
            "label_QWord 士\n",
            "----------\n",
            "iter 21\n",
            "context 2010年引進的廣州快速公交運輸系統，屬世界第二大快速公交系統，日常載客量可達100萬人次，高峰時期每小時單向客流高達26900人次，僅次於波哥大的快速交通系統，平均每10秒鐘就有一輛巴士，每輛巴士單向行駛350小時。包括橋樑在內的站台是世界最長的州快速公交運輸系統站台，長達260米。目前廣州市區的計程車和公共汽車主要使用液化石油氣作燃料，部分公共汽車更使用油電、氣電混合動力技術。2012年底開始投放液化天然氣燃料的公共汽車，2014年6月開始投放液化天然氣插電式混合動力公共汽車，以取代液化石油氣公共汽車。2007年1月16日，廣州市政府全面禁止在市區內駕駛摩托車。違反禁令的機動車將會予以沒收。廣州市交通局聲稱禁令的施行，使得交通擁擠問題和車禍大幅減少。廣州白雲國際機場位於白雲區與花都區交界，2004年8月5日正式投入運營，屬中國交通情況第二繁忙的機場。該機場取代了原先位於市中心的無法滿足日益增長航空需求的舊機場。目前機場有三條飛機跑道，成為國內第三個擁有三跑道的民航機場。比鄰近的香港國際機場第三跑道預計的2023年落成早8年。\n",
            "answer 10秒鐘\n",
            "input_QWords 廣州的快速公交運輸系統每多久就會有一輛巴士[MASK]\n",
            "label_QWord ？\n",
            "----------\n",
            "iter 22\n",
            "context 2010年引進的廣州快速公交運輸系統，屬世界第二大快速公交系統，日常載客量可達100萬人次，高峰時期每小時單向客流高達26900人次，僅次於波哥大的快速交通系統，平均每10秒鐘就有一輛巴士，每輛巴士單向行駛350小時。包括橋樑在內的站台是世界最長的州快速公交運輸系統站台，長達260米。目前廣州市區的計程車和公共汽車主要使用液化石油氣作燃料，部分公共汽車更使用油電、氣電混合動力技術。2012年底開始投放液化天然氣燃料的公共汽車，2014年6月開始投放液化天然氣插電式混合動力公共汽車，以取代液化石油氣公共汽車。2007年1月16日，廣州市政府全面禁止在市區內駕駛摩托車。違反禁令的機動車將會予以沒收。廣州市交通局聲稱禁令的施行，使得交通擁擠問題和車禍大幅減少。廣州白雲國際機場位於白雲區與花都區交界，2004年8月5日正式投入運營，屬中國交通情況第二繁忙的機場。該機場取代了原先位於市中心的無法滿足日益增長航空需求的舊機場。目前機場有三條飛機跑道，成為國內第三個擁有三跑道的民航機場。比鄰近的香港國際機場第三跑道預計的2023年落成早8年。\n",
            "answer 10秒鐘\n",
            "input_QWords 廣州的快速公交運輸系統每多久就會有一輛巴士？[MASK]\n",
            "label_QWord [SEP]\n",
            "----------\n"
          ],
          "name": "stdout"
        }
      ]
    },
    {
      "cell_type": "markdown",
      "metadata": {
        "id": "s_iWg2fRy9QW"
      },
      "source": [
        "### 訓練資料製作成模型 input 格式"
      ]
    },
    {
      "cell_type": "code",
      "metadata": {
        "id": "_GXkVP62aLSJ"
      },
      "source": [
        "class InputFeatures(object):\n",
        "  def __init__(self, input_ids, token_type_ids, attention_mask, labels, label_indexs):\n",
        "    self.input_ids = input_ids\n",
        "    self.token_type_ids = token_type_ids\n",
        "    self.attention_mask = attention_mask\n",
        "    self.labels = labels\n",
        "    self.label_indexs = label_indexs"
      ],
      "execution_count": null,
      "outputs": []
    },
    {
      "cell_type": "code",
      "metadata": {
        "id": "-lLQKmbCQOfn"
      },
      "source": [
        "def convert_data_to_features(contexts, answers, input_QWords, label_QWords=None):\n",
        "  features = {'input_ids':[], 'token_type_ids':[], 'attention_mask':[], 'labels':[], 'label_indexs':[]}\n",
        "\n",
        "#   for i, (context, answer, input_QWord) in notebook.tqdm(enumerate(zip(contexts, answers, input_QWords))):\n",
        "  for i, (context, answer, input_QWord) in enumerate(zip(contexts, answers, input_QWords)):\n",
        "    try:\n",
        "        context_tokens = tokenizer.tokenize(context)\n",
        "        answer_tokens = tokenizer.tokenize(answer)\n",
        "        input_QWord_tokens = tokenizer.tokenize(input_QWord)\n",
        "\n",
        "        if len(context_tokens) > max_context_length:\n",
        "          context_tokens = context_tokens[0:max_context_length] \n",
        "\n",
        "        if len(answer_tokens) > max_answer_length:\n",
        "          answer_tokens = answer_tokens[0:max_answer_length]  \n",
        "\n",
        "        input_tokens = ['[CLS]'] + context_tokens + ['[SEP]'] + answer_tokens + ['[SEP]'] + input_QWord_tokens\n",
        "        input_ids = tokenizer.convert_tokens_to_ids(input_tokens)\n",
        "        if len(input_ids) > 512:continue\n",
        "\n",
        "        token_type_ids = []\n",
        "        type_flag = 0\n",
        "        attention_mask = []\n",
        "\n",
        "        for id in input_ids:\n",
        "          attention_mask.append(1)\n",
        "          token_type_ids.append(type_flag)\n",
        "          if id == 102: #[SEP]\n",
        "            if type_flag == 0:\n",
        "              type_flag = 1\n",
        "            else:\n",
        "              type_flag = 0\n",
        "        label_indexs = len(input_ids) - 1\n",
        "\n",
        "        while len(input_ids) < max_seq_length:\n",
        "          input_ids.append(0)\n",
        "          token_type_ids.append(0)\n",
        "          attention_mask.append(0)\n",
        "\n",
        "        assert len(input_ids) == max_seq_length\n",
        "        assert len(token_type_ids) == max_seq_length\n",
        "        assert len(attention_mask) == max_seq_length\n",
        "\n",
        "        labels=[]\n",
        "        labels = [-100] * max_seq_length # -100 index = padding token\n",
        "        assert len(labels) == max_seq_length \n",
        "\n",
        "        if label_QWords != None:\n",
        "          label_QWord_tokens = tokenizer.tokenize(label_QWords[i])\n",
        "          labels[label_indexs] = tokenizer.convert_tokens_to_ids(label_QWord_tokens)[0]\n",
        "        \n",
        "    except Exception as e:\n",
        "        print(e)\n",
        "        continue\n",
        "        \n",
        "    features['input_ids'].append(input_ids)\n",
        "    features['token_type_ids'].append(token_type_ids)\n",
        "    features['attention_mask'].append(attention_mask)        \n",
        "    features['labels'].append(labels)    \n",
        "    features['label_indexs'].append(label_indexs)\n",
        "        \n",
        "  return InputFeatures(input_ids = features['input_ids'],\n",
        "            token_type_ids = features['token_type_ids'],\n",
        "            attention_mask = features['attention_mask'],\n",
        "            labels = features['labels'],\n",
        "            label_indexs = features['label_indexs'])"
      ],
      "execution_count": null,
      "outputs": []
    },
    {
      "cell_type": "code",
      "metadata": {
        "id": "jIcXZGrIItnJ",
        "outputId": "1ee9ae66-5114-4d17-be87-d0c958177c10",
        "colab": {
          "base_uri": "https://localhost:8080/"
        }
      },
      "source": [
        "max_seq_length = 512\n",
        "max_context_length = 450 \n",
        "max_question_length = 42\n",
        "max_answer_length = 16\n",
        "\n",
        "train_features = convert_data_to_features(train_contexts, train_answers, train_input_QWords, train_label_QWords)\n",
        "val_features = convert_data_to_features(val_contexts, val_answers, val_input_QWords, val_label_QWords)\n",
        "\n",
        "print(len(train_features.input_ids))\n",
        "print(len(val_features.input_ids))"
      ],
      "execution_count": null,
      "outputs": [
        {
          "output_type": "stream",
          "text": [
            "50009\n",
            "5008\n"
          ],
          "name": "stdout"
        }
      ]
    },
    {
      "cell_type": "markdown",
      "metadata": {
        "id": "J7jGoiT1P3JU"
      },
      "source": [
        "### 定義 Dataset，並轉換成 tensor 格式"
      ]
    },
    {
      "cell_type": "code",
      "metadata": {
        "id": "pWoNTqrTS__X"
      },
      "source": [
        "class DrcdDataset(torch.utils.data.Dataset):\n",
        "    def __init__(self, encodings):\n",
        "        self.encodings = encodings\n",
        "            \n",
        "    def __getitem__(self, idx):\n",
        "\n",
        "        return {'input_ids': torch.tensor(self.encodings.input_ids[idx]),\n",
        "            'token_type_ids': torch.tensor(self.encodings.token_type_ids[idx]),\n",
        "            'attention_mask': torch.tensor(self.encodings.attention_mask[idx]),\n",
        "            'labels': torch.tensor(self.encodings.labels[idx])} \n",
        "\n",
        "    def __getdict__(self):\n",
        "\n",
        "        return {'input_ids': torch.tensor(self.encodings.input_ids),\n",
        "            'token_type_ids': torch.tensor(self.encodings.token_type_ids),\n",
        "            'attention_mask': torch.tensor(self.encodings.attention_mask),\n",
        "            'labels': torch.tensor(self.encodings.labels)}\n",
        "\n",
        "    def __len__(self):\n",
        "        return len(self.encodings.input_ids)\n",
        "    \n",
        "    def label_index(self, idx):\n",
        "        return self.encodings.label_indexs[idx]"
      ],
      "execution_count": null,
      "outputs": []
    },
    {
      "cell_type": "code",
      "metadata": {
        "id": "DQFxeJmPQKDT"
      },
      "source": [
        "train_dataset = DrcdDataset(train_features)\n",
        "val_dataset = DrcdDataset(val_features)"
      ],
      "execution_count": null,
      "outputs": []
    },
    {
      "cell_type": "code",
      "metadata": {
        "id": "I1ShKV_sDUm6",
        "outputId": "f90474e7-e367-4798-cda6-a59af79e1ac1",
        "colab": {
          "base_uri": "https://localhost:8080/"
        }
      },
      "source": [
        "print(train_dataset[0])"
      ],
      "execution_count": null,
      "outputs": [
        {
          "output_type": "stream",
          "text": [
            "{'input_ids': tensor([  101,  8166,  2399,  2471,  6868,  4638,  2451,  2336,  2571,  6862,\n",
            "         1062,   769,  6880,  6745,  5143,  5186,  8024,  2253,   686,  4518,\n",
            "         5018,   753,  1920,  2571,  6862,  1062,   769,  5143,  5186,  8024,\n",
            "         3189,  2382,  6734,  2145,  7030,  1377,  6888,  8135,  5857,   782,\n",
            "         3613,  8024,  7770,  2292,  3229,  3309,  3680,  2207,  3229,  1606,\n",
            "         1403,  2145,  3837,  7770,  6888, 11023,  8279,   782,  3613,  8024,\n",
            "         1006,  3613,  3176,  3797,  1520,  1920,  4638,  2571,  6862,   769,\n",
            "         6858,  5143,  5186,  8024,  2398,  1772,  3680,  8108,  4907,  7132,\n",
            "         2218,  3300,   671,  6739,  2349,  1894,  8024,  3680,  6739,  2349,\n",
            "         1894,  1606,  1403,  6121,  7691,  8612,  2207,  3229,   511,  1259,\n",
            "         2886,  3578,  3558,  1762,  1058,  4638,  4991,  1378,  3221,   686,\n",
            "         4518,  3297,  7269,  4638,  2336,  2571,  6862,  1062,   769,  6880,\n",
            "         6745,  5143,  5186,  4991,  1378,  8024,  7269,  6888,  9044,  5101,\n",
            "          511,  4680,  1184,  2451,  2336,  2356,  1281,  4638,  6243,  4923,\n",
            "         6722,  1469,  1062,  1066,  3749,  6722,   712,  6206,   886,  4500,\n",
            "         3890,  1265,  4767,  3779,  3706,   868,  4234,  3160,  8024,  6956,\n",
            "         1146,  1062,  1066,  3749,  6722,  3291,   886,  4500,  3779,  7442,\n",
            "          510,  3706,  7442,  3921,  1394,  1240,  1213,  2825,  6123,   511,\n",
            "         8151,  2399,  2419,  7274,  1993,  2832,  3123,  3890,  1265,  1921,\n",
            "         4197,  3706,  4234,  3160,  4638,  1062,  1066,  3749,  6722,  8024,\n",
            "         8127,  2399,   127,  3299,  7274,  1993,  2832,  3123,  3890,  1265,\n",
            "         1921,  4197,  3706,  2991,  7442,  2466,  3921,  1394,  1240,  1213,\n",
            "         1062,  1066,  3749,  6722,  8024,   809,  1357,   807,  3890,  1265,\n",
            "         4767,  3779,  3706,  1062,  1066,  3749,  6722,   511,  8201,  2399,\n",
            "          122,  3299,  8121,  3189,  8024,  2451,  2336,  2356,  3124,  2424,\n",
            "         1059,  7481,  4881,  3632,  1762,  2356,  1281,  1058,  7690,  7691,\n",
            "         3040,  2805,  6722,   511,  6889,  1353,  4881,   808,  4638,  3582,\n",
            "         1240,  6722,  2200,  3298,   750,   809,  3760,  3119,   511,  2451,\n",
            "         2336,  2356,   769,  6858,  2229,  5476,  4935,  4881,   808,  4638,\n",
            "         3177,  6121,  8024,   886,  2533,   769,  6858,  3075,  3089,  1558,\n",
            "         7539,  1469,  6722,  4884,  1920,  2388,  3938,  2208,   511,  2451,\n",
            "         2336,  4635,  7437,  1751,  7396,  3582,  1842,   855,  3176,  4635,\n",
            "         7437,  1281,  5645,  5709,  6963,  1281,   769,  4518,  8024,  8258,\n",
            "         2399,   129,  3299,   126,  3189,  3633,  2466,  2832,  1057,  6880,\n",
            "         4245,  8024,  2253,   704,  1751,   769,  6858,  2658,  3785,  5018,\n",
            "          753,  5246,  2564,  4638,  3582,  1842,   511,  6283,  3582,  1842,\n",
            "         1357,   807,   749,  1333,  1044,   855,  3176,  2356,   704,  2552,\n",
            "         4638,  4192,  3791,  4021,  6639,  3189,  4660,  1872,  7269,  5661,\n",
            "         4958,  7444,  3724,  4638,  5648,  3582,  1842,   511,  4680,  1184,\n",
            "         3582,  1842,  3300,   676,  3454,  7606,  3582,  6651,  6887,  8024,\n",
            "         2768,  4158,  1751,  1058,  5018,   676,   943,  3075,  3300,   676,\n",
            "         6651,  6887,  4638,  3696,  5661,  3582,  1842,   511,  3683,  6973,\n",
            "         6818,  4638,  7676,  3949,  1751,  7396,  3582,  1842,  5018,   676,\n",
            "         6651,  6887,  7521,  6243,  4638,  9707,  8152,  2399,  5862,  2768,\n",
            "         3193,   129,  2399,   511,   102,  8108,  4907,  7132,   102,   103,\n",
            "            0,     0,     0,     0,     0,     0,     0,     0,     0,     0,\n",
            "            0,     0,     0,     0,     0,     0,     0,     0,     0,     0,\n",
            "            0,     0,     0,     0,     0,     0,     0,     0,     0,     0,\n",
            "            0,     0,     0,     0,     0,     0,     0,     0,     0,     0,\n",
            "            0,     0,     0,     0,     0,     0,     0,     0,     0,     0,\n",
            "            0,     0,     0,     0,     0,     0,     0,     0,     0,     0,\n",
            "            0,     0]), 'token_type_ids': tensor([0, 0, 0, 0, 0, 0, 0, 0, 0, 0, 0, 0, 0, 0, 0, 0, 0, 0, 0, 0, 0, 0, 0, 0,\n",
            "        0, 0, 0, 0, 0, 0, 0, 0, 0, 0, 0, 0, 0, 0, 0, 0, 0, 0, 0, 0, 0, 0, 0, 0,\n",
            "        0, 0, 0, 0, 0, 0, 0, 0, 0, 0, 0, 0, 0, 0, 0, 0, 0, 0, 0, 0, 0, 0, 0, 0,\n",
            "        0, 0, 0, 0, 0, 0, 0, 0, 0, 0, 0, 0, 0, 0, 0, 0, 0, 0, 0, 0, 0, 0, 0, 0,\n",
            "        0, 0, 0, 0, 0, 0, 0, 0, 0, 0, 0, 0, 0, 0, 0, 0, 0, 0, 0, 0, 0, 0, 0, 0,\n",
            "        0, 0, 0, 0, 0, 0, 0, 0, 0, 0, 0, 0, 0, 0, 0, 0, 0, 0, 0, 0, 0, 0, 0, 0,\n",
            "        0, 0, 0, 0, 0, 0, 0, 0, 0, 0, 0, 0, 0, 0, 0, 0, 0, 0, 0, 0, 0, 0, 0, 0,\n",
            "        0, 0, 0, 0, 0, 0, 0, 0, 0, 0, 0, 0, 0, 0, 0, 0, 0, 0, 0, 0, 0, 0, 0, 0,\n",
            "        0, 0, 0, 0, 0, 0, 0, 0, 0, 0, 0, 0, 0, 0, 0, 0, 0, 0, 0, 0, 0, 0, 0, 0,\n",
            "        0, 0, 0, 0, 0, 0, 0, 0, 0, 0, 0, 0, 0, 0, 0, 0, 0, 0, 0, 0, 0, 0, 0, 0,\n",
            "        0, 0, 0, 0, 0, 0, 0, 0, 0, 0, 0, 0, 0, 0, 0, 0, 0, 0, 0, 0, 0, 0, 0, 0,\n",
            "        0, 0, 0, 0, 0, 0, 0, 0, 0, 0, 0, 0, 0, 0, 0, 0, 0, 0, 0, 0, 0, 0, 0, 0,\n",
            "        0, 0, 0, 0, 0, 0, 0, 0, 0, 0, 0, 0, 0, 0, 0, 0, 0, 0, 0, 0, 0, 0, 0, 0,\n",
            "        0, 0, 0, 0, 0, 0, 0, 0, 0, 0, 0, 0, 0, 0, 0, 0, 0, 0, 0, 0, 0, 0, 0, 0,\n",
            "        0, 0, 0, 0, 0, 0, 0, 0, 0, 0, 0, 0, 0, 0, 0, 0, 0, 0, 0, 0, 0, 0, 0, 0,\n",
            "        0, 0, 0, 0, 0, 0, 0, 0, 0, 0, 0, 0, 0, 0, 0, 0, 0, 0, 0, 0, 0, 0, 0, 0,\n",
            "        0, 0, 0, 0, 0, 0, 0, 0, 0, 0, 0, 0, 0, 0, 0, 0, 0, 0, 0, 0, 0, 0, 0, 0,\n",
            "        0, 0, 0, 0, 0, 0, 0, 0, 0, 0, 0, 0, 0, 0, 0, 0, 0, 0, 0, 0, 0, 0, 0, 0,\n",
            "        0, 0, 0, 0, 0, 0, 0, 0, 0, 0, 0, 0, 0, 1, 1, 1, 1, 0, 0, 0, 0, 0, 0, 0,\n",
            "        0, 0, 0, 0, 0, 0, 0, 0, 0, 0, 0, 0, 0, 0, 0, 0, 0, 0, 0, 0, 0, 0, 0, 0,\n",
            "        0, 0, 0, 0, 0, 0, 0, 0, 0, 0, 0, 0, 0, 0, 0, 0, 0, 0, 0, 0, 0, 0, 0, 0,\n",
            "        0, 0, 0, 0, 0, 0, 0, 0]), 'attention_mask': tensor([1, 1, 1, 1, 1, 1, 1, 1, 1, 1, 1, 1, 1, 1, 1, 1, 1, 1, 1, 1, 1, 1, 1, 1,\n",
            "        1, 1, 1, 1, 1, 1, 1, 1, 1, 1, 1, 1, 1, 1, 1, 1, 1, 1, 1, 1, 1, 1, 1, 1,\n",
            "        1, 1, 1, 1, 1, 1, 1, 1, 1, 1, 1, 1, 1, 1, 1, 1, 1, 1, 1, 1, 1, 1, 1, 1,\n",
            "        1, 1, 1, 1, 1, 1, 1, 1, 1, 1, 1, 1, 1, 1, 1, 1, 1, 1, 1, 1, 1, 1, 1, 1,\n",
            "        1, 1, 1, 1, 1, 1, 1, 1, 1, 1, 1, 1, 1, 1, 1, 1, 1, 1, 1, 1, 1, 1, 1, 1,\n",
            "        1, 1, 1, 1, 1, 1, 1, 1, 1, 1, 1, 1, 1, 1, 1, 1, 1, 1, 1, 1, 1, 1, 1, 1,\n",
            "        1, 1, 1, 1, 1, 1, 1, 1, 1, 1, 1, 1, 1, 1, 1, 1, 1, 1, 1, 1, 1, 1, 1, 1,\n",
            "        1, 1, 1, 1, 1, 1, 1, 1, 1, 1, 1, 1, 1, 1, 1, 1, 1, 1, 1, 1, 1, 1, 1, 1,\n",
            "        1, 1, 1, 1, 1, 1, 1, 1, 1, 1, 1, 1, 1, 1, 1, 1, 1, 1, 1, 1, 1, 1, 1, 1,\n",
            "        1, 1, 1, 1, 1, 1, 1, 1, 1, 1, 1, 1, 1, 1, 1, 1, 1, 1, 1, 1, 1, 1, 1, 1,\n",
            "        1, 1, 1, 1, 1, 1, 1, 1, 1, 1, 1, 1, 1, 1, 1, 1, 1, 1, 1, 1, 1, 1, 1, 1,\n",
            "        1, 1, 1, 1, 1, 1, 1, 1, 1, 1, 1, 1, 1, 1, 1, 1, 1, 1, 1, 1, 1, 1, 1, 1,\n",
            "        1, 1, 1, 1, 1, 1, 1, 1, 1, 1, 1, 1, 1, 1, 1, 1, 1, 1, 1, 1, 1, 1, 1, 1,\n",
            "        1, 1, 1, 1, 1, 1, 1, 1, 1, 1, 1, 1, 1, 1, 1, 1, 1, 1, 1, 1, 1, 1, 1, 1,\n",
            "        1, 1, 1, 1, 1, 1, 1, 1, 1, 1, 1, 1, 1, 1, 1, 1, 1, 1, 1, 1, 1, 1, 1, 1,\n",
            "        1, 1, 1, 1, 1, 1, 1, 1, 1, 1, 1, 1, 1, 1, 1, 1, 1, 1, 1, 1, 1, 1, 1, 1,\n",
            "        1, 1, 1, 1, 1, 1, 1, 1, 1, 1, 1, 1, 1, 1, 1, 1, 1, 1, 1, 1, 1, 1, 1, 1,\n",
            "        1, 1, 1, 1, 1, 1, 1, 1, 1, 1, 1, 1, 1, 1, 1, 1, 1, 1, 1, 1, 1, 1, 1, 1,\n",
            "        1, 1, 1, 1, 1, 1, 1, 1, 1, 1, 1, 1, 1, 1, 1, 1, 1, 1, 0, 0, 0, 0, 0, 0,\n",
            "        0, 0, 0, 0, 0, 0, 0, 0, 0, 0, 0, 0, 0, 0, 0, 0, 0, 0, 0, 0, 0, 0, 0, 0,\n",
            "        0, 0, 0, 0, 0, 0, 0, 0, 0, 0, 0, 0, 0, 0, 0, 0, 0, 0, 0, 0, 0, 0, 0, 0,\n",
            "        0, 0, 0, 0, 0, 0, 0, 0]), 'labels': tensor([-100, -100, -100, -100, -100, -100, -100, -100, -100, -100, -100, -100,\n",
            "        -100, -100, -100, -100, -100, -100, -100, -100, -100, -100, -100, -100,\n",
            "        -100, -100, -100, -100, -100, -100, -100, -100, -100, -100, -100, -100,\n",
            "        -100, -100, -100, -100, -100, -100, -100, -100, -100, -100, -100, -100,\n",
            "        -100, -100, -100, -100, -100, -100, -100, -100, -100, -100, -100, -100,\n",
            "        -100, -100, -100, -100, -100, -100, -100, -100, -100, -100, -100, -100,\n",
            "        -100, -100, -100, -100, -100, -100, -100, -100, -100, -100, -100, -100,\n",
            "        -100, -100, -100, -100, -100, -100, -100, -100, -100, -100, -100, -100,\n",
            "        -100, -100, -100, -100, -100, -100, -100, -100, -100, -100, -100, -100,\n",
            "        -100, -100, -100, -100, -100, -100, -100, -100, -100, -100, -100, -100,\n",
            "        -100, -100, -100, -100, -100, -100, -100, -100, -100, -100, -100, -100,\n",
            "        -100, -100, -100, -100, -100, -100, -100, -100, -100, -100, -100, -100,\n",
            "        -100, -100, -100, -100, -100, -100, -100, -100, -100, -100, -100, -100,\n",
            "        -100, -100, -100, -100, -100, -100, -100, -100, -100, -100, -100, -100,\n",
            "        -100, -100, -100, -100, -100, -100, -100, -100, -100, -100, -100, -100,\n",
            "        -100, -100, -100, -100, -100, -100, -100, -100, -100, -100, -100, -100,\n",
            "        -100, -100, -100, -100, -100, -100, -100, -100, -100, -100, -100, -100,\n",
            "        -100, -100, -100, -100, -100, -100, -100, -100, -100, -100, -100, -100,\n",
            "        -100, -100, -100, -100, -100, -100, -100, -100, -100, -100, -100, -100,\n",
            "        -100, -100, -100, -100, -100, -100, -100, -100, -100, -100, -100, -100,\n",
            "        -100, -100, -100, -100, -100, -100, -100, -100, -100, -100, -100, -100,\n",
            "        -100, -100, -100, -100, -100, -100, -100, -100, -100, -100, -100, -100,\n",
            "        -100, -100, -100, -100, -100, -100, -100, -100, -100, -100, -100, -100,\n",
            "        -100, -100, -100, -100, -100, -100, -100, -100, -100, -100, -100, -100,\n",
            "        -100, -100, -100, -100, -100, -100, -100, -100, -100, -100, -100, -100,\n",
            "        -100, -100, -100, -100, -100, -100, -100, -100, -100, -100, -100, -100,\n",
            "        -100, -100, -100, -100, -100, -100, -100, -100, -100, -100, -100, -100,\n",
            "        -100, -100, -100, -100, -100, -100, -100, -100, -100, -100, -100, -100,\n",
            "        -100, -100, -100, -100, -100, -100, -100, -100, -100, -100, -100, -100,\n",
            "        -100, -100, -100, -100, -100, -100, -100, -100, -100, -100, -100, -100,\n",
            "        -100, -100, -100, -100, -100, -100, -100, -100, -100, -100, -100, -100,\n",
            "        -100, -100, -100, -100, -100, -100, -100, -100, -100, -100, -100, -100,\n",
            "        -100, -100, -100, -100, -100, -100, -100, -100, -100, -100, -100, -100,\n",
            "        -100, -100, -100, -100, -100, -100, -100, -100, -100, -100, -100, -100,\n",
            "        -100, -100, -100, -100, -100, -100, -100, -100, -100, -100, -100, -100,\n",
            "        -100, -100, -100, -100, -100, -100, -100, -100, -100, -100, -100, -100,\n",
            "        -100, -100, -100, -100, -100, -100, -100, -100, -100, -100, -100, -100,\n",
            "        -100, -100, -100, -100, -100, 2451, -100, -100, -100, -100, -100, -100,\n",
            "        -100, -100, -100, -100, -100, -100, -100, -100, -100, -100, -100, -100,\n",
            "        -100, -100, -100, -100, -100, -100, -100, -100, -100, -100, -100, -100,\n",
            "        -100, -100, -100, -100, -100, -100, -100, -100, -100, -100, -100, -100,\n",
            "        -100, -100, -100, -100, -100, -100, -100, -100, -100, -100, -100, -100,\n",
            "        -100, -100, -100, -100, -100, -100, -100, -100])}\n"
          ],
          "name": "stdout"
        }
      ]
    },
    {
      "cell_type": "markdown",
      "metadata": {
        "id": "0eLOKybL6wSw"
      },
      "source": [
        "### Train"
      ]
    },
    {
      "cell_type": "code",
      "metadata": {
        "id": "FxTArjbM15zf",
        "outputId": "2ea48b05-f6ed-4b35-8c6e-e2b712d7b639",
        "colab": {
          "base_uri": "https://localhost:8080/"
        }
      },
      "source": [
        "# 設定訓練參數\n",
        "training_args = TrainingArguments(\n",
        "    output_dir='./results',\n",
        "    do_train=True,\n",
        "    do_eval=True,    \n",
        "    num_train_epochs=1,\n",
        "    per_device_train_batch_size=8,\n",
        "    per_device_eval_batch_size=4,\n",
        ")\n",
        "\n",
        "#使用 bert-base-chinese 預訓練模型\n",
        "model = BertForMaskedLM.from_pretrained(\"bert-base-chinese\")\n",
        "\n",
        "#將參數與資料丟入 trainer \n",
        "trainer = Trainer(\n",
        "    model=model,\n",
        "    args=training_args,\n",
        "    train_dataset=train_dataset,\n",
        "    eval_dataset=val_dataset\n",
        ")"
      ],
      "execution_count": null,
      "outputs": [
        {
          "output_type": "stream",
          "text": [
            "Some weights of the model checkpoint at bert-base-chinese were not used when initializing BertForMaskedLM: ['cls.seq_relationship.weight', 'cls.seq_relationship.bias']\n",
            "- This IS expected if you are initializing BertForMaskedLM from the checkpoint of a model trained on another task or with another architecture (e.g. initializing a BertForSequenceClassification model from a BertForPretraining model).\n",
            "- This IS NOT expected if you are initializing BertForMaskedLM from the checkpoint of a model that you expect to be exactly identical (initializing a BertForSequenceClassification model from a BertForSequenceClassification model).\n"
          ],
          "name": "stderr"
        }
      ]
    },
    {
      "cell_type": "code",
      "metadata": {
        "id": "z1oubBms3kOq",
        "outputId": "cadccfae-dc2c-43b0-c688-40514797b10f",
        "colab": {
          "base_uri": "https://localhost:8080/",
          "height": 498
        }
      },
      "source": [
        "#開始訓練模型\n",
        "%%time\n",
        "trainer.train()"
      ],
      "execution_count": null,
      "outputs": [
        {
          "output_type": "display_data",
          "data": {
            "text/html": [
              "\n",
              "    <div>\n",
              "        <style>\n",
              "            /* Turns off some styling */\n",
              "            progress {\n",
              "                /* gets rid of default border in Firefox and Opera. */\n",
              "                border: none;\n",
              "                /* Needs to be in here for Safari polyfill so background images work as expected. */\n",
              "                background-size: auto;\n",
              "            }\n",
              "        </style>\n",
              "      \n",
              "      <progress value='6252' max='6252' style='width:300px; height:20px; vertical-align: middle;'></progress>\n",
              "      [6252/6252 2:59:26, Epoch 1/1]\n",
              "    </div>\n",
              "    <table border=\"1\" class=\"dataframe\">\n",
              "  <thead>\n",
              "    <tr style=\"text-align: left;\">\n",
              "      <th>Step</th>\n",
              "      <th>Training Loss</th>\n",
              "    </tr>\n",
              "  </thead>\n",
              "  <tbody>\n",
              "    <tr>\n",
              "      <td>500</td>\n",
              "      <td>2.598964</td>\n",
              "    </tr>\n",
              "    <tr>\n",
              "      <td>1000</td>\n",
              "      <td>2.269672</td>\n",
              "    </tr>\n",
              "    <tr>\n",
              "      <td>1500</td>\n",
              "      <td>2.192252</td>\n",
              "    </tr>\n",
              "    <tr>\n",
              "      <td>2000</td>\n",
              "      <td>2.072558</td>\n",
              "    </tr>\n",
              "    <tr>\n",
              "      <td>2500</td>\n",
              "      <td>2.044734</td>\n",
              "    </tr>\n",
              "    <tr>\n",
              "      <td>3000</td>\n",
              "      <td>2.040284</td>\n",
              "    </tr>\n",
              "    <tr>\n",
              "      <td>3500</td>\n",
              "      <td>1.932313</td>\n",
              "    </tr>\n",
              "    <tr>\n",
              "      <td>4000</td>\n",
              "      <td>1.922712</td>\n",
              "    </tr>\n",
              "    <tr>\n",
              "      <td>4500</td>\n",
              "      <td>1.841834</td>\n",
              "    </tr>\n",
              "    <tr>\n",
              "      <td>5000</td>\n",
              "      <td>1.704084</td>\n",
              "    </tr>\n",
              "    <tr>\n",
              "      <td>5500</td>\n",
              "      <td>1.711199</td>\n",
              "    </tr>\n",
              "    <tr>\n",
              "      <td>6000</td>\n",
              "      <td>1.577832</td>\n",
              "    </tr>\n",
              "  </tbody>\n",
              "</table><p>"
            ],
            "text/plain": [
              "<IPython.core.display.HTML object>"
            ]
          },
          "metadata": {
            "tags": []
          }
        },
        {
          "output_type": "stream",
          "text": [
            "CPU times: user 1h 50min 27s, sys: 1h 8min 1s, total: 2h 58min 29s\n",
            "Wall time: 2h 59min 28s\n"
          ],
          "name": "stdout"
        },
        {
          "output_type": "execute_result",
          "data": {
            "text/plain": [
              "TrainOutput(global_step=6252, training_loss=1.980929540047185)"
            ]
          },
          "metadata": {
            "tags": []
          },
          "execution_count": 25
        }
      ]
    },
    {
      "cell_type": "code",
      "metadata": {
        "id": "ls7Q52rK-Tvn"
      },
      "source": [
        "#儲存模型\n",
        "\n",
        "trainer.save_model(\"./results\")"
      ],
      "execution_count": null,
      "outputs": []
    },
    {
      "cell_type": "markdown",
      "metadata": {
        "id": "JZi34VSvovkG"
      },
      "source": [
        "### Inference"
      ]
    },
    {
      "cell_type": "code",
      "metadata": {
        "id": "aivIdh0LU2jd"
      },
      "source": [
        "from torch.utils.data import DataLoader\n",
        "from transformers import (AdamW, BertForMaskedLM, BertTokenizer, BertConfig,\n",
        "                          Trainer, TrainingArguments)\n",
        "\n",
        "import torch\n",
        "import torch.nn.functional as F\n",
        "import textwrap"
      ],
      "execution_count": null,
      "outputs": []
    },
    {
      "cell_type": "code",
      "metadata": {
        "id": "gPFY7cyZU4nQ"
      },
      "source": [
        "tokenizer = BertTokenizer.from_pretrained(\"bert-base-chinese\")\n",
        "config = BertConfig.from_pretrained(\"./results/config.json\") \n",
        "model = BertForMaskedLM.from_pretrained(\"./results/pytorch_model.bin\", config=config)\n",
        "\n",
        "device = torch.device(\"cuda\")\n",
        "model.to(device)"
      ],
      "execution_count": null,
      "outputs": []
    },
    {
      "cell_type": "code",
      "metadata": {
        "id": "fKvar62MU8b4"
      },
      "source": [
        "def QG(model, contexts, answers):\n",
        "    question = ''\n",
        "    input_QWords = '[MASK]'\n",
        "    while(1):\n",
        "        inputs = DrcdDataset(convert_data_to_features([contexts], [answers], [input_QWords]))\n",
        "        \n",
        "        # trainer = Trainer(\n",
        "            # model=model\n",
        "        # )\n",
        "\n",
        "        # logits = trainer.predict(inputs).predictions\n",
        "        # logits = trainer.evaluate(inputs)\n",
        "        # print(logits)\n",
        "        # input()\n",
        "        label_index = inputs.label_index(0)\n",
        "        inputs = inputs.__getdict__()\n",
        "        inputs['input_ids'] = inputs['input_ids'].to(device)\n",
        "        inputs['token_type_ids'] = inputs['token_type_ids'].to(device)\n",
        "        inputs['attention_mask'] = inputs['attention_mask'].to(device)\n",
        "        inputs['labels'] = inputs['labels'].to(device)\n",
        "\n",
        "        loss, logits = model(**inputs)\n",
        "\n",
        "        logits_SM = F.log_softmax(torch.tensor(logits[0][label_index]),0)\n",
        "\n",
        "        predicted_index = torch.argmax(logits_SM).item()\n",
        "        predicted_token = tokenizer.convert_ids_to_tokens([predicted_index])[0]\n",
        "\n",
        "        if predicted_token == '[SEP]':\n",
        "            break\n",
        "        else:\n",
        "            input_QWords = input_QWords.replace('[MASK]','') + predicted_token + '[MASK]'\n",
        "        question += predicted_token\n",
        "\n",
        "    return question.replace('[MASK]','')"
      ],
      "execution_count": null,
      "outputs": []
    },
    {
      "cell_type": "code",
      "metadata": {
        "id": "PBoK1XvrVBKX",
        "outputId": "83ef4df5-50f6-47a8-c664-9465f9702f82",
        "colab": {
          "base_uri": "https://localhost:8080/"
        }
      },
      "source": [
        "wrapper = textwrap.TextWrapper(width=80) \n",
        "\n",
        "contexts = \"《西遊記》，又稱《西遊釋厄傳》，是中國古代第一部浪漫主義章回體長篇神魔小說，中國《四大名著》之一、《四大奇書》之一。成書於16世紀明朝中葉，一般認為作者是明朝的吳承恩。\"\n",
        "answers = [\"浪漫主義\", \"吳承恩\", \"16世紀\"]\n",
        "\n",
        "print(\"Context: \" + wrapper.fill(contexts) + '\\n')\n",
        "\n",
        "for answer in answers:\n",
        "    question = QG(model, contexts, answer)\n",
        "    print(f\"Answer: {answer}\")\n",
        "    print(f\"Question: {question}\")\n",
        "    print(\"\\n\")"
      ],
      "execution_count": null,
      "outputs": [
        {
          "output_type": "stream",
          "text": [
            "Context: 《西遊記》，又稱《西遊釋厄傳》，是中國古代第一部浪漫主義章回體長篇神魔小說，中國《四大名著》之一、《四大奇書》之一。成書於16世紀明朝中葉，一般認為作者是明朝的\n",
            "吳承恩。\n",
            "\n"
          ],
          "name": "stdout"
        },
        {
          "output_type": "stream",
          "text": [
            "/usr/local/lib/python3.6/dist-packages/ipykernel_launcher.py:24: UserWarning: To copy construct from a tensor, it is recommended to use sourceTensor.clone().detach() or sourceTensor.clone().detach().requires_grad_(True), rather than torch.tensor(sourceTensor).\n"
          ],
          "name": "stderr"
        },
        {
          "output_type": "stream",
          "text": [
            "Answer: 浪漫主義\n",
            "Question: 西遊記是哪種主義的作品？\n",
            "\n",
            "\n",
            "Answer: 吳承恩\n",
            "Question: 《西遊記》的作者為？\n",
            "\n",
            "\n",
            "Answer: 16世紀\n",
            "Question: 《西遊記》於何時成書？\n",
            "\n",
            "\n"
          ],
          "name": "stdout"
        }
      ]
    }
  ]
}