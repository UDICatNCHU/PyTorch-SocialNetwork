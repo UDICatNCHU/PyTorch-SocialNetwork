{
  "nbformat": 4,
  "nbformat_minor": 0,
  "metadata": {
    "colab": {
      "name": "簡短 WordEmbedding 概念介紹.ipynb",
      "version": "0.3.2",
      "provenance": []
    },
    "kernelspec": {
      "name": "python3",
      "display_name": "Python 3"
    }
  },
  "cells": [
    {
      "cell_type": "code",
      "metadata": {
        "id": "MlfnhHjG_PPi",
        "colab_type": "code",
        "colab": {}
      },
      "source": [
        "import math\n",
        "\n",
        "def sigmoid(x):\n",
        "  return 1 / (1 + math.exp(-x))"
      ],
      "execution_count": 0,
      "outputs": []
    },
    {
      "cell_type": "code",
      "metadata": {
        "id": "A5h_NrCl_gPb",
        "colab_type": "code",
        "outputId": "ed66de27-5de7-4bda-a000-85a6ad06cefc",
        "colab": {
          "base_uri": "https://localhost:8080/",
          "height": 35
        }
      },
      "source": [
        "sigmoid(-100)"
      ],
      "execution_count": 0,
      "outputs": [
        {
          "output_type": "execute_result",
          "data": {
            "text/plain": [
              "3.7200759760208356e-44"
            ]
          },
          "metadata": {
            "tags": []
          },
          "execution_count": 8
        }
      ]
    },
    {
      "cell_type": "code",
      "metadata": {
        "id": "gbO3RCaSAEKG",
        "colab_type": "code",
        "colab": {}
      },
      "source": [
        "import numpy as np"
      ],
      "execution_count": 0,
      "outputs": []
    },
    {
      "cell_type": "code",
      "metadata": {
        "id": "62rNS8dIBQAf",
        "colab_type": "code",
        "colab": {}
      },
      "source": [
        "def loss(train_samples):\n",
        "  loss = 0\n",
        "  for i in train_samples:\n",
        "    loss = loss + (1-i[2])*sigmoid(np.dot(i[0],i[1]))+(i[2])*(1-sigmoid(np.dot(i[0],i[1])))\n",
        "  return loss"
      ],
      "execution_count": 0,
      "outputs": []
    },
    {
      "cell_type": "code",
      "metadata": {
        "id": "knDNdFoT_lTQ",
        "colab_type": "code",
        "outputId": "5ae8f26b-a162-49b7-b6a5-4d7b2f2c17bb",
        "colab": {
          "base_uri": "https://localhost:8080/",
          "height": 35
        }
      },
      "source": [
        "w1 = np.array([0,0,0])\n",
        "w2 = np.array([0,0,0])\n",
        "w3 = np.array([0,0,0])\n",
        "w4 = np.array([0,0,0])\n",
        "w5 = np.array([0,0,0])\n",
        "train_samples = [[w1,w2,1], [w2,w3,1], [w4,w5,1], [w5,w3,1], [w1,w3,0], [w1,w5,0], [w2,w4,0]]\n",
        "loss(train_samples)"
      ],
      "execution_count": 0,
      "outputs": [
        {
          "output_type": "execute_result",
          "data": {
            "text/plain": [
              "3.5"
            ]
          },
          "metadata": {
            "tags": []
          },
          "execution_count": 86
        }
      ]
    },
    {
      "cell_type": "code",
      "metadata": {
        "id": "0vGTgMzDATwk",
        "colab_type": "code",
        "outputId": "47473f53-58a0-4b3c-90cd-549922afd833",
        "colab": {
          "base_uri": "https://localhost:8080/",
          "height": 35
        }
      },
      "source": [
        "w1 = np.array([1,0,0])\n",
        "w2 = np.array([0,0,0])\n",
        "w3 = np.array([0,0,0])\n",
        "w4 = np.array([0,0,0])\n",
        "w5 = np.array([0,0,0])\n",
        "train_samples = [[w1,w2,1], [w2,w3,1], [w4,w5,1], [w5,w3,1], [w1,w3,0], [w1,w5,0], [w2,w4,0]]\n",
        "loss(train_samples)"
      ],
      "execution_count": 0,
      "outputs": [
        {
          "output_type": "execute_result",
          "data": {
            "text/plain": [
              "3.5"
            ]
          },
          "metadata": {
            "tags": []
          },
          "execution_count": 87
        }
      ]
    },
    {
      "cell_type": "code",
      "metadata": {
        "id": "MFCSrmyAB9C9",
        "colab_type": "code",
        "outputId": "b13ec6a6-9f01-4129-b1f6-e73202edce6c",
        "colab": {
          "base_uri": "https://localhost:8080/",
          "height": 35
        }
      },
      "source": [
        "w1 = np.array([1,0,0])\n",
        "w2 = np.array([1,0,0])\n",
        "w3 = np.array([0,0,0])\n",
        "w4 = np.array([0,0,0])\n",
        "w5 = np.array([0,0,0])\n",
        "train_samples = [[w1,w2,1], [w2,w3,1], [w4,w5,1], [w5,w3,1], [w1,w3,0], [w1,w5,0], [w2,w4,0]]\n",
        "loss(train_samples)"
      ],
      "execution_count": 0,
      "outputs": [
        {
          "output_type": "execute_result",
          "data": {
            "text/plain": [
              "3.268941421369995"
            ]
          },
          "metadata": {
            "tags": []
          },
          "execution_count": 88
        }
      ]
    },
    {
      "cell_type": "code",
      "metadata": {
        "id": "T0h9m79rCi2v",
        "colab_type": "code",
        "outputId": "33e4be01-49c3-4d24-e5de-3ae968ddbbe4",
        "colab": {
          "base_uri": "https://localhost:8080/",
          "height": 35
        }
      },
      "source": [
        "w1 = np.array([1,0,0])\n",
        "w2 = np.array([1,0,0])\n",
        "w3 = np.array([-1,0,0])\n",
        "w4 = np.array([0,0,0])\n",
        "w5 = np.array([0,0,0])\n",
        "train_samples = [[w1,w2,1], [w2,w3,1], [w4,w5,1], [w5,w3,1], [w1,w3,0], [w1,w5,0], [w2,w4,0]]\n",
        "loss(train_samples)"
      ],
      "execution_count": 0,
      "outputs": [
        {
          "output_type": "execute_result",
          "data": {
            "text/plain": [
              "3.268941421369995"
            ]
          },
          "metadata": {
            "tags": []
          },
          "execution_count": 90
        }
      ]
    },
    {
      "cell_type": "code",
      "metadata": {
        "id": "4LvKF7XjCnl3",
        "colab_type": "code",
        "outputId": "56d8dc8b-eb45-40b6-b811-0c3548404a11",
        "colab": {
          "base_uri": "https://localhost:8080/",
          "height": 35
        }
      },
      "source": [
        "w1 = np.array([1,0,0])\n",
        "w2 = np.array([1,0,0])\n",
        "w3 = np.array([-1,0,0])\n",
        "w4 = np.array([-1,0,0])\n",
        "w5 = np.array([0,0,0])\n",
        "train_samples = [[w1,w2,1], [w2,w3,1], [w4,w5,1], [w5,w3,1], [w1,w3,0], [w1,w5,0], [w2,w4,0]]\n",
        "loss(train_samples)"
      ],
      "execution_count": 0,
      "outputs": [
        {
          "output_type": "execute_result",
          "data": {
            "text/plain": [
              "3.0378828427399904"
            ]
          },
          "metadata": {
            "tags": []
          },
          "execution_count": 92
        }
      ]
    },
    {
      "cell_type": "code",
      "metadata": {
        "id": "o6FS7EFkC0du",
        "colab_type": "code",
        "colab": {}
      },
      "source": [
        ""
      ],
      "execution_count": 0,
      "outputs": []
    }
  ]
}
