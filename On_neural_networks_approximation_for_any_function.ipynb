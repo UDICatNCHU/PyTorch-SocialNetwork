{
  "nbformat": 4,
  "nbformat_minor": 0,
  "metadata": {
    "colab": {
      "name": "On neural networks approximation for any function.ipynb",
      "version": "0.3.2",
      "provenance": [],
      "include_colab_link": true
    },
    "kernelspec": {
      "name": "python3",
      "display_name": "Python 3"
    }
  },
  "cells": [
    {
      "cell_type": "markdown",
      "metadata": {
        "id": "view-in-github",
        "colab_type": "text"
      },
      "source": [
        "<a href=\"https://colab.research.google.com/github/UDICatNCHU/PyTorch-SocialNetwork/blob/master/On_neural_networks_approximation_for_any_function.ipynb\" target=\"_parent\"><img src=\"https://colab.research.google.com/assets/colab-badge.svg\" alt=\"Open In Colab\"/></a>"
      ]
    },
    {
      "cell_type": "code",
      "metadata": {
        "id": "jV2fuzXGXz_X",
        "colab_type": "code",
        "colab": {}
      },
      "source": [
        "data = [[-1,-5], [-2,-5], [-3.5,-5], [1,5], [2.1,5], [3.3, 5], [2.3, 5]]"
      ],
      "execution_count": 0,
      "outputs": []
    },
    {
      "cell_type": "code",
      "metadata": {
        "id": "RrfUDCjHYRWq",
        "colab_type": "code",
        "colab": {}
      },
      "source": [
        "import torch\n",
        "import torch.nn as nn\n",
        "import torch.nn.functional as F\n",
        "import numpy as np"
      ],
      "execution_count": 0,
      "outputs": []
    },
    {
      "cell_type": "code",
      "metadata": {
        "id": "CwF3PaF9ZFA7",
        "colab_type": "code",
        "colab": {}
      },
      "source": [
        "data = np.array(data)"
      ],
      "execution_count": 0,
      "outputs": []
    },
    {
      "cell_type": "code",
      "metadata": {
        "id": "IJkpl7hTahxg",
        "colab_type": "code",
        "colab": {}
      },
      "source": [
        "x = data[:,0]\n",
        "y = data[:,1]"
      ],
      "execution_count": 0,
      "outputs": []
    },
    {
      "cell_type": "code",
      "metadata": {
        "id": "LbPWum59P6vi",
        "colab_type": "code",
        "colab": {
          "base_uri": "https://localhost:8080/",
          "height": 275
        },
        "outputId": "6dc5f1de-e326-4bf8-d45f-b0ce91909ee2"
      },
      "source": [
        "import matplotlib.pyplot as plt\n",
        "plt.scatter(x, y)\n",
        "plt.show()"
      ],
      "execution_count": 92,
      "outputs": [
        {
          "output_type": "display_data",
          "data": {
            "image/png": "[encoded data removed]",
            "text/plain": [
              "<Figure size 432x288 with 1 Axes>"
            ]
          },
          "metadata": {
            "tags": []
          }
        }
      ]
    },
    {
      "cell_type": "code",
      "metadata": {
        "id": "7zqfbsB2YcN-",
        "colab_type": "code",
        "colab": {}
      },
      "source": [
        "x_tensor = torch.tensor(x, dtype=torch.float)\n",
        "y_tensor = torch.tensor(y, dtype=torch.float)"
      ],
      "execution_count": 0,
      "outputs": []
    },
    {
      "cell_type": "code",
      "metadata": {
        "id": "RPdgqR_retpF",
        "colab_type": "code",
        "outputId": "7e837103-d8a8-4a6e-f27e-a57dcc9999f9",
        "colab": {
          "base_uri": "https://localhost:8080/",
          "height": 139
        }
      },
      "source": [
        "y_tensor.view(-1,1)"
      ],
      "execution_count": 6,
      "outputs": [
        {
          "output_type": "execute_result",
          "data": {
            "text/plain": [
              "tensor([[-5.],\n",
              "        [-5.],\n",
              "        [-5.],\n",
              "        [ 5.],\n",
              "        [ 5.],\n",
              "        [ 5.],\n",
              "        [ 5.]])"
            ]
          },
          "metadata": {
            "tags": []
          },
          "execution_count": 6
        }
      ]
    },
    {
      "cell_type": "code",
      "metadata": {
        "id": "V5Dju17de7jm",
        "colab_type": "code",
        "colab": {}
      },
      "source": [
        ""
      ],
      "execution_count": 0,
      "outputs": []
    },
    {
      "cell_type": "code",
      "metadata": {
        "id": "NkKsNWNZYsVc",
        "colab_type": "code",
        "colab": {}
      },
      "source": [
        "class Net(torch.nn.Module):\n",
        "    def __init__(self, n_feature, size_hidden, n_output):\n",
        "        super(Net, self).__init__()\n",
        "        self.layer1 = torch.nn.Linear(n_feature, size_hidden)   # hidden layer\n",
        "        self.layer2 = torch.nn.Linear(size_hidden, n_output)   # output layer\n",
        "#         self.predict = torch.nn.Linear(n_feature, n_output)   # output layer        \n",
        "\n",
        "\n",
        "    def forward(self, x):\n",
        "        x = torch.sigmoid(self.layer1(x))      # activation function for hidden layer\n",
        "#         x = self.layer1(x)      # without sigmoid      \n",
        "        x = self.layer2(x)             # linear output\n",
        "\n",
        "        return x\n"
      ],
      "execution_count": 0,
      "outputs": []
    },
    {
      "cell_type": "code",
      "metadata": {
        "id": "T5BN7IrFbJ23",
        "colab_type": "code",
        "outputId": "9aa0c681-c0b3-420a-85a9-3cf089a8a14c",
        "colab": {
          "base_uri": "https://localhost:8080/",
          "height": 17351
        }
      },
      "source": [
        "net = Net(1, 1, 1)\n",
        "learning_rate = 0.01\n",
        "optimizer = torch.optim.Adam(net.parameters(), lr=learning_rate)\n",
        "criterion = torch.nn.MSELoss(reduction='sum')  # this is for regression mean squared loss\n",
        "\n",
        "running_loss = 0.0\n",
        "for epoch in range(1000):\n",
        "  inputs = x_tensor.view(-1,1)\n",
        "  labels = y_tensor.view(-1,1)\n",
        "  optimizer.zero_grad()\n",
        "  outputs = net(inputs)\n",
        "  loss = criterion(outputs, labels)\n",
        "  loss.backward()\n",
        "  optimizer.step()  \n",
        "  running_loss += loss.item()\n",
        "  print('Epoch {}'.format(epoch+1), \"loss: \",running_loss)\n",
        "  running_loss = 0.0\n",
        "  "
      ],
      "execution_count": 100,
      "outputs": [
        {
          "output_type": "stream",
          "text": [
            "Epoch 1 loss:  179.1348876953125\n",
            "Epoch 2 loss:  178.7306671142578\n",
            "Epoch 3 loss:  178.33567810058594\n",
            "Epoch 4 loss:  177.9501953125\n",
            "Epoch 5 loss:  177.574462890625\n",
            "Epoch 6 loss:  177.208740234375\n",
            "Epoch 7 loss:  176.8532257080078\n",
            "Epoch 8 loss:  176.50814819335938\n",
            "Epoch 9 loss:  176.17367553710938\n",
            "Epoch 10 loss:  175.8499755859375\n",
            "Epoch 11 loss:  175.53720092773438\n",
            "Epoch 12 loss:  175.23545837402344\n",
            "Epoch 13 loss:  174.94482421875\n",
            "Epoch 14 loss:  174.66539001464844\n",
            "Epoch 15 loss:  174.3971405029297\n",
            "Epoch 16 loss:  174.1400909423828\n",
            "Epoch 17 loss:  173.8942108154297\n",
            "Epoch 18 loss:  173.65940856933594\n",
            "Epoch 19 loss:  173.435546875\n",
            "Epoch 20 loss:  173.22251892089844\n",
            "Epoch 21 loss:  173.0200958251953\n",
            "Epoch 22 loss:  172.82803344726562\n",
            "Epoch 23 loss:  172.64608764648438\n",
            "Epoch 24 loss:  172.4739227294922\n",
            "Epoch 25 loss:  172.31118774414062\n",
            "Epoch 26 loss:  172.15750122070312\n",
            "Epoch 27 loss:  172.01242065429688\n",
            "Epoch 28 loss:  171.87545776367188\n",
            "Epoch 29 loss:  171.7461395263672\n",
            "Epoch 30 loss:  171.62391662597656\n",
            "Epoch 31 loss:  171.5082244873047\n",
            "Epoch 32 loss:  171.3984832763672\n",
            "Epoch 33 loss:  171.29408264160156\n",
            "Epoch 34 loss:  171.19439697265625\n",
            "Epoch 35 loss:  171.0987548828125\n",
            "Epoch 36 loss:  171.00653076171875\n",
            "Epoch 37 loss:  170.9170684814453\n",
            "Epoch 38 loss:  170.82968139648438\n",
            "Epoch 39 loss:  170.7437286376953\n",
            "Epoch 40 loss:  170.65855407714844\n",
            "Epoch 41 loss:  170.573486328125\n",
            "Epoch 42 loss:  170.48789978027344\n",
            "Epoch 43 loss:  170.40118408203125\n",
            "Epoch 44 loss:  170.31271362304688\n",
            "Epoch 45 loss:  170.221923828125\n",
            "Epoch 46 loss:  170.1282196044922\n",
            "Epoch 47 loss:  170.0310821533203\n",
            "Epoch 48 loss:  169.92996215820312\n",
            "Epoch 49 loss:  169.8243865966797\n",
            "Epoch 50 loss:  169.7138671875\n",
            "Epoch 51 loss:  169.5979461669922\n",
            "Epoch 52 loss:  169.47621154785156\n",
            "Epoch 53 loss:  169.3482208251953\n",
            "Epoch 54 loss:  169.21363830566406\n",
            "Epoch 55 loss:  169.07208251953125\n",
            "Epoch 56 loss:  168.92320251464844\n",
            "Epoch 57 loss:  168.76670837402344\n",
            "Epoch 58 loss:  168.60231018066406\n",
            "Epoch 59 loss:  168.42971801757812\n",
            "Epoch 60 loss:  168.2487030029297\n",
            "Epoch 61 loss:  168.0590362548828\n",
            "Epoch 62 loss:  167.8605194091797\n",
            "Epoch 63 loss:  167.6529998779297\n",
            "Epoch 64 loss:  167.43629455566406\n",
            "Epoch 65 loss:  167.21029663085938\n",
            "Epoch 66 loss:  166.9748992919922\n",
            "Epoch 67 loss:  166.7300262451172\n",
            "Epoch 68 loss:  166.4756317138672\n",
            "Epoch 69 loss:  166.21168518066406\n",
            "Epoch 70 loss:  165.93820190429688\n",
            "Epoch 71 loss:  165.65518188476562\n",
            "Epoch 72 loss:  165.36270141601562\n",
            "Epoch 73 loss:  165.06082153320312\n",
            "Epoch 74 loss:  164.74961853027344\n",
            "Epoch 75 loss:  164.42922973632812\n",
            "Epoch 76 loss:  164.0997772216797\n",
            "Epoch 77 loss:  163.76141357421875\n",
            "Epoch 78 loss:  163.41432189941406\n",
            "Epoch 79 loss:  163.05865478515625\n",
            "Epoch 80 loss:  162.6946563720703\n",
            "Epoch 81 loss:  162.32247924804688\n",
            "Epoch 82 loss:  161.94239807128906\n",
            "Epoch 83 loss:  161.5546112060547\n",
            "Epoch 84 loss:  161.1593780517578\n",
            "Epoch 85 loss:  160.75692749023438\n",
            "Epoch 86 loss:  160.3475341796875\n",
            "Epoch 87 loss:  159.93142700195312\n",
            "Epoch 88 loss:  159.5089111328125\n",
            "Epoch 89 loss:  159.08023071289062\n",
            "Epoch 90 loss:  158.6456756591797\n",
            "Epoch 91 loss:  158.2055206298828\n",
            "Epoch 92 loss:  157.7600555419922\n",
            "Epoch 93 loss:  157.30953979492188\n",
            "Epoch 94 loss:  156.85426330566406\n",
            "Epoch 95 loss:  156.39453125\n",
            "Epoch 96 loss:  155.9306182861328\n",
            "Epoch 97 loss:  155.46278381347656\n",
            "Epoch 98 loss:  154.99131774902344\n",
            "Epoch 99 loss:  154.5164794921875\n",
            "Epoch 100 loss:  154.03854370117188\n",
            "Epoch 101 loss:  153.55776977539062\n",
            "Epoch 102 loss:  153.0743865966797\n",
            "Epoch 103 loss:  152.58865356445312\n",
            "Epoch 104 loss:  152.10079956054688\n",
            "Epoch 105 loss:  151.61102294921875\n",
            "Epoch 106 loss:  151.1195831298828\n",
            "Epoch 107 loss:  150.62664794921875\n",
            "Epoch 108 loss:  150.13243103027344\n",
            "Epoch 109 loss:  149.63710021972656\n",
            "Epoch 110 loss:  149.14085388183594\n",
            "Epoch 111 loss:  148.64382934570312\n",
            "Epoch 112 loss:  148.14620971679688\n",
            "Epoch 113 loss:  147.64813232421875\n",
            "Epoch 114 loss:  147.14974975585938\n",
            "Epoch 115 loss:  146.6511688232422\n",
            "Epoch 116 loss:  146.15257263183594\n",
            "Epoch 117 loss:  145.65403747558594\n",
            "Epoch 118 loss:  145.15570068359375\n",
            "Epoch 119 loss:  144.6576690673828\n",
            "Epoch 120 loss:  144.16006469726562\n",
            "Epoch 121 loss:  143.66294860839844\n",
            "Epoch 122 loss:  143.1664581298828\n",
            "Epoch 123 loss:  142.670654296875\n",
            "Epoch 124 loss:  142.1756134033203\n",
            "Epoch 125 loss:  141.6814422607422\n",
            "Epoch 126 loss:  141.1881866455078\n",
            "Epoch 127 loss:  140.69595336914062\n",
            "Epoch 128 loss:  140.20477294921875\n",
            "Epoch 129 loss:  139.7147216796875\n",
            "Epoch 130 loss:  139.22584533691406\n",
            "Epoch 131 loss:  138.73822021484375\n",
            "Epoch 132 loss:  138.25186157226562\n",
            "Epoch 133 loss:  137.766845703125\n",
            "Epoch 134 loss:  137.283203125\n",
            "Epoch 135 loss:  136.8009490966797\n",
            "Epoch 136 loss:  136.32015991210938\n",
            "Epoch 137 loss:  135.84083557128906\n",
            "Epoch 138 loss:  135.36302185058594\n",
            "Epoch 139 loss:  134.88673400878906\n",
            "Epoch 140 loss:  134.4120330810547\n",
            "Epoch 141 loss:  133.93890380859375\n",
            "Epoch 142 loss:  133.46739196777344\n",
            "Epoch 143 loss:  132.99749755859375\n",
            "Epoch 144 loss:  132.5292510986328\n",
            "Epoch 145 loss:  132.06265258789062\n",
            "Epoch 146 loss:  131.59774780273438\n",
            "Epoch 147 loss:  131.13450622558594\n",
            "Epoch 148 loss:  130.67298889160156\n",
            "Epoch 149 loss:  130.2131805419922\n",
            "Epoch 150 loss:  129.75506591796875\n",
            "Epoch 151 loss:  129.2987060546875\n",
            "Epoch 152 loss:  128.84405517578125\n",
            "Epoch 153 loss:  128.39114379882812\n",
            "Epoch 154 loss:  127.93997955322266\n",
            "Epoch 155 loss:  127.49055480957031\n",
            "Epoch 156 loss:  127.0428695678711\n",
            "Epoch 157 loss:  126.5969467163086\n",
            "Epoch 158 loss:  126.15276336669922\n",
            "Epoch 159 loss:  125.7103271484375\n",
            "Epoch 160 loss:  125.26963806152344\n",
            "Epoch 161 loss:  124.8306884765625\n",
            "Epoch 162 loss:  124.39349365234375\n",
            "Epoch 163 loss:  123.9580307006836\n",
            "Epoch 164 loss:  123.52430725097656\n",
            "Epoch 165 loss:  123.09231567382812\n",
            "Epoch 166 loss:  122.66206359863281\n",
            "Epoch 167 loss:  122.23353576660156\n",
            "Epoch 168 loss:  121.80671691894531\n",
            "Epoch 169 loss:  121.38162994384766\n",
            "Epoch 170 loss:  120.95823669433594\n",
            "Epoch 171 loss:  120.53656768798828\n",
            "Epoch 172 loss:  120.11659240722656\n",
            "Epoch 173 loss:  119.69830322265625\n",
            "Epoch 174 loss:  119.28170013427734\n",
            "Epoch 175 loss:  118.86676788330078\n",
            "Epoch 176 loss:  118.45352172851562\n",
            "Epoch 177 loss:  118.04194641113281\n",
            "Epoch 178 loss:  117.63201141357422\n",
            "Epoch 179 loss:  117.22372436523438\n",
            "Epoch 180 loss:  116.81709289550781\n",
            "Epoch 181 loss:  116.4120864868164\n",
            "Epoch 182 loss:  116.00871276855469\n",
            "Epoch 183 loss:  115.6069564819336\n",
            "Epoch 184 loss:  115.2068099975586\n",
            "Epoch 185 loss:  114.80827331542969\n",
            "Epoch 186 loss:  114.41131591796875\n",
            "Epoch 187 loss:  114.0159683227539\n",
            "Epoch 188 loss:  113.62217712402344\n",
            "Epoch 189 loss:  113.2299575805664\n",
            "Epoch 190 loss:  112.83930969238281\n",
            "Epoch 191 loss:  112.45020294189453\n",
            "Epoch 192 loss:  112.06265258789062\n",
            "Epoch 193 loss:  111.67662048339844\n",
            "Epoch 194 loss:  111.29212188720703\n",
            "Epoch 195 loss:  110.90914916992188\n",
            "Epoch 196 loss:  110.52767181396484\n",
            "Epoch 197 loss:  110.14771270751953\n",
            "Epoch 198 loss:  109.76924133300781\n",
            "Epoch 199 loss:  109.39225006103516\n",
            "Epoch 200 loss:  109.01673126220703\n",
            "Epoch 201 loss:  108.64269256591797\n",
            "Epoch 202 loss:  108.27009582519531\n",
            "Epoch 203 loss:  107.89897155761719\n",
            "Epoch 204 loss:  107.5292739868164\n",
            "Epoch 205 loss:  107.16101837158203\n",
            "Epoch 206 loss:  106.79418182373047\n",
            "Epoch 207 loss:  106.42876434326172\n",
            "Epoch 208 loss:  106.06475830078125\n",
            "Epoch 209 loss:  105.70215606689453\n",
            "Epoch 210 loss:  105.34095001220703\n",
            "Epoch 211 loss:  104.98112487792969\n",
            "Epoch 212 loss:  104.62267303466797\n",
            "Epoch 213 loss:  104.26559448242188\n",
            "Epoch 214 loss:  103.90987396240234\n",
            "Epoch 215 loss:  103.55551147460938\n",
            "Epoch 216 loss:  103.2024917602539\n",
            "Epoch 217 loss:  102.85081481933594\n",
            "Epoch 218 loss:  102.50045776367188\n",
            "Epoch 219 loss:  102.15143585205078\n",
            "Epoch 220 loss:  101.8037109375\n",
            "Epoch 221 loss:  101.45731353759766\n",
            "Epoch 222 loss:  101.1122055053711\n",
            "Epoch 223 loss:  100.76840209960938\n",
            "Epoch 224 loss:  100.42587280273438\n",
            "Epoch 225 loss:  100.0846176147461\n",
            "Epoch 226 loss:  99.74463653564453\n",
            "Epoch 227 loss:  99.40592193603516\n",
            "Epoch 228 loss:  99.06846618652344\n",
            "Epoch 229 loss:  98.73226165771484\n",
            "Epoch 230 loss:  98.39729309082031\n",
            "Epoch 231 loss:  98.06356048583984\n",
            "Epoch 232 loss:  97.73106384277344\n",
            "Epoch 233 loss:  97.39977264404297\n",
            "Epoch 234 loss:  97.06971740722656\n",
            "Epoch 235 loss:  96.74085235595703\n",
            "Epoch 236 loss:  96.41320037841797\n",
            "Epoch 237 loss:  96.08673095703125\n",
            "Epoch 238 loss:  95.76145935058594\n",
            "Epoch 239 loss:  95.43737030029297\n",
            "Epoch 240 loss:  95.11445617675781\n",
            "Epoch 241 loss:  94.79270935058594\n",
            "Epoch 242 loss:  94.47212219238281\n",
            "Epoch 243 loss:  94.15269470214844\n",
            "Epoch 244 loss:  93.83441162109375\n",
            "Epoch 245 loss:  93.51728057861328\n",
            "Epoch 246 loss:  93.20128631591797\n",
            "Epoch 247 loss:  92.88642883300781\n",
            "Epoch 248 loss:  92.57268524169922\n",
            "Epoch 249 loss:  92.26007080078125\n",
            "Epoch 250 loss:  91.94856262207031\n",
            "Epoch 251 loss:  91.63816833496094\n",
            "Epoch 252 loss:  91.32887268066406\n",
            "Epoch 253 loss:  91.02067565917969\n",
            "Epoch 254 loss:  90.71357727050781\n",
            "Epoch 255 loss:  90.40755462646484\n",
            "Epoch 256 loss:  90.10261535644531\n",
            "Epoch 257 loss:  89.79875183105469\n",
            "Epoch 258 loss:  89.4959487915039\n",
            "Epoch 259 loss:  89.1942138671875\n",
            "Epoch 260 loss:  88.89353942871094\n",
            "Epoch 261 loss:  88.59390258789062\n",
            "Epoch 262 loss:  88.29532623291016\n",
            "Epoch 263 loss:  87.99778747558594\n",
            "Epoch 264 loss:  87.7012939453125\n",
            "Epoch 265 loss:  87.40582275390625\n",
            "Epoch 266 loss:  87.11137390136719\n",
            "Epoch 267 loss:  86.81795501708984\n",
            "Epoch 268 loss:  86.52554321289062\n",
            "Epoch 269 loss:  86.23414611816406\n",
            "Epoch 270 loss:  85.94375610351562\n",
            "Epoch 271 loss:  85.65436553955078\n",
            "Epoch 272 loss:  85.36597442626953\n",
            "Epoch 273 loss:  85.07857513427734\n",
            "Epoch 274 loss:  84.79215240478516\n",
            "Epoch 275 loss:  84.50672912597656\n",
            "Epoch 276 loss:  84.2222671508789\n",
            "Epoch 277 loss:  83.93877410888672\n",
            "Epoch 278 loss:  83.65625762939453\n",
            "Epoch 279 loss:  83.37471008300781\n",
            "Epoch 280 loss:  83.0941162109375\n",
            "Epoch 281 loss:  82.81446838378906\n",
            "Epoch 282 loss:  82.53578186035156\n",
            "Epoch 283 loss:  82.2580337524414\n",
            "Epoch 284 loss:  81.9812240600586\n",
            "Epoch 285 loss:  81.70535278320312\n",
            "Epoch 286 loss:  81.430419921875\n",
            "Epoch 287 loss:  81.15640258789062\n",
            "Epoch 288 loss:  80.88331604003906\n",
            "Epoch 289 loss:  80.61114501953125\n",
            "Epoch 290 loss:  80.33988952636719\n",
            "Epoch 291 loss:  80.06954193115234\n",
            "Epoch 292 loss:  79.80011749267578\n",
            "Epoch 293 loss:  79.53157043457031\n",
            "Epoch 294 loss:  79.2639389038086\n",
            "Epoch 295 loss:  78.9971923828125\n",
            "Epoch 296 loss:  78.73133850097656\n",
            "Epoch 297 loss:  78.46636962890625\n",
            "Epoch 298 loss:  78.20228576660156\n",
            "Epoch 299 loss:  77.93907928466797\n",
            "Epoch 300 loss:  77.67675018310547\n",
            "Epoch 301 loss:  77.415283203125\n",
            "Epoch 302 loss:  77.1546859741211\n",
            "Epoch 303 loss:  76.89495849609375\n",
            "Epoch 304 loss:  76.6360855102539\n",
            "Epoch 305 loss:  76.37806701660156\n",
            "Epoch 306 loss:  76.12089538574219\n",
            "Epoch 307 loss:  75.86457824707031\n",
            "Epoch 308 loss:  75.6091079711914\n",
            "Epoch 309 loss:  75.3544692993164\n",
            "Epoch 310 loss:  75.10066986083984\n",
            "Epoch 311 loss:  74.84770965576172\n",
            "Epoch 312 loss:  74.5955810546875\n",
            "Epoch 313 loss:  74.34427642822266\n",
            "Epoch 314 loss:  74.09378814697266\n",
            "Epoch 315 loss:  73.84412384033203\n",
            "Epoch 316 loss:  73.59527587890625\n",
            "Epoch 317 loss:  73.34723663330078\n",
            "Epoch 318 loss:  73.10001373291016\n",
            "Epoch 319 loss:  72.85358428955078\n",
            "Epoch 320 loss:  72.60796356201172\n",
            "Epoch 321 loss:  72.36314392089844\n",
            "Epoch 322 loss:  72.1191177368164\n",
            "Epoch 323 loss:  71.87588500976562\n",
            "Epoch 324 loss:  71.6334457397461\n",
            "Epoch 325 loss:  71.39178466796875\n",
            "Epoch 326 loss:  71.15090942382812\n",
            "Epoch 327 loss:  70.91082000732422\n",
            "Epoch 328 loss:  70.67150115966797\n",
            "Epoch 329 loss:  70.43295288085938\n",
            "Epoch 330 loss:  70.19517517089844\n",
            "Epoch 331 loss:  69.95816802978516\n",
            "Epoch 332 loss:  69.721923828125\n",
            "Epoch 333 loss:  69.48644256591797\n",
            "Epoch 334 loss:  69.25171661376953\n",
            "Epoch 335 loss:  69.01773834228516\n",
            "Epoch 336 loss:  68.7845230102539\n",
            "Epoch 337 loss:  68.55205535888672\n",
            "Epoch 338 loss:  68.32032775878906\n",
            "Epoch 339 loss:  68.08934783935547\n",
            "Epoch 340 loss:  67.8591079711914\n",
            "Epoch 341 loss:  67.62960052490234\n",
            "Epoch 342 loss:  67.40083312988281\n",
            "Epoch 343 loss:  67.17279052734375\n",
            "Epoch 344 loss:  66.94548797607422\n",
            "Epoch 345 loss:  66.71890258789062\n",
            "Epoch 346 loss:  66.4930419921875\n",
            "Epoch 347 loss:  66.26789855957031\n",
            "Epoch 348 loss:  66.0434799194336\n",
            "Epoch 349 loss:  65.81977081298828\n",
            "Epoch 350 loss:  65.59677124023438\n",
            "Epoch 351 loss:  65.3744888305664\n",
            "Epoch 352 loss:  65.15290069580078\n",
            "Epoch 353 loss:  64.93202209472656\n",
            "Epoch 354 loss:  64.71184539794922\n",
            "Epoch 355 loss:  64.49236297607422\n",
            "Epoch 356 loss:  64.2735824584961\n",
            "Epoch 357 loss:  64.05549621582031\n",
            "Epoch 358 loss:  63.83810043334961\n",
            "Epoch 359 loss:  63.62138748168945\n",
            "Epoch 360 loss:  63.40536880493164\n",
            "Epoch 361 loss:  63.19001770019531\n",
            "Epoch 362 loss:  62.975364685058594\n",
            "Epoch 363 loss:  62.761383056640625\n",
            "Epoch 364 loss:  62.548072814941406\n",
            "Epoch 365 loss:  62.3354377746582\n",
            "Epoch 366 loss:  62.12347412109375\n",
            "Epoch 367 loss:  61.912174224853516\n",
            "Epoch 368 loss:  61.7015380859375\n",
            "Epoch 369 loss:  61.4915771484375\n",
            "Epoch 370 loss:  61.282264709472656\n",
            "Epoch 371 loss:  61.07362365722656\n",
            "Epoch 372 loss:  60.86562728881836\n",
            "Epoch 373 loss:  60.658294677734375\n",
            "Epoch 374 loss:  60.45160675048828\n",
            "Epoch 375 loss:  60.245574951171875\n",
            "Epoch 376 loss:  60.04018020629883\n",
            "Epoch 377 loss:  59.83544158935547\n",
            "Epoch 378 loss:  59.63134002685547\n",
            "Epoch 379 loss:  59.42787551879883\n",
            "Epoch 380 loss:  59.22504425048828\n",
            "Epoch 381 loss:  59.022857666015625\n",
            "Epoch 382 loss:  58.821292877197266\n",
            "Epoch 383 loss:  58.620365142822266\n",
            "Epoch 384 loss:  58.42007064819336\n",
            "Epoch 385 loss:  58.22040557861328\n",
            "Epoch 386 loss:  58.02135467529297\n",
            "Epoch 387 loss:  57.82292175292969\n",
            "Epoch 388 loss:  57.6251220703125\n",
            "Epoch 389 loss:  57.42793655395508\n",
            "Epoch 390 loss:  57.231361389160156\n",
            "Epoch 391 loss:  57.035404205322266\n",
            "Epoch 392 loss:  56.840057373046875\n",
            "Epoch 393 loss:  56.645320892333984\n",
            "Epoch 394 loss:  56.45119094848633\n",
            "Epoch 395 loss:  56.257667541503906\n",
            "Epoch 396 loss:  56.06473922729492\n",
            "Epoch 397 loss:  55.872413635253906\n",
            "Epoch 398 loss:  55.68068313598633\n",
            "Epoch 399 loss:  55.489559173583984\n",
            "Epoch 400 loss:  55.29903030395508\n",
            "Epoch 401 loss:  55.109092712402344\n",
            "Epoch 402 loss:  54.919742584228516\n",
            "Epoch 403 loss:  54.730987548828125\n",
            "Epoch 404 loss:  54.54281234741211\n",
            "Epoch 405 loss:  54.355224609375\n",
            "Epoch 406 loss:  54.1682243347168\n",
            "Epoch 407 loss:  53.98179626464844\n",
            "Epoch 408 loss:  53.79595184326172\n",
            "Epoch 409 loss:  53.61068344116211\n",
            "Epoch 410 loss:  53.425994873046875\n",
            "Epoch 411 loss:  53.24186706542969\n",
            "Epoch 412 loss:  53.058326721191406\n",
            "Epoch 413 loss:  52.87534713745117\n",
            "Epoch 414 loss:  52.69293975830078\n",
            "Epoch 415 loss:  52.51108932495117\n",
            "Epoch 416 loss:  52.32980728149414\n",
            "Epoch 417 loss:  52.14909744262695\n",
            "Epoch 418 loss:  51.96893310546875\n",
            "Epoch 419 loss:  51.78933334350586\n",
            "Epoch 420 loss:  51.61029052734375\n",
            "Epoch 421 loss:  51.43180465698242\n",
            "Epoch 422 loss:  51.25386428833008\n",
            "Epoch 423 loss:  51.076480865478516\n",
            "Epoch 424 loss:  50.89964294433594\n",
            "Epoch 425 loss:  50.72335433959961\n",
            "Epoch 426 loss:  50.54761505126953\n",
            "Epoch 427 loss:  50.37240982055664\n",
            "Epoch 428 loss:  50.19775390625\n",
            "Epoch 429 loss:  50.02363586425781\n",
            "Epoch 430 loss:  49.850059509277344\n",
            "Epoch 431 loss:  49.67701721191406\n",
            "Epoch 432 loss:  49.50450897216797\n",
            "Epoch 433 loss:  49.33254623413086\n",
            "Epoch 434 loss:  49.16110610961914\n",
            "Epoch 435 loss:  48.990196228027344\n",
            "Epoch 436 loss:  48.81981658935547\n",
            "Epoch 437 loss:  48.649959564208984\n",
            "Epoch 438 loss:  48.48063659667969\n",
            "Epoch 439 loss:  48.31182861328125\n",
            "Epoch 440 loss:  48.14354705810547\n",
            "Epoch 441 loss:  47.97578048706055\n",
            "Epoch 442 loss:  47.80853271484375\n",
            "Epoch 443 loss:  47.641815185546875\n",
            "Epoch 444 loss:  47.47560119628906\n",
            "Epoch 445 loss:  47.30989456176758\n",
            "Epoch 446 loss:  47.144710540771484\n",
            "Epoch 447 loss:  46.98004150390625\n",
            "Epoch 448 loss:  46.81587219238281\n",
            "Epoch 449 loss:  46.65221405029297\n",
            "Epoch 450 loss:  46.48905563354492\n",
            "Epoch 451 loss:  46.32640838623047\n",
            "Epoch 452 loss:  46.16426086425781\n",
            "Epoch 453 loss:  46.00261688232422\n",
            "Epoch 454 loss:  45.841468811035156\n",
            "Epoch 455 loss:  45.680816650390625\n",
            "Epoch 456 loss:  45.520668029785156\n",
            "Epoch 457 loss:  45.36101150512695\n",
            "Epoch 458 loss:  45.20185089111328\n",
            "Epoch 459 loss:  45.04317092895508\n",
            "Epoch 460 loss:  44.8849983215332\n",
            "Epoch 461 loss:  44.72730255126953\n",
            "Epoch 462 loss:  44.57009506225586\n",
            "Epoch 463 loss:  44.41337966918945\n",
            "Epoch 464 loss:  44.25714874267578\n",
            "Epoch 465 loss:  44.10139846801758\n",
            "Epoch 466 loss:  43.946128845214844\n",
            "Epoch 467 loss:  43.79133987426758\n",
            "Epoch 468 loss:  43.63702392578125\n",
            "Epoch 469 loss:  43.483184814453125\n",
            "Epoch 470 loss:  43.329830169677734\n",
            "Epoch 471 loss:  43.176937103271484\n",
            "Epoch 472 loss:  43.0245246887207\n",
            "Epoch 473 loss:  42.87258529663086\n",
            "Epoch 474 loss:  42.72111511230469\n",
            "Epoch 475 loss:  42.57011413574219\n",
            "Epoch 476 loss:  42.419578552246094\n",
            "Epoch 477 loss:  42.269508361816406\n",
            "Epoch 478 loss:  42.119895935058594\n",
            "Epoch 479 loss:  41.97075653076172\n",
            "Epoch 480 loss:  41.82207107543945\n",
            "Epoch 481 loss:  41.673851013183594\n",
            "Epoch 482 loss:  41.526084899902344\n",
            "Epoch 483 loss:  41.378780364990234\n",
            "Epoch 484 loss:  41.231929779052734\n",
            "Epoch 485 loss:  41.085533142089844\n",
            "Epoch 486 loss:  40.93958282470703\n",
            "Epoch 487 loss:  40.794097900390625\n",
            "Epoch 488 loss:  40.64906311035156\n",
            "Epoch 489 loss:  40.50447082519531\n",
            "Epoch 490 loss:  40.360328674316406\n",
            "Epoch 491 loss:  40.21662902832031\n",
            "Epoch 492 loss:  40.073368072509766\n",
            "Epoch 493 loss:  39.93057632446289\n",
            "Epoch 494 loss:  39.788211822509766\n",
            "Epoch 495 loss:  39.646297454833984\n",
            "Epoch 496 loss:  39.50481414794922\n",
            "Epoch 497 loss:  39.36376953125\n",
            "Epoch 498 loss:  39.22315979003906\n",
            "Epoch 499 loss:  39.08298873901367\n",
            "Epoch 500 loss:  38.94325637817383\n",
            "Epoch 501 loss:  38.803951263427734\n",
            "Epoch 502 loss:  38.66508865356445\n",
            "Epoch 503 loss:  38.526649475097656\n",
            "Epoch 504 loss:  38.388641357421875\n",
            "Epoch 505 loss:  38.251060485839844\n",
            "Epoch 506 loss:  38.11391067504883\n",
            "Epoch 507 loss:  37.97718811035156\n",
            "Epoch 508 loss:  37.840885162353516\n",
            "Epoch 509 loss:  37.70501708984375\n",
            "Epoch 510 loss:  37.56955337524414\n",
            "Epoch 511 loss:  37.43452453613281\n",
            "Epoch 512 loss:  37.29991149902344\n",
            "Epoch 513 loss:  37.16572189331055\n",
            "Epoch 514 loss:  37.031944274902344\n",
            "Epoch 515 loss:  36.898582458496094\n",
            "Epoch 516 loss:  36.76563262939453\n",
            "Epoch 517 loss:  36.63311004638672\n",
            "Epoch 518 loss:  36.50099563598633\n",
            "Epoch 519 loss:  36.36928176879883\n",
            "Epoch 520 loss:  36.23799514770508\n",
            "Epoch 521 loss:  36.10710144042969\n",
            "Epoch 522 loss:  35.97662353515625\n",
            "Epoch 523 loss:  35.84654998779297\n",
            "Epoch 524 loss:  35.716888427734375\n",
            "Epoch 525 loss:  35.58763122558594\n",
            "Epoch 526 loss:  35.45876693725586\n",
            "Epoch 527 loss:  35.33031463623047\n",
            "Epoch 528 loss:  35.20225524902344\n",
            "Epoch 529 loss:  35.07460021972656\n",
            "Epoch 530 loss:  34.94734573364258\n",
            "Epoch 531 loss:  34.82048797607422\n",
            "Epoch 532 loss:  34.694034576416016\n",
            "Epoch 533 loss:  34.567970275878906\n",
            "Epoch 534 loss:  34.442298889160156\n",
            "Epoch 535 loss:  34.317020416259766\n",
            "Epoch 536 loss:  34.192138671875\n",
            "Epoch 537 loss:  34.0676383972168\n",
            "Epoch 538 loss:  33.94352722167969\n",
            "Epoch 539 loss:  33.8198127746582\n",
            "Epoch 540 loss:  33.69648361206055\n",
            "Epoch 541 loss:  33.57354736328125\n",
            "Epoch 542 loss:  33.45098876953125\n",
            "Epoch 543 loss:  33.32881164550781\n",
            "Epoch 544 loss:  33.20702362060547\n",
            "Epoch 545 loss:  33.08561706542969\n",
            "Epoch 546 loss:  32.964599609375\n",
            "Epoch 547 loss:  32.84394073486328\n",
            "Epoch 548 loss:  32.72367858886719\n",
            "Epoch 549 loss:  32.60379409790039\n",
            "Epoch 550 loss:  32.484283447265625\n",
            "Epoch 551 loss:  32.36514663696289\n",
            "Epoch 552 loss:  32.246376037597656\n",
            "Epoch 553 loss:  32.127994537353516\n",
            "Epoch 554 loss:  32.009979248046875\n",
            "Epoch 555 loss:  31.892337799072266\n",
            "Epoch 556 loss:  31.775068283081055\n",
            "Epoch 557 loss:  31.658164978027344\n",
            "Epoch 558 loss:  31.5416259765625\n",
            "Epoch 559 loss:  31.425460815429688\n",
            "Epoch 560 loss:  31.309656143188477\n",
            "Epoch 561 loss:  31.19422721862793\n",
            "Epoch 562 loss:  31.079151153564453\n",
            "Epoch 563 loss:  30.964445114135742\n",
            "Epoch 564 loss:  30.850099563598633\n",
            "Epoch 565 loss:  30.73611068725586\n",
            "Epoch 566 loss:  30.622482299804688\n",
            "Epoch 567 loss:  30.50922203063965\n",
            "Epoch 568 loss:  30.396316528320312\n",
            "Epoch 569 loss:  30.283767700195312\n",
            "Epoch 570 loss:  30.17156982421875\n",
            "Epoch 571 loss:  30.059734344482422\n",
            "Epoch 572 loss:  29.948246002197266\n",
            "Epoch 573 loss:  29.837121963500977\n",
            "Epoch 574 loss:  29.72634506225586\n",
            "Epoch 575 loss:  29.615921020507812\n",
            "Epoch 576 loss:  29.505840301513672\n",
            "Epoch 577 loss:  29.396116256713867\n",
            "Epoch 578 loss:  29.28673553466797\n",
            "Epoch 579 loss:  29.177698135375977\n",
            "Epoch 580 loss:  29.069011688232422\n",
            "Epoch 581 loss:  28.960674285888672\n",
            "Epoch 582 loss:  28.852676391601562\n",
            "Epoch 583 loss:  28.745027542114258\n",
            "Epoch 584 loss:  28.637714385986328\n",
            "Epoch 585 loss:  28.53074836730957\n",
            "Epoch 586 loss:  28.424118041992188\n",
            "Epoch 587 loss:  28.31783676147461\n",
            "Epoch 588 loss:  28.211891174316406\n",
            "Epoch 589 loss:  28.106285095214844\n",
            "Epoch 590 loss:  28.001014709472656\n",
            "Epoch 591 loss:  27.896081924438477\n",
            "Epoch 592 loss:  27.791475296020508\n",
            "Epoch 593 loss:  27.68720817565918\n",
            "Epoch 594 loss:  27.58327865600586\n",
            "Epoch 595 loss:  27.47968101501465\n",
            "Epoch 596 loss:  27.376413345336914\n",
            "Epoch 597 loss:  27.273473739624023\n",
            "Epoch 598 loss:  27.170867919921875\n",
            "Epoch 599 loss:  27.068586349487305\n",
            "Epoch 600 loss:  26.966629028320312\n",
            "Epoch 601 loss:  26.865009307861328\n",
            "Epoch 602 loss:  26.763708114624023\n",
            "Epoch 603 loss:  26.66273307800293\n",
            "Epoch 604 loss:  26.56208610534668\n",
            "Epoch 605 loss:  26.461759567260742\n",
            "Epoch 606 loss:  26.36175537109375\n",
            "Epoch 607 loss:  26.262073516845703\n",
            "Epoch 608 loss:  26.162715911865234\n",
            "Epoch 609 loss:  26.063676834106445\n",
            "Epoch 610 loss:  25.964948654174805\n",
            "Epoch 611 loss:  25.866544723510742\n",
            "Epoch 612 loss:  25.768455505371094\n",
            "Epoch 613 loss:  25.670679092407227\n",
            "Epoch 614 loss:  25.573232650756836\n",
            "Epoch 615 loss:  25.476089477539062\n",
            "Epoch 616 loss:  25.379257202148438\n",
            "Epoch 617 loss:  25.282745361328125\n",
            "Epoch 618 loss:  25.186540603637695\n",
            "Epoch 619 loss:  25.09065055847168\n",
            "Epoch 620 loss:  24.995071411132812\n",
            "Epoch 621 loss:  24.899799346923828\n",
            "Epoch 622 loss:  24.804824829101562\n",
            "Epoch 623 loss:  24.710174560546875\n",
            "Epoch 624 loss:  24.61582374572754\n",
            "Epoch 625 loss:  24.52177619934082\n",
            "Epoch 626 loss:  24.42804527282715\n",
            "Epoch 627 loss:  24.334609985351562\n",
            "Epoch 628 loss:  24.24148178100586\n",
            "Epoch 629 loss:  24.148649215698242\n",
            "Epoch 630 loss:  24.056123733520508\n",
            "Epoch 631 loss:  23.96390151977539\n",
            "Epoch 632 loss:  23.871971130371094\n",
            "Epoch 633 loss:  23.78034782409668\n",
            "Epoch 634 loss:  23.68902587890625\n",
            "Epoch 635 loss:  23.597993850708008\n",
            "Epoch 636 loss:  23.507261276245117\n",
            "Epoch 637 loss:  23.41682243347168\n",
            "Epoch 638 loss:  23.326679229736328\n",
            "Epoch 639 loss:  23.236825942993164\n",
            "Epoch 640 loss:  23.14727020263672\n",
            "Epoch 641 loss:  23.05801010131836\n",
            "Epoch 642 loss:  22.969036102294922\n",
            "Epoch 643 loss:  22.88035774230957\n",
            "Epoch 644 loss:  22.79196548461914\n",
            "Epoch 645 loss:  22.703866958618164\n",
            "Epoch 646 loss:  22.616060256958008\n",
            "Epoch 647 loss:  22.528533935546875\n",
            "Epoch 648 loss:  22.441299438476562\n",
            "Epoch 649 loss:  22.354352951049805\n",
            "Epoch 650 loss:  22.267690658569336\n",
            "Epoch 651 loss:  22.18131446838379\n",
            "Epoch 652 loss:  22.09522247314453\n",
            "Epoch 653 loss:  22.00941276550293\n",
            "Epoch 654 loss:  21.923885345458984\n",
            "Epoch 655 loss:  21.838638305664062\n",
            "Epoch 656 loss:  21.753673553466797\n",
            "Epoch 657 loss:  21.66899299621582\n",
            "Epoch 658 loss:  21.584592819213867\n",
            "Epoch 659 loss:  21.500463485717773\n",
            "Epoch 660 loss:  21.41661262512207\n",
            "Epoch 661 loss:  21.333038330078125\n",
            "Epoch 662 loss:  21.24974822998047\n",
            "Epoch 663 loss:  21.166728973388672\n",
            "Epoch 664 loss:  21.083986282348633\n",
            "Epoch 665 loss:  21.00151252746582\n",
            "Epoch 666 loss:  20.919313430786133\n",
            "Epoch 667 loss:  20.83738899230957\n",
            "Epoch 668 loss:  20.7557373046875\n",
            "Epoch 669 loss:  20.674354553222656\n",
            "Epoch 670 loss:  20.593244552612305\n",
            "Epoch 671 loss:  20.512401580810547\n",
            "Epoch 672 loss:  20.43183135986328\n",
            "Epoch 673 loss:  20.351526260375977\n",
            "Epoch 674 loss:  20.2714900970459\n",
            "Epoch 675 loss:  20.191722869873047\n",
            "Epoch 676 loss:  20.11220932006836\n",
            "Epoch 677 loss:  20.032970428466797\n",
            "Epoch 678 loss:  19.95399284362793\n",
            "Epoch 679 loss:  19.875282287597656\n",
            "Epoch 680 loss:  19.796831130981445\n",
            "Epoch 681 loss:  19.718639373779297\n",
            "Epoch 682 loss:  19.64071273803711\n",
            "Epoch 683 loss:  19.563051223754883\n",
            "Epoch 684 loss:  19.485645294189453\n",
            "Epoch 685 loss:  19.40850257873535\n",
            "Epoch 686 loss:  19.331613540649414\n",
            "Epoch 687 loss:  19.254980087280273\n",
            "Epoch 688 loss:  19.178607940673828\n",
            "Epoch 689 loss:  19.102497100830078\n",
            "Epoch 690 loss:  19.026639938354492\n",
            "Epoch 691 loss:  18.951034545898438\n",
            "Epoch 692 loss:  18.87568473815918\n",
            "Epoch 693 loss:  18.80059051513672\n",
            "Epoch 694 loss:  18.725746154785156\n",
            "Epoch 695 loss:  18.651151657104492\n",
            "Epoch 696 loss:  18.576810836791992\n",
            "Epoch 697 loss:  18.50271987915039\n",
            "Epoch 698 loss:  18.428884506225586\n",
            "Epoch 699 loss:  18.35529327392578\n",
            "Epoch 700 loss:  18.281944274902344\n",
            "Epoch 701 loss:  18.20885467529297\n",
            "Epoch 702 loss:  18.136011123657227\n",
            "Epoch 703 loss:  18.063413619995117\n",
            "Epoch 704 loss:  17.991056442260742\n",
            "Epoch 705 loss:  17.918947219848633\n",
            "Epoch 706 loss:  17.847089767456055\n",
            "Epoch 707 loss:  17.77546501159668\n",
            "Epoch 708 loss:  17.70409393310547\n",
            "Epoch 709 loss:  17.632963180541992\n",
            "Epoch 710 loss:  17.56206703186035\n",
            "Epoch 711 loss:  17.491418838500977\n",
            "Epoch 712 loss:  17.421005249023438\n",
            "Epoch 713 loss:  17.3508358001709\n",
            "Epoch 714 loss:  17.280906677246094\n",
            "Epoch 715 loss:  17.21121597290039\n",
            "Epoch 716 loss:  17.14176368713379\n",
            "Epoch 717 loss:  17.07254981994629\n",
            "Epoch 718 loss:  17.003572463989258\n",
            "Epoch 719 loss:  16.93482780456543\n",
            "Epoch 720 loss:  16.866321563720703\n",
            "Epoch 721 loss:  16.79804801940918\n",
            "Epoch 722 loss:  16.730012893676758\n",
            "Epoch 723 loss:  16.662202835083008\n",
            "Epoch 724 loss:  16.594633102416992\n",
            "Epoch 725 loss:  16.52728843688965\n",
            "Epoch 726 loss:  16.460174560546875\n",
            "Epoch 727 loss:  16.393295288085938\n",
            "Epoch 728 loss:  16.326642990112305\n",
            "Epoch 729 loss:  16.26021957397461\n",
            "Epoch 730 loss:  16.194028854370117\n",
            "Epoch 731 loss:  16.12806510925293\n",
            "Epoch 732 loss:  16.062326431274414\n",
            "Epoch 733 loss:  15.996817588806152\n",
            "Epoch 734 loss:  15.93153190612793\n",
            "Epoch 735 loss:  15.866475105285645\n",
            "Epoch 736 loss:  15.801644325256348\n",
            "Epoch 737 loss:  15.737034797668457\n",
            "Epoch 738 loss:  15.672654151916504\n",
            "Epoch 739 loss:  15.608488082885742\n",
            "Epoch 740 loss:  15.544548034667969\n",
            "Epoch 741 loss:  15.480830192565918\n",
            "Epoch 742 loss:  15.417332649230957\n",
            "Epoch 743 loss:  15.354055404663086\n",
            "Epoch 744 loss:  15.290995597839355\n",
            "Epoch 745 loss:  15.228161811828613\n",
            "Epoch 746 loss:  15.165544509887695\n",
            "Epoch 747 loss:  15.103141784667969\n",
            "Epoch 748 loss:  15.040959358215332\n",
            "Epoch 749 loss:  14.978996276855469\n",
            "Epoch 750 loss:  14.917242050170898\n",
            "Epoch 751 loss:  14.855711936950684\n",
            "Epoch 752 loss:  14.794384956359863\n",
            "Epoch 753 loss:  14.733277320861816\n",
            "Epoch 754 loss:  14.672389030456543\n",
            "Epoch 755 loss:  14.611706733703613\n",
            "Epoch 756 loss:  14.551243782043457\n",
            "Epoch 757 loss:  14.490988731384277\n",
            "Epoch 758 loss:  14.430947303771973\n",
            "Epoch 759 loss:  14.371114730834961\n",
            "Epoch 760 loss:  14.311491966247559\n",
            "Epoch 761 loss:  14.252082824707031\n",
            "Epoch 762 loss:  14.192879676818848\n",
            "Epoch 763 loss:  14.133880615234375\n",
            "Epoch 764 loss:  14.075094223022461\n",
            "Epoch 765 loss:  14.016518592834473\n",
            "Epoch 766 loss:  13.958142280578613\n",
            "Epoch 767 loss:  13.899975776672363\n",
            "Epoch 768 loss:  13.84201431274414\n",
            "Epoch 769 loss:  13.784255027770996\n",
            "Epoch 770 loss:  13.726703643798828\n",
            "Epoch 771 loss:  13.669353485107422\n",
            "Epoch 772 loss:  13.61220645904541\n",
            "Epoch 773 loss:  13.55526065826416\n",
            "Epoch 774 loss:  13.49852180480957\n",
            "Epoch 775 loss:  13.441980361938477\n",
            "Epoch 776 loss:  13.385635375976562\n",
            "Epoch 777 loss:  13.329500198364258\n",
            "Epoch 778 loss:  13.273561477661133\n",
            "Epoch 779 loss:  13.217816352844238\n",
            "Epoch 780 loss:  13.162273406982422\n",
            "Epoch 781 loss:  13.10693073272705\n",
            "Epoch 782 loss:  13.051777839660645\n",
            "Epoch 783 loss:  12.996832847595215\n",
            "Epoch 784 loss:  12.942076683044434\n",
            "Epoch 785 loss:  12.887518882751465\n",
            "Epoch 786 loss:  12.833152770996094\n",
            "Epoch 787 loss:  12.778983116149902\n",
            "Epoch 788 loss:  12.725008964538574\n",
            "Epoch 789 loss:  12.671224594116211\n",
            "Epoch 790 loss:  12.617629051208496\n",
            "Epoch 791 loss:  12.564230918884277\n",
            "Epoch 792 loss:  12.511026382446289\n",
            "Epoch 793 loss:  12.458013534545898\n",
            "Epoch 794 loss:  12.405186653137207\n",
            "Epoch 795 loss:  12.352553367614746\n",
            "Epoch 796 loss:  12.3001070022583\n",
            "Epoch 797 loss:  12.247846603393555\n",
            "Epoch 798 loss:  12.195785522460938\n",
            "Epoch 799 loss:  12.143901824951172\n",
            "Epoch 800 loss:  12.092211723327637\n",
            "Epoch 801 loss:  12.040705680847168\n",
            "Epoch 802 loss:  11.989389419555664\n",
            "Epoch 803 loss:  11.938254356384277\n",
            "Epoch 804 loss:  11.88730239868164\n",
            "Epoch 805 loss:  11.836535453796387\n",
            "Epoch 806 loss:  11.785954475402832\n",
            "Epoch 807 loss:  11.735557556152344\n",
            "Epoch 808 loss:  11.685342788696289\n",
            "Epoch 809 loss:  11.635308265686035\n",
            "Epoch 810 loss:  11.585456848144531\n",
            "Epoch 811 loss:  11.535787582397461\n",
            "Epoch 812 loss:  11.486298561096191\n",
            "Epoch 813 loss:  11.436990737915039\n",
            "Epoch 814 loss:  11.387862205505371\n",
            "Epoch 815 loss:  11.338912010192871\n",
            "Epoch 816 loss:  11.290143013000488\n",
            "Epoch 817 loss:  11.241552352905273\n",
            "Epoch 818 loss:  11.193137168884277\n",
            "Epoch 819 loss:  11.1448974609375\n",
            "Epoch 820 loss:  11.096840858459473\n",
            "Epoch 821 loss:  11.048959732055664\n",
            "Epoch 822 loss:  11.001248359680176\n",
            "Epoch 823 loss:  10.953712463378906\n",
            "Epoch 824 loss:  10.906351089477539\n",
            "Epoch 825 loss:  10.859167098999023\n",
            "Epoch 826 loss:  10.812155723571777\n",
            "Epoch 827 loss:  10.765316009521484\n",
            "Epoch 828 loss:  10.718649864196777\n",
            "Epoch 829 loss:  10.672154426574707\n",
            "Epoch 830 loss:  10.625829696655273\n",
            "Epoch 831 loss:  10.579678535461426\n",
            "Epoch 832 loss:  10.533695220947266\n",
            "Epoch 833 loss:  10.48788070678711\n",
            "Epoch 834 loss:  10.442239761352539\n",
            "Epoch 835 loss:  10.396766662597656\n",
            "Epoch 836 loss:  10.351459503173828\n",
            "Epoch 837 loss:  10.306321144104004\n",
            "Epoch 838 loss:  10.261351585388184\n",
            "Epoch 839 loss:  10.216547966003418\n",
            "Epoch 840 loss:  10.17191219329834\n",
            "Epoch 841 loss:  10.127443313598633\n",
            "Epoch 842 loss:  10.083135604858398\n",
            "Epoch 843 loss:  10.038992881774902\n",
            "Epoch 844 loss:  9.995016098022461\n",
            "Epoch 845 loss:  9.951201438903809\n",
            "Epoch 846 loss:  9.907549858093262\n",
            "Epoch 847 loss:  9.864069938659668\n",
            "Epoch 848 loss:  9.820744514465332\n",
            "Epoch 849 loss:  9.777582168579102\n",
            "Epoch 850 loss:  9.734580039978027\n",
            "Epoch 851 loss:  9.691739082336426\n",
            "Epoch 852 loss:  9.649065017700195\n",
            "Epoch 853 loss:  9.606546401977539\n",
            "Epoch 854 loss:  9.564188957214355\n",
            "Epoch 855 loss:  9.521986961364746\n",
            "Epoch 856 loss:  9.47994613647461\n",
            "Epoch 857 loss:  9.43805980682373\n",
            "Epoch 858 loss:  9.396340370178223\n",
            "Epoch 859 loss:  9.354764938354492\n",
            "Epoch 860 loss:  9.31335735321045\n",
            "Epoch 861 loss:  9.272102355957031\n",
            "Epoch 862 loss:  9.230999946594238\n",
            "Epoch 863 loss:  9.19005298614502\n",
            "Epoch 864 loss:  9.149263381958008\n",
            "Epoch 865 loss:  9.108627319335938\n",
            "Epoch 866 loss:  9.068143844604492\n",
            "Epoch 867 loss:  9.027817726135254\n",
            "Epoch 868 loss:  8.987639427185059\n",
            "Epoch 869 loss:  8.947614669799805\n",
            "Epoch 870 loss:  8.907744407653809\n",
            "Epoch 871 loss:  8.868023872375488\n",
            "Epoch 872 loss:  8.828453063964844\n",
            "Epoch 873 loss:  8.789037704467773\n",
            "Epoch 874 loss:  8.749767303466797\n",
            "Epoch 875 loss:  8.710646629333496\n",
            "Epoch 876 loss:  8.671680450439453\n",
            "Epoch 877 loss:  8.632858276367188\n",
            "Epoch 878 loss:  8.594184875488281\n",
            "Epoch 879 loss:  8.555659294128418\n",
            "Epoch 880 loss:  8.517281532287598\n",
            "Epoch 881 loss:  8.479053497314453\n",
            "Epoch 882 loss:  8.44096565246582\n",
            "Epoch 883 loss:  8.403027534484863\n",
            "Epoch 884 loss:  8.365229606628418\n",
            "Epoch 885 loss:  8.32758617401123\n",
            "Epoch 886 loss:  8.290082931518555\n",
            "Epoch 887 loss:  8.252720832824707\n",
            "Epoch 888 loss:  8.215505599975586\n",
            "Epoch 889 loss:  8.178433418273926\n",
            "Epoch 890 loss:  8.141507148742676\n",
            "Epoch 891 loss:  8.104721069335938\n",
            "Epoch 892 loss:  8.068077087402344\n",
            "Epoch 893 loss:  8.031574249267578\n",
            "Epoch 894 loss:  7.995209217071533\n",
            "Epoch 895 loss:  7.958988189697266\n",
            "Epoch 896 loss:  7.922906875610352\n",
            "Epoch 897 loss:  7.886966228485107\n",
            "Epoch 898 loss:  7.851161003112793\n",
            "Epoch 899 loss:  7.815496444702148\n",
            "Epoch 900 loss:  7.779967784881592\n",
            "Epoch 901 loss:  7.7445783615112305\n",
            "Epoch 902 loss:  7.70932674407959\n",
            "Epoch 903 loss:  7.674216270446777\n",
            "Epoch 904 loss:  7.639238357543945\n",
            "Epoch 905 loss:  7.604396343231201\n",
            "Epoch 906 loss:  7.569694519042969\n",
            "Epoch 907 loss:  7.535125255584717\n",
            "Epoch 908 loss:  7.500689506530762\n",
            "Epoch 909 loss:  7.466394424438477\n",
            "Epoch 910 loss:  7.432234764099121\n",
            "Epoch 911 loss:  7.398200988769531\n",
            "Epoch 912 loss:  7.3642988204956055\n",
            "Epoch 913 loss:  7.330534934997559\n",
            "Epoch 914 loss:  7.296900749206543\n",
            "Epoch 915 loss:  7.263400077819824\n",
            "Epoch 916 loss:  7.230029106140137\n",
            "Epoch 917 loss:  7.196793556213379\n",
            "Epoch 918 loss:  7.163684844970703\n",
            "Epoch 919 loss:  7.130709171295166\n",
            "Epoch 920 loss:  7.097867488861084\n",
            "Epoch 921 loss:  7.065150260925293\n",
            "Epoch 922 loss:  7.032564640045166\n",
            "Epoch 923 loss:  7.000110149383545\n",
            "Epoch 924 loss:  6.967776775360107\n",
            "Epoch 925 loss:  6.935574054718018\n",
            "Epoch 926 loss:  6.903497219085693\n",
            "Epoch 927 loss:  6.871547698974609\n",
            "Epoch 928 loss:  6.839730739593506\n",
            "Epoch 929 loss:  6.808035373687744\n",
            "Epoch 930 loss:  6.776468753814697\n",
            "Epoch 931 loss:  6.745023250579834\n",
            "Epoch 932 loss:  6.713702201843262\n",
            "Epoch 933 loss:  6.682509422302246\n",
            "Epoch 934 loss:  6.65144157409668\n",
            "Epoch 935 loss:  6.6204938888549805\n",
            "Epoch 936 loss:  6.589675426483154\n",
            "Epoch 937 loss:  6.5589728355407715\n",
            "Epoch 938 loss:  6.528396129608154\n",
            "Epoch 939 loss:  6.497940540313721\n",
            "Epoch 940 loss:  6.467611312866211\n",
            "Epoch 941 loss:  6.437403678894043\n",
            "Epoch 942 loss:  6.40731143951416\n",
            "Epoch 943 loss:  6.377338886260986\n",
            "Epoch 944 loss:  6.347492694854736\n",
            "Epoch 945 loss:  6.3177642822265625\n",
            "Epoch 946 loss:  6.288161277770996\n",
            "Epoch 947 loss:  6.2586669921875\n",
            "Epoch 948 loss:  6.229298114776611\n",
            "Epoch 949 loss:  6.200046062469482\n",
            "Epoch 950 loss:  6.170907020568848\n",
            "Epoch 951 loss:  6.141889572143555\n",
            "Epoch 952 loss:  6.112987995147705\n",
            "Epoch 953 loss:  6.084209442138672\n",
            "Epoch 954 loss:  6.055540561676025\n",
            "Epoch 955 loss:  6.026988983154297\n",
            "Epoch 956 loss:  5.998555660247803\n",
            "Epoch 957 loss:  5.970239639282227\n",
            "Epoch 958 loss:  5.942032337188721\n",
            "Epoch 959 loss:  5.913944721221924\n",
            "Epoch 960 loss:  5.885969638824463\n",
            "Epoch 961 loss:  5.858107089996338\n",
            "Epoch 962 loss:  5.830358505249023\n",
            "Epoch 963 loss:  5.802727699279785\n",
            "Epoch 964 loss:  5.775198936462402\n",
            "Epoch 965 loss:  5.747788906097412\n",
            "Epoch 966 loss:  5.720491886138916\n",
            "Epoch 967 loss:  5.693303108215332\n",
            "Epoch 968 loss:  5.666230201721191\n",
            "Epoch 969 loss:  5.6392598152160645\n",
            "Epoch 970 loss:  5.6124067306518555\n",
            "Epoch 971 loss:  5.585663795471191\n",
            "Epoch 972 loss:  5.55902624130249\n",
            "Epoch 973 loss:  5.532501697540283\n",
            "Epoch 974 loss:  5.506086826324463\n",
            "Epoch 975 loss:  5.479776859283447\n",
            "Epoch 976 loss:  5.453580856323242\n",
            "Epoch 977 loss:  5.427487373352051\n",
            "Epoch 978 loss:  5.401503086090088\n",
            "Epoch 979 loss:  5.37562370300293\n",
            "Epoch 980 loss:  5.349852085113525\n",
            "Epoch 981 loss:  5.324190139770508\n",
            "Epoch 982 loss:  5.2986345291137695\n",
            "Epoch 983 loss:  5.2731852531433105\n",
            "Epoch 984 loss:  5.247831344604492\n",
            "Epoch 985 loss:  5.222592353820801\n",
            "Epoch 986 loss:  5.197453022003174\n",
            "Epoch 987 loss:  5.172420501708984\n",
            "Epoch 988 loss:  5.14749002456665\n",
            "Epoch 989 loss:  5.1226654052734375\n",
            "Epoch 990 loss:  5.097942352294922\n",
            "Epoch 991 loss:  5.0733256340026855\n",
            "Epoch 992 loss:  5.048805236816406\n",
            "Epoch 993 loss:  5.024392127990723\n",
            "Epoch 994 loss:  5.000079154968262\n",
            "Epoch 995 loss:  4.9758687019348145\n",
            "Epoch 996 loss:  4.951755523681641\n",
            "Epoch 997 loss:  4.927750110626221\n",
            "Epoch 998 loss:  4.903839588165283\n",
            "Epoch 999 loss:  4.880032539367676\n",
            "Epoch 1000 loss:  4.856325149536133\n"
          ],
          "name": "stdout"
        }
      ]
    },
    {
      "cell_type": "code",
      "metadata": {
        "id": "OeZL6uS5diUe",
        "colab_type": "code",
        "outputId": "ca270a9e-3338-4012-eb79-8e5026e3e443",
        "colab": {
          "base_uri": "https://localhost:8080/",
          "height": 35
        }
      },
      "source": [
        "net(torch.tensor([3.0]).view(-1,1))"
      ],
      "execution_count": 89,
      "outputs": [
        {
          "output_type": "execute_result",
          "data": {
            "text/plain": [
              "tensor([[4.4759]], grad_fn=<AddmmBackward>)"
            ]
          },
          "metadata": {
            "tags": []
          },
          "execution_count": 89
        }
      ]
    },
    {
      "cell_type": "code",
      "metadata": {
        "id": "kt4WsvyRXgrd",
        "colab_type": "code",
        "colab": {
          "base_uri": "https://localhost:8080/",
          "height": 884
        },
        "outputId": "0ce00315-0dd6-4d18-ac7b-05a5b6fe7779"
      },
      "source": [
        "p_x = [ i for i in range(-25,25)]\n",
        "p_y = [ net(torch.tensor([y], dtype=torch.float).view(-1,1)).item() for y in p_x ]\n",
        "p_y"
      ],
      "execution_count": 90,
      "outputs": [
        {
          "output_type": "execute_result",
          "data": {
            "text/plain": [
              "[-4.162924766540527,\n",
              " -4.162924766540527,\n",
              " -4.162924766540527,\n",
              " -4.162924766540527,\n",
              " -4.162924766540527,\n",
              " -4.162924766540527,\n",
              " -4.162924766540527,\n",
              " -4.162924766540527,\n",
              " -4.162924766540527,\n",
              " -4.162924766540527,\n",
              " -4.162924766540527,\n",
              " -4.162924766540527,\n",
              " -4.162924766540527,\n",
              " -4.162924766540527,\n",
              " -4.162924766540527,\n",
              " -4.162924766540527,\n",
              " -4.162924766540527,\n",
              " -4.162924766540527,\n",
              " -4.162924766540527,\n",
              " -4.162924766540527,\n",
              " -4.162924766540527,\n",
              " -4.162919998168945,\n",
              " -4.162752151489258,\n",
              " -4.156876087188721,\n",
              " -3.955916166305542,\n",
              " -0.16800236701965332,\n",
              " 4.198738098144531,\n",
              " 4.467990875244141,\n",
              " 4.475929260253906,\n",
              " 4.476157188415527,\n",
              " 4.476162910461426,\n",
              " 4.476162910461426,\n",
              " 4.476162910461426,\n",
              " 4.476162910461426,\n",
              " 4.476162910461426,\n",
              " 4.476162910461426,\n",
              " 4.476162910461426,\n",
              " 4.476162910461426,\n",
              " 4.476162910461426,\n",
              " 4.476162910461426,\n",
              " 4.476162910461426,\n",
              " 4.476162910461426,\n",
              " 4.476162910461426,\n",
              " 4.476162910461426,\n",
              " 4.476162910461426,\n",
              " 4.476162910461426,\n",
              " 4.476162910461426,\n",
              " 4.476162910461426,\n",
              " 4.476162910461426,\n",
              " 4.476162910461426]"
            ]
          },
          "metadata": {
            "tags": []
          },
          "execution_count": 90
        }
      ]
    },
    {
      "cell_type": "code",
      "metadata": {
        "id": "8bGH1m1MXgQP",
        "colab_type": "code",
        "colab": {
          "base_uri": "https://localhost:8080/",
          "height": 275
        },
        "outputId": "ffc82f2a-6115-4dd5-895e-538af5012da7"
      },
      "source": [
        "import matplotlib.pyplot as plt\n",
        "plt.scatter(p_x, p_y)\n",
        "plt.show()"
      ],
      "execution_count": 91,
      "outputs": [
        {
          "output_type": "display_data",
          "data": {
            "image/png": "[encoded data removed]",
            "text/plain": [
              "<Figure size 432x288 with 1 Axes>"
            ]
          },
          "metadata": {
            "tags": []
          }
        }
      ]
    },
    {
      "cell_type": "code",
      "metadata": {
        "id": "zTGEBzPCVFx2",
        "colab_type": "code",
        "colab": {}
      },
      "source": [
        "data = [[-1,-50], [-2,-50], [-3,-50], [-4,-50], [1,50], [2,50], [3, 50], [4, 50], [5,50], [6, 100], [7, 100], [8, 100]]"
      ],
      "execution_count": 0,
      "outputs": []
    },
    {
      "cell_type": "code",
      "metadata": {
        "id": "kQ9EkLOjZcsX",
        "colab_type": "code",
        "colab": {}
      },
      "source": [
        "data = [[-1,-5], [-2,-5], [-3,-5], [-4,-5], [1,5], [2,5], [3, 5], [4, 5], [5,5], [6, 10], [7, 10], [8, 10]]"
      ],
      "execution_count": 0,
      "outputs": []
    },
    {
      "cell_type": "code",
      "metadata": {
        "id": "CezqNR1DVFu9",
        "colab_type": "code",
        "outputId": "57ce2edf-2498-438c-cf87-d3a4f14f72a6",
        "colab": {
          "base_uri": "https://localhost:8080/",
          "height": 275
        }
      },
      "source": [
        "\n",
        "data = np.array(data)\n",
        "x = data[:,0]\n",
        "y = data[:,1]\n",
        "\n",
        "x_tensor = torch.tensor(x, dtype=torch.float)\n",
        "y_tensor = torch.tensor(y, dtype=torch.float)\n",
        "\n",
        "\n",
        "import matplotlib.pyplot as plt\n",
        "plt.scatter(x, y)\n",
        "plt.show()"
      ],
      "execution_count": 209,
      "outputs": [
        {
          "output_type": "display_data",
          "data": {
            "image/png": "[encoded data removed]",
            "text/plain": [
              "<Figure size 432x288 with 1 Axes>"
            ]
          },
          "metadata": {
            "tags": []
          }
        }
      ]
    },
    {
      "cell_type": "code",
      "metadata": {
        "id": "tcq3SB07WQve",
        "colab_type": "code",
        "colab": {}
      },
      "source": [
        "class Net2(torch.nn.Module):\n",
        "    def __init__(self, n_feature, size_hidden, n_output):\n",
        "        super(Net2, self).__init__()\n",
        "        self.layer1 = torch.nn.Linear(n_feature, size_hidden)   # hidden layer\n",
        "        self.layer2 = torch.nn.Linear(size_hidden, n_output)   # output layer\n",
        "#         self.predict = torch.nn.Linear(n_feature, n_output)   # output layer        \n",
        "\n",
        "\n",
        "    def forward(self, x):\n",
        "        x = torch.sigmoid(self.layer1(x))      # activation function for hidden layer\n",
        "#         x = self.layer1(x)      # without sigmoid      \n",
        "        x = self.layer2(x)             # linear output\n",
        "\n",
        "        return x\n",
        "net2 = Net2(1, 2, 1)"
      ],
      "execution_count": 0,
      "outputs": []
    },
    {
      "cell_type": "code",
      "metadata": {
        "id": "-660DFF6VFru",
        "colab_type": "code",
        "colab": {
          "base_uri": "https://localhost:8080/",
          "height": 35
        },
        "outputId": "07a06b1d-f51e-40ce-ddde-12c8bfa282ff"
      },
      "source": [
        "learning_rate = 0.1\n",
        "optimizer = torch.optim.Adam(net2.parameters(), lr=learning_rate)\n",
        "criterion = torch.nn.MSELoss(reduction='sum')  # this is for regression mean squared loss\n",
        "\n",
        "running_loss = 0.0\n",
        "for epoch in range(10000):\n",
        "  inputs = x_tensor.view(-1,1)\n",
        "  labels = y_tensor.view(-1,1)\n",
        "  optimizer.zero_grad()\n",
        "  outputs = net2(inputs)\n",
        "  loss = criterion(outputs, labels)\n",
        "  loss.backward()\n",
        "  optimizer.step()  \n",
        "  running_loss += loss.item()\n",
        "#   print('Epoch {}'.format(epoch+1), \"loss: \",running_loss)\n",
        "  running_loss = 0.0\n",
        "print(loss.item())"
      ],
      "execution_count": 211,
      "outputs": [
        {
          "output_type": "stream",
          "text": [
            "0.001309102401137352\n"
          ],
          "name": "stdout"
        }
      ]
    },
    {
      "cell_type": "code",
      "metadata": {
        "id": "daPVger2VfYn",
        "colab_type": "code",
        "colab": {
          "base_uri": "https://localhost:8080/",
          "height": 35
        },
        "outputId": "a89c574a-169a-4783-8378-ff0c32856022"
      },
      "source": [
        "net2(torch.tensor([200.0]).view(-1,1))"
      ],
      "execution_count": 214,
      "outputs": [
        {
          "output_type": "execute_result",
          "data": {
            "text/plain": [
              "tensor([[10.0112]], grad_fn=<AddmmBackward>)"
            ]
          },
          "metadata": {
            "tags": []
          },
          "execution_count": 214
        }
      ]
    },
    {
      "cell_type": "code",
      "metadata": {
        "id": "-_YUCi6qVFoE",
        "colab_type": "code",
        "colab": {
          "base_uri": "https://localhost:8080/",
          "height": 275
        },
        "outputId": "d3d590a8-96dd-4a65-bb9d-0a7c5363623d"
      },
      "source": [
        "p_x = [ i for i in np.arange(-10,10, 0.1)]\n",
        "p_y = [ net2(torch.tensor([y], dtype=torch.float).view(-1,1)).item() for y in p_x ]\n",
        "import matplotlib.pyplot as plt\n",
        "plt.scatter(p_x, p_y)\n",
        "plt.show()"
      ],
      "execution_count": 213,
      "outputs": [
        {
          "output_type": "display_data",
          "data": {
            "image/png": "[encoded data removed]",
            "text/plain": [
              "<Figure size 432x288 with 1 Axes>"
            ]
          },
          "metadata": {
            "tags": []
          }
        }
      ]
    },
    {
      "cell_type": "code",
      "metadata": {
        "id": "SwngN48qVFkd",
        "colab_type": "code",
        "colab": {}
      },
      "source": [
        ""
      ],
      "execution_count": 0,
      "outputs": []
    },
    {
      "cell_type": "code",
      "metadata": {
        "id": "Q1ZaHJDHYAC-",
        "colab_type": "code",
        "colab": {}
      },
      "source": [
        "z = y*y"
      ],
      "execution_count": 0,
      "outputs": []
    },
    {
      "cell_type": "code",
      "metadata": {
        "id": "1i7uAuDqZI__",
        "colab_type": "code",
        "outputId": "0c0d990c-6030-4158-83d9-91ac12dbde41",
        "colab": {
          "base_uri": "https://localhost:8080/",
          "height": 35
        }
      },
      "source": [
        "z"
      ],
      "execution_count": 0,
      "outputs": [
        {
          "output_type": "execute_result",
          "data": {
            "text/plain": [
              "tensor([64.], grad_fn=<MulBackward0>)"
            ]
          },
          "metadata": {
            "tags": []
          },
          "execution_count": 303
        }
      ]
    },
    {
      "cell_type": "code",
      "metadata": {
        "id": "6-zYriNwVFhm",
        "colab_type": "code",
        "colab": {}
      },
      "source": [
        "z.backward()"
      ],
      "execution_count": 0,
      "outputs": []
    },
    {
      "cell_type": "code",
      "metadata": {
        "id": "A0kLcfVhVFd0",
        "colab_type": "code",
        "outputId": "6790bd67-bbba-446f-d150-0e7e426ab939",
        "colab": {
          "base_uri": "https://localhost:8080/",
          "height": 35
        }
      },
      "source": [
        "x.grad"
      ],
      "execution_count": 0,
      "outputs": [
        {
          "output_type": "execute_result",
          "data": {
            "text/plain": [
              "tensor([192.])"
            ]
          },
          "metadata": {
            "tags": []
          },
          "execution_count": 305
        }
      ]
    },
    {
      "cell_type": "code",
      "metadata": {
        "id": "MOnY1x4fVFa0",
        "colab_type": "code",
        "outputId": "8ae7fda7-4141-4890-bfc3-71ad0a23438a",
        "colab": {
          "base_uri": "https://localhost:8080/",
          "height": 35
        }
      },
      "source": [
        "x.grad"
      ],
      "execution_count": 0,
      "outputs": [
        {
          "output_type": "execute_result",
          "data": {
            "text/plain": [
              "tensor([192.])"
            ]
          },
          "metadata": {
            "tags": []
          },
          "execution_count": 306
        }
      ]
    },
    {
      "cell_type": "code",
      "metadata": {
        "id": "906ifGZ0Xxad",
        "colab_type": "code",
        "colab": {}
      },
      "source": [
        ""
      ],
      "execution_count": 0,
      "outputs": []
    },
    {
      "cell_type": "code",
      "metadata": {
        "id": "t87dVE72XxQi",
        "colab_type": "code",
        "colab": {}
      },
      "source": [
        ""
      ],
      "execution_count": 0,
      "outputs": []
    },
    {
      "cell_type": "code",
      "metadata": {
        "id": "rEoCXLpHUmmd",
        "colab_type": "code",
        "colab": {}
      },
      "source": [
        ""
      ],
      "execution_count": 0,
      "outputs": []
    },
    {
      "cell_type": "code",
      "metadata": {
        "id": "j68mMSn2gt09",
        "colab_type": "code",
        "colab": {}
      },
      "source": [
        "x = torch.tensor([1,2,3,4,5], dtype=torch.float, requires_grad=True)"
      ],
      "execution_count": 0,
      "outputs": []
    },
    {
      "cell_type": "code",
      "metadata": {
        "id": "3uMdpoGbABDx",
        "colab_type": "code",
        "colab": {}
      },
      "source": [
        "parameters = torch.tensor([1,1,1,1,1], dtype=torch.float, requires_grad=True)"
      ],
      "execution_count": 0,
      "outputs": []
    },
    {
      "cell_type": "code",
      "metadata": {
        "id": "-SpFhdp9F83X",
        "colab_type": "code",
        "colab": {}
      },
      "source": [
        "result = (x*parameters).sum()"
      ],
      "execution_count": 0,
      "outputs": []
    },
    {
      "cell_type": "code",
      "metadata": {
        "id": "WctytTuWHC6X",
        "colab_type": "code",
        "outputId": "b6bdcb0d-9e69-4b1b-ce11-efb56c0d2eb9",
        "colab": {
          "base_uri": "https://localhost:8080/",
          "height": 35
        }
      },
      "source": [
        "result"
      ],
      "execution_count": 0,
      "outputs": [
        {
          "output_type": "execute_result",
          "data": {
            "text/plain": [
              "tensor(15., grad_fn=<SumBackward0>)"
            ]
          },
          "metadata": {
            "tags": []
          },
          "execution_count": 172
        }
      ]
    },
    {
      "cell_type": "code",
      "metadata": {
        "id": "aGY7nggtGptA",
        "colab_type": "code",
        "colab": {}
      },
      "source": [
        "error = torch.zeros_like(result)"
      ],
      "execution_count": 0,
      "outputs": []
    },
    {
      "cell_type": "code",
      "metadata": {
        "id": "sDzUJhC5HGVx",
        "colab_type": "code",
        "colab": {}
      },
      "source": [
        "error = torch.abs(result - error)"
      ],
      "execution_count": 0,
      "outputs": []
    },
    {
      "cell_type": "code",
      "metadata": {
        "id": "XEoFOE2_G2IR",
        "colab_type": "code",
        "outputId": "1add8df1-d720-437b-a21c-dfb50296614d",
        "colab": {
          "base_uri": "https://localhost:8080/",
          "height": 35
        }
      },
      "source": [
        "error"
      ],
      "execution_count": 0,
      "outputs": [
        {
          "output_type": "execute_result",
          "data": {
            "text/plain": [
              "tensor(15., grad_fn=<AbsBackward>)"
            ]
          },
          "metadata": {
            "tags": []
          },
          "execution_count": 175
        }
      ]
    },
    {
      "cell_type": "code",
      "metadata": {
        "id": "XjrEj-ZZGwEX",
        "colab_type": "code",
        "colab": {}
      },
      "source": [
        "error.backward()"
      ],
      "execution_count": 0,
      "outputs": []
    },
    {
      "cell_type": "code",
      "metadata": {
        "id": "camk8CGaGRqD",
        "colab_type": "code",
        "outputId": "dfdd898c-959f-4a03-f27c-4b9be4390ac9",
        "colab": {
          "base_uri": "https://localhost:8080/",
          "height": 35
        }
      },
      "source": [
        "parameters.grad"
      ],
      "execution_count": 0,
      "outputs": [
        {
          "output_type": "execute_result",
          "data": {
            "text/plain": [
              "tensor([1., 2., 3., 4., 5.])"
            ]
          },
          "metadata": {
            "tags": []
          },
          "execution_count": 177
        }
      ]
    },
    {
      "cell_type": "code",
      "metadata": {
        "id": "GttiyQcHGU1E",
        "colab_type": "code",
        "colab": {}
      },
      "source": [
        ""
      ],
      "execution_count": 0,
      "outputs": []
    },
    {
      "cell_type": "code",
      "metadata": {
        "id": "mndFUFQvGUUX",
        "colab_type": "code",
        "colab": {}
      },
      "source": [
        ""
      ],
      "execution_count": 0,
      "outputs": []
    },
    {
      "cell_type": "code",
      "metadata": {
        "id": "sAkxIk64KH6M",
        "colab_type": "code",
        "colab": {}
      },
      "source": [
        ""
      ],
      "execution_count": 0,
      "outputs": []
    },
    {
      "cell_type": "code",
      "metadata": {
        "id": "-eYbSMXUKHg5",
        "colab_type": "code",
        "colab": {}
      },
      "source": [
        ""
      ],
      "execution_count": 0,
      "outputs": []
    },
    {
      "cell_type": "code",
      "metadata": {
        "id": "APESWE_IJ0v2",
        "colab_type": "code",
        "outputId": "f3af55c8-dad7-4266-f177-f2556425dcdc",
        "colab": {
          "base_uri": "https://localhost:8080/",
          "height": 35
        }
      },
      "source": [
        "(x*parameters).sum()"
      ],
      "execution_count": 0,
      "outputs": [
        {
          "output_type": "execute_result",
          "data": {
            "text/plain": [
              "tensor(14.4500, grad_fn=<SumBackward0>)"
            ]
          },
          "metadata": {
            "tags": []
          },
          "execution_count": 184
        }
      ]
    },
    {
      "cell_type": "code",
      "metadata": {
        "id": "UBRR9zjaAfZo",
        "colab_type": "code",
        "colab": {}
      },
      "source": [
        "x = x.view(1,-1).clone().detach()"
      ],
      "execution_count": 0,
      "outputs": []
    },
    {
      "cell_type": "code",
      "metadata": {
        "id": "esle3uZHEvv3",
        "colab_type": "code",
        "outputId": "cfd8f8c6-0c8e-417c-8c21-7bd5419ef452",
        "colab": {
          "base_uri": "https://localhost:8080/",
          "height": 35
        }
      },
      "source": [
        "x.requires_grad_(True)"
      ],
      "execution_count": 0,
      "outputs": [
        {
          "output_type": "execute_result",
          "data": {
            "text/plain": [
              "tensor([[1., 2., 3., 4., 5.]], requires_grad=True)"
            ]
          },
          "metadata": {
            "tags": []
          },
          "execution_count": 107
        }
      ]
    },
    {
      "cell_type": "code",
      "metadata": {
        "id": "bSkorkcIE2FL",
        "colab_type": "code",
        "outputId": "f983d585-51bb-4eb0-ea30-938d03d6bf8b",
        "colab": {
          "base_uri": "https://localhost:8080/",
          "height": 35
        }
      },
      "source": [
        ""
      ],
      "execution_count": 0,
      "outputs": [
        {
          "output_type": "execute_result",
          "data": {
            "text/plain": [
              "tensor([[1., 2., 3., 4., 5.]], requires_grad=True)"
            ]
          },
          "metadata": {
            "tags": []
          },
          "execution_count": 108
        }
      ]
    },
    {
      "cell_type": "code",
      "metadata": {
        "id": "iZa-cFhoD_iV",
        "colab_type": "code",
        "colab": {}
      },
      "source": [
        ""
      ],
      "execution_count": 0,
      "outputs": []
    },
    {
      "cell_type": "code",
      "metadata": {
        "id": "6djWBInAAhPh",
        "colab_type": "code",
        "colab": {}
      },
      "source": [
        "parameters = parameters.view(-1,1)"
      ],
      "execution_count": 0,
      "outputs": []
    },
    {
      "cell_type": "code",
      "metadata": {
        "id": "X4Wkmz_sDVtT",
        "colab_type": "code",
        "colab": {}
      },
      "source": [
        "parameters.requires_grad_= True"
      ],
      "execution_count": 0,
      "outputs": []
    },
    {
      "cell_type": "code",
      "metadata": {
        "id": "rVwBXnWGENAm",
        "colab_type": "code",
        "outputId": "b779d5f9-deb8-4341-af9c-01522e192f56",
        "colab": {
          "base_uri": "https://localhost:8080/",
          "height": 35
        }
      },
      "source": [
        "x"
      ],
      "execution_count": 0,
      "outputs": [
        {
          "output_type": "execute_result",
          "data": {
            "text/plain": [
              "tensor([[1., 2., 3., 4., 5.]], grad_fn=<ViewBackward>)"
            ]
          },
          "metadata": {
            "tags": []
          },
          "execution_count": 93
        }
      ]
    },
    {
      "cell_type": "code",
      "metadata": {
        "id": "by1mAtauAJ2r",
        "colab_type": "code",
        "colab": {}
      },
      "source": [
        "result = torch.mm(x, parameters)"
      ],
      "execution_count": 0,
      "outputs": []
    },
    {
      "cell_type": "code",
      "metadata": {
        "id": "CmdxCPB1DXvA",
        "colab_type": "code",
        "outputId": "5c136c33-9827-4f45-bec4-fcccbf300f60",
        "colab": {
          "base_uri": "https://localhost:8080/",
          "height": 35
        }
      },
      "source": [
        "x"
      ],
      "execution_count": 0,
      "outputs": [
        {
          "output_type": "execute_result",
          "data": {
            "text/plain": [
              "tensor([[1., 2., 3., 4., 5.]], grad_fn=<ViewBackward>)"
            ]
          },
          "metadata": {
            "tags": []
          },
          "execution_count": 66
        }
      ]
    },
    {
      "cell_type": "code",
      "metadata": {
        "id": "9r0AcAdaAN1n",
        "colab_type": "code",
        "colab": {}
      },
      "source": [
        "y = x.pow(2).sum()"
      ],
      "execution_count": 0,
      "outputs": []
    },
    {
      "cell_type": "code",
      "metadata": {
        "id": "AgUjvEHvDOR-",
        "colab_type": "code",
        "outputId": "aa3be7ae-6075-4b9f-c844-ed297f54ee33",
        "colab": {
          "base_uri": "https://localhost:8080/",
          "height": 35
        }
      },
      "source": [
        "y"
      ],
      "execution_count": 0,
      "outputs": [
        {
          "output_type": "execute_result",
          "data": {
            "text/plain": [
              "tensor(55., grad_fn=<SumBackward0>)"
            ]
          },
          "metadata": {
            "tags": []
          },
          "execution_count": 111
        }
      ]
    },
    {
      "cell_type": "code",
      "metadata": {
        "id": "-BPQSFH2A7NI",
        "colab_type": "code",
        "colab": {}
      },
      "source": [
        "y.backward()"
      ],
      "execution_count": 0,
      "outputs": []
    },
    {
      "cell_type": "code",
      "metadata": {
        "id": "MjkaufNBBWiy",
        "colab_type": "code",
        "outputId": "a8427dca-1714-488a-f240-cc7683d7e4d2",
        "colab": {
          "base_uri": "https://localhost:8080/",
          "height": 35
        }
      },
      "source": [
        "print(x.grad)"
      ],
      "execution_count": 0,
      "outputs": [
        {
          "output_type": "stream",
          "text": [
            "tensor([[ 2.,  4.,  6.,  8., 10.]])\n"
          ],
          "name": "stdout"
        }
      ]
    },
    {
      "cell_type": "code",
      "metadata": {
        "id": "Ndg2-ek_B9Ks",
        "colab_type": "code",
        "outputId": "c5ea42a1-471b-409e-fef8-fdf11f07f8e9",
        "colab": {
          "base_uri": "https://localhost:8080/",
          "height": 35
        }
      },
      "source": [
        "xx = torch.tensor([[1., -1.]], requires_grad=True)\n",
        "out = xx.pow(2).sum()\n",
        "out.backward()\n",
        "xx.grad"
      ],
      "execution_count": 0,
      "outputs": [
        {
          "output_type": "execute_result",
          "data": {
            "text/plain": [
              "tensor([[ 2., -2.]])"
            ]
          },
          "metadata": {
            "tags": []
          },
          "execution_count": 114
        }
      ]
    },
    {
      "cell_type": "code",
      "metadata": {
        "id": "fzOWitZADLYd",
        "colab_type": "code",
        "colab": {}
      },
      "source": [
        ""
      ],
      "execution_count": 0,
      "outputs": []
    }
  ]
}